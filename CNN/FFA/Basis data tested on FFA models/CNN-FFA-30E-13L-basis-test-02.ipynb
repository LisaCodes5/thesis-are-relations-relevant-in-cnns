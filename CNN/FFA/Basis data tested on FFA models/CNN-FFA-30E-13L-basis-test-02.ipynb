{
 "cells": [
  {
   "cell_type": "markdown",
   "metadata": {
    "id": "O82TH2Vr62Qi"
   },
   "source": [
    "# Are Relations Relevant in CNNs? *A Study Based on a Facial Dataset*"
   ]
  },
  {
   "cell_type": "markdown",
   "metadata": {
    "id": "ehl8qgCC62Qx"
   },
   "source": [
    "## Testing CNN with Features Further Apart *(30 Epochs - 13 Layers)*"
   ]
  },
  {
   "cell_type": "markdown",
   "metadata": {
    "id": "3clj-ony62Q0",
    "pycharm": {
     "name": "#%% md\n"
    }
   },
   "source": [
    "### Imports, Seed, GPU integration"
   ]
  },
  {
   "cell_type": "code",
   "execution_count": 1,
   "metadata": {
    "execution": {
     "iopub.execute_input": "2021-03-24T20:54:18.765924Z",
     "iopub.status.busy": "2021-03-24T20:54:18.765450Z",
     "iopub.status.idle": "2021-03-24T20:54:19.996013Z",
     "shell.execute_reply": "2021-03-24T20:54:19.996406Z"
    },
    "id": "cnCaBFfp62Q2",
    "pycharm": {
     "name": "#%%\n"
    }
   },
   "outputs": [],
   "source": [
    "import numpy as np\n",
    "import random\n",
    "import tensorflow as tf"
   ]
  },
  {
   "cell_type": "code",
   "execution_count": 2,
   "metadata": {
    "execution": {
     "iopub.execute_input": "2021-03-24T20:54:19.999717Z",
     "iopub.status.busy": "2021-03-24T20:54:19.999306Z",
     "iopub.status.idle": "2021-03-24T20:54:20.001465Z",
     "shell.execute_reply": "2021-03-24T20:54:20.000930Z"
    },
    "id": "jsw3DKWp62Q4",
    "pycharm": {
     "name": "#%%\n"
    }
   },
   "outputs": [],
   "source": [
    "# Seeds for better reproducibility\n",
    "seed = 42\n",
    "np.random.seed(seed)\n",
    "random.seed(seed)\n",
    "tf.random.set_seed(seed)"
   ]
  },
  {
   "cell_type": "code",
   "execution_count": 3,
   "metadata": {
    "execution": {
     "iopub.execute_input": "2021-03-24T20:54:20.005320Z",
     "iopub.status.busy": "2021-03-24T20:54:20.004919Z",
     "iopub.status.idle": "2021-03-24T20:54:20.512041Z",
     "shell.execute_reply": "2021-03-24T20:54:20.512427Z"
    }
   },
   "outputs": [],
   "source": [
    "from tensorflow.keras.models import load_model\n",
    "from tensorflow.keras.preprocessing.image import ImageDataGenerator\n",
    "from sklearn.metrics import confusion_matrix\n",
    "import itertools\n",
    "import matplotlib.pyplot as plt\n",
    "import warnings\n",
    "warnings.simplefilter(action='ignore', category=FutureWarning)\n",
    "%matplotlib inline"
   ]
  },
  {
   "cell_type": "code",
   "execution_count": 4,
   "metadata": {
    "colab": {
     "base_uri": "https://localhost:8080/"
    },
    "execution": {
     "iopub.execute_input": "2021-03-24T20:54:20.554812Z",
     "iopub.status.busy": "2021-03-24T20:54:20.554415Z",
     "iopub.status.idle": "2021-03-24T20:54:20.558294Z",
     "shell.execute_reply": "2021-03-24T20:54:20.557879Z"
    },
    "executionInfo": {
     "elapsed": 19631,
     "status": "ok",
     "timestamp": 1615579393251,
     "user": {
      "displayName": "Lisa Elli",
      "photoUrl": "",
      "userId": "06754712231658711937"
     },
     "user_tz": -60
    },
    "id": "4vE5F4rX62Q4",
    "outputId": "bff035e6-71fc-433f-d1fd-7e794a4724fc",
    "pycharm": {
     "name": "#%%\n"
    }
   },
   "outputs": [
    {
     "name": "stdout",
     "output_type": "stream",
     "text": [
      "Num GPUs Available:  1\n"
     ]
    }
   ],
   "source": [
    "physical_devices = tf.config.experimental.list_physical_devices('GPU')\n",
    "print(\"Num GPUs Available: \", len(physical_devices))\n",
    "tf.config.experimental.set_memory_growth(physical_devices[0], True)"
   ]
  },
  {
   "cell_type": "markdown",
   "metadata": {
    "id": "wmGEalmo62Q7"
   },
   "source": [
    "### Data preparation"
   ]
  },
  {
   "cell_type": "code",
   "execution_count": 5,
   "metadata": {
    "execution": {
     "iopub.execute_input": "2021-03-24T20:54:20.561129Z",
     "iopub.status.busy": "2021-03-24T20:54:20.560722Z",
     "iopub.status.idle": "2021-03-24T20:54:20.562561Z",
     "shell.execute_reply": "2021-03-24T20:54:20.562876Z"
    },
    "id": "FdYjQ15w62Q7",
    "pycharm": {
     "name": "#%%\n"
    }
   },
   "outputs": [],
   "source": [
    "test_path = '../../../picasso_dataset/basis-data/middle/test'"
   ]
  },
  {
   "cell_type": "code",
   "execution_count": 6,
   "metadata": {
    "colab": {
     "base_uri": "https://localhost:8080/"
    },
    "execution": {
     "iopub.execute_input": "2021-03-24T20:54:20.566691Z",
     "iopub.status.busy": "2021-03-24T20:54:20.566276Z",
     "iopub.status.idle": "2021-03-24T20:54:20.642519Z",
     "shell.execute_reply": "2021-03-24T20:54:20.642059Z"
    },
    "executionInfo": {
     "elapsed": 15267,
     "status": "ok",
     "timestamp": 1615579393916,
     "user": {
      "displayName": "Lisa Elli",
      "photoUrl": "",
      "userId": "06754712231658711937"
     },
     "user_tz": -60
    },
    "id": "n_l3PW-_62Q7",
    "outputId": "8db7a694-024d-4e83-d2d7-0c75b63f3eb9",
    "pycharm": {
     "name": "#%%\n"
    }
   },
   "outputs": [
    {
     "name": "stdout",
     "output_type": "stream",
     "text": [
      "Found 3000 images belonging to 2 classes.\n"
     ]
    }
   ],
   "source": [
    "test_batches = ImageDataGenerator(preprocessing_function=tf.keras.applications.vgg16.preprocess_input) \\\n",
    "    .flow_from_directory(directory=test_path, target_size=(224,224), classes=['no_face', 'face'], batch_size=10, shuffle=False)"
   ]
  },
  {
   "cell_type": "code",
   "execution_count": 7,
   "metadata": {
    "execution": {
     "iopub.execute_input": "2021-03-24T20:54:20.645047Z",
     "iopub.status.busy": "2021-03-24T20:54:20.644678Z",
     "iopub.status.idle": "2021-03-24T20:54:20.646794Z",
     "shell.execute_reply": "2021-03-24T20:54:20.646341Z"
    },
    "id": "SbBy_3JT62Q8",
    "pycharm": {
     "name": "#%%\n"
    }
   },
   "outputs": [],
   "source": [
    "assert test_batches.n == 3000\n",
    "assert test_batches.num_classes == 2"
   ]
  },
  {
   "cell_type": "markdown",
   "metadata": {
    "id": "kgM-9Fbg62Q-"
   },
   "source": [
    "### Loading the trained CNN"
   ]
  },
  {
   "cell_type": "code",
   "execution_count": 8,
   "metadata": {
    "execution": {
     "iopub.execute_input": "2021-03-24T20:54:20.651900Z",
     "iopub.status.busy": "2021-03-24T20:54:20.649782Z",
     "iopub.status.idle": "2021-03-24T20:54:21.256491Z",
     "shell.execute_reply": "2021-03-24T20:54:21.256807Z"
    },
    "id": "Cdg3Plko62Q-",
    "pycharm": {
     "name": "#%%\n"
    }
   },
   "outputs": [],
   "source": [
    "filename='../models/CNN-FFA-30E-13L-02.h5'\n",
    "loaded_model = load_model(filename)"
   ]
  },
  {
   "cell_type": "markdown",
   "metadata": {
    "colab": {
     "base_uri": "https://localhost:8080/"
    },
    "executionInfo": {
     "elapsed": 5474,
     "status": "ok",
     "timestamp": 1615579399410,
     "user": {
      "displayName": "Lisa Elli",
      "photoUrl": "",
      "userId": "06754712231658711937"
     },
     "user_tz": -60
    },
    "id": "wtTJTaWatrgn",
    "outputId": "5e22cecc-bb59-456b-ceaa-d3986077141c",
    "pycharm": {
     "name": "#%% md\n"
    }
   },
   "source": [
    "### Accuracy and loss of the trained model"
   ]
  },
  {
   "cell_type": "code",
   "execution_count": 9,
   "metadata": {
    "execution": {
     "iopub.execute_input": "2021-03-24T20:54:21.260250Z",
     "iopub.status.busy": "2021-03-24T20:54:21.259789Z",
     "iopub.status.idle": "2021-03-24T20:54:29.665996Z",
     "shell.execute_reply": "2021-03-24T20:54:29.666395Z"
    },
    "id": "HYmld1gj62Q_",
    "pycharm": {
     "name": "#%%\n"
    }
   },
   "outputs": [
    {
     "name": "stdout",
     "output_type": "stream",
     "text": [
      "300/300 - 7s - loss: 0.2394 - accuracy: 0.9560\n",
      "Accuracy: 95.60%\n",
      "Loss: 23.94%\n"
     ]
    }
   ],
   "source": [
    "scores = loaded_model.evaluate(test_batches, verbose=2)\n",
    "print(\"Accuracy: %.2f%%\" % (scores[1]*100))\n",
    "print(\"Loss: %.2f%%\" % (scores[0]*100))"
   ]
  },
  {
   "cell_type": "markdown",
   "metadata": {
    "colab": {
     "base_uri": "https://localhost:8080/"
    },
    "executionInfo": {
     "elapsed": 1444054,
     "status": "ok",
     "timestamp": 1615583415200,
     "user": {
      "displayName": "Lisa Elli",
      "photoUrl": "",
      "userId": "06754712231658711937"
     },
     "user_tz": -60
    },
    "id": "TY7tN3BE62RB",
    "outputId": "fe3f86f2-25c7-4d7b-c4cf-5b4d4a8e0ebe",
    "pycharm": {
     "name": "#%% md\n"
    }
   },
   "source": [
    "### Testing the CNN"
   ]
  },
  {
   "cell_type": "code",
   "execution_count": 10,
   "metadata": {
    "execution": {
     "iopub.execute_input": "2021-03-24T20:54:29.670147Z",
     "iopub.status.busy": "2021-03-24T20:54:29.669710Z",
     "iopub.status.idle": "2021-03-24T20:54:37.181294Z",
     "shell.execute_reply": "2021-03-24T20:54:37.180885Z"
    },
    "id": "dgDtbkcv62RB",
    "pycharm": {
     "name": "#%%\n"
    }
   },
   "outputs": [],
   "source": [
    "predictions = loaded_model.predict(x=test_batches, steps=len(test_batches), verbose=0)"
   ]
  },
  {
   "cell_type": "markdown",
   "metadata": {
    "pycharm": {
     "name": "#%% md\n"
    }
   },
   "source": [
    "### Index of wrongly predicted pictures"
   ]
  },
  {
   "cell_type": "code",
   "execution_count": 11,
   "metadata": {
    "colab": {
     "base_uri": "https://localhost:8080/"
    },
    "execution": {
     "iopub.execute_input": "2021-03-24T20:54:37.184760Z",
     "iopub.status.busy": "2021-03-24T20:54:37.184371Z",
     "iopub.status.idle": "2021-03-24T20:54:37.192737Z",
     "shell.execute_reply": "2021-03-24T20:54:37.193100Z"
    },
    "executionInfo": {
     "elapsed": 36,
     "status": "ok",
     "timestamp": 1615583415203,
     "user": {
      "displayName": "Lisa Elli",
      "photoUrl": "",
      "userId": "06754712231658711937"
     },
     "user_tz": -60
    },
    "id": "BUVqnVNn62RB",
    "outputId": "ac9e5b05-f3b2-4559-9c59-1e518fa52302",
    "pycharm": {
     "name": "#%%\n"
    }
   },
   "outputs": [],
   "source": [
    "y_true=test_batches.classes\n",
    "y_pred=np.argmax(predictions, axis=-1)\n",
    "cm = confusion_matrix(y_true = y_true, y_pred = y_pred)"
   ]
  },
  {
   "cell_type": "code",
   "execution_count": 12,
   "metadata": {
    "execution": {
     "iopub.execute_input": "2021-03-24T20:54:37.202662Z",
     "iopub.status.busy": "2021-03-24T20:54:37.202281Z",
     "iopub.status.idle": "2021-03-24T20:54:37.203966Z",
     "shell.execute_reply": "2021-03-24T20:54:37.204328Z"
    },
    "id": "ZJwZjSBg62RB",
    "pycharm": {
     "name": "#%%\n"
    }
   },
   "outputs": [
    {
     "name": "stdout",
     "output_type": "stream",
     "text": [
      "Data from class 'face', that was wrongly predicted as 'no-face' [ 132 ] :\n",
      "[8022, 8023, 8041, 8057, 8061, 8075, 8079, 8093, 8095, 8107, 8128, 8130, 8161, 8170, 8171, 8184, 8186, 8188, 8196, 8200, 8209, 8216, 8218, 8220, 8223, 8224, 8225, 8233, 8238, 8247, 8255, 8281, 8295, 8296, 8304, 8313, 8317, 8325, 8369, 8405, 8406, 8407, 8417, 8443, 8446, 8459, 8501, 8507, 8510, 8518, 8527, 8550, 8559, 8568, 8585, 8588, 8599, 8604, 8648, 8650, 8652, 8684, 8699, 8709, 8736, 8737, 8743, 8757, 8769, 8811, 8818, 8823, 8835, 8836, 8838, 8846, 8859, 8864, 8868, 8878, 8922, 8925, 8940, 8942, 8963, 8987, 8991, 8998, 9002, 9005, 9008, 9028, 9032, 9035, 9059, 9062, 9080, 9090, 9103, 9171, 9186, 9188, 9204, 9209, 9220, 9231, 9253, 9258, 9264, 9267, 9284, 9308, 9310, 9311, 9313, 9315, 9317, 9324, 9333, 9336, 9340, 9342, 9343, 9357, 9362, 9375, 9395, 9401, 9425, 9455, 9472, 9476]\n",
      "----------------------------------------------------------------------------------------------\n",
      "Data from class 'no-face', that was wrongly predicted as 'face' [ 0 ] :\n",
      "[]\n"
     ]
    }
   ],
   "source": [
    "face_but_predicted_no_face=[]\n",
    "no_face_but_predicted_face=[]\n",
    "\n",
    "for i in range(len(predictions)):\n",
    "        if y_true[i] != y_pred[i]:\n",
    "            if y_true[i] == 1:\n",
    "                face_but_predicted_no_face.append(i+8001-1500) #Index of file on disk\n",
    "            else:\n",
    "                no_face_but_predicted_face.append(i+8001) #Index of file on disk\n",
    "\n",
    "print(\"Data from class 'face', that was wrongly predicted as 'no-face' [\", len(face_but_predicted_no_face), \"] :\")\n",
    "print(face_but_predicted_no_face)\n",
    "print(\"----------------------------------------------------------------------------------------------\")\n",
    "print(\"Data from class 'no-face', that was wrongly predicted as 'face' [\", len(no_face_but_predicted_face), \"] :\")\n",
    "print(no_face_but_predicted_face)"
   ]
  },
  {
   "cell_type": "markdown",
   "metadata": {
    "colab": {
     "base_uri": "https://localhost:8080/"
    },
    "executionInfo": {
     "elapsed": 46,
     "status": "ok",
     "timestamp": 1615583415708,
     "user": {
      "displayName": "Lisa Elli",
      "photoUrl": "",
      "userId": "06754712231658711937"
     },
     "user_tz": -60
    },
    "id": "KfQRdJ2n62RC",
    "outputId": "0447f407-8758-4ab8-9acb-585653323105",
    "pycharm": {
     "name": "#%% md\n"
    }
   },
   "source": [
    "### Confusion matrix"
   ]
  },
  {
   "cell_type": "code",
   "execution_count": 13,
   "metadata": {
    "execution": {
     "iopub.execute_input": "2021-03-24T20:54:37.209439Z",
     "iopub.status.busy": "2021-03-24T20:54:37.209058Z",
     "iopub.status.idle": "2021-03-24T20:54:37.211114Z",
     "shell.execute_reply": "2021-03-24T20:54:37.210725Z"
    }
   },
   "outputs": [],
   "source": [
    "def plot_confusion_matrix(cm, classes,\n",
    "                          normalize=False,\n",
    "                          title='Confusion matrix',\n",
    "                          cmap=plt.cm.Blues):\n",
    "\n",
    "    plt.imshow(cm, interpolation='nearest', cmap=cmap)\n",
    "    plt.title(title)\n",
    "    plt.colorbar()\n",
    "    tick_marks = np.arange(len(classes))\n",
    "    plt.xticks(tick_marks, classes, rotation=45)\n",
    "    plt.yticks(tick_marks, classes)\n",
    "\n",
    "    if normalize:\n",
    "        cm = cm.astype('float') / cm.sum(axis=1)[:, np.newaxis]\n",
    "        print(\"Normalized confusion matrix\")\n",
    "    else:\n",
    "        print('Confusion matrix, without normalization')\n",
    "\n",
    "    print(cm)\n",
    "\n",
    "    thresh = cm.max() / 2.\n",
    "    for i, j in itertools.product(range(cm.shape[0]), range(cm.shape[1])):\n",
    "        plt.text(j, i, cm[i, j],\n",
    "                 horizontalalignment=\"center\",\n",
    "                 color=\"white\" if cm[i, j] > thresh else \"black\")\n",
    "\n",
    "    plt.tight_layout()\n",
    "    plt.ylabel('True label')\n",
    "    plt.xlabel('Predicted label')"
   ]
  },
  {
   "cell_type": "code",
   "execution_count": 14,
   "metadata": {
    "execution": {
     "iopub.execute_input": "2021-03-24T20:54:37.216014Z",
     "iopub.status.busy": "2021-03-24T20:54:37.215604Z",
     "iopub.status.idle": "2021-03-24T20:54:37.217872Z",
     "shell.execute_reply": "2021-03-24T20:54:37.217457Z"
    },
    "id": "pXwZZiKy62RC",
    "pycharm": {
     "name": "#%%\n"
    }
   },
   "outputs": [
    {
     "data": {
      "text/plain": [
       "{'no_face': 0, 'face': 1}"
      ]
     },
     "execution_count": 1,
     "metadata": {},
     "output_type": "execute_result"
    }
   ],
   "source": [
    "test_batches.class_indices"
   ]
  },
  {
   "cell_type": "code",
   "execution_count": 15,
   "metadata": {
    "colab": {
     "base_uri": "https://localhost:8080/"
    },
    "execution": {
     "iopub.execute_input": "2021-03-24T20:54:37.231245Z",
     "iopub.status.busy": "2021-03-24T20:54:37.230785Z",
     "iopub.status.idle": "2021-03-24T20:54:37.376287Z",
     "shell.execute_reply": "2021-03-24T20:54:37.375865Z"
    },
    "executionInfo": {
     "elapsed": 8624,
     "status": "ok",
     "timestamp": 1615583424302,
     "user": {
      "displayName": "Lisa Elli",
      "photoUrl": "",
      "userId": "06754712231658711937"
     },
     "user_tz": -60
    },
    "id": "_1_vTnWO62RC",
    "outputId": "98311fcd-35bf-4383-ff77-d1a1b62291f2",
    "pycharm": {
     "name": "#%%\n"
    }
   },
   "outputs": [
    {
     "name": "stdout",
     "output_type": "stream",
     "text": [
      "Confusion matrix, without normalization\n",
      "[[1500    0]\n",
      " [ 132 1368]]\n"
     ]
    },
    {
     "data": {
      "image/png": "[encoded data removed]",
      "text/plain": [
       "<Figure size 432x288 with 2 Axes>"
      ]
     },
     "metadata": {
      "needs_background": "light"
     },
     "output_type": "display_data"
    }
   ],
   "source": [
    "cm_plot_labels = ['no_face','face']\n",
    "plot_confusion_matrix(cm=cm, classes=cm_plot_labels, title='Confusion Matrix')\n"
   ]
  }
 ],
 "metadata": {
  "kernelspec": {
   "display_name": "Python 3",
   "language": "python",
   "name": "python3"
  },
  "language_info": {
   "codemirror_mode": {
    "name": "ipython",
    "version": 3
   },
   "file_extension": ".py",
   "mimetype": "text/x-python",
   "name": "python",
   "nbconvert_exporter": "python",
   "pygments_lexer": "ipython3",
   "version": "3.8.5"
  }
 },
 "nbformat": 4,
 "nbformat_minor": 1
}
