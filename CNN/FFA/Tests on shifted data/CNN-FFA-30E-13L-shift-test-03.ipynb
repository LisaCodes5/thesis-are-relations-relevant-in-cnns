{
 "cells": [
  {
   "cell_type": "markdown",
   "metadata": {
    "id": "O82TH2Vr62Qi"
   },
   "source": [
    "# Are Relations Relevant in CNNs? *A Study Based on a Facial Dataset*"
   ]
  },
  {
   "cell_type": "markdown",
   "metadata": {
    "id": "ehl8qgCC62Qx"
   },
   "source": [
    "## Testing CNN with Features Further Apart *(30 Epochs - 13 Layers)*"
   ]
  },
  {
   "cell_type": "markdown",
   "metadata": {
    "id": "3clj-ony62Q0",
    "pycharm": {
     "name": "#%% md\n"
    }
   },
   "source": [
    "### Imports, Seed, GPU integration"
   ]
  },
  {
   "cell_type": "code",
   "execution_count": 1,
   "metadata": {
    "execution": {
     "iopub.execute_input": "2021-03-24T20:49:59.178777Z",
     "iopub.status.busy": "2021-03-24T20:49:59.178281Z",
     "iopub.status.idle": "2021-03-24T20:50:00.405635Z",
     "shell.execute_reply": "2021-03-24T20:50:00.405223Z"
    },
    "id": "cnCaBFfp62Q2",
    "pycharm": {
     "name": "#%%\n"
    }
   },
   "outputs": [],
   "source": [
    "import numpy as np\n",
    "import random\n",
    "import tensorflow as tf"
   ]
  },
  {
   "cell_type": "code",
   "execution_count": 2,
   "metadata": {
    "execution": {
     "iopub.execute_input": "2021-03-24T20:50:00.408862Z",
     "iopub.status.busy": "2021-03-24T20:50:00.408468Z",
     "iopub.status.idle": "2021-03-24T20:50:00.410106Z",
     "shell.execute_reply": "2021-03-24T20:50:00.410488Z"
    },
    "id": "jsw3DKWp62Q4",
    "pycharm": {
     "name": "#%%\n"
    }
   },
   "outputs": [],
   "source": [
    "# Seeds for better reproducibility\n",
    "seed = 42\n",
    "np.random.seed(seed)\n",
    "random.seed(seed)\n",
    "tf.random.set_seed(seed)"
   ]
  },
  {
   "cell_type": "code",
   "execution_count": 3,
   "metadata": {
    "execution": {
     "iopub.execute_input": "2021-03-24T20:50:00.414257Z",
     "iopub.status.busy": "2021-03-24T20:50:00.413858Z",
     "iopub.status.idle": "2021-03-24T20:50:00.911432Z",
     "shell.execute_reply": "2021-03-24T20:50:00.910993Z"
    }
   },
   "outputs": [],
   "source": [
    "from tensorflow.keras.models import load_model\n",
    "from tensorflow.keras.preprocessing.image import ImageDataGenerator\n",
    "from sklearn.metrics import confusion_matrix\n",
    "import itertools\n",
    "import matplotlib.pyplot as plt\n",
    "import warnings\n",
    "warnings.simplefilter(action='ignore', category=FutureWarning)\n",
    "%matplotlib inline"
   ]
  },
  {
   "cell_type": "code",
   "execution_count": 4,
   "metadata": {
    "colab": {
     "base_uri": "https://localhost:8080/"
    },
    "execution": {
     "iopub.execute_input": "2021-03-24T20:50:00.959059Z",
     "iopub.status.busy": "2021-03-24T20:50:00.958521Z",
     "iopub.status.idle": "2021-03-24T20:50:00.961422Z",
     "shell.execute_reply": "2021-03-24T20:50:00.961021Z"
    },
    "executionInfo": {
     "elapsed": 19631,
     "status": "ok",
     "timestamp": 1615579393251,
     "user": {
      "displayName": "Lisa Elli",
      "photoUrl": "",
      "userId": "06754712231658711937"
     },
     "user_tz": -60
    },
    "id": "4vE5F4rX62Q4",
    "outputId": "bff035e6-71fc-433f-d1fd-7e794a4724fc",
    "pycharm": {
     "name": "#%%\n"
    }
   },
   "outputs": [
    {
     "name": "stdout",
     "output_type": "stream",
     "text": [
      "Num GPUs Available:  1\n"
     ]
    }
   ],
   "source": [
    "physical_devices = tf.config.experimental.list_physical_devices('GPU')\n",
    "print(\"Num GPUs Available: \", len(physical_devices))\n",
    "tf.config.experimental.set_memory_growth(physical_devices[0], True)"
   ]
  },
  {
   "cell_type": "markdown",
   "metadata": {
    "id": "wmGEalmo62Q7"
   },
   "source": [
    "### Data preparation"
   ]
  },
  {
   "cell_type": "code",
   "execution_count": 5,
   "metadata": {
    "execution": {
     "iopub.execute_input": "2021-03-24T20:50:00.964528Z",
     "iopub.status.busy": "2021-03-24T20:50:00.964092Z",
     "iopub.status.idle": "2021-03-24T20:50:00.968323Z",
     "shell.execute_reply": "2021-03-24T20:50:00.967914Z"
    },
    "id": "FdYjQ15w62Q7",
    "pycharm": {
     "name": "#%%\n"
    }
   },
   "outputs": [],
   "source": [
    "test_path = '../../../picasso_dataset/FFA-data/shifted/test'"
   ]
  },
  {
   "cell_type": "code",
   "execution_count": 6,
   "metadata": {
    "colab": {
     "base_uri": "https://localhost:8080/"
    },
    "execution": {
     "iopub.execute_input": "2021-03-24T20:50:00.971839Z",
     "iopub.status.busy": "2021-03-24T20:50:00.971365Z",
     "iopub.status.idle": "2021-03-24T20:50:01.053339Z",
     "shell.execute_reply": "2021-03-24T20:50:01.053729Z"
    },
    "executionInfo": {
     "elapsed": 15267,
     "status": "ok",
     "timestamp": 1615579393916,
     "user": {
      "displayName": "Lisa Elli",
      "photoUrl": "",
      "userId": "06754712231658711937"
     },
     "user_tz": -60
    },
    "id": "n_l3PW-_62Q7",
    "outputId": "8db7a694-024d-4e83-d2d7-0c75b63f3eb9",
    "pycharm": {
     "name": "#%%\n"
    }
   },
   "outputs": [
    {
     "name": "stdout",
     "output_type": "stream",
     "text": [
      "Found 3000 images belonging to 2 classes.\n"
     ]
    }
   ],
   "source": [
    "test_batches = ImageDataGenerator(preprocessing_function=tf.keras.applications.vgg16.preprocess_input) \\\n",
    "    .flow_from_directory(directory=test_path, target_size=(224,224), classes=['no_face', 'face'], batch_size=10, shuffle=False)"
   ]
  },
  {
   "cell_type": "code",
   "execution_count": 7,
   "metadata": {
    "execution": {
     "iopub.execute_input": "2021-03-24T20:50:01.056596Z",
     "iopub.status.busy": "2021-03-24T20:50:01.056200Z",
     "iopub.status.idle": "2021-03-24T20:50:01.058262Z",
     "shell.execute_reply": "2021-03-24T20:50:01.057914Z"
    },
    "id": "SbBy_3JT62Q8",
    "pycharm": {
     "name": "#%%\n"
    }
   },
   "outputs": [],
   "source": [
    "assert test_batches.n == 3000\n",
    "assert test_batches.num_classes == 2"
   ]
  },
  {
   "cell_type": "markdown",
   "metadata": {
    "id": "kgM-9Fbg62Q-"
   },
   "source": [
    "### Loading the trained CNN"
   ]
  },
  {
   "cell_type": "code",
   "execution_count": 8,
   "metadata": {
    "execution": {
     "iopub.execute_input": "2021-03-24T20:50:01.063562Z",
     "iopub.status.busy": "2021-03-24T20:50:01.061321Z",
     "iopub.status.idle": "2021-03-24T20:50:01.659603Z",
     "shell.execute_reply": "2021-03-24T20:50:01.660002Z"
    },
    "id": "Cdg3Plko62Q-",
    "pycharm": {
     "name": "#%%\n"
    }
   },
   "outputs": [],
   "source": [
    "filename='../models/CNN-FFA-30E-13L-03.h5'\n",
    "loaded_model = load_model(filename)"
   ]
  },
  {
   "cell_type": "markdown",
   "metadata": {
    "colab": {
     "base_uri": "https://localhost:8080/"
    },
    "executionInfo": {
     "elapsed": 5474,
     "status": "ok",
     "timestamp": 1615579399410,
     "user": {
      "displayName": "Lisa Elli",
      "photoUrl": "",
      "userId": "06754712231658711937"
     },
     "user_tz": -60
    },
    "id": "wtTJTaWatrgn",
    "outputId": "5e22cecc-bb59-456b-ceaa-d3986077141c",
    "pycharm": {
     "name": "#%% md\n"
    }
   },
   "source": [
    "### Accuracy and loss of the trained model"
   ]
  },
  {
   "cell_type": "code",
   "execution_count": 9,
   "metadata": {
    "execution": {
     "iopub.execute_input": "2021-03-24T20:50:01.663302Z",
     "iopub.status.busy": "2021-03-24T20:50:01.662865Z",
     "iopub.status.idle": "2021-03-24T20:50:10.112579Z",
     "shell.execute_reply": "2021-03-24T20:50:10.113011Z"
    },
    "id": "HYmld1gj62Q_",
    "pycharm": {
     "name": "#%%\n"
    }
   },
   "outputs": [
    {
     "name": "stdout",
     "output_type": "stream",
     "text": [
      "300/300 - 7s - loss: 1.7291 - accuracy: 0.6790\n",
      "Accuracy: 67.90%\n",
      "Loss: 172.91%\n"
     ]
    }
   ],
   "source": [
    "scores = loaded_model.evaluate(test_batches, verbose=2)\n",
    "print(\"Accuracy: %.2f%%\" % (scores[1]*100))\n",
    "print(\"Loss: %.2f%%\" % (scores[0]*100))"
   ]
  },
  {
   "cell_type": "markdown",
   "metadata": {
    "id": "-Dfs319f62RC"
   },
   "source": [
    "### Testing the CNN"
   ]
  },
  {
   "cell_type": "code",
   "execution_count": 10,
   "metadata": {
    "execution": {
     "iopub.execute_input": "2021-03-24T20:50:10.116694Z",
     "iopub.status.busy": "2021-03-24T20:50:10.116291Z",
     "iopub.status.idle": "2021-03-24T20:50:17.570939Z",
     "shell.execute_reply": "2021-03-24T20:50:17.570510Z"
    },
    "executionInfo": {
     "elapsed": 8234,
     "status": "ok",
     "timestamp": 1615586642347,
     "user": {
      "displayName": "Lisa Elli",
      "photoUrl": "",
      "userId": "06754712231658711937"
     },
     "user_tz": -60
    },
    "id": "cnM7Y7Au62RD",
    "pycharm": {
     "name": "#%%\n"
    }
   },
   "outputs": [],
   "source": [
    "predictions = loaded_model.predict(x=test_batches, steps=len(test_batches), verbose=0)"
   ]
  },
  {
   "cell_type": "markdown",
   "metadata": {
    "id": "R2kk-gQX62RE",
    "pycharm": {
     "name": "#%% md\n"
    }
   },
   "source": [
    "### Index of wrongly predicted pictures"
   ]
  },
  {
   "cell_type": "code",
   "execution_count": 11,
   "metadata": {
    "execution": {
     "iopub.execute_input": "2021-03-24T20:50:17.574231Z",
     "iopub.status.busy": "2021-03-24T20:50:17.573640Z",
     "iopub.status.idle": "2021-03-24T20:50:17.582880Z",
     "shell.execute_reply": "2021-03-24T20:50:17.582457Z"
    },
    "executionInfo": {
     "elapsed": 604,
     "status": "ok",
     "timestamp": 1615586643749,
     "user": {
      "displayName": "Lisa Elli",
      "photoUrl": "",
      "userId": "06754712231658711937"
     },
     "user_tz": -60
    },
    "id": "5Kt0jsFB62RE",
    "pycharm": {
     "name": "#%%\n"
    }
   },
   "outputs": [],
   "source": [
    "y_true=test_batches.classes\n",
    "y_pred=np.argmax(predictions, axis=-1)\n",
    "cm = confusion_matrix(y_true = y_true, y_pred = y_pred)"
   ]
  },
  {
   "cell_type": "code",
   "execution_count": 12,
   "metadata": {
    "colab": {
     "base_uri": "https://localhost:8080/"
    },
    "execution": {
     "iopub.execute_input": "2021-03-24T20:50:17.594506Z",
     "iopub.status.busy": "2021-03-24T20:50:17.594078Z",
     "iopub.status.idle": "2021-03-24T20:50:17.597206Z",
     "shell.execute_reply": "2021-03-24T20:50:17.596796Z"
    },
    "executionInfo": {
     "elapsed": 881,
     "status": "ok",
     "timestamp": 1615586646608,
     "user": {
      "displayName": "Lisa Elli",
      "photoUrl": "",
      "userId": "06754712231658711937"
     },
     "user_tz": -60
    },
    "id": "aSzFxBUy62RE",
    "outputId": "45c28aa2-5183-46c6-dc0a-901668a61137",
    "pycharm": {
     "name": "#%%\n"
    }
   },
   "outputs": [
    {
     "name": "stdout",
     "output_type": "stream",
     "text": [
      "Data from class 'face', that was wrongly predicted as 'no-face' [ 723 ] :\n",
      "[8001, 8002, 8003, 8006, 8007, 8009, 8011, 8014, 8019, 8020, 8021, 8022, 8023, 8024, 8027, 8030, 8031, 8032, 8033, 8035, 8036, 8037, 8038, 8039, 8040, 8041, 8043, 8044, 8045, 8046, 8047, 8050, 8053, 8054, 8055, 8056, 8057, 8058, 8060, 8062, 8063, 8065, 8066, 8067, 8069, 8070, 8071, 8072, 8073, 8074, 8075, 8076, 8077, 8079, 8081, 8083, 8084, 8086, 8087, 8088, 8089, 8090, 8091, 8092, 8094, 8097, 8100, 8101, 8102, 8103, 8104, 8105, 8109, 8111, 8112, 8113, 8114, 8116, 8117, 8119, 8120, 8122, 8123, 8125, 8127, 8128, 8129, 8130, 8131, 8132, 8133, 8135, 8136, 8137, 8142, 8143, 8144, 8145, 8148, 8149, 8150, 8151, 8152, 8154, 8155, 8157, 8160, 8161, 8162, 8163, 8164, 8165, 8166, 8167, 8170, 8171, 8172, 8173, 8175, 8176, 8181, 8182, 8184, 8185, 8187, 8188, 8190, 8191, 8194, 8196, 8197, 8199, 8200, 8202, 8204, 8207, 8208, 8209, 8210, 8212, 8214, 8218, 8219, 8220, 8221, 8223, 8224, 8227, 8230, 8234, 8235, 8237, 8239, 8241, 8242, 8243, 8245, 8246, 8248, 8249, 8250, 8252, 8253, 8254, 8257, 8258, 8259, 8260, 8261, 8262, 8263, 8267, 8270, 8271, 8272, 8273, 8274, 8275, 8276, 8277, 8278, 8279, 8284, 8285, 8286, 8287, 8288, 8289, 8290, 8293, 8294, 8295, 8297, 8298, 8299, 8301, 8303, 8304, 8306, 8307, 8308, 8310, 8311, 8312, 8314, 8317, 8318, 8319, 8322, 8323, 8324, 8325, 8326, 8327, 8329, 8332, 8334, 8336, 8337, 8338, 8339, 8341, 8342, 8344, 8346, 8348, 8349, 8351, 8353, 8354, 8355, 8358, 8359, 8360, 8361, 8362, 8364, 8365, 8369, 8370, 8371, 8373, 8374, 8375, 8379, 8380, 8381, 8382, 8383, 8385, 8386, 8387, 8388, 8389, 8390, 8391, 8392, 8395, 8399, 8401, 8402, 8405, 8406, 8407, 8408, 8409, 8411, 8415, 8417, 8418, 8420, 8422, 8428, 8429, 8430, 8431, 8433, 8434, 8436, 8437, 8438, 8440, 8443, 8444, 8445, 8446, 8450, 8451, 8453, 8455, 8458, 8459, 8461, 8463, 8464, 8466, 8467, 8468, 8469, 8475, 8477, 8479, 8480, 8482, 8483, 8484, 8485, 8486, 8487, 8488, 8490, 8491, 8494, 8495, 8496, 8497, 8498, 8499, 8500, 9001, 9002, 9003, 9004, 9005, 9006, 9007, 9008, 9010, 9011, 9013, 9014, 9015, 9016, 9017, 9018, 9019, 9020, 9022, 9023, 9024, 9025, 9026, 9027, 9028, 9029, 9030, 9032, 9033, 9034, 9035, 9037, 9040, 9041, 9043, 9045, 9046, 9050, 9051, 9052, 9053, 9054, 9055, 9057, 9058, 9059, 9060, 9062, 9063, 9064, 9065, 9066, 9067, 9068, 9069, 9070, 9071, 9073, 9074, 9076, 9077, 9078, 9081, 9085, 9086, 9087, 9088, 9089, 9090, 9091, 9092, 9093, 9095, 9096, 9097, 9099, 9100, 9101, 9102, 9104, 9105, 9106, 9107, 9108, 9109, 9110, 9111, 9113, 9114, 9115, 9116, 9117, 9118, 9119, 9120, 9121, 9122, 9123, 9125, 9126, 9127, 9129, 9130, 9131, 9133, 9134, 9136, 9137, 9138, 9139, 9141, 9142, 9143, 9144, 9145, 9146, 9147, 9148, 9150, 9151, 9153, 9154, 9155, 9157, 9158, 9159, 9162, 9163, 9164, 9165, 9167, 9168, 9170, 9171, 9172, 9173, 9175, 9176, 9177, 9178, 9179, 9180, 9182, 9183, 9185, 9187, 9188, 9189, 9190, 9191, 9192, 9193, 9194, 9195, 9196, 9197, 9198, 9199, 9201, 9202, 9203, 9204, 9205, 9206, 9207, 9208, 9209, 9211, 9214, 9216, 9217, 9218, 9219, 9220, 9222, 9223, 9226, 9227, 9228, 9229, 9231, 9232, 9233, 9234, 9235, 9236, 9237, 9238, 9239, 9241, 9242, 9244, 9245, 9246, 9247, 9248, 9249, 9251, 9252, 9253, 9254, 9255, 9256, 9257, 9258, 9259, 9260, 9262, 9263, 9264, 9265, 9266, 9267, 9268, 9269, 9270, 9271, 9272, 9273, 9274, 9275, 9277, 9278, 9279, 9280, 9281, 9282, 9283, 9284, 9286, 9288, 9290, 9291, 9292, 9293, 9294, 9295, 9296, 9297, 9300, 9301, 9302, 9303, 9304, 9305, 9306, 9307, 9308, 9309, 9311, 9312, 9313, 9315, 9316, 9318, 9319, 9320, 9322, 9323, 9324, 9325, 9328, 9329, 9331, 9332, 9333, 9335, 9336, 9337, 9338, 9339, 9340, 9341, 9342, 9343, 9344, 9345, 9346, 9347, 9348, 9349, 9350, 9351, 9352, 9353, 9354, 9355, 9358, 9359, 9361, 9362, 9363, 9364, 9365, 9366, 9367, 9371, 9373, 9374, 9375, 9376, 9377, 9378, 9379, 9381, 9383, 9384, 9385, 9386, 9387, 9388, 9390, 9391, 9392, 9395, 9396, 9397, 9399, 9400, 9401, 9403, 9406, 9407, 9408, 9410, 9411, 9412, 9413, 9414, 9415, 9416, 9417, 9418, 9419, 9421, 9422, 9423, 9424, 9426, 9427, 9430, 9431, 9432, 9433, 9434, 9435, 9436, 9437, 9438, 9440, 9441, 9442, 9443, 9445, 9446, 9447, 9448, 9449, 9450, 9451, 9452, 9453, 9454, 9455, 9456, 9457, 9458, 9459, 9460, 9462, 9465, 9466, 9467, 9468, 9469, 9470, 9471, 9472, 9473, 9474, 9475, 9476, 9477, 9478, 9480, 9481, 9482, 9483, 9484, 9485, 9486, 9487, 9488, 9489, 9490, 9491, 9492, 9493, 9494, 9495, 9496, 9497, 9498, 9500]\n",
      "----------------------------------------------------------------------------------------------\n",
      "Data from class 'no-face', that was wrongly predicted as 'face' [ 240 ] :\n",
      "[8001, 8003, 8011, 8018, 8020, 8021, 8026, 8048, 8051, 8059, 8064, 8069, 8077, 8078, 8080, 8084, 8090, 8096, 8105, 8112, 8113, 8119, 8133, 8141, 8164, 8167, 8170, 8174, 8176, 8182, 8186, 8190, 8191, 8193, 8197, 8204, 8211, 8216, 8217, 8218, 8222, 8224, 8247, 8249, 8252, 8257, 8279, 8281, 8288, 8294, 8295, 8297, 8303, 8305, 8308, 8322, 8327, 8338, 8341, 8353, 8360, 8362, 8370, 8376, 8380, 8384, 8410, 8418, 8421, 8423, 8427, 8433, 8440, 8442, 8445, 8446, 8452, 8457, 8460, 8463, 8466, 8473, 8475, 8490, 9001, 9002, 9004, 9005, 9012, 9015, 9016, 9017, 9018, 9019, 9020, 9022, 9023, 9030, 9031, 9041, 9042, 9044, 9045, 9048, 9049, 9051, 9055, 9058, 9059, 9061, 9063, 9069, 9074, 9076, 9081, 9084, 9086, 9096, 9100, 9101, 9107, 9108, 9109, 9114, 9118, 9121, 9125, 9126, 9127, 9135, 9137, 9139, 9143, 9146, 9147, 9148, 9149, 9158, 9159, 9161, 9162, 9163, 9166, 9169, 9171, 9172, 9176, 9180, 9181, 9192, 9193, 9199, 9200, 9209, 9210, 9213, 9218, 9222, 9227, 9231, 9237, 9250, 9252, 9257, 9258, 9259, 9263, 9266, 9268, 9277, 9278, 9282, 9290, 9293, 9297, 9298, 9300, 9301, 9304, 9308, 9309, 9311, 9312, 9315, 9318, 9326, 9329, 9337, 9341, 9348, 9353, 9354, 9355, 9357, 9359, 9360, 9361, 9368, 9374, 9383, 9392, 9394, 9395, 9397, 9410, 9411, 9413, 9415, 9421, 9426, 9428, 9429, 9430, 9433, 9435, 9436, 9438, 9439, 9446, 9448, 9450, 9451, 9454, 9455, 9456, 9457, 9458, 9461, 9462, 9463, 9476, 9479, 9484, 9487, 9488, 9489, 9491, 9493, 9497, 9500]\n"
     ]
    }
   ],
   "source": [
    "face_but_predicted_no_face=[]\n",
    "no_face_but_predicted_face=[]\n",
    "\n",
    "for i in range(len(predictions)):\n",
    "        if y_true[i] != y_pred[i]:\n",
    "            if y_true[i] == 1:\n",
    "                face_but_predicted_no_face.append(i+8001-1500) #Index of file on disk\n",
    "            else:\n",
    "                no_face_but_predicted_face.append(i+8001) #Index of file on disk\n",
    "\n",
    "print(\"Data from class 'face', that was wrongly predicted as 'no-face' [\", len(face_but_predicted_no_face), \"] :\")\n",
    "print(face_but_predicted_no_face)\n",
    "print(\"----------------------------------------------------------------------------------------------\")\n",
    "print(\"Data from class 'no-face', that was wrongly predicted as 'face' [\", len(no_face_but_predicted_face), \"] :\")\n",
    "print(no_face_but_predicted_face)"
   ]
  },
  {
   "cell_type": "markdown",
   "metadata": {
    "id": "6eTe3tG762RE",
    "pycharm": {
     "name": "#%% md\n"
    }
   },
   "source": [
    "### Confusion matrix"
   ]
  },
  {
   "cell_type": "code",
   "execution_count": 13,
   "metadata": {
    "execution": {
     "iopub.execute_input": "2021-03-24T20:50:17.602460Z",
     "iopub.status.busy": "2021-03-24T20:50:17.602061Z",
     "iopub.status.idle": "2021-03-24T20:50:17.604045Z",
     "shell.execute_reply": "2021-03-24T20:50:17.603632Z"
    },
    "executionInfo": {
     "elapsed": 902,
     "status": "ok",
     "timestamp": 1615586652173,
     "user": {
      "displayName": "Lisa Elli",
      "photoUrl": "",
      "userId": "06754712231658711937"
     },
     "user_tz": -60
    },
    "id": "TXVbugwa62RE",
    "pycharm": {
     "name": "#%%\n"
    }
   },
   "outputs": [],
   "source": [
    "def plot_confusion_matrix(cm, classes,\n",
    "                          normalize=False,\n",
    "                          title='Confusion matrix',\n",
    "                          cmap=plt.cm.Blues):\n",
    "\n",
    "    plt.imshow(cm, interpolation='nearest', cmap=cmap)\n",
    "    plt.title(title)\n",
    "    plt.colorbar()\n",
    "    tick_marks = np.arange(len(classes))\n",
    "    plt.xticks(tick_marks, classes, rotation=45)\n",
    "    plt.yticks(tick_marks, classes)\n",
    "\n",
    "    if normalize:\n",
    "        cm = cm.astype('float') / cm.sum(axis=1)[:, np.newaxis]\n",
    "        print(\"Normalized confusion matrix\")\n",
    "    else:\n",
    "        print('Confusion matrix, without normalization')\n",
    "\n",
    "    print(cm)\n",
    "\n",
    "    thresh = cm.max() / 2.\n",
    "    for i, j in itertools.product(range(cm.shape[0]), range(cm.shape[1])):\n",
    "        plt.text(j, i, cm[i, j],\n",
    "                 horizontalalignment=\"center\",\n",
    "                 color=\"white\" if cm[i, j] > thresh else \"black\")\n",
    "\n",
    "    plt.tight_layout()\n",
    "    plt.ylabel('True label')\n",
    "    plt.xlabel('Predicted label')"
   ]
  },
  {
   "cell_type": "code",
   "execution_count": 14,
   "metadata": {
    "colab": {
     "base_uri": "https://localhost:8080/"
    },
    "execution": {
     "iopub.execute_input": "2021-03-24T20:50:17.608667Z",
     "iopub.status.busy": "2021-03-24T20:50:17.608250Z",
     "iopub.status.idle": "2021-03-24T20:50:17.611043Z",
     "shell.execute_reply": "2021-03-24T20:50:17.610617Z"
    },
    "executionInfo": {
     "elapsed": 909,
     "status": "ok",
     "timestamp": 1615586655343,
     "user": {
      "displayName": "Lisa Elli",
      "photoUrl": "",
      "userId": "06754712231658711937"
     },
     "user_tz": -60
    },
    "id": "sP3ndK5o62RF",
    "outputId": "74d415b9-1346-4b60-8a66-1899e30acb23",
    "pycharm": {
     "name": "#%%\n"
    }
   },
   "outputs": [
    {
     "data": {
      "text/plain": [
       "{'no_face': 0, 'face': 1}"
      ]
     },
     "execution_count": 1,
     "metadata": {},
     "output_type": "execute_result"
    }
   ],
   "source": [
    "test_batches.class_indices"
   ]
  },
  {
   "cell_type": "code",
   "execution_count": 15,
   "metadata": {
    "colab": {
     "base_uri": "https://localhost:8080/",
     "height": 366
    },
    "execution": {
     "iopub.execute_input": "2021-03-24T20:50:17.649377Z",
     "iopub.status.busy": "2021-03-24T20:50:17.633692Z",
     "iopub.status.idle": "2021-03-24T20:50:17.758461Z",
     "shell.execute_reply": "2021-03-24T20:50:17.758940Z"
    },
    "executionInfo": {
     "elapsed": 1444,
     "status": "ok",
     "timestamp": 1615586660010,
     "user": {
      "displayName": "Lisa Elli",
      "photoUrl": "",
      "userId": "06754712231658711937"
     },
     "user_tz": -60
    },
    "id": "_iHhK36e62RF",
    "outputId": "e4096568-5620-44a6-8e7f-ac906560d917",
    "pycharm": {
     "name": "#%%\n"
    }
   },
   "outputs": [
    {
     "name": "stdout",
     "output_type": "stream",
     "text": [
      "Confusion matrix, without normalization\n",
      "[[1260  240]\n",
      " [ 723  777]]\n"
     ]
    },
    {
     "data": {
      "image/png": "[encoded data removed]",
      "text/plain": [
       "<Figure size 432x288 with 2 Axes>"
      ]
     },
     "metadata": {
      "needs_background": "light"
     },
     "output_type": "display_data"
    }
   ],
   "source": [
    "cm_plot_labels = ['no_face','face']\n",
    "plot_confusion_matrix(cm=cm, classes=cm_plot_labels, title='Confusion Matrix')\n"
   ]
  }
 ],
 "metadata": {
  "kernelspec": {
   "display_name": "Python 3",
   "language": "python",
   "name": "python3"
  },
  "language_info": {
   "codemirror_mode": {
    "name": "ipython",
    "version": 3
   },
   "file_extension": ".py",
   "mimetype": "text/x-python",
   "name": "python",
   "nbconvert_exporter": "python",
   "pygments_lexer": "ipython3",
   "version": "3.8.5"
  }
 },
 "nbformat": 4,
 "nbformat_minor": 1
}
