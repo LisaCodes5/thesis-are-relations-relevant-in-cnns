{
 "cells": [
  {
   "cell_type": "markdown",
   "metadata": {
    "id": "O82TH2Vr62Qi"
   },
   "source": [
    "# Are Relations Relevant in CNNs? *A Study Based on a Facial Dataset*"
   ]
  },
  {
   "cell_type": "markdown",
   "metadata": {
    "id": "ehl8qgCC62Qx"
   },
   "source": [
    "## Testing Baseline CNN *(20 Epochs - 15 Layers)*"
   ]
  },
  {
   "cell_type": "markdown",
   "metadata": {
    "id": "3clj-ony62Q0",
    "pycharm": {
     "name": "#%% md\n"
    }
   },
   "source": [
    "### Imports, Seed, GPU integration"
   ]
  },
  {
   "cell_type": "code",
   "execution_count": 1,
   "metadata": {
    "execution": {
     "iopub.execute_input": "2021-03-26T09:52:44.692001Z",
     "iopub.status.busy": "2021-03-26T09:52:44.690061Z",
     "iopub.status.idle": "2021-03-26T09:52:45.879961Z",
     "shell.execute_reply": "2021-03-26T09:52:45.880350Z"
    },
    "id": "cnCaBFfp62Q2",
    "pycharm": {
     "name": "#%%\n"
    }
   },
   "outputs": [],
   "source": [
    "import numpy as np\n",
    "import random\n",
    "import tensorflow as tf"
   ]
  },
  {
   "cell_type": "code",
   "execution_count": 2,
   "metadata": {
    "execution": {
     "iopub.execute_input": "2021-03-26T09:52:45.883471Z",
     "iopub.status.busy": "2021-03-26T09:52:45.883040Z",
     "iopub.status.idle": "2021-03-26T09:52:45.885241Z",
     "shell.execute_reply": "2021-03-26T09:52:45.884842Z"
    },
    "id": "jsw3DKWp62Q4",
    "pycharm": {
     "name": "#%%\n"
    }
   },
   "outputs": [],
   "source": [
    "# Seeds for better reproducibility\n",
    "seed = 42\n",
    "np.random.seed(seed)\n",
    "random.seed(seed)\n",
    "tf.random.set_seed(seed)"
   ]
  },
  {
   "cell_type": "code",
   "execution_count": 3,
   "metadata": {
    "execution": {
     "iopub.execute_input": "2021-03-26T09:52:45.889180Z",
     "iopub.status.busy": "2021-03-26T09:52:45.888803Z",
     "iopub.status.idle": "2021-03-26T09:52:46.379456Z",
     "shell.execute_reply": "2021-03-26T09:52:46.378985Z"
    }
   },
   "outputs": [],
   "source": [
    "from tensorflow.keras.models import load_model\n",
    "from tensorflow.keras.preprocessing.image import ImageDataGenerator\n",
    "from sklearn.metrics import confusion_matrix\n",
    "import itertools\n",
    "import matplotlib.pyplot as plt\n",
    "import warnings\n",
    "warnings.simplefilter(action='ignore', category=FutureWarning)\n",
    "%matplotlib inline"
   ]
  },
  {
   "cell_type": "code",
   "execution_count": 4,
   "metadata": {
    "colab": {
     "base_uri": "https://localhost:8080/"
    },
    "execution": {
     "iopub.execute_input": "2021-03-26T09:52:46.426737Z",
     "iopub.status.busy": "2021-03-26T09:52:46.425507Z",
     "iopub.status.idle": "2021-03-26T09:52:46.428406Z",
     "shell.execute_reply": "2021-03-26T09:52:46.428866Z"
    },
    "executionInfo": {
     "elapsed": 19631,
     "status": "ok",
     "timestamp": 1615579393251,
     "user": {
      "displayName": "Lisa Elli",
      "photoUrl": "",
      "userId": "06754712231658711937"
     },
     "user_tz": -60
    },
    "id": "4vE5F4rX62Q4",
    "outputId": "bff035e6-71fc-433f-d1fd-7e794a4724fc",
    "pycharm": {
     "name": "#%%\n"
    }
   },
   "outputs": [
    {
     "name": "stdout",
     "output_type": "stream",
     "text": [
      "Num GPUs Available:  1\n"
     ]
    }
   ],
   "source": [
    "physical_devices = tf.config.experimental.list_physical_devices('GPU')\n",
    "print(\"Num GPUs Available: \", len(physical_devices))\n",
    "tf.config.experimental.set_memory_growth(physical_devices[0], True)"
   ]
  },
  {
   "cell_type": "markdown",
   "metadata": {
    "id": "wmGEalmo62Q7"
   },
   "source": [
    "### Data preparation"
   ]
  },
  {
   "cell_type": "code",
   "execution_count": 5,
   "metadata": {
    "execution": {
     "iopub.execute_input": "2021-03-26T09:52:46.432374Z",
     "iopub.status.busy": "2021-03-26T09:52:46.431816Z",
     "iopub.status.idle": "2021-03-26T09:52:46.433794Z",
     "shell.execute_reply": "2021-03-26T09:52:46.433368Z"
    },
    "id": "FdYjQ15w62Q7",
    "pycharm": {
     "name": "#%%\n"
    }
   },
   "outputs": [],
   "source": [
    "test_path = '../../../picasso_dataset/FFA-data/shifted/test'"
   ]
  },
  {
   "cell_type": "code",
   "execution_count": 6,
   "metadata": {
    "colab": {
     "base_uri": "https://localhost:8080/"
    },
    "execution": {
     "iopub.execute_input": "2021-03-26T09:52:46.437767Z",
     "iopub.status.busy": "2021-03-26T09:52:46.437360Z",
     "iopub.status.idle": "2021-03-26T09:52:46.513096Z",
     "shell.execute_reply": "2021-03-26T09:52:46.512654Z"
    },
    "executionInfo": {
     "elapsed": 15267,
     "status": "ok",
     "timestamp": 1615579393916,
     "user": {
      "displayName": "Lisa Elli",
      "photoUrl": "",
      "userId": "06754712231658711937"
     },
     "user_tz": -60
    },
    "id": "n_l3PW-_62Q7",
    "outputId": "8db7a694-024d-4e83-d2d7-0c75b63f3eb9",
    "pycharm": {
     "name": "#%%\n"
    }
   },
   "outputs": [
    {
     "name": "stdout",
     "output_type": "stream",
     "text": [
      "Found 3000 images belonging to 2 classes.\n"
     ]
    }
   ],
   "source": [
    "test_batches = ImageDataGenerator(preprocessing_function=tf.keras.applications.vgg16.preprocess_input) \\\n",
    "    .flow_from_directory(directory=test_path, target_size=(224,224), classes=['no_face', 'face'], batch_size=10, shuffle=False)"
   ]
  },
  {
   "cell_type": "code",
   "execution_count": 7,
   "metadata": {
    "execution": {
     "iopub.execute_input": "2021-03-26T09:52:46.515658Z",
     "iopub.status.busy": "2021-03-26T09:52:46.515271Z",
     "iopub.status.idle": "2021-03-26T09:52:46.517081Z",
     "shell.execute_reply": "2021-03-26T09:52:46.517450Z"
    },
    "id": "SbBy_3JT62Q8",
    "pycharm": {
     "name": "#%%\n"
    }
   },
   "outputs": [],
   "source": [
    "assert test_batches.n == 3000\n",
    "assert test_batches.num_classes == 2"
   ]
  },
  {
   "cell_type": "markdown",
   "metadata": {
    "id": "kgM-9Fbg62Q-"
   },
   "source": [
    "### Loading the trained CNN"
   ]
  },
  {
   "cell_type": "code",
   "execution_count": 8,
   "metadata": {
    "execution": {
     "iopub.execute_input": "2021-03-26T09:52:46.521073Z",
     "iopub.status.busy": "2021-03-26T09:52:46.520687Z",
     "iopub.status.idle": "2021-03-26T09:52:47.201572Z",
     "shell.execute_reply": "2021-03-26T09:52:47.201115Z"
    },
    "id": "Cdg3Plko62Q-",
    "pycharm": {
     "name": "#%%\n"
    }
   },
   "outputs": [],
   "source": [
    "filename='../models/CNN-FFA-20E-15L-03.h5'\n",
    "loaded_model = load_model(filename)"
   ]
  },
  {
   "cell_type": "markdown",
   "metadata": {
    "colab": {
     "base_uri": "https://localhost:8080/"
    },
    "executionInfo": {
     "elapsed": 5474,
     "status": "ok",
     "timestamp": 1615579399410,
     "user": {
      "displayName": "Lisa Elli",
      "photoUrl": "",
      "userId": "06754712231658711937"
     },
     "user_tz": -60
    },
    "id": "wtTJTaWatrgn",
    "outputId": "5e22cecc-bb59-456b-ceaa-d3986077141c",
    "pycharm": {
     "name": "#%% md\n"
    }
   },
   "source": [
    "### Accuracy and loss of the trained model"
   ]
  },
  {
   "cell_type": "code",
   "execution_count": 9,
   "metadata": {
    "execution": {
     "iopub.execute_input": "2021-03-26T09:52:47.204669Z",
     "iopub.status.busy": "2021-03-26T09:52:47.204210Z",
     "iopub.status.idle": "2021-03-26T09:52:55.427874Z",
     "shell.execute_reply": "2021-03-26T09:52:55.427465Z"
    },
    "id": "HYmld1gj62Q_",
    "pycharm": {
     "name": "#%%\n"
    }
   },
   "outputs": [
    {
     "name": "stdout",
     "output_type": "stream",
     "text": [
      "300/300 - 7s - loss: 0.7658 - accuracy: 0.7767\n",
      "Accuracy: 77.67%\n",
      "Loss: 76.58%\n"
     ]
    }
   ],
   "source": [
    "scores = loaded_model.evaluate(test_batches, verbose=2)\n",
    "print(\"Accuracy: %.2f%%\" % (scores[1]*100))\n",
    "print(\"Loss: %.2f%%\" % (scores[0]*100))"
   ]
  },
  {
   "cell_type": "markdown",
   "metadata": {
    "id": "-Dfs319f62RC"
   },
   "source": [
    "### Testing the CNN"
   ]
  },
  {
   "cell_type": "code",
   "execution_count": 10,
   "metadata": {
    "execution": {
     "iopub.execute_input": "2021-03-26T09:52:55.431467Z",
     "iopub.status.busy": "2021-03-26T09:52:55.431046Z",
     "iopub.status.idle": "2021-03-26T09:53:02.666382Z",
     "shell.execute_reply": "2021-03-26T09:53:02.666692Z"
    },
    "executionInfo": {
     "elapsed": 8234,
     "status": "ok",
     "timestamp": 1615586642347,
     "user": {
      "displayName": "Lisa Elli",
      "photoUrl": "",
      "userId": "06754712231658711937"
     },
     "user_tz": -60
    },
    "id": "cnM7Y7Au62RD",
    "pycharm": {
     "name": "#%%\n"
    }
   },
   "outputs": [],
   "source": [
    "predictions = loaded_model.predict(x=test_batches, steps=len(test_batches), verbose=0)"
   ]
  },
  {
   "cell_type": "markdown",
   "metadata": {
    "id": "R2kk-gQX62RE",
    "pycharm": {
     "name": "#%% md\n"
    }
   },
   "source": [
    "### Index of wrongly predicted pictures"
   ]
  },
  {
   "cell_type": "code",
   "execution_count": 11,
   "metadata": {
    "execution": {
     "iopub.execute_input": "2021-03-26T09:53:02.669912Z",
     "iopub.status.busy": "2021-03-26T09:53:02.669527Z",
     "iopub.status.idle": "2021-03-26T09:53:02.678697Z",
     "shell.execute_reply": "2021-03-26T09:53:02.678266Z"
    },
    "executionInfo": {
     "elapsed": 604,
     "status": "ok",
     "timestamp": 1615586643749,
     "user": {
      "displayName": "Lisa Elli",
      "photoUrl": "",
      "userId": "06754712231658711937"
     },
     "user_tz": -60
    },
    "id": "5Kt0jsFB62RE",
    "pycharm": {
     "name": "#%%\n"
    }
   },
   "outputs": [],
   "source": [
    "y_true=test_batches.classes\n",
    "y_pred=np.argmax(predictions, axis=-1)\n",
    "cm = confusion_matrix(y_true = y_true, y_pred = y_pred)"
   ]
  },
  {
   "cell_type": "code",
   "execution_count": 12,
   "metadata": {
    "colab": {
     "base_uri": "https://localhost:8080/"
    },
    "execution": {
     "iopub.execute_input": "2021-03-26T09:53:02.689202Z",
     "iopub.status.busy": "2021-03-26T09:53:02.685488Z",
     "iopub.status.idle": "2021-03-26T09:53:02.691763Z",
     "shell.execute_reply": "2021-03-26T09:53:02.691426Z"
    },
    "executionInfo": {
     "elapsed": 881,
     "status": "ok",
     "timestamp": 1615586646608,
     "user": {
      "displayName": "Lisa Elli",
      "photoUrl": "",
      "userId": "06754712231658711937"
     },
     "user_tz": -60
    },
    "id": "aSzFxBUy62RE",
    "outputId": "45c28aa2-5183-46c6-dc0a-901668a61137",
    "pycharm": {
     "name": "#%%\n"
    }
   },
   "outputs": [
    {
     "name": "stdout",
     "output_type": "stream",
     "text": [
      "Data from class 'face', that was wrongly predicted as 'no-face' [ 663 ] :\n",
      "[8001, 8002, 8003, 8005, 8006, 8007, 8009, 8011, 8013, 8014, 8020, 8021, 8022, 8025, 8027, 8028, 8030, 8031, 8032, 8037, 8038, 8040, 8043, 8045, 8050, 8051, 8053, 8055, 8056, 8057, 8058, 8062, 8065, 8066, 8067, 8069, 8073, 8074, 8075, 8076, 8077, 8079, 8083, 8087, 8088, 8089, 8090, 8091, 8092, 8093, 8094, 8096, 8097, 8099, 8101, 8102, 8103, 8104, 8105, 8106, 8109, 8111, 8112, 8116, 8117, 8120, 8121, 8122, 8123, 8124, 8125, 8127, 8129, 8131, 8133, 8135, 8136, 8137, 8138, 8143, 8146, 8149, 8151, 8152, 8156, 8157, 8158, 8160, 8161, 8162, 8163, 8166, 8168, 8170, 8171, 8172, 8173, 8175, 8178, 8179, 8180, 8182, 8184, 8186, 8190, 8194, 8197, 8198, 8199, 8202, 8207, 8209, 8210, 8212, 8214, 8217, 8219, 8221, 8224, 8227, 8230, 8231, 8234, 8237, 8239, 8241, 8242, 8243, 8244, 8245, 8248, 8251, 8252, 8254, 8257, 8258, 8261, 8262, 8266, 8269, 8270, 8271, 8275, 8276, 8278, 8285, 8286, 8287, 8288, 8289, 8290, 8293, 8294, 8295, 8296, 8297, 8299, 8301, 8302, 8303, 8304, 8305, 8306, 8307, 8308, 8309, 8310, 8314, 8322, 8327, 8329, 8334, 8337, 8338, 8341, 8345, 8348, 8349, 8353, 8354, 8355, 8357, 8359, 8363, 8365, 8369, 8370, 8371, 8372, 8374, 8375, 8380, 8382, 8383, 8384, 8385, 8388, 8390, 8391, 8392, 8395, 8400, 8401, 8403, 8406, 8407, 8408, 8409, 8410, 8415, 8416, 8417, 8421, 8422, 8424, 8425, 8427, 8430, 8433, 8436, 8437, 8438, 8439, 8445, 8446, 8448, 8455, 8458, 8459, 8461, 8462, 8463, 8465, 8466, 8467, 8469, 8476, 8477, 8479, 8481, 8482, 8483, 8484, 8487, 8488, 8491, 8494, 8495, 8499, 9001, 9003, 9004, 9005, 9006, 9007, 9008, 9009, 9010, 9011, 9012, 9014, 9015, 9017, 9018, 9019, 9020, 9021, 9022, 9023, 9024, 9025, 9026, 9027, 9028, 9030, 9031, 9032, 9033, 9034, 9035, 9037, 9038, 9039, 9040, 9041, 9043, 9045, 9046, 9050, 9051, 9052, 9053, 9054, 9055, 9056, 9058, 9059, 9060, 9061, 9062, 9063, 9064, 9065, 9067, 9068, 9069, 9070, 9071, 9073, 9074, 9075, 9076, 9077, 9078, 9079, 9081, 9082, 9083, 9085, 9086, 9087, 9088, 9090, 9091, 9092, 9093, 9094, 9095, 9096, 9097, 9098, 9099, 9100, 9101, 9102, 9103, 9104, 9105, 9106, 9107, 9108, 9109, 9110, 9111, 9112, 9113, 9114, 9115, 9116, 9117, 9118, 9119, 9120, 9121, 9122, 9124, 9125, 9126, 9127, 9128, 9129, 9130, 9131, 9133, 9134, 9136, 9138, 9140, 9141, 9143, 9145, 9146, 9147, 9148, 9149, 9150, 9151, 9153, 9154, 9155, 9157, 9159, 9161, 9163, 9164, 9165, 9166, 9167, 9168, 9170, 9171, 9172, 9173, 9174, 9175, 9177, 9178, 9179, 9180, 9181, 9182, 9183, 9185, 9186, 9187, 9188, 9189, 9190, 9191, 9192, 9193, 9194, 9195, 9196, 9198, 9199, 9200, 9201, 9202, 9203, 9204, 9205, 9207, 9209, 9211, 9214, 9215, 9216, 9217, 9218, 9220, 9221, 9222, 9223, 9226, 9227, 9228, 9229, 9230, 9231, 9232, 9233, 9234, 9236, 9237, 9238, 9239, 9240, 9241, 9243, 9246, 9247, 9248, 9249, 9250, 9251, 9252, 9254, 9255, 9256, 9257, 9258, 9259, 9260, 9262, 9263, 9264, 9265, 9266, 9267, 9268, 9269, 9270, 9271, 9272, 9273, 9275, 9277, 9278, 9279, 9280, 9282, 9283, 9284, 9286, 9287, 9288, 9289, 9290, 9292, 9293, 9294, 9295, 9297, 9298, 9300, 9301, 9303, 9304, 9305, 9306, 9307, 9308, 9309, 9310, 9311, 9312, 9313, 9314, 9315, 9316, 9317, 9318, 9319, 9320, 9322, 9324, 9325, 9326, 9327, 9329, 9331, 9332, 9333, 9334, 9335, 9337, 9338, 9339, 9340, 9341, 9344, 9346, 9347, 9349, 9350, 9351, 9352, 9353, 9354, 9356, 9358, 9359, 9360, 9362, 9363, 9364, 9365, 9366, 9367, 9368, 9370, 9371, 9373, 9374, 9375, 9376, 9377, 9378, 9379, 9381, 9382, 9385, 9386, 9387, 9388, 9389, 9390, 9391, 9392, 9395, 9397, 9399, 9400, 9401, 9402, 9403, 9404, 9405, 9406, 9407, 9408, 9410, 9411, 9412, 9413, 9414, 9415, 9417, 9418, 9419, 9420, 9421, 9422, 9423, 9424, 9425, 9426, 9427, 9429, 9430, 9431, 9432, 9433, 9434, 9435, 9436, 9437, 9438, 9439, 9440, 9441, 9442, 9443, 9444, 9446, 9447, 9448, 9449, 9450, 9451, 9454, 9456, 9457, 9458, 9459, 9460, 9461, 9462, 9463, 9464, 9466, 9467, 9468, 9469, 9470, 9471, 9472, 9473, 9474, 9475, 9476, 9477, 9478, 9480, 9481, 9482, 9483, 9484, 9485, 9486, 9487, 9488, 9489, 9490, 9491, 9492, 9493, 9494, 9496, 9497, 9499, 9500]\n",
      "----------------------------------------------------------------------------------------------\n",
      "Data from class 'no-face', that was wrongly predicted as 'face' [ 7 ] :\n",
      "[8077, 8139, 8217, 8338, 8418, 8473, 8475]\n"
     ]
    }
   ],
   "source": [
    "face_but_predicted_no_face=[]\n",
    "no_face_but_predicted_face=[]\n",
    "\n",
    "for i in range(len(predictions)):\n",
    "        if y_true[i] != y_pred[i]:\n",
    "            if y_true[i] == 1:\n",
    "                face_but_predicted_no_face.append(i+8001-1500) #Index of file on disk\n",
    "            else:\n",
    "                no_face_but_predicted_face.append(i+8001) #Index of file on disk\n",
    "\n",
    "print(\"Data from class 'face', that was wrongly predicted as 'no-face' [\", len(face_but_predicted_no_face), \"] :\")\n",
    "print(face_but_predicted_no_face)\n",
    "print(\"----------------------------------------------------------------------------------------------\")\n",
    "print(\"Data from class 'no-face', that was wrongly predicted as 'face' [\", len(no_face_but_predicted_face), \"] :\")\n",
    "print(no_face_but_predicted_face)"
   ]
  },
  {
   "cell_type": "markdown",
   "metadata": {
    "id": "6eTe3tG762RE",
    "pycharm": {
     "name": "#%% md\n"
    }
   },
   "source": [
    "### Confusion matrix"
   ]
  },
  {
   "cell_type": "code",
   "execution_count": 13,
   "metadata": {
    "execution": {
     "iopub.execute_input": "2021-03-26T09:53:02.696797Z",
     "iopub.status.busy": "2021-03-26T09:53:02.696399Z",
     "iopub.status.idle": "2021-03-26T09:53:02.698399Z",
     "shell.execute_reply": "2021-03-26T09:53:02.698004Z"
    },
    "executionInfo": {
     "elapsed": 902,
     "status": "ok",
     "timestamp": 1615586652173,
     "user": {
      "displayName": "Lisa Elli",
      "photoUrl": "",
      "userId": "06754712231658711937"
     },
     "user_tz": -60
    },
    "id": "TXVbugwa62RE",
    "pycharm": {
     "name": "#%%\n"
    }
   },
   "outputs": [],
   "source": [
    "def plot_confusion_matrix(cm, classes,\n",
    "                          normalize=False,\n",
    "                          title='Confusion matrix',\n",
    "                          cmap=plt.cm.Blues):\n",
    "\n",
    "    plt.imshow(cm, interpolation='nearest', cmap=cmap)\n",
    "    plt.title(title)\n",
    "    plt.colorbar()\n",
    "    tick_marks = np.arange(len(classes))\n",
    "    plt.xticks(tick_marks, classes, rotation=45)\n",
    "    plt.yticks(tick_marks, classes)\n",
    "\n",
    "    if normalize:\n",
    "        cm = cm.astype('float') / cm.sum(axis=1)[:, np.newaxis]\n",
    "        print(\"Normalized confusion matrix\")\n",
    "    else:\n",
    "        print('Confusion matrix, without normalization')\n",
    "\n",
    "    print(cm)\n",
    "\n",
    "    thresh = cm.max() / 2.\n",
    "    for i, j in itertools.product(range(cm.shape[0]), range(cm.shape[1])):\n",
    "        plt.text(j, i, cm[i, j],\n",
    "                 horizontalalignment=\"center\",\n",
    "                 color=\"white\" if cm[i, j] > thresh else \"black\")\n",
    "\n",
    "    plt.tight_layout()\n",
    "    plt.ylabel('True label')\n",
    "    plt.xlabel('Predicted label')"
   ]
  },
  {
   "cell_type": "code",
   "execution_count": 14,
   "metadata": {
    "colab": {
     "base_uri": "https://localhost:8080/"
    },
    "execution": {
     "iopub.execute_input": "2021-03-26T09:53:02.702597Z",
     "iopub.status.busy": "2021-03-26T09:53:02.702194Z",
     "iopub.status.idle": "2021-03-26T09:53:02.704812Z",
     "shell.execute_reply": "2021-03-26T09:53:02.704387Z"
    },
    "executionInfo": {
     "elapsed": 909,
     "status": "ok",
     "timestamp": 1615586655343,
     "user": {
      "displayName": "Lisa Elli",
      "photoUrl": "",
      "userId": "06754712231658711937"
     },
     "user_tz": -60
    },
    "id": "sP3ndK5o62RF",
    "outputId": "74d415b9-1346-4b60-8a66-1899e30acb23",
    "pycharm": {
     "name": "#%%\n"
    }
   },
   "outputs": [
    {
     "data": {
      "text/plain": [
       "{'no_face': 0, 'face': 1}"
      ]
     },
     "execution_count": 1,
     "metadata": {},
     "output_type": "execute_result"
    }
   ],
   "source": [
    "test_batches.class_indices"
   ]
  },
  {
   "cell_type": "code",
   "execution_count": 15,
   "metadata": {
    "colab": {
     "base_uri": "https://localhost:8080/",
     "height": 366
    },
    "execution": {
     "iopub.execute_input": "2021-03-26T09:53:02.740384Z",
     "iopub.status.busy": "2021-03-26T09:53:02.737352Z",
     "iopub.status.idle": "2021-03-26T09:53:02.852327Z",
     "shell.execute_reply": "2021-03-26T09:53:02.852719Z"
    },
    "executionInfo": {
     "elapsed": 1444,
     "status": "ok",
     "timestamp": 1615586660010,
     "user": {
      "displayName": "Lisa Elli",
      "photoUrl": "",
      "userId": "06754712231658711937"
     },
     "user_tz": -60
    },
    "id": "_iHhK36e62RF",
    "outputId": "e4096568-5620-44a6-8e7f-ac906560d917",
    "pycharm": {
     "name": "#%%\n"
    }
   },
   "outputs": [
    {
     "name": "stdout",
     "output_type": "stream",
     "text": [
      "Confusion matrix, without normalization\n",
      "[[1493    7]\n",
      " [ 663  837]]\n"
     ]
    },
    {
     "data": {
      "image/png": "[encoded data removed]",
      "text/plain": [
       "<Figure size 432x288 with 2 Axes>"
      ]
     },
     "metadata": {
      "needs_background": "light"
     },
     "output_type": "display_data"
    }
   ],
   "source": [
    "cm_plot_labels = ['no_face','face']\n",
    "plot_confusion_matrix(cm=cm, classes=cm_plot_labels, title='Confusion Matrix')"
   ]
  }
 ],
 "metadata": {
  "kernelspec": {
   "display_name": "Python 3",
   "language": "python",
   "name": "python3"
  },
  "language_info": {
   "codemirror_mode": {
    "name": "ipython",
    "version": 3
   },
   "file_extension": ".py",
   "mimetype": "text/x-python",
   "name": "python",
   "nbconvert_exporter": "python",
   "pygments_lexer": "ipython3",
   "version": "3.8.5"
  }
 },
 "nbformat": 4,
 "nbformat_minor": 1
}
