{
 "cells": [
  {
   "cell_type": "markdown",
   "metadata": {
    "id": "O82TH2Vr62Qi"
   },
   "source": [
    "# Are Relations Relevant in CNNs? *A Study Based on a Facial Dataset*"
   ]
  },
  {
   "cell_type": "markdown",
   "metadata": {
    "id": "ehl8qgCC62Qx"
   },
   "source": [
    "## Testing Baseline CNN *(20 Epochs - 15 Layers)*"
   ]
  },
  {
   "cell_type": "markdown",
   "metadata": {
    "id": "cnCaBFfp62Q2",
    "pycharm": {
     "name": "#%% md\n"
    }
   },
   "source": [
    "### Imports, Seed, GPU integration"
   ]
  },
  {
   "cell_type": "code",
   "execution_count": 1,
   "metadata": {
    "execution": {
     "iopub.execute_input": "2021-03-24T20:57:57.162444Z",
     "iopub.status.busy": "2021-03-24T20:57:57.161785Z",
     "iopub.status.idle": "2021-03-24T20:57:58.396470Z",
     "shell.execute_reply": "2021-03-24T20:57:58.396885Z"
    },
    "pycharm": {
     "name": "#%%\n"
    }
   },
   "outputs": [],
   "source": [
    "import numpy as np\n",
    "import random\n",
    "import tensorflow as tf"
   ]
  },
  {
   "cell_type": "code",
   "execution_count": 2,
   "metadata": {
    "execution": {
     "iopub.execute_input": "2021-03-24T20:57:58.400181Z",
     "iopub.status.busy": "2021-03-24T20:57:58.399779Z",
     "iopub.status.idle": "2021-03-24T20:57:58.401876Z",
     "shell.execute_reply": "2021-03-24T20:57:58.401458Z"
    },
    "id": "jsw3DKWp62Q4",
    "pycharm": {
     "name": "#%%\n"
    }
   },
   "outputs": [],
   "source": [
    "# Seeds for better reproducibility\n",
    "seed = 42\n",
    "np.random.seed(seed)\n",
    "random.seed(seed)\n",
    "tf.random.set_seed(seed)"
   ]
  },
  {
   "cell_type": "code",
   "execution_count": 3,
   "metadata": {
    "execution": {
     "iopub.execute_input": "2021-03-24T20:57:58.405742Z",
     "iopub.status.busy": "2021-03-24T20:57:58.405346Z",
     "iopub.status.idle": "2021-03-24T20:57:58.908099Z",
     "shell.execute_reply": "2021-03-24T20:57:58.907672Z"
    }
   },
   "outputs": [],
   "source": [
    "from tensorflow.keras.models import load_model\n",
    "from tensorflow.keras.preprocessing.image import ImageDataGenerator\n",
    "from sklearn.metrics import confusion_matrix\n",
    "import itertools\n",
    "import matplotlib.pyplot as plt\n",
    "import warnings\n",
    "warnings.simplefilter(action='ignore', category=FutureWarning)\n",
    "%matplotlib inline"
   ]
  },
  {
   "cell_type": "code",
   "execution_count": 4,
   "metadata": {
    "colab": {
     "base_uri": "https://localhost:8080/"
    },
    "execution": {
     "iopub.execute_input": "2021-03-24T20:57:58.954145Z",
     "iopub.status.busy": "2021-03-24T20:57:58.953724Z",
     "iopub.status.idle": "2021-03-24T20:57:58.955970Z",
     "shell.execute_reply": "2021-03-24T20:57:58.956357Z"
    },
    "executionInfo": {
     "elapsed": 19631,
     "status": "ok",
     "timestamp": 1615579393251,
     "user": {
      "displayName": "Lisa Elli",
      "photoUrl": "",
      "userId": "06754712231658711937"
     },
     "user_tz": -60
    },
    "id": "4vE5F4rX62Q4",
    "outputId": "bff035e6-71fc-433f-d1fd-7e794a4724fc",
    "pycharm": {
     "name": "#%%\n"
    }
   },
   "outputs": [
    {
     "name": "stdout",
     "output_type": "stream",
     "text": [
      "Num GPUs Available:  1\n"
     ]
    }
   ],
   "source": [
    "physical_devices = tf.config.experimental.list_physical_devices('GPU')\n",
    "print(\"Num GPUs Available: \", len(physical_devices))\n",
    "tf.config.experimental.set_memory_growth(physical_devices[0], True)"
   ]
  },
  {
   "cell_type": "markdown",
   "metadata": {
    "id": "wmGEalmo62Q7"
   },
   "source": [
    "### Data preparation"
   ]
  },
  {
   "cell_type": "code",
   "execution_count": 5,
   "metadata": {
    "execution": {
     "iopub.execute_input": "2021-03-24T20:57:58.959303Z",
     "iopub.status.busy": "2021-03-24T20:57:58.958888Z",
     "iopub.status.idle": "2021-03-24T20:57:58.961140Z",
     "shell.execute_reply": "2021-03-24T20:57:58.960734Z"
    },
    "id": "FdYjQ15w62Q7",
    "pycharm": {
     "name": "#%%\n"
    }
   },
   "outputs": [],
   "source": [
    "test_path = '../../../picasso_dataset/basis-data/shifted/test'"
   ]
  },
  {
   "cell_type": "code",
   "execution_count": 6,
   "metadata": {
    "colab": {
     "base_uri": "https://localhost:8080/"
    },
    "execution": {
     "iopub.execute_input": "2021-03-24T20:57:58.964653Z",
     "iopub.status.busy": "2021-03-24T20:57:58.964151Z",
     "iopub.status.idle": "2021-03-24T20:57:59.040406Z",
     "shell.execute_reply": "2021-03-24T20:57:59.039938Z"
    },
    "executionInfo": {
     "elapsed": 15267,
     "status": "ok",
     "timestamp": 1615579393916,
     "user": {
      "displayName": "Lisa Elli",
      "photoUrl": "",
      "userId": "06754712231658711937"
     },
     "user_tz": -60
    },
    "id": "n_l3PW-_62Q7",
    "outputId": "8db7a694-024d-4e83-d2d7-0c75b63f3eb9",
    "pycharm": {
     "name": "#%%\n"
    }
   },
   "outputs": [
    {
     "name": "stdout",
     "output_type": "stream",
     "text": [
      "Found 3000 images belonging to 2 classes.\n"
     ]
    }
   ],
   "source": [
    "test_batches = ImageDataGenerator(preprocessing_function=tf.keras.applications.vgg16.preprocess_input) \\\n",
    "    .flow_from_directory(directory=test_path, target_size=(224,224), classes=['no_face', 'face'], batch_size=10, shuffle=False)"
   ]
  },
  {
   "cell_type": "code",
   "execution_count": 7,
   "metadata": {
    "execution": {
     "iopub.execute_input": "2021-03-24T20:57:59.043250Z",
     "iopub.status.busy": "2021-03-24T20:57:59.042856Z",
     "iopub.status.idle": "2021-03-24T20:57:59.044912Z",
     "shell.execute_reply": "2021-03-24T20:57:59.044506Z"
    },
    "id": "SbBy_3JT62Q8",
    "pycharm": {
     "name": "#%%\n"
    }
   },
   "outputs": [],
   "source": [
    "assert test_batches.n == 3000\n",
    "assert test_batches.num_classes == 2"
   ]
  },
  {
   "cell_type": "markdown",
   "metadata": {
    "id": "ZJwZjSBg62RB",
    "pycharm": {
     "name": "#%% md\n"
    }
   },
   "source": [
    "### Loading the trained CNN"
   ]
  },
  {
   "cell_type": "code",
   "execution_count": 8,
   "metadata": {
    "colab": {
     "base_uri": "https://localhost:8080/"
    },
    "execution": {
     "iopub.execute_input": "2021-03-24T20:57:59.047625Z",
     "iopub.status.busy": "2021-03-24T20:57:59.047198Z",
     "iopub.status.idle": "2021-03-24T20:57:59.649378Z",
     "shell.execute_reply": "2021-03-24T20:57:59.649693Z"
    },
    "executionInfo": {
     "elapsed": 46,
     "status": "ok",
     "timestamp": 1615583415708,
     "user": {
      "displayName": "Lisa Elli",
      "photoUrl": "",
      "userId": "06754712231658711937"
     },
     "user_tz": -60
    },
    "id": "KfQRdJ2n62RC",
    "outputId": "0447f407-8758-4ab8-9acb-585653323105",
    "pycharm": {
     "name": "#%%\n"
    }
   },
   "outputs": [],
   "source": [
    "filename='../models/CNN-B-20E-15L-01.h5'\n",
    "loaded_model = load_model(filename)"
   ]
  },
  {
   "cell_type": "markdown",
   "metadata": {
    "id": "pXwZZiKy62RC",
    "pycharm": {
     "name": "#%% md\n"
    }
   },
   "source": [
    "### Accuracy and loss of the trained model"
   ]
  },
  {
   "cell_type": "code",
   "execution_count": 9,
   "metadata": {
    "colab": {
     "base_uri": "https://localhost:8080/"
    },
    "execution": {
     "iopub.execute_input": "2021-03-24T20:57:59.653179Z",
     "iopub.status.busy": "2021-03-24T20:57:59.652584Z",
     "iopub.status.idle": "2021-03-24T20:58:08.097129Z",
     "shell.execute_reply": "2021-03-24T20:58:08.096706Z"
    },
    "executionInfo": {
     "elapsed": 8624,
     "status": "ok",
     "timestamp": 1615583424302,
     "user": {
      "displayName": "Lisa Elli",
      "photoUrl": "",
      "userId": "06754712231658711937"
     },
     "user_tz": -60
    },
    "id": "_1_vTnWO62RC",
    "outputId": "98311fcd-35bf-4383-ff77-d1a1b62291f2",
    "pycharm": {
     "name": "#%%\n"
    }
   },
   "outputs": [
    {
     "name": "stdout",
     "output_type": "stream",
     "text": [
      "300/300 - 7s - loss: 0.6734 - accuracy: 0.8307\n",
      "Accuracy: 83.07%\n",
      "Loss: 67.34%\n"
     ]
    }
   ],
   "source": [
    "scores = loaded_model.evaluate(test_batches, verbose=2)\n",
    "print(\"Accuracy: %.2f%%\" % (scores[1]*100))\n",
    "print(\"Loss: %.2f%%\" % (scores[0]*100))"
   ]
  },
  {
   "cell_type": "markdown",
   "metadata": {
    "id": "-Dfs319f62RC"
   },
   "source": [
    "### Testing the CNN"
   ]
  },
  {
   "cell_type": "code",
   "execution_count": 10,
   "metadata": {
    "execution": {
     "iopub.execute_input": "2021-03-24T20:58:08.100796Z",
     "iopub.status.busy": "2021-03-24T20:58:08.100397Z",
     "iopub.status.idle": "2021-03-24T20:58:15.498999Z",
     "shell.execute_reply": "2021-03-24T20:58:15.498528Z"
    },
    "executionInfo": {
     "elapsed": 8234,
     "status": "ok",
     "timestamp": 1615586642347,
     "user": {
      "displayName": "Lisa Elli",
      "photoUrl": "",
      "userId": "06754712231658711937"
     },
     "user_tz": -60
    },
    "id": "cnM7Y7Au62RD",
    "pycharm": {
     "name": "#%%\n"
    }
   },
   "outputs": [],
   "source": [
    "predictions = loaded_model.predict(x=test_batches, steps=len(test_batches), verbose=0)"
   ]
  },
  {
   "cell_type": "markdown",
   "metadata": {
    "id": "R2kk-gQX62RE",
    "pycharm": {
     "name": "#%% md\n"
    }
   },
   "source": [
    "### Index of wrongly predicted pictures"
   ]
  },
  {
   "cell_type": "code",
   "execution_count": 11,
   "metadata": {
    "execution": {
     "iopub.execute_input": "2021-03-24T20:58:15.502854Z",
     "iopub.status.busy": "2021-03-24T20:58:15.502348Z",
     "iopub.status.idle": "2021-03-24T20:58:15.514741Z",
     "shell.execute_reply": "2021-03-24T20:58:15.515178Z"
    },
    "executionInfo": {
     "elapsed": 604,
     "status": "ok",
     "timestamp": 1615586643749,
     "user": {
      "displayName": "Lisa Elli",
      "photoUrl": "",
      "userId": "06754712231658711937"
     },
     "user_tz": -60
    },
    "id": "5Kt0jsFB62RE",
    "pycharm": {
     "name": "#%%\n"
    }
   },
   "outputs": [],
   "source": [
    "y_true=test_batches.classes\n",
    "y_pred=np.argmax(predictions, axis=-1)\n",
    "cm = confusion_matrix(y_true = y_true, y_pred = y_pred)"
   ]
  },
  {
   "cell_type": "code",
   "execution_count": 12,
   "metadata": {
    "colab": {
     "base_uri": "https://localhost:8080/"
    },
    "execution": {
     "iopub.execute_input": "2021-03-24T20:58:15.527715Z",
     "iopub.status.busy": "2021-03-24T20:58:15.527240Z",
     "iopub.status.idle": "2021-03-24T20:58:15.529895Z",
     "shell.execute_reply": "2021-03-24T20:58:15.529475Z"
    },
    "executionInfo": {
     "elapsed": 881,
     "status": "ok",
     "timestamp": 1615586646608,
     "user": {
      "displayName": "Lisa Elli",
      "photoUrl": "",
      "userId": "06754712231658711937"
     },
     "user_tz": -60
    },
    "id": "aSzFxBUy62RE",
    "outputId": "45c28aa2-5183-46c6-dc0a-901668a61137",
    "pycharm": {
     "name": "#%%\n"
    }
   },
   "outputs": [
    {
     "name": "stdout",
     "output_type": "stream",
     "text": [
      "Data from class 'face', that was wrongly predicted as 'no-face' [ 464 ] :\n",
      "[8003, 8004, 8005, 8007, 8009, 8011, 8012, 8013, 8014, 8022, 8024, 8025, 8028, 8029, 8031, 8032, 8034, 8035, 8038, 8040, 8042, 8043, 8045, 8047, 8048, 8051, 8053, 8054, 8056, 8060, 8061, 8062, 8063, 8064, 8066, 8069, 8071, 8072, 8073, 8076, 8078, 8079, 8080, 8081, 8083, 8084, 8086, 8092, 8096, 8099, 8102, 8103, 8104, 8107, 8108, 8109, 8110, 8112, 8113, 8114, 8117, 8118, 8119, 8121, 8122, 8123, 8124, 8125, 8126, 8128, 8129, 8133, 8134, 8136, 8137, 8138, 8139, 8142, 8143, 8144, 8145, 8146, 8148, 8149, 8152, 8155, 8156, 8157, 8158, 8159, 8160, 8163, 8165, 8166, 8167, 8169, 8170, 8174, 8175, 8177, 8178, 8179, 8184, 8185, 8187, 8188, 8190, 8191, 8192, 8193, 8194, 8197, 8203, 8204, 8206, 8207, 8210, 8211, 8212, 8215, 8216, 8217, 8218, 8219, 8220, 8221, 8223, 8228, 8229, 8231, 8234, 8235, 8237, 8240, 8241, 8242, 8243, 8244, 8246, 8247, 8248, 8249, 8250, 8251, 8252, 8253, 8254, 8255, 8256, 8257, 8260, 8262, 8263, 8265, 8269, 8270, 8272, 8274, 8276, 8277, 8278, 8280, 8281, 8284, 8285, 8287, 8288, 8289, 8293, 8294, 8297, 8299, 8300, 8303, 8304, 8306, 8307, 8308, 8309, 8310, 8311, 8312, 8313, 8314, 8316, 8317, 8318, 8320, 8324, 8325, 8326, 8327, 8330, 8331, 8334, 8336, 8337, 8338, 8339, 8340, 8343, 8346, 8348, 8349, 8350, 8355, 8358, 8359, 8362, 8363, 8367, 8369, 8371, 8372, 8374, 8375, 8376, 8377, 8378, 8380, 8381, 8382, 8383, 8385, 8386, 8391, 8396, 8397, 8398, 8399, 8400, 8401, 8402, 8403, 8406, 8407, 8409, 8410, 8411, 8413, 8416, 8417, 8418, 8419, 8420, 8421, 8422, 8424, 8427, 8431, 8432, 8436, 8438, 8439, 8440, 8446, 8447, 8449, 8451, 8452, 8453, 8454, 8455, 8456, 8458, 8459, 8460, 8466, 8467, 8468, 8469, 8470, 8473, 8476, 8477, 8479, 8480, 8481, 8482, 8483, 8486, 8487, 8488, 8490, 8492, 8496, 8497, 8498, 9002, 9004, 9005, 9010, 9015, 9016, 9018, 9019, 9020, 9021, 9023, 9024, 9029, 9037, 9038, 9041, 9042, 9046, 9049, 9052, 9055, 9059, 9060, 9061, 9062, 9066, 9068, 9069, 9070, 9072, 9076, 9082, 9083, 9084, 9085, 9088, 9090, 9091, 9094, 9095, 9096, 9100, 9104, 9105, 9109, 9111, 9115, 9120, 9121, 9125, 9127, 9132, 9139, 9140, 9144, 9146, 9148, 9149, 9152, 9158, 9161, 9162, 9164, 9169, 9174, 9179, 9180, 9182, 9183, 9184, 9185, 9186, 9191, 9192, 9198, 9201, 9207, 9209, 9214, 9215, 9216, 9219, 9220, 9224, 9226, 9229, 9230, 9244, 9246, 9248, 9252, 9253, 9257, 9262, 9273, 9278, 9282, 9284, 9285, 9289, 9290, 9293, 9294, 9301, 9302, 9306, 9310, 9318, 9323, 9324, 9327, 9329, 9330, 9332, 9333, 9335, 9338, 9339, 9348, 9357, 9360, 9363, 9368, 9369, 9371, 9372, 9375, 9377, 9380, 9382, 9385, 9386, 9388, 9396, 9398, 9400, 9409, 9410, 9412, 9414, 9417, 9420, 9423, 9427, 9431, 9432, 9438, 9440, 9441, 9442, 9445, 9449, 9452, 9453, 9454, 9458, 9459, 9461, 9462, 9467, 9470, 9472, 9473, 9474, 9476, 9477, 9479, 9482, 9489, 9490, 9491, 9492, 9494, 9498, 9499, 9500]\n",
      "----------------------------------------------------------------------------------------------\n",
      "Data from class 'no-face', that was wrongly predicted as 'face' [ 44 ] :\n",
      "[8007, 8124, 8148, 8180, 8215, 8217, 8237, 8264, 8288, 8292, 8299, 8312, 8401, 8487, 9009, 9014, 9031, 9039, 9061, 9067, 9083, 9088, 9106, 9187, 9219, 9223, 9250, 9270, 9272, 9295, 9303, 9314, 9319, 9329, 9345, 9350, 9355, 9370, 9372, 9401, 9402, 9481, 9483, 9491]\n"
     ]
    }
   ],
   "source": [
    "face_but_predicted_no_face=[]\n",
    "no_face_but_predicted_face=[]\n",
    "\n",
    "for i in range(len(predictions)):\n",
    "        if y_true[i] != y_pred[i]:\n",
    "            if y_true[i] == 1:\n",
    "                face_but_predicted_no_face.append(i+8001-1500) #Index of file on disk\n",
    "            else:\n",
    "                no_face_but_predicted_face.append(i+8001) #Index of file on disk\n",
    "\n",
    "print(\"Data from class 'face', that was wrongly predicted as 'no-face' [\", len(face_but_predicted_no_face), \"] :\")\n",
    "print(face_but_predicted_no_face)\n",
    "print(\"----------------------------------------------------------------------------------------------\")\n",
    "print(\"Data from class 'no-face', that was wrongly predicted as 'face' [\", len(no_face_but_predicted_face), \"] :\")\n",
    "print(no_face_but_predicted_face)"
   ]
  },
  {
   "cell_type": "markdown",
   "metadata": {
    "id": "6eTe3tG762RE",
    "pycharm": {
     "name": "#%% md\n"
    }
   },
   "source": [
    "### Confusion matrix"
   ]
  },
  {
   "cell_type": "code",
   "execution_count": 13,
   "metadata": {
    "execution": {
     "iopub.execute_input": "2021-03-24T20:58:15.535695Z",
     "iopub.status.busy": "2021-03-24T20:58:15.535246Z",
     "iopub.status.idle": "2021-03-24T20:58:15.537339Z",
     "shell.execute_reply": "2021-03-24T20:58:15.536911Z"
    },
    "executionInfo": {
     "elapsed": 902,
     "status": "ok",
     "timestamp": 1615586652173,
     "user": {
      "displayName": "Lisa Elli",
      "photoUrl": "",
      "userId": "06754712231658711937"
     },
     "user_tz": -60
    },
    "id": "TXVbugwa62RE",
    "pycharm": {
     "name": "#%%\n"
    }
   },
   "outputs": [],
   "source": [
    "def plot_confusion_matrix(cm, classes,\n",
    "                          normalize=False,\n",
    "                          title='Confusion matrix',\n",
    "                          cmap=plt.cm.Blues):\n",
    "\n",
    "    plt.imshow(cm, interpolation='nearest', cmap=cmap)\n",
    "    plt.title(title)\n",
    "    plt.colorbar()\n",
    "    tick_marks = np.arange(len(classes))\n",
    "    plt.xticks(tick_marks, classes, rotation=45)\n",
    "    plt.yticks(tick_marks, classes)\n",
    "\n",
    "    if normalize:\n",
    "        cm = cm.astype('float') / cm.sum(axis=1)[:, np.newaxis]\n",
    "        print(\"Normalized confusion matrix\")\n",
    "    else:\n",
    "        print('Confusion matrix, without normalization')\n",
    "\n",
    "    print(cm)\n",
    "\n",
    "    thresh = cm.max() / 2.\n",
    "    for i, j in itertools.product(range(cm.shape[0]), range(cm.shape[1])):\n",
    "        plt.text(j, i, cm[i, j],\n",
    "                 horizontalalignment=\"center\",\n",
    "                 color=\"white\" if cm[i, j] > thresh else \"black\")\n",
    "\n",
    "    plt.tight_layout()\n",
    "    plt.ylabel('True label')\n",
    "    plt.xlabel('Predicted label')"
   ]
  },
  {
   "cell_type": "code",
   "execution_count": 14,
   "metadata": {
    "colab": {
     "base_uri": "https://localhost:8080/"
    },
    "execution": {
     "iopub.execute_input": "2021-03-24T20:58:15.542122Z",
     "iopub.status.busy": "2021-03-24T20:58:15.541694Z",
     "iopub.status.idle": "2021-03-24T20:58:15.543814Z",
     "shell.execute_reply": "2021-03-24T20:58:15.544213Z"
    },
    "executionInfo": {
     "elapsed": 909,
     "status": "ok",
     "timestamp": 1615586655343,
     "user": {
      "displayName": "Lisa Elli",
      "photoUrl": "",
      "userId": "06754712231658711937"
     },
     "user_tz": -60
    },
    "id": "sP3ndK5o62RF",
    "outputId": "74d415b9-1346-4b60-8a66-1899e30acb23",
    "pycharm": {
     "name": "#%%\n"
    }
   },
   "outputs": [
    {
     "data": {
      "text/plain": [
       "{'no_face': 0, 'face': 1}"
      ]
     },
     "execution_count": 1,
     "metadata": {},
     "output_type": "execute_result"
    }
   ],
   "source": [
    "test_batches.class_indices"
   ]
  },
  {
   "cell_type": "code",
   "execution_count": 15,
   "metadata": {
    "colab": {
     "base_uri": "https://localhost:8080/",
     "height": 366
    },
    "execution": {
     "iopub.execute_input": "2021-03-24T20:58:15.582750Z",
     "iopub.status.busy": "2021-03-24T20:58:15.577557Z",
     "iopub.status.idle": "2021-03-24T20:58:15.703268Z",
     "shell.execute_reply": "2021-03-24T20:58:15.702704Z"
    },
    "executionInfo": {
     "elapsed": 1444,
     "status": "ok",
     "timestamp": 1615586660010,
     "user": {
      "displayName": "Lisa Elli",
      "photoUrl": "",
      "userId": "06754712231658711937"
     },
     "user_tz": -60
    },
    "id": "_iHhK36e62RF",
    "outputId": "e4096568-5620-44a6-8e7f-ac906560d917",
    "pycharm": {
     "name": "#%%\n"
    }
   },
   "outputs": [
    {
     "name": "stdout",
     "output_type": "stream",
     "text": [
      "Confusion matrix, without normalization\n",
      "[[1456   44]\n",
      " [ 464 1036]]\n"
     ]
    },
    {
     "data": {
      "image/png": "[encoded data removed]",
      "text/plain": [
       "<Figure size 432x288 with 2 Axes>"
      ]
     },
     "metadata": {
      "needs_background": "light"
     },
     "output_type": "display_data"
    }
   ],
   "source": [
    "cm_plot_labels = ['no_face','face']\n",
    "plot_confusion_matrix(cm=cm, classes=cm_plot_labels, title='Confusion Matrix')\n"
   ]
  }
 ],
 "metadata": {
  "kernelspec": {
   "display_name": "Python 3",
   "language": "python",
   "name": "python3"
  },
  "language_info": {
   "codemirror_mode": {
    "name": "ipython",
    "version": 3
   },
   "file_extension": ".py",
   "mimetype": "text/x-python",
   "name": "python",
   "nbconvert_exporter": "python",
   "pygments_lexer": "ipython3",
   "version": "3.8.5"
  }
 },
 "nbformat": 4,
 "nbformat_minor": 1
}
