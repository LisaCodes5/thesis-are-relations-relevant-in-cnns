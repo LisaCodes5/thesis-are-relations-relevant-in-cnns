{
 "cells": [
  {
   "cell_type": "markdown",
   "metadata": {
    "id": "O82TH2Vr62Qi"
   },
   "source": [
    "# Are Relations Relevant in CNNs? *A Study Based on a Facial Dataset*"
   ]
  },
  {
   "cell_type": "markdown",
   "metadata": {
    "id": "ehl8qgCC62Qx"
   },
   "source": [
    "## Testing Baseline CNN *(30 Epochs - 13 Layers)*"
   ]
  },
  {
   "cell_type": "markdown",
   "metadata": {
    "id": "3clj-ony62Q0",
    "pycharm": {
     "name": "#%% md\n"
    }
   },
   "source": [
    "### Imports, Seed, GPU integration"
   ]
  },
  {
   "cell_type": "code",
   "execution_count": 1,
   "metadata": {
    "execution": {
     "iopub.execute_input": "2021-03-24T20:58:38.968573Z",
     "iopub.status.busy": "2021-03-24T20:58:38.968101Z",
     "iopub.status.idle": "2021-03-24T20:58:40.200597Z",
     "shell.execute_reply": "2021-03-24T20:58:40.200189Z"
    },
    "id": "cnCaBFfp62Q2",
    "pycharm": {
     "name": "#%%\n"
    }
   },
   "outputs": [],
   "source": [
    "import numpy as np\n",
    "import random\n",
    "import tensorflow as tf"
   ]
  },
  {
   "cell_type": "code",
   "execution_count": 2,
   "metadata": {
    "execution": {
     "iopub.execute_input": "2021-03-24T20:58:40.203818Z",
     "iopub.status.busy": "2021-03-24T20:58:40.203416Z",
     "iopub.status.idle": "2021-03-24T20:58:40.205656Z",
     "shell.execute_reply": "2021-03-24T20:58:40.205261Z"
    },
    "id": "jsw3DKWp62Q4",
    "pycharm": {
     "name": "#%%\n"
    }
   },
   "outputs": [],
   "source": [
    "# Seeds for better reproducibility\n",
    "seed = 42\n",
    "np.random.seed(seed)\n",
    "random.seed(seed)\n",
    "tf.random.set_seed(seed)"
   ]
  },
  {
   "cell_type": "code",
   "execution_count": 3,
   "metadata": {
    "execution": {
     "iopub.execute_input": "2021-03-24T20:58:40.209588Z",
     "iopub.status.busy": "2021-03-24T20:58:40.209197Z",
     "iopub.status.idle": "2021-03-24T20:58:40.705678Z",
     "shell.execute_reply": "2021-03-24T20:58:40.705310Z"
    }
   },
   "outputs": [],
   "source": [
    "from tensorflow.keras.models import load_model\n",
    "from tensorflow.keras.preprocessing.image import ImageDataGenerator\n",
    "from sklearn.metrics import confusion_matrix\n",
    "import itertools\n",
    "import matplotlib.pyplot as plt\n",
    "import warnings\n",
    "warnings.simplefilter(action='ignore', category=FutureWarning)\n",
    "%matplotlib inline"
   ]
  },
  {
   "cell_type": "code",
   "execution_count": 4,
   "metadata": {
    "colab": {
     "base_uri": "https://localhost:8080/"
    },
    "execution": {
     "iopub.execute_input": "2021-03-24T20:58:40.750485Z",
     "iopub.status.busy": "2021-03-24T20:58:40.750074Z",
     "iopub.status.idle": "2021-03-24T20:58:40.752240Z",
     "shell.execute_reply": "2021-03-24T20:58:40.752646Z"
    },
    "executionInfo": {
     "elapsed": 19631,
     "status": "ok",
     "timestamp": 1615579393251,
     "user": {
      "displayName": "Lisa Elli",
      "photoUrl": "",
      "userId": "06754712231658711937"
     },
     "user_tz": -60
    },
    "id": "4vE5F4rX62Q4",
    "outputId": "bff035e6-71fc-433f-d1fd-7e794a4724fc",
    "pycharm": {
     "name": "#%%\n"
    }
   },
   "outputs": [
    {
     "name": "stdout",
     "output_type": "stream",
     "text": [
      "Num GPUs Available:  1\n"
     ]
    }
   ],
   "source": [
    "physical_devices = tf.config.experimental.list_physical_devices('GPU')\n",
    "print(\"Num GPUs Available: \", len(physical_devices))\n",
    "tf.config.experimental.set_memory_growth(physical_devices[0], True)"
   ]
  },
  {
   "cell_type": "markdown",
   "metadata": {
    "id": "wmGEalmo62Q7"
   },
   "source": [
    "### Data preparation"
   ]
  },
  {
   "cell_type": "code",
   "execution_count": 5,
   "metadata": {
    "execution": {
     "iopub.execute_input": "2021-03-24T20:58:40.755444Z",
     "iopub.status.busy": "2021-03-24T20:58:40.755013Z",
     "iopub.status.idle": "2021-03-24T20:58:40.757217Z",
     "shell.execute_reply": "2021-03-24T20:58:40.756807Z"
    },
    "id": "FdYjQ15w62Q7",
    "pycharm": {
     "name": "#%%\n"
    }
   },
   "outputs": [],
   "source": [
    "test_path = '../../../picasso_dataset/basis-data/shifted/test'"
   ]
  },
  {
   "cell_type": "code",
   "execution_count": 6,
   "metadata": {
    "colab": {
     "base_uri": "https://localhost:8080/"
    },
    "execution": {
     "iopub.execute_input": "2021-03-24T20:58:40.760952Z",
     "iopub.status.busy": "2021-03-24T20:58:40.760469Z",
     "iopub.status.idle": "2021-03-24T20:58:40.835792Z",
     "shell.execute_reply": "2021-03-24T20:58:40.835317Z"
    },
    "executionInfo": {
     "elapsed": 15267,
     "status": "ok",
     "timestamp": 1615579393916,
     "user": {
      "displayName": "Lisa Elli",
      "photoUrl": "",
      "userId": "06754712231658711937"
     },
     "user_tz": -60
    },
    "id": "n_l3PW-_62Q7",
    "outputId": "8db7a694-024d-4e83-d2d7-0c75b63f3eb9",
    "pycharm": {
     "name": "#%%\n"
    }
   },
   "outputs": [
    {
     "name": "stdout",
     "output_type": "stream",
     "text": [
      "Found 3000 images belonging to 2 classes.\n"
     ]
    }
   ],
   "source": [
    "test_batches = ImageDataGenerator(preprocessing_function=tf.keras.applications.vgg16.preprocess_input) \\\n",
    "    .flow_from_directory(directory=test_path, target_size=(224,224), classes=['no_face', 'face'], batch_size=10, shuffle=False)"
   ]
  },
  {
   "cell_type": "code",
   "execution_count": 7,
   "metadata": {
    "execution": {
     "iopub.execute_input": "2021-03-24T20:58:40.838420Z",
     "iopub.status.busy": "2021-03-24T20:58:40.838049Z",
     "iopub.status.idle": "2021-03-24T20:58:40.839735Z",
     "shell.execute_reply": "2021-03-24T20:58:40.840122Z"
    },
    "id": "SbBy_3JT62Q8",
    "pycharm": {
     "name": "#%%\n"
    }
   },
   "outputs": [],
   "source": [
    "assert test_batches.n == 3000\n",
    "assert test_batches.num_classes == 2"
   ]
  },
  {
   "cell_type": "markdown",
   "metadata": {
    "id": "kgM-9Fbg62Q-"
   },
   "source": [
    "### Loading the trained CNN"
   ]
  },
  {
   "cell_type": "code",
   "execution_count": 8,
   "metadata": {
    "execution": {
     "iopub.execute_input": "2021-03-24T20:58:40.843820Z",
     "iopub.status.busy": "2021-03-24T20:58:40.843402Z",
     "iopub.status.idle": "2021-03-24T20:58:41.423488Z",
     "shell.execute_reply": "2021-03-24T20:58:41.423039Z"
    },
    "id": "Cdg3Plko62Q-",
    "pycharm": {
     "name": "#%%\n"
    }
   },
   "outputs": [],
   "source": [
    "filename='../models/CNN-B-30E-13L-01.h5'\n",
    "loaded_model = load_model(filename)"
   ]
  },
  {
   "cell_type": "markdown",
   "metadata": {
    "colab": {
     "base_uri": "https://localhost:8080/"
    },
    "executionInfo": {
     "elapsed": 5474,
     "status": "ok",
     "timestamp": 1615579399410,
     "user": {
      "displayName": "Lisa Elli",
      "photoUrl": "",
      "userId": "06754712231658711937"
     },
     "user_tz": -60
    },
    "id": "wtTJTaWatrgn",
    "outputId": "5e22cecc-bb59-456b-ceaa-d3986077141c",
    "pycharm": {
     "name": "#%% md\n"
    }
   },
   "source": [
    "### Accuracy and loss of the trained model"
   ]
  },
  {
   "cell_type": "code",
   "execution_count": 9,
   "metadata": {
    "execution": {
     "iopub.execute_input": "2021-03-24T20:58:41.426897Z",
     "iopub.status.busy": "2021-03-24T20:58:41.426469Z",
     "iopub.status.idle": "2021-03-24T20:58:49.801328Z",
     "shell.execute_reply": "2021-03-24T20:58:49.801720Z"
    },
    "id": "HYmld1gj62Q_",
    "pycharm": {
     "name": "#%%\n"
    }
   },
   "outputs": [
    {
     "name": "stdout",
     "output_type": "stream",
     "text": [
      "300/300 - 7s - loss: 2.3982 - accuracy: 0.6867\n",
      "Accuracy: 68.67%\n",
      "Loss: 239.82%\n"
     ]
    }
   ],
   "source": [
    "scores = loaded_model.evaluate(test_batches, verbose=2)\n",
    "print(\"Accuracy: %.2f%%\" % (scores[1]*100))\n",
    "print(\"Loss: %.2f%%\" % (scores[0]*100))"
   ]
  },
  {
   "cell_type": "markdown",
   "metadata": {
    "colab": {
     "base_uri": "https://localhost:8080/"
    },
    "executionInfo": {
     "elapsed": 1444054,
     "status": "ok",
     "timestamp": 1615583415200,
     "user": {
      "displayName": "Lisa Elli",
      "photoUrl": "",
      "userId": "06754712231658711937"
     },
     "user_tz": -60
    },
    "id": "TY7tN3BE62RB",
    "outputId": "fe3f86f2-25c7-4d7b-c4cf-5b4d4a8e0ebe",
    "pycharm": {
     "name": "#%% md\n"
    }
   },
   "source": [
    "### Testing the CNN"
   ]
  },
  {
   "cell_type": "code",
   "execution_count": 10,
   "metadata": {
    "execution": {
     "iopub.execute_input": "2021-03-24T20:58:49.805590Z",
     "iopub.status.busy": "2021-03-24T20:58:49.805180Z",
     "iopub.status.idle": "2021-03-24T20:58:57.400428Z",
     "shell.execute_reply": "2021-03-24T20:58:57.400827Z"
    },
    "id": "dgDtbkcv62RB",
    "pycharm": {
     "name": "#%%\n"
    }
   },
   "outputs": [],
   "source": [
    "predictions = loaded_model.predict(x=test_batches, steps=len(test_batches), verbose=0)"
   ]
  },
  {
   "cell_type": "markdown",
   "metadata": {
    "pycharm": {
     "name": "#%% md\n"
    }
   },
   "source": [
    "### Index of wrongly predicted pictures"
   ]
  },
  {
   "cell_type": "code",
   "execution_count": 11,
   "metadata": {
    "colab": {
     "base_uri": "https://localhost:8080/"
    },
    "execution": {
     "iopub.execute_input": "2021-03-24T20:58:57.404513Z",
     "iopub.status.busy": "2021-03-24T20:58:57.404112Z",
     "iopub.status.idle": "2021-03-24T20:58:57.414764Z",
     "shell.execute_reply": "2021-03-24T20:58:57.414324Z"
    },
    "executionInfo": {
     "elapsed": 36,
     "status": "ok",
     "timestamp": 1615583415203,
     "user": {
      "displayName": "Lisa Elli",
      "photoUrl": "",
      "userId": "06754712231658711937"
     },
     "user_tz": -60
    },
    "id": "BUVqnVNn62RB",
    "outputId": "ac9e5b05-f3b2-4559-9c59-1e518fa52302",
    "pycharm": {
     "name": "#%%\n"
    }
   },
   "outputs": [],
   "source": [
    "y_true=test_batches.classes\n",
    "y_pred=np.argmax(predictions, axis=-1)\n",
    "cm = confusion_matrix(y_true = y_true, y_pred = y_pred)"
   ]
  },
  {
   "cell_type": "code",
   "execution_count": 12,
   "metadata": {
    "execution": {
     "iopub.execute_input": "2021-03-24T20:58:57.426960Z",
     "iopub.status.busy": "2021-03-24T20:58:57.426521Z",
     "iopub.status.idle": "2021-03-24T20:58:57.429481Z",
     "shell.execute_reply": "2021-03-24T20:58:57.428965Z"
    },
    "id": "ZJwZjSBg62RB",
    "pycharm": {
     "name": "#%%\n"
    }
   },
   "outputs": [
    {
     "name": "stdout",
     "output_type": "stream",
     "text": [
      "Data from class 'face', that was wrongly predicted as 'no-face' [ 810 ] :\n",
      "[8001, 8003, 8004, 8005, 8006, 8007, 8008, 8009, 8010, 8011, 8012, 8013, 8014, 8015, 8016, 8018, 8022, 8024, 8025, 8027, 8028, 8029, 8030, 8031, 8032, 8033, 8034, 8035, 8036, 8038, 8040, 8042, 8043, 8045, 8046, 8047, 8048, 8049, 8051, 8052, 8053, 8055, 8056, 8057, 8058, 8060, 8061, 8062, 8063, 8064, 8065, 8066, 8067, 8069, 8070, 8072, 8073, 8074, 8076, 8078, 8079, 8080, 8081, 8082, 8083, 8084, 8086, 8087, 8090, 8092, 8094, 8096, 8097, 8098, 8099, 8100, 8102, 8103, 8104, 8105, 8106, 8107, 8108, 8109, 8110, 8111, 8112, 8113, 8114, 8115, 8117, 8118, 8119, 8121, 8122, 8123, 8124, 8125, 8126, 8128, 8129, 8130, 8131, 8132, 8133, 8134, 8135, 8136, 8137, 8138, 8139, 8140, 8141, 8142, 8143, 8144, 8145, 8146, 8148, 8149, 8152, 8154, 8155, 8156, 8157, 8158, 8159, 8160, 8161, 8162, 8163, 8164, 8165, 8166, 8167, 8169, 8170, 8171, 8173, 8174, 8175, 8176, 8177, 8178, 8179, 8180, 8182, 8183, 8184, 8185, 8186, 8187, 8188, 8189, 8190, 8191, 8192, 8193, 8194, 8195, 8196, 8197, 8198, 8199, 8201, 8203, 8204, 8206, 8207, 8208, 8209, 8210, 8211, 8213, 8215, 8216, 8217, 8218, 8219, 8220, 8223, 8224, 8227, 8228, 8229, 8230, 8231, 8233, 8234, 8235, 8236, 8237, 8238, 8240, 8241, 8242, 8243, 8244, 8246, 8247, 8248, 8249, 8250, 8251, 8252, 8253, 8254, 8255, 8256, 8257, 8259, 8260, 8261, 8262, 8263, 8264, 8265, 8266, 8267, 8268, 8269, 8270, 8271, 8272, 8276, 8277, 8278, 8279, 8280, 8281, 8282, 8283, 8284, 8285, 8286, 8287, 8288, 8289, 8290, 8293, 8294, 8296, 8297, 8298, 8300, 8301, 8302, 8303, 8304, 8305, 8306, 8307, 8308, 8309, 8310, 8311, 8312, 8313, 8314, 8315, 8316, 8317, 8318, 8319, 8320, 8321, 8322, 8323, 8324, 8325, 8326, 8327, 8329, 8330, 8331, 8332, 8333, 8334, 8336, 8337, 8338, 8339, 8340, 8341, 8342, 8343, 8345, 8346, 8347, 8348, 8349, 8350, 8352, 8354, 8355, 8356, 8358, 8359, 8360, 8362, 8363, 8366, 8367, 8368, 8369, 8370, 8371, 8372, 8373, 8374, 8375, 8376, 8378, 8380, 8381, 8382, 8383, 8385, 8386, 8387, 8390, 8391, 8392, 8393, 8394, 8395, 8396, 8397, 8398, 8399, 8400, 8401, 8402, 8403, 8404, 8405, 8406, 8407, 8408, 8409, 8410, 8411, 8413, 8415, 8416, 8417, 8418, 8419, 8420, 8421, 8422, 8423, 8424, 8426, 8427, 8428, 8431, 8432, 8433, 8436, 8438, 8439, 8440, 8442, 8443, 8444, 8445, 8446, 8447, 8448, 8449, 8450, 8451, 8452, 8453, 8454, 8455, 8456, 8457, 8458, 8459, 8460, 8461, 8463, 8464, 8466, 8467, 8468, 8469, 8470, 8473, 8475, 8476, 8477, 8478, 8479, 8480, 8481, 8482, 8484, 8485, 8486, 8487, 8488, 8489, 8490, 8491, 8492, 8496, 8497, 8498, 9001, 9002, 9004, 9005, 9006, 9007, 9009, 9010, 9011, 9013, 9014, 9015, 9016, 9018, 9019, 9020, 9021, 9023, 9024, 9025, 9026, 9027, 9028, 9029, 9031, 9033, 9034, 9035, 9036, 9037, 9038, 9039, 9040, 9041, 9042, 9044, 9046, 9048, 9049, 9050, 9051, 9053, 9054, 9055, 9056, 9057, 9059, 9060, 9061, 9062, 9064, 9065, 9066, 9067, 9068, 9069, 9070, 9071, 9072, 9073, 9075, 9076, 9078, 9079, 9080, 9081, 9082, 9083, 9084, 9085, 9086, 9088, 9089, 9090, 9091, 9092, 9094, 9095, 9096, 9097, 9100, 9102, 9104, 9105, 9106, 9109, 9110, 9111, 9112, 9115, 9116, 9117, 9119, 9120, 9121, 9122, 9123, 9124, 9125, 9126, 9127, 9128, 9129, 9130, 9132, 9133, 9134, 9135, 9136, 9137, 9139, 9140, 9142, 9144, 9145, 9146, 9148, 9149, 9150, 9151, 9152, 9154, 9156, 9157, 9158, 9159, 9160, 9161, 9162, 9164, 9165, 9166, 9167, 9168, 9169, 9171, 9172, 9173, 9174, 9177, 9179, 9180, 9181, 9182, 9183, 9184, 9185, 9186, 9188, 9189, 9190, 9191, 9192, 9193, 9194, 9196, 9198, 9199, 9201, 9202, 9203, 9205, 9206, 9207, 9208, 9209, 9210, 9212, 9214, 9215, 9216, 9217, 9219, 9220, 9221, 9222, 9223, 9224, 9225, 9226, 9227, 9228, 9229, 9230, 9233, 9234, 9235, 9237, 9238, 9239, 9240, 9241, 9243, 9244, 9245, 9246, 9247, 9248, 9249, 9251, 9252, 9253, 9254, 9255, 9256, 9257, 9258, 9259, 9260, 9261, 9262, 9263, 9265, 9266, 9267, 9269, 9272, 9273, 9277, 9278, 9279, 9280, 9281, 9282, 9283, 9284, 9285, 9286, 9288, 9289, 9290, 9291, 9292, 9293, 9294, 9295, 9297, 9298, 9299, 9301, 9302, 9303, 9305, 9306, 9308, 9309, 9310, 9311, 9312, 9313, 9314, 9316, 9318, 9321, 9323, 9324, 9325, 9326, 9327, 9328, 9329, 9330, 9332, 9333, 9335, 9337, 9338, 9339, 9340, 9341, 9342, 9343, 9344, 9345, 9350, 9351, 9352, 9353, 9354, 9356, 9357, 9359, 9360, 9361, 9362, 9363, 9364, 9365, 9366, 9367, 9368, 9369, 9370, 9371, 9372, 9373, 9375, 9376, 9377, 9379, 9380, 9381, 9382, 9384, 9385, 9386, 9388, 9389, 9390, 9392, 9394, 9395, 9396, 9397, 9398, 9400, 9403, 9404, 9405, 9407, 9409, 9410, 9412, 9413, 9414, 9415, 9416, 9417, 9420, 9421, 9422, 9423, 9425, 9426, 9427, 9429, 9430, 9431, 9432, 9433, 9434, 9435, 9436, 9437, 9438, 9439, 9440, 9441, 9442, 9443, 9444, 9445, 9447, 9449, 9451, 9452, 9453, 9454, 9455, 9456, 9458, 9459, 9460, 9461, 9462, 9463, 9464, 9465, 9466, 9467, 9468, 9469, 9470, 9471, 9472, 9473, 9474, 9476, 9477, 9478, 9479, 9480, 9481, 9482, 9483, 9485, 9486, 9487, 9489, 9490, 9491, 9492, 9493, 9494, 9496, 9497, 9498, 9499, 9500]\n",
      "----------------------------------------------------------------------------------------------\n",
      "Data from class 'no-face', that was wrongly predicted as 'face' [ 130 ] :\n",
      "[8007, 8124, 8125, 8148, 8157, 8177, 8180, 8193, 8215, 8217, 8283, 8288, 8292, 8294, 8312, 8346, 8387, 8401, 8413, 8444, 8445, 8487, 8498, 9001, 9002, 9007, 9009, 9010, 9012, 9015, 9016, 9024, 9026, 9030, 9031, 9034, 9039, 9047, 9049, 9058, 9061, 9064, 9067, 9079, 9083, 9088, 9104, 9106, 9121, 9124, 9126, 9140, 9144, 9146, 9149, 9150, 9151, 9152, 9153, 9167, 9172, 9173, 9180, 9183, 9185, 9193, 9202, 9216, 9219, 9220, 9223, 9224, 9225, 9249, 9250, 9256, 9266, 9267, 9269, 9270, 9271, 9272, 9276, 9287, 9295, 9299, 9303, 9308, 9314, 9318, 9319, 9321, 9322, 9329, 9331, 9345, 9348, 9350, 9355, 9357, 9363, 9369, 9370, 9372, 9383, 9384, 9385, 9393, 9395, 9401, 9402, 9411, 9421, 9423, 9425, 9431, 9442, 9444, 9445, 9453, 9455, 9461, 9480, 9481, 9483, 9491, 9492, 9494, 9495, 9497]\n"
     ]
    }
   ],
   "source": [
    "face_but_predicted_no_face=[]\n",
    "no_face_but_predicted_face=[]\n",
    "\n",
    "for i in range(len(predictions)):\n",
    "        if y_true[i] != y_pred[i]:\n",
    "            if y_true[i] == 1:\n",
    "                face_but_predicted_no_face.append(i+8001-1500) #Index of file on disk\n",
    "            else:\n",
    "                no_face_but_predicted_face.append(i+8001) #Index of file on disk\n",
    "\n",
    "print(\"Data from class 'face', that was wrongly predicted as 'no-face' [\", len(face_but_predicted_no_face), \"] :\")\n",
    "print(face_but_predicted_no_face)\n",
    "print(\"----------------------------------------------------------------------------------------------\")\n",
    "print(\"Data from class 'no-face', that was wrongly predicted as 'face' [\", len(no_face_but_predicted_face), \"] :\")\n",
    "print(no_face_but_predicted_face)"
   ]
  },
  {
   "cell_type": "markdown",
   "metadata": {
    "colab": {
     "base_uri": "https://localhost:8080/"
    },
    "executionInfo": {
     "elapsed": 46,
     "status": "ok",
     "timestamp": 1615583415708,
     "user": {
      "displayName": "Lisa Elli",
      "photoUrl": "",
      "userId": "06754712231658711937"
     },
     "user_tz": -60
    },
    "id": "KfQRdJ2n62RC",
    "outputId": "0447f407-8758-4ab8-9acb-585653323105",
    "pycharm": {
     "name": "#%% md\n"
    }
   },
   "source": [
    "### Confusion matrix"
   ]
  },
  {
   "cell_type": "code",
   "execution_count": 13,
   "metadata": {
    "execution": {
     "iopub.execute_input": "2021-03-24T20:58:57.434848Z",
     "iopub.status.busy": "2021-03-24T20:58:57.434439Z",
     "iopub.status.idle": "2021-03-24T20:58:57.436463Z",
     "shell.execute_reply": "2021-03-24T20:58:57.436038Z"
    }
   },
   "outputs": [],
   "source": [
    "def plot_confusion_matrix(cm, classes,\n",
    "                          normalize=False,\n",
    "                          title='Confusion matrix',\n",
    "                          cmap=plt.cm.Blues):\n",
    "\n",
    "    plt.imshow(cm, interpolation='nearest', cmap=cmap)\n",
    "    plt.title(title)\n",
    "    plt.colorbar()\n",
    "    tick_marks = np.arange(len(classes))\n",
    "    plt.xticks(tick_marks, classes, rotation=45)\n",
    "    plt.yticks(tick_marks, classes)\n",
    "\n",
    "    if normalize:\n",
    "        cm = cm.astype('float') / cm.sum(axis=1)[:, np.newaxis]\n",
    "        print(\"Normalized confusion matrix\")\n",
    "    else:\n",
    "        print('Confusion matrix, without normalization')\n",
    "\n",
    "    print(cm)\n",
    "\n",
    "    thresh = cm.max() / 2.\n",
    "    for i, j in itertools.product(range(cm.shape[0]), range(cm.shape[1])):\n",
    "        plt.text(j, i, cm[i, j],\n",
    "                 horizontalalignment=\"center\",\n",
    "                 color=\"white\" if cm[i, j] > thresh else \"black\")\n",
    "\n",
    "    plt.tight_layout()\n",
    "    plt.ylabel('True label')\n",
    "    plt.xlabel('Predicted label')"
   ]
  },
  {
   "cell_type": "code",
   "execution_count": 14,
   "metadata": {
    "execution": {
     "iopub.execute_input": "2021-03-24T20:58:57.441104Z",
     "iopub.status.busy": "2021-03-24T20:58:57.440720Z",
     "iopub.status.idle": "2021-03-24T20:58:57.445426Z",
     "shell.execute_reply": "2021-03-24T20:58:57.445009Z"
    },
    "id": "pXwZZiKy62RC",
    "pycharm": {
     "name": "#%%\n"
    }
   },
   "outputs": [
    {
     "data": {
      "text/plain": [
       "{'no_face': 0, 'face': 1}"
      ]
     },
     "execution_count": 1,
     "metadata": {},
     "output_type": "execute_result"
    }
   ],
   "source": [
    "test_batches.class_indices"
   ]
  },
  {
   "cell_type": "code",
   "execution_count": 15,
   "metadata": {
    "colab": {
     "base_uri": "https://localhost:8080/"
    },
    "execution": {
     "iopub.execute_input": "2021-03-24T20:58:57.482965Z",
     "iopub.status.busy": "2021-03-24T20:58:57.477642Z",
     "iopub.status.idle": "2021-03-24T20:58:57.601965Z",
     "shell.execute_reply": "2021-03-24T20:58:57.602455Z"
    },
    "executionInfo": {
     "elapsed": 8624,
     "status": "ok",
     "timestamp": 1615583424302,
     "user": {
      "displayName": "Lisa Elli",
      "photoUrl": "",
      "userId": "06754712231658711937"
     },
     "user_tz": -60
    },
    "id": "_1_vTnWO62RC",
    "outputId": "98311fcd-35bf-4383-ff77-d1a1b62291f2",
    "pycharm": {
     "name": "#%%\n"
    }
   },
   "outputs": [
    {
     "name": "stdout",
     "output_type": "stream",
     "text": [
      "Confusion matrix, without normalization\n",
      "[[1370  130]\n",
      " [ 810  690]]\n"
     ]
    },
    {
     "data": {
      "image/png": "[encoded data removed]",
      "text/plain": [
       "<Figure size 432x288 with 2 Axes>"
      ]
     },
     "metadata": {
      "needs_background": "light"
     },
     "output_type": "display_data"
    }
   ],
   "source": [
    "cm_plot_labels = ['no_face','face']\n",
    "plot_confusion_matrix(cm=cm, classes=cm_plot_labels, title='Confusion Matrix')\n"
   ]
  }
 ],
 "metadata": {
  "kernelspec": {
   "display_name": "Python 3",
   "language": "python",
   "name": "python3"
  },
  "language_info": {
   "codemirror_mode": {
    "name": "ipython",
    "version": 3
   },
   "file_extension": ".py",
   "mimetype": "text/x-python",
   "name": "python",
   "nbconvert_exporter": "python",
   "pygments_lexer": "ipython3",
   "version": "3.8.5"
  }
 },
 "nbformat": 4,
 "nbformat_minor": 1
}
