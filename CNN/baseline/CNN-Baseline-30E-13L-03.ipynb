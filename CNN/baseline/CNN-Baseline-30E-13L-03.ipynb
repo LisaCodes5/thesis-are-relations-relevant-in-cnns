{
 "cells": [
  {
   "cell_type": "markdown",
   "metadata": {
    "id": "O82TH2Vr62Qi"
   },
   "source": [
    "# Are Relations Relevant in CNNs? *A Study Based on a Facial Dataset*"
   ]
  },
  {
   "cell_type": "markdown",
   "metadata": {
    "id": "ehl8qgCC62Qx"
   },
   "source": [
    "## Baseline CNN *(30 Epochs - 13 Layers)*"
   ]
  },
  {
   "cell_type": "markdown",
   "metadata": {
    "id": "3clj-ony62Q0",
    "pycharm": {
     "name": "#%% md\n"
    }
   },
   "source": [
    "### Imports, Seed, GPU integration"
   ]
  },
  {
   "cell_type": "code",
   "execution_count": 1,
   "metadata": {
    "execution": {
     "iopub.execute_input": "2021-03-24T02:11:56.836889Z",
     "iopub.status.busy": "2021-03-24T02:11:56.836410Z",
     "iopub.status.idle": "2021-03-24T02:11:58.017694Z",
     "shell.execute_reply": "2021-03-24T02:11:58.017210Z"
    },
    "id": "cnCaBFfp62Q2",
    "pycharm": {
     "name": "#%%\n"
    }
   },
   "outputs": [],
   "source": [
    "import numpy as np\n",
    "import random\n",
    "import tensorflow as tf"
   ]
  },
  {
   "cell_type": "code",
   "execution_count": 2,
   "metadata": {
    "execution": {
     "iopub.execute_input": "2021-03-24T02:11:58.020921Z",
     "iopub.status.busy": "2021-03-24T02:11:58.020544Z",
     "iopub.status.idle": "2021-03-24T02:11:58.022576Z",
     "shell.execute_reply": "2021-03-24T02:11:58.022146Z"
    },
    "id": "jsw3DKWp62Q4",
    "pycharm": {
     "name": "#%%\n"
    }
   },
   "outputs": [],
   "source": [
    "# Seeds for better reproducibility\n",
    "seed = 42\n",
    "np.random.seed(seed)\n",
    "random.seed(seed)\n",
    "tf.random.set_seed(seed)"
   ]
  },
  {
   "cell_type": "code",
   "execution_count": 3,
   "metadata": {
    "execution": {
     "iopub.execute_input": "2021-03-24T02:11:58.027252Z",
     "iopub.status.busy": "2021-03-24T02:11:58.026847Z",
     "iopub.status.idle": "2021-03-24T02:11:58.512404Z",
     "shell.execute_reply": "2021-03-24T02:11:58.511981Z"
    }
   },
   "outputs": [],
   "source": [
    "from tensorflow.keras.layers import  Dropout, Conv2D, BatchNormalization, MaxPool2D, Dense, Flatten\n",
    "from tensorflow.keras.optimizers import Adam\n",
    "from tensorflow.keras.models import load_model\n",
    "from tensorflow.keras.preprocessing.image import ImageDataGenerator\n",
    "from tensorflow.python.keras.models import Sequential\n",
    "from sklearn.metrics import confusion_matrix\n",
    "import itertools\n",
    "import matplotlib.pyplot as plt\n",
    "import warnings\n",
    "warnings.simplefilter(action='ignore', category=FutureWarning)\n",
    "%matplotlib inline"
   ]
  },
  {
   "cell_type": "code",
   "execution_count": 4,
   "metadata": {
    "colab": {
     "base_uri": "https://localhost:8080/"
    },
    "execution": {
     "iopub.execute_input": "2021-03-24T02:11:58.555806Z",
     "iopub.status.busy": "2021-03-24T02:11:58.555401Z",
     "iopub.status.idle": "2021-03-24T02:11:58.557376Z",
     "shell.execute_reply": "2021-03-24T02:11:58.557772Z"
    },
    "executionInfo": {
     "elapsed": 19631,
     "status": "ok",
     "timestamp": 1615579393251,
     "user": {
      "displayName": "Lisa Elli",
      "photoUrl": "",
      "userId": "06754712231658711937"
     },
     "user_tz": -60
    },
    "id": "4vE5F4rX62Q4",
    "outputId": "bff035e6-71fc-433f-d1fd-7e794a4724fc",
    "pycharm": {
     "name": "#%%\n"
    }
   },
   "outputs": [
    {
     "name": "stdout",
     "output_type": "stream",
     "text": [
      "Num GPUs Available:  1\n"
     ]
    }
   ],
   "source": [
    "physical_devices = tf.config.experimental.list_physical_devices('GPU')\n",
    "print(\"Num GPUs Available: \", len(physical_devices))\n",
    "tf.config.experimental.set_memory_growth(physical_devices[0], True)"
   ]
  },
  {
   "cell_type": "markdown",
   "metadata": {
    "id": "wmGEalmo62Q7"
   },
   "source": [
    "### Data preparation"
   ]
  },
  {
   "cell_type": "code",
   "execution_count": 5,
   "metadata": {
    "execution": {
     "iopub.execute_input": "2021-03-24T02:11:58.560713Z",
     "iopub.status.busy": "2021-03-24T02:11:58.560311Z",
     "iopub.status.idle": "2021-03-24T02:11:58.563533Z",
     "shell.execute_reply": "2021-03-24T02:11:58.563105Z"
    },
    "id": "FdYjQ15w62Q7",
    "pycharm": {
     "name": "#%%\n"
    }
   },
   "outputs": [],
   "source": [
    "train_path = '../../picasso_dataset/basis-data/middle/train'\n",
    "valid_path = '../../picasso_dataset/basis-data/middle/valid'\n",
    "test_path = '../../picasso_dataset/basis-data/middle/test'"
   ]
  },
  {
   "cell_type": "code",
   "execution_count": 6,
   "metadata": {
    "colab": {
     "base_uri": "https://localhost:8080/"
    },
    "execution": {
     "iopub.execute_input": "2021-03-24T02:11:58.568257Z",
     "iopub.status.busy": "2021-03-24T02:11:58.567803Z",
     "iopub.status.idle": "2021-03-24T02:11:59.019926Z",
     "shell.execute_reply": "2021-03-24T02:11:59.019502Z"
    },
    "executionInfo": {
     "elapsed": 15267,
     "status": "ok",
     "timestamp": 1615579393916,
     "user": {
      "displayName": "Lisa Elli",
      "photoUrl": "",
      "userId": "06754712231658711937"
     },
     "user_tz": -60
    },
    "id": "n_l3PW-_62Q7",
    "outputId": "8db7a694-024d-4e83-d2d7-0c75b63f3eb9",
    "pycharm": {
     "name": "#%%\n"
    }
   },
   "outputs": [
    {
     "name": "stdout",
     "output_type": "stream",
     "text": [
      "Found 16002 images belonging to 2 classes.\n",
      "Found 998 images belonging to 2 classes.\n",
      "Found 3000 images belonging to 2 classes.\n"
     ]
    }
   ],
   "source": [
    "train_batches = ImageDataGenerator(preprocessing_function=tf.keras.applications.vgg16.preprocess_input) \\\n",
    "    .flow_from_directory(directory=train_path, target_size=(224,224), classes=['no_face', 'face'], batch_size=20)\n",
    "\n",
    "valid_batches = ImageDataGenerator(preprocessing_function=tf.keras.applications.vgg16.preprocess_input) \\\n",
    "    .flow_from_directory(directory=valid_path, target_size=(224,224), classes=['no_face', 'face'], batch_size=10)\n",
    "\n",
    "test_batches = ImageDataGenerator(preprocessing_function=tf.keras.applications.vgg16.preprocess_input) \\\n",
    "    .flow_from_directory(directory=test_path, target_size=(224,224), classes=['no_face', 'face'], batch_size=10, shuffle=False)"
   ]
  },
  {
   "cell_type": "code",
   "execution_count": 7,
   "metadata": {
    "execution": {
     "iopub.execute_input": "2021-03-24T02:11:59.023024Z",
     "iopub.status.busy": "2021-03-24T02:11:59.022643Z",
     "iopub.status.idle": "2021-03-24T02:11:59.024077Z",
     "shell.execute_reply": "2021-03-24T02:11:59.024492Z"
    },
    "id": "SbBy_3JT62Q8",
    "pycharm": {
     "name": "#%%\n"
    }
   },
   "outputs": [],
   "source": [
    "assert train_batches.n == 16002\n",
    "assert valid_batches.n == 998\n",
    "assert test_batches.n == 3000\n",
    "assert train_batches.num_classes == valid_batches.num_classes == test_batches.num_classes == 2"
   ]
  },
  {
   "cell_type": "markdown",
   "metadata": {
    "id": "kgM-9Fbg62Q-"
   },
   "source": [
    "### Building and training the CNN"
   ]
  },
  {
   "cell_type": "code",
   "execution_count": 8,
   "metadata": {
    "execution": {
     "iopub.execute_input": "2021-03-24T02:11:59.027333Z",
     "iopub.status.busy": "2021-03-24T02:11:59.026945Z",
     "iopub.status.idle": "2021-03-24T02:11:59.030077Z",
     "shell.execute_reply": "2021-03-24T02:11:59.029550Z"
    },
    "id": "Cdg3Plko62Q-",
    "pycharm": {
     "name": "#%%\n"
    }
   },
   "outputs": [],
   "source": [
    "dropout_rate=0.2"
   ]
  },
  {
   "cell_type": "code",
   "execution_count": 9,
   "metadata": {
    "colab": {
     "base_uri": "https://localhost:8080/"
    },
    "execution": {
     "iopub.execute_input": "2021-03-24T02:11:59.038772Z",
     "iopub.status.busy": "2021-03-24T02:11:59.036554Z",
     "iopub.status.idle": "2021-03-24T02:11:59.564947Z",
     "shell.execute_reply": "2021-03-24T02:11:59.564531Z"
    },
    "executionInfo": {
     "elapsed": 5474,
     "status": "ok",
     "timestamp": 1615579399410,
     "user": {
      "displayName": "Lisa Elli",
      "photoUrl": "",
      "userId": "06754712231658711937"
     },
     "user_tz": -60
    },
    "id": "wtTJTaWatrgn",
    "outputId": "5e22cecc-bb59-456b-ceaa-d3986077141c",
    "pycharm": {
     "name": "#%%\n"
    }
   },
   "outputs": [
    {
     "name": "stdout",
     "output_type": "stream",
     "text": [
      "Model: \"CNN-Baseline\"\n",
      "_________________________________________________________________\n",
      "Layer (type)                 Output Shape              Param #   \n",
      "=================================================================\n",
      "Conv_1 (Conv2D)              (None, 224, 224, 32)      896       \n",
      "_________________________________________________________________\n",
      "Max_1 (MaxPooling2D)         (None, 112, 112, 32)      0         \n",
      "_________________________________________________________________\n",
      "DO_1 (Dropout)               (None, 112, 112, 32)      0         \n",
      "_________________________________________________________________\n",
      "BN_1 (BatchNormalization)    (None, 112, 112, 32)      128       \n",
      "_________________________________________________________________\n",
      "Conv_2 (Conv2D)              (None, 112, 112, 64)      18496     \n",
      "_________________________________________________________________\n",
      "Max_2 (MaxPooling2D)         (None, 56, 56, 64)        0         \n",
      "_________________________________________________________________\n",
      "Conv_3 (Conv2D)              (None, 56, 56, 128)       73856     \n",
      "_________________________________________________________________\n",
      "Max_3 (MaxPooling2D)         (None, 28, 28, 128)       0         \n",
      "_________________________________________________________________\n",
      "DO_3 (Dropout)               (None, 28, 28, 128)       0         \n",
      "_________________________________________________________________\n",
      "Conv_4 (Conv2D)              (None, 28, 28, 256)       295168    \n",
      "_________________________________________________________________\n",
      "Max_4 (MaxPooling2D)         (None, 14, 14, 256)       0         \n",
      "_________________________________________________________________\n",
      "Flat_con (Flatten)           (None, 50176)             0         \n",
      "_________________________________________________________________\n",
      "D_con (Dense)                (None, 2)                 100354    \n",
      "=================================================================\n",
      "Total params: 488,898\n",
      "Trainable params: 488,834\n",
      "Non-trainable params: 64\n",
      "_________________________________________________________________\n"
     ]
    }
   ],
   "source": [
    "model = Sequential(name = \"CNN-Baseline\")\n",
    "\n",
    "model.add(Conv2D(filters=32, kernel_size=(3, 3), activation='relu', padding = 'same', input_shape=(224,224,3), name = \"Conv_1\"))\n",
    "model.add(MaxPool2D(pool_size=(2, 2), name = \"Max_1\"))\n",
    "model.add(Dropout(rate=dropout_rate, name = \"DO_1\"))\n",
    "model.add(BatchNormalization(name = \"BN_1\"))\n",
    "\n",
    "model.add(Conv2D(filters=64, kernel_size=(3, 3), activation='relu', padding = 'same', name = \"Conv_2\"))\n",
    "model.add(MaxPool2D(pool_size=(2, 2), name = \"Max_2\"))\n",
    "\n",
    "model.add(Conv2D(filters=128, kernel_size=(3, 3), activation='relu', padding = 'same', name = \"Conv_3\"))\n",
    "model.add(MaxPool2D(pool_size=(2, 2), name = \"Max_3\"))\n",
    "model.add(Dropout(rate=dropout_rate, name = \"DO_3\"))\n",
    "\n",
    "model.add(Conv2D(filters=256, kernel_size=(3, 3), activation='relu', padding = 'same', name = \"Conv_4\"))\n",
    "model.add(MaxPool2D(pool_size=(2, 2), name = \"Max_4\"))\n",
    "\n",
    "# Fully connected layer\n",
    "model.add(Flatten(name = \"Flat_con\"))\n",
    "model.add(Dense(units=2, activation='softmax', name = \"D_con\"))\n",
    "\n",
    "model.summary()\n",
    "untrained_weights = list(model.get_weights()[0][0][0][0])"
   ]
  },
  {
   "cell_type": "code",
   "execution_count": 10,
   "metadata": {
    "execution": {
     "iopub.execute_input": "2021-03-24T02:11:59.572292Z",
     "iopub.status.busy": "2021-03-24T02:11:59.571908Z",
     "iopub.status.idle": "2021-03-24T02:11:59.578179Z",
     "shell.execute_reply": "2021-03-24T02:11:59.577687Z"
    },
    "id": "HYmld1gj62Q_",
    "pycharm": {
     "name": "#%%\n"
    }
   },
   "outputs": [],
   "source": [
    "model.compile(optimizer=Adam(learning_rate=0.0001),\n",
    "              loss='categorical_crossentropy',\n",
    "              metrics=['accuracy'] )"
   ]
  },
  {
   "cell_type": "code",
   "execution_count": 11,
   "metadata": {
    "colab": {
     "base_uri": "https://localhost:8080/"
    },
    "execution": {
     "iopub.execute_input": "2021-03-24T02:11:59.581470Z",
     "iopub.status.busy": "2021-03-24T02:11:59.581067Z",
     "iopub.status.idle": "2021-03-24T02:32:58.648818Z",
     "shell.execute_reply": "2021-03-24T02:32:58.648305Z"
    },
    "executionInfo": {
     "elapsed": 1444054,
     "status": "ok",
     "timestamp": 1615583415200,
     "user": {
      "displayName": "Lisa Elli",
      "photoUrl": "",
      "userId": "06754712231658711937"
     },
     "user_tz": -60
    },
    "id": "TY7tN3BE62RB",
    "outputId": "fe3f86f2-25c7-4d7b-c4cf-5b4d4a8e0ebe",
    "pycharm": {
     "name": "#%%\n"
    }
   },
   "outputs": [
    {
     "name": "stdout",
     "output_type": "stream",
     "text": [
      "Epoch 1/30\n",
      "WARNING:tensorflow:Callbacks method `on_train_batch_end` is slow compared to the batch time (batch time: 0.0140s vs `on_train_batch_end` time: 0.0226s). Check your callbacks.\n",
      "801/801 - 43s - loss: 0.2163 - accuracy: 0.8980 - val_loss: 0.0338 - val_accuracy: 0.9920\n",
      "Epoch 2/30\n",
      "801/801 - 43s - loss: 0.0335 - accuracy: 0.9889 - val_loss: 0.0265 - val_accuracy: 0.9870\n",
      "Epoch 3/30\n",
      "801/801 - 42s - loss: 0.0159 - accuracy: 0.9948 - val_loss: 0.0160 - val_accuracy: 0.9910\n",
      "Epoch 4/30\n",
      "801/801 - 42s - loss: 0.0066 - accuracy: 0.9983 - val_loss: 0.0018 - val_accuracy: 1.0000\n",
      "Epoch 5/30\n",
      "801/801 - 42s - loss: 0.0061 - accuracy: 0.9977 - val_loss: 0.0028 - val_accuracy: 0.9990\n",
      "Epoch 6/30\n",
      "801/801 - 42s - loss: 0.0019 - accuracy: 0.9994 - val_loss: 0.0056 - val_accuracy: 0.9970\n",
      "Epoch 7/30\n",
      "801/801 - 42s - loss: 0.0021 - accuracy: 0.9993 - val_loss: 0.0020 - val_accuracy: 0.9990\n",
      "Epoch 8/30\n",
      "801/801 - 42s - loss: 8.5105e-04 - accuracy: 0.9998 - val_loss: 0.0015 - val_accuracy: 0.9990\n",
      "Epoch 9/30\n",
      "801/801 - 42s - loss: 6.1955e-04 - accuracy: 0.9998 - val_loss: 2.4087e-04 - val_accuracy: 1.0000\n",
      "Epoch 10/30\n",
      "801/801 - 42s - loss: 0.0021 - accuracy: 0.9993 - val_loss: 0.0032 - val_accuracy: 0.9990\n",
      "Epoch 11/30\n",
      "801/801 - 42s - loss: 0.0014 - accuracy: 0.9994 - val_loss: 3.6444e-04 - val_accuracy: 1.0000\n",
      "Epoch 12/30\n",
      "801/801 - 42s - loss: 0.0011 - accuracy: 0.9995 - val_loss: 0.0038 - val_accuracy: 0.9990\n",
      "Epoch 13/30\n",
      "801/801 - 42s - loss: 6.9310e-04 - accuracy: 0.9998 - val_loss: 5.4302e-05 - val_accuracy: 1.0000\n",
      "Epoch 14/30\n",
      "801/801 - 42s - loss: 5.5361e-04 - accuracy: 0.9998 - val_loss: 8.7195e-05 - val_accuracy: 1.0000\n",
      "Epoch 15/30\n",
      "801/801 - 42s - loss: 2.3553e-05 - accuracy: 1.0000 - val_loss: 1.6511e-04 - val_accuracy: 1.0000\n",
      "Epoch 16/30\n",
      "801/801 - 41s - loss: 2.1407e-05 - accuracy: 1.0000 - val_loss: 5.2031e-05 - val_accuracy: 1.0000\n",
      "Epoch 17/30\n",
      "801/801 - 42s - loss: 0.0014 - accuracy: 0.9996 - val_loss: 0.0026 - val_accuracy: 0.9990\n",
      "Epoch 18/30\n",
      "801/801 - 42s - loss: 4.8046e-04 - accuracy: 0.9998 - val_loss: 9.4036e-04 - val_accuracy: 0.9990\n",
      "Epoch 19/30\n",
      "801/801 - 42s - loss: 3.8714e-04 - accuracy: 0.9999 - val_loss: 0.0097 - val_accuracy: 0.9980\n",
      "Epoch 20/30\n",
      "801/801 - 42s - loss: 2.3225e-04 - accuracy: 0.9999 - val_loss: 6.7078e-04 - val_accuracy: 1.0000\n",
      "Epoch 21/30\n",
      "801/801 - 42s - loss: 2.9782e-05 - accuracy: 1.0000 - val_loss: 3.9076e-04 - val_accuracy: 1.0000\n",
      "Epoch 22/30\n",
      "801/801 - 42s - loss: 1.4084e-06 - accuracy: 1.0000 - val_loss: 3.5522e-04 - val_accuracy: 1.0000\n",
      "Epoch 23/30\n",
      "801/801 - 42s - loss: 1.7187e-05 - accuracy: 1.0000 - val_loss: 3.2036e-04 - val_accuracy: 1.0000\n",
      "Epoch 24/30\n",
      "801/801 - 42s - loss: 5.6446e-06 - accuracy: 1.0000 - val_loss: 1.9821e-04 - val_accuracy: 1.0000\n",
      "Epoch 25/30\n",
      "801/801 - 42s - loss: 4.5873e-06 - accuracy: 1.0000 - val_loss: 0.0096 - val_accuracy: 0.9990\n",
      "Epoch 26/30\n",
      "801/801 - 42s - loss: 0.0034 - accuracy: 0.9994 - val_loss: 0.0036 - val_accuracy: 0.9990\n",
      "Epoch 27/30\n",
      "801/801 - 42s - loss: 7.5073e-05 - accuracy: 1.0000 - val_loss: 1.8034e-04 - val_accuracy: 1.0000\n",
      "Epoch 28/30\n",
      "801/801 - 42s - loss: 2.0542e-05 - accuracy: 1.0000 - val_loss: 8.4276e-04 - val_accuracy: 0.9990\n",
      "Epoch 29/30\n",
      "801/801 - 42s - loss: 9.6873e-06 - accuracy: 1.0000 - val_loss: 8.0059e-04 - val_accuracy: 0.9990\n",
      "Epoch 30/30\n",
      "801/801 - 42s - loss: 1.9430e-06 - accuracy: 1.0000 - val_loss: 8.9768e-04 - val_accuracy: 0.9990\n"
     ]
    }
   ],
   "source": [
    "history = model.fit(x=train_batches,\n",
    "          steps_per_epoch=len(train_batches),\n",
    "          validation_data=valid_batches,\n",
    "          validation_steps=len(valid_batches),\n",
    "          epochs=30,\n",
    "          verbose=2 )"
   ]
  },
  {
   "cell_type": "markdown",
   "metadata": {
    "id": "dgDtbkcv62RB",
    "pycharm": {
     "name": "#%% md\n"
    }
   },
   "source": [
    "### Saving the model"
   ]
  },
  {
   "cell_type": "code",
   "execution_count": 12,
   "metadata": {
    "execution": {
     "iopub.execute_input": "2021-03-24T02:32:58.651972Z",
     "iopub.status.busy": "2021-03-24T02:32:58.651587Z",
     "iopub.status.idle": "2021-03-24T02:32:58.653039Z",
     "shell.execute_reply": "2021-03-24T02:32:58.653338Z"
    }
   },
   "outputs": [],
   "source": [
    "filename='models/CNN-B-30E-13L-03.h5'"
   ]
  },
  {
   "cell_type": "code",
   "execution_count": 13,
   "metadata": {
    "colab": {
     "base_uri": "https://localhost:8080/"
    },
    "execution": {
     "iopub.execute_input": "2021-03-24T02:32:58.658887Z",
     "iopub.status.busy": "2021-03-24T02:32:58.658435Z",
     "iopub.status.idle": "2021-03-24T02:32:58.691983Z",
     "shell.execute_reply": "2021-03-24T02:32:58.691549Z"
    },
    "executionInfo": {
     "elapsed": 36,
     "status": "ok",
     "timestamp": 1615583415203,
     "user": {
      "displayName": "Lisa Elli",
      "photoUrl": "",
      "userId": "06754712231658711937"
     },
     "user_tz": -60
    },
    "id": "BUVqnVNn62RB",
    "outputId": "ac9e5b05-f3b2-4559-9c59-1e518fa52302",
    "pycharm": {
     "name": "#%%\n"
    }
   },
   "outputs": [],
   "source": [
    "model.save(filename)\n",
    "saved_weights = list(model.get_weights()[0][0][0][0])"
   ]
  },
  {
   "cell_type": "markdown",
   "metadata": {
    "id": "ZJwZjSBg62RB",
    "pycharm": {
     "name": "#%% md\n"
    }
   },
   "source": [
    "### Loading the saved model"
   ]
  },
  {
   "cell_type": "code",
   "execution_count": 14,
   "metadata": {
    "colab": {
     "base_uri": "https://localhost:8080/"
    },
    "execution": {
     "iopub.execute_input": "2021-03-24T02:32:58.699151Z",
     "iopub.status.busy": "2021-03-24T02:32:58.698637Z",
     "iopub.status.idle": "2021-03-24T02:32:58.829491Z",
     "shell.execute_reply": "2021-03-24T02:32:58.829064Z"
    },
    "executionInfo": {
     "elapsed": 46,
     "status": "ok",
     "timestamp": 1615583415708,
     "user": {
      "displayName": "Lisa Elli",
      "photoUrl": "",
      "userId": "06754712231658711937"
     },
     "user_tz": -60
    },
    "id": "KfQRdJ2n62RC",
    "outputId": "0447f407-8758-4ab8-9acb-585653323105",
    "pycharm": {
     "name": "#%%\n"
    }
   },
   "outputs": [],
   "source": [
    "loaded_model = load_model(filename)\n",
    "loaded_weights = list(loaded_model.get_weights()[0][0][0][0])"
   ]
  },
  {
   "cell_type": "code",
   "execution_count": 15,
   "metadata": {
    "execution": {
     "iopub.execute_input": "2021-03-24T02:32:58.832222Z",
     "iopub.status.busy": "2021-03-24T02:32:58.831845Z",
     "iopub.status.idle": "2021-03-24T02:32:58.833942Z",
     "shell.execute_reply": "2021-03-24T02:32:58.833540Z"
    }
   },
   "outputs": [],
   "source": [
    "# Assertion that the model was saved and loaded successfully\n",
    "assert untrained_weights != saved_weights\n",
    "assert saved_weights == loaded_weights"
   ]
  },
  {
   "cell_type": "markdown",
   "metadata": {
    "id": "pXwZZiKy62RC",
    "pycharm": {
     "name": "#%% md\n"
    }
   },
   "source": [
    "### Accuracy and loss of the trained model"
   ]
  },
  {
   "cell_type": "code",
   "execution_count": 16,
   "metadata": {
    "colab": {
     "base_uri": "https://localhost:8080/"
    },
    "execution": {
     "iopub.execute_input": "2021-03-24T02:32:58.837269Z",
     "iopub.status.busy": "2021-03-24T02:32:58.836817Z",
     "iopub.status.idle": "2021-03-24T02:33:06.207803Z",
     "shell.execute_reply": "2021-03-24T02:33:06.208113Z"
    },
    "executionInfo": {
     "elapsed": 8624,
     "status": "ok",
     "timestamp": 1615583424302,
     "user": {
      "displayName": "Lisa Elli",
      "photoUrl": "",
      "userId": "06754712231658711937"
     },
     "user_tz": -60
    },
    "id": "_1_vTnWO62RC",
    "outputId": "98311fcd-35bf-4383-ff77-d1a1b62291f2",
    "pycharm": {
     "name": "#%%\n"
    }
   },
   "outputs": [
    {
     "name": "stdout",
     "output_type": "stream",
     "text": [
      "300/300 - 7s - loss: 1.9578e-06 - accuracy: 1.0000\n",
      "Accuracy: 100.00%\n",
      "Loss: 0.00%\n"
     ]
    }
   ],
   "source": [
    "scores = loaded_model.evaluate(test_batches, verbose=2)\n",
    "print(\"Accuracy: %.2f%%\" % (scores[1]*100))\n",
    "print(\"Loss: %.2f%%\" % (scores[0]*100))"
   ]
  },
  {
   "cell_type": "code",
   "execution_count": 17,
   "metadata": {
    "colab": {
     "base_uri": "https://localhost:8080/",
     "height": 295
    },
    "execution": {
     "iopub.execute_input": "2021-03-24T02:33:06.226802Z",
     "iopub.status.busy": "2021-03-24T02:33:06.218948Z",
     "iopub.status.idle": "2021-03-24T02:33:06.339851Z",
     "shell.execute_reply": "2021-03-24T02:33:06.340157Z"
    },
    "executionInfo": {
     "elapsed": 595,
     "status": "ok",
     "timestamp": 1615586591039,
     "user": {
      "displayName": "Lisa Elli",
      "photoUrl": "",
      "userId": "06754712231658711937"
     },
     "user_tz": -60
    },
    "id": "nHKKeCpvCaN5",
    "outputId": "7e887b48-99f7-4e23-90a9-85297e0e3736"
   },
   "outputs": [
    {
     "data": {
      "image/png": "[encoded data removed]",
      "text/plain": [
       "<Figure size 432x288 with 1 Axes>"
      ]
     },
     "metadata": {
      "needs_background": "light"
     },
     "output_type": "display_data"
    }
   ],
   "source": [
    "#Course of accuracy\n",
    "plt.plot(history.history['accuracy'])\n",
    "plt.plot(history.history['val_accuracy'])\n",
    "plt.title('model accuracy')\n",
    "plt.ylabel('accuracy')\n",
    "plt.xlabel('epoch')\n",
    "plt.legend(['train', 'valid'], loc='upper left')\n",
    "plt.show()"
   ]
  },
  {
   "cell_type": "code",
   "execution_count": 18,
   "metadata": {
    "colab": {
     "base_uri": "https://localhost:8080/",
     "height": 295
    },
    "execution": {
     "iopub.execute_input": "2021-03-24T02:33:06.354329Z",
     "iopub.status.busy": "2021-03-24T02:33:06.353902Z",
     "iopub.status.idle": "2021-03-24T02:33:06.452822Z",
     "shell.execute_reply": "2021-03-24T02:33:06.452415Z"
    },
    "executionInfo": {
     "elapsed": 550,
     "status": "ok",
     "timestamp": 1615586596931,
     "user": {
      "displayName": "Lisa Elli",
      "photoUrl": "",
      "userId": "06754712231658711937"
     },
     "user_tz": -60
    },
    "id": "rvuixJw-CdCJ",
    "outputId": "9ed01e51-6153-43c5-dbba-ba7cb723bf2f"
   },
   "outputs": [
    {
     "data": {
      "image/png": "[encoded data removed]",
      "text/plain": [
       "<Figure size 432x288 with 1 Axes>"
      ]
     },
     "metadata": {
      "needs_background": "light"
     },
     "output_type": "display_data"
    }
   ],
   "source": [
    "#Course of loss\n",
    "plt.plot(history.history['loss'])\n",
    "plt.plot(history.history['val_loss'])\n",
    "plt.title('model loss')\n",
    "plt.ylabel('loss')\n",
    "plt.xlabel('epoch')\n",
    "plt.legend(['train', 'valid'], loc='upper left')\n",
    "plt.show()"
   ]
  },
  {
   "cell_type": "markdown",
   "metadata": {
    "id": "-Dfs319f62RC"
   },
   "source": [
    "### Testing the CNN"
   ]
  },
  {
   "cell_type": "code",
   "execution_count": 19,
   "metadata": {
    "execution": {
     "iopub.execute_input": "2021-03-24T02:33:06.456164Z",
     "iopub.status.busy": "2021-03-24T02:33:06.455702Z",
     "iopub.status.idle": "2021-03-24T02:33:13.630572Z",
     "shell.execute_reply": "2021-03-24T02:33:13.630881Z"
    },
    "executionInfo": {
     "elapsed": 8234,
     "status": "ok",
     "timestamp": 1615586642347,
     "user": {
      "displayName": "Lisa Elli",
      "photoUrl": "",
      "userId": "06754712231658711937"
     },
     "user_tz": -60
    },
    "id": "cnM7Y7Au62RD",
    "pycharm": {
     "name": "#%%\n"
    }
   },
   "outputs": [],
   "source": [
    "predictions = loaded_model.predict(x=test_batches, steps=len(test_batches), verbose=0)"
   ]
  },
  {
   "cell_type": "markdown",
   "metadata": {
    "id": "R2kk-gQX62RE",
    "pycharm": {
     "name": "#%% md\n"
    }
   },
   "source": [
    "### Index of wrongly predicted pictures"
   ]
  },
  {
   "cell_type": "code",
   "execution_count": 20,
   "metadata": {
    "execution": {
     "iopub.execute_input": "2021-03-24T02:33:13.634159Z",
     "iopub.status.busy": "2021-03-24T02:33:13.633769Z",
     "iopub.status.idle": "2021-03-24T02:33:13.642841Z",
     "shell.execute_reply": "2021-03-24T02:33:13.642323Z"
    },
    "executionInfo": {
     "elapsed": 604,
     "status": "ok",
     "timestamp": 1615586643749,
     "user": {
      "displayName": "Lisa Elli",
      "photoUrl": "",
      "userId": "06754712231658711937"
     },
     "user_tz": -60
    },
    "id": "5Kt0jsFB62RE",
    "pycharm": {
     "name": "#%%\n"
    }
   },
   "outputs": [],
   "source": [
    "y_true=test_batches.classes\n",
    "y_pred=np.argmax(predictions, axis=-1)\n",
    "cm = confusion_matrix(y_true = y_true, y_pred = y_pred)"
   ]
  },
  {
   "cell_type": "code",
   "execution_count": 21,
   "metadata": {
    "colab": {
     "base_uri": "https://localhost:8080/"
    },
    "execution": {
     "iopub.execute_input": "2021-03-24T02:33:13.652359Z",
     "iopub.status.busy": "2021-03-24T02:33:13.649700Z",
     "iopub.status.idle": "2021-03-24T02:33:13.655004Z",
     "shell.execute_reply": "2021-03-24T02:33:13.654592Z"
    },
    "executionInfo": {
     "elapsed": 881,
     "status": "ok",
     "timestamp": 1615586646608,
     "user": {
      "displayName": "Lisa Elli",
      "photoUrl": "",
      "userId": "06754712231658711937"
     },
     "user_tz": -60
    },
    "id": "aSzFxBUy62RE",
    "outputId": "45c28aa2-5183-46c6-dc0a-901668a61137",
    "pycharm": {
     "name": "#%%\n"
    }
   },
   "outputs": [
    {
     "name": "stdout",
     "output_type": "stream",
     "text": [
      "Data from class 'face', that was wrongly predicted as 'no-face' [ 0 ] :\n",
      "[]\n",
      "----------------------------------------------------------------------------------------------\n",
      "Data from class 'no-face', that was wrongly predicted as 'face' [ 0 ] :\n",
      "[]\n"
     ]
    }
   ],
   "source": [
    "face_but_predicted_no_face=[]\n",
    "no_face_but_predicted_face=[]\n",
    "\n",
    "for i in range(len(predictions)):\n",
    "        if y_true[i] != y_pred[i]:\n",
    "            if y_true[i] == 1:\n",
    "                face_but_predicted_no_face.append(i+8001-1500) #Index of file on disk\n",
    "            else:\n",
    "                no_face_but_predicted_face.append(i+8001) #Index of file on disk\n",
    "\n",
    "print(\"Data from class 'face', that was wrongly predicted as 'no-face' [\", len(face_but_predicted_no_face), \"] :\")\n",
    "print(face_but_predicted_no_face)\n",
    "print(\"----------------------------------------------------------------------------------------------\")\n",
    "print(\"Data from class 'no-face', that was wrongly predicted as 'face' [\", len(no_face_but_predicted_face), \"] :\")\n",
    "print(no_face_but_predicted_face)"
   ]
  },
  {
   "cell_type": "markdown",
   "metadata": {
    "id": "6eTe3tG762RE",
    "pycharm": {
     "name": "#%% md\n"
    }
   },
   "source": [
    "### Confusion matrix"
   ]
  },
  {
   "cell_type": "code",
   "execution_count": 22,
   "metadata": {
    "execution": {
     "iopub.execute_input": "2021-03-24T02:33:13.660346Z",
     "iopub.status.busy": "2021-03-24T02:33:13.659950Z",
     "iopub.status.idle": "2021-03-24T02:33:13.662090Z",
     "shell.execute_reply": "2021-03-24T02:33:13.661689Z"
    },
    "executionInfo": {
     "elapsed": 902,
     "status": "ok",
     "timestamp": 1615586652173,
     "user": {
      "displayName": "Lisa Elli",
      "photoUrl": "",
      "userId": "06754712231658711937"
     },
     "user_tz": -60
    },
    "id": "TXVbugwa62RE",
    "pycharm": {
     "name": "#%%\n"
    }
   },
   "outputs": [],
   "source": [
    "def plot_confusion_matrix(cm, classes,\n",
    "                          normalize=False,\n",
    "                          title='Confusion matrix',\n",
    "                          cmap=plt.cm.Blues):\n",
    "\n",
    "    plt.imshow(cm, interpolation='nearest', cmap=cmap)\n",
    "    plt.title(title)\n",
    "    plt.colorbar()\n",
    "    tick_marks = np.arange(len(classes))\n",
    "    plt.xticks(tick_marks, classes, rotation=45)\n",
    "    plt.yticks(tick_marks, classes)\n",
    "\n",
    "    if normalize:\n",
    "        cm = cm.astype('float') / cm.sum(axis=1)[:, np.newaxis]\n",
    "        print(\"Normalized confusion matrix\")\n",
    "    else:\n",
    "        print('Confusion matrix, without normalization')\n",
    "\n",
    "    print(cm)\n",
    "\n",
    "    thresh = cm.max() / 2.\n",
    "    for i, j in itertools.product(range(cm.shape[0]), range(cm.shape[1])):\n",
    "        plt.text(j, i, cm[i, j],\n",
    "                 horizontalalignment=\"center\",\n",
    "                 color=\"white\" if cm[i, j] > thresh else \"black\")\n",
    "\n",
    "    plt.tight_layout()\n",
    "    plt.ylabel('True label')\n",
    "    plt.xlabel('Predicted label')"
   ]
  },
  {
   "cell_type": "code",
   "execution_count": 23,
   "metadata": {
    "colab": {
     "base_uri": "https://localhost:8080/"
    },
    "execution": {
     "iopub.execute_input": "2021-03-24T02:33:13.665274Z",
     "iopub.status.busy": "2021-03-24T02:33:13.664869Z",
     "iopub.status.idle": "2021-03-24T02:33:13.667684Z",
     "shell.execute_reply": "2021-03-24T02:33:13.667265Z"
    },
    "executionInfo": {
     "elapsed": 909,
     "status": "ok",
     "timestamp": 1615586655343,
     "user": {
      "displayName": "Lisa Elli",
      "photoUrl": "",
      "userId": "06754712231658711937"
     },
     "user_tz": -60
    },
    "id": "sP3ndK5o62RF",
    "outputId": "74d415b9-1346-4b60-8a66-1899e30acb23",
    "pycharm": {
     "name": "#%%\n"
    }
   },
   "outputs": [
    {
     "data": {
      "text/plain": [
       "{'no_face': 0, 'face': 1}"
      ]
     },
     "execution_count": 1,
     "metadata": {},
     "output_type": "execute_result"
    }
   ],
   "source": [
    "test_batches.class_indices"
   ]
  },
  {
   "cell_type": "code",
   "execution_count": 24,
   "metadata": {
    "colab": {
     "base_uri": "https://localhost:8080/",
     "height": 366
    },
    "execution": {
     "iopub.execute_input": "2021-03-24T02:33:13.684058Z",
     "iopub.status.busy": "2021-03-24T02:33:13.683661Z",
     "iopub.status.idle": "2021-03-24T02:33:13.846753Z",
     "shell.execute_reply": "2021-03-24T02:33:13.846336Z"
    },
    "executionInfo": {
     "elapsed": 1444,
     "status": "ok",
     "timestamp": 1615586660010,
     "user": {
      "displayName": "Lisa Elli",
      "photoUrl": "",
      "userId": "06754712231658711937"
     },
     "user_tz": -60
    },
    "id": "_iHhK36e62RF",
    "outputId": "e4096568-5620-44a6-8e7f-ac906560d917",
    "pycharm": {
     "name": "#%%\n"
    }
   },
   "outputs": [
    {
     "name": "stdout",
     "output_type": "stream",
     "text": [
      "Confusion matrix, without normalization\n",
      "[[1500    0]\n",
      " [   0 1500]]\n"
     ]
    },
    {
     "data": {
      "image/png": "[encoded data removed]",
      "text/plain": [
       "<Figure size 432x288 with 2 Axes>"
      ]
     },
     "metadata": {
      "needs_background": "light"
     },
     "output_type": "display_data"
    }
   ],
   "source": [
    "cm_plot_labels = ['no_face','face']\n",
    "plot_confusion_matrix(cm=cm, classes=cm_plot_labels, title='Confusion Matrix')\n"
   ]
  }
 ],
 "metadata": {
  "kernelspec": {
   "display_name": "Python 3",
   "language": "python",
   "name": "python3"
  },
  "language_info": {
   "codemirror_mode": {
    "name": "ipython",
    "version": 3
   },
   "file_extension": ".py",
   "mimetype": "text/x-python",
   "name": "python",
   "nbconvert_exporter": "python",
   "pygments_lexer": "ipython3",
   "version": "3.8.5"
  }
 },
 "nbformat": 4,
 "nbformat_minor": 1
}
