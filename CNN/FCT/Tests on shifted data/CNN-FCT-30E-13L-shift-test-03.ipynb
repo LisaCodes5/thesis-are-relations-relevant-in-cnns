{
 "cells": [
  {
   "cell_type": "markdown",
   "metadata": {
    "id": "O82TH2Vr62Qi"
   },
   "source": [
    "# Are Relations Relevant in CNNs? *A Study Based on a Facial Dataset*"
   ]
  },
  {
   "cell_type": "markdown",
   "metadata": {
    "id": "ehl8qgCC62Qx"
   },
   "source": [
    "## Testing CNN with Features Closer Together *(30 Epochs - 13 Layers)*"
   ]
  },
  {
   "cell_type": "markdown",
   "metadata": {
    "id": "3clj-ony62Q0",
    "pycharm": {
     "name": "#%% md\n"
    }
   },
   "source": [
    "### Imports, Seed, GPU integration"
   ]
  },
  {
   "cell_type": "code",
   "execution_count": 1,
   "metadata": {
    "execution": {
     "iopub.execute_input": "2021-03-24T21:01:25.474981Z",
     "iopub.status.busy": "2021-03-24T21:01:25.474523Z",
     "iopub.status.idle": "2021-03-24T21:01:26.691960Z",
     "shell.execute_reply": "2021-03-24T21:01:26.691476Z"
    },
    "id": "cnCaBFfp62Q2",
    "pycharm": {
     "name": "#%%\n"
    }
   },
   "outputs": [],
   "source": [
    "import numpy as np\n",
    "import random\n",
    "import tensorflow as tf"
   ]
  },
  {
   "cell_type": "code",
   "execution_count": 2,
   "metadata": {
    "execution": {
     "iopub.execute_input": "2021-03-24T21:01:26.695125Z",
     "iopub.status.busy": "2021-03-24T21:01:26.694741Z",
     "iopub.status.idle": "2021-03-24T21:01:26.696581Z",
     "shell.execute_reply": "2021-03-24T21:01:26.696167Z"
    },
    "id": "jsw3DKWp62Q4",
    "pycharm": {
     "name": "#%%\n"
    }
   },
   "outputs": [],
   "source": [
    "# Seeds for better reproducibility\n",
    "seed = 42\n",
    "np.random.seed(seed)\n",
    "random.seed(seed)\n",
    "tf.random.set_seed(seed)"
   ]
  },
  {
   "cell_type": "code",
   "execution_count": 3,
   "metadata": {
    "execution": {
     "iopub.execute_input": "2021-03-24T21:01:26.700391Z",
     "iopub.status.busy": "2021-03-24T21:01:26.699983Z",
     "iopub.status.idle": "2021-03-24T21:01:27.219550Z",
     "shell.execute_reply": "2021-03-24T21:01:27.220002Z"
    }
   },
   "outputs": [],
   "source": [
    "from tensorflow.keras.models import load_model\n",
    "from tensorflow.keras.preprocessing.image import ImageDataGenerator\n",
    "from sklearn.metrics import confusion_matrix\n",
    "import itertools\n",
    "import matplotlib.pyplot as plt\n",
    "import warnings\n",
    "warnings.simplefilter(action='ignore', category=FutureWarning)\n",
    "%matplotlib inline"
   ]
  },
  {
   "cell_type": "code",
   "execution_count": 4,
   "metadata": {
    "colab": {
     "base_uri": "https://localhost:8080/"
    },
    "execution": {
     "iopub.execute_input": "2021-03-24T21:01:27.265780Z",
     "iopub.status.busy": "2021-03-24T21:01:27.265348Z",
     "iopub.status.idle": "2021-03-24T21:01:27.268066Z",
     "shell.execute_reply": "2021-03-24T21:01:27.267650Z"
    },
    "executionInfo": {
     "elapsed": 19631,
     "status": "ok",
     "timestamp": 1615579393251,
     "user": {
      "displayName": "Lisa Elli",
      "photoUrl": "",
      "userId": "06754712231658711937"
     },
     "user_tz": -60
    },
    "id": "4vE5F4rX62Q4",
    "outputId": "bff035e6-71fc-433f-d1fd-7e794a4724fc",
    "pycharm": {
     "name": "#%%\n"
    }
   },
   "outputs": [
    {
     "name": "stdout",
     "output_type": "stream",
     "text": [
      "Num GPUs Available:  1\n"
     ]
    }
   ],
   "source": [
    "physical_devices = tf.config.experimental.list_physical_devices('GPU')\n",
    "print(\"Num GPUs Available: \", len(physical_devices))\n",
    "tf.config.experimental.set_memory_growth(physical_devices[0], True)"
   ]
  },
  {
   "cell_type": "markdown",
   "metadata": {
    "id": "wmGEalmo62Q7"
   },
   "source": [
    "### Data preparation"
   ]
  },
  {
   "cell_type": "code",
   "execution_count": 5,
   "metadata": {
    "execution": {
     "iopub.execute_input": "2021-03-24T21:01:27.270783Z",
     "iopub.status.busy": "2021-03-24T21:01:27.270389Z",
     "iopub.status.idle": "2021-03-24T21:01:27.273345Z",
     "shell.execute_reply": "2021-03-24T21:01:27.273658Z"
    },
    "id": "FdYjQ15w62Q7",
    "pycharm": {
     "name": "#%%\n"
    }
   },
   "outputs": [],
   "source": [
    "test_path = '../../../picasso_dataset/FCT-data/shifted/test'"
   ]
  },
  {
   "cell_type": "code",
   "execution_count": 6,
   "metadata": {
    "colab": {
     "base_uri": "https://localhost:8080/"
    },
    "execution": {
     "iopub.execute_input": "2021-03-24T21:01:27.277257Z",
     "iopub.status.busy": "2021-03-24T21:01:27.276834Z",
     "iopub.status.idle": "2021-03-24T21:01:27.348422Z",
     "shell.execute_reply": "2021-03-24T21:01:27.347999Z"
    },
    "executionInfo": {
     "elapsed": 15267,
     "status": "ok",
     "timestamp": 1615579393916,
     "user": {
      "displayName": "Lisa Elli",
      "photoUrl": "",
      "userId": "06754712231658711937"
     },
     "user_tz": -60
    },
    "id": "n_l3PW-_62Q7",
    "outputId": "8db7a694-024d-4e83-d2d7-0c75b63f3eb9",
    "pycharm": {
     "name": "#%%\n"
    }
   },
   "outputs": [
    {
     "name": "stdout",
     "output_type": "stream",
     "text": [
      "Found 3000 images belonging to 2 classes.\n"
     ]
    }
   ],
   "source": [
    "test_batches = ImageDataGenerator(preprocessing_function=tf.keras.applications.vgg16.preprocess_input) \\\n",
    "    .flow_from_directory(directory=test_path, target_size=(224,224), classes=['no_face', 'face'], batch_size=10, shuffle=False)"
   ]
  },
  {
   "cell_type": "code",
   "execution_count": 7,
   "metadata": {
    "execution": {
     "iopub.execute_input": "2021-03-24T21:01:27.351113Z",
     "iopub.status.busy": "2021-03-24T21:01:27.350704Z",
     "iopub.status.idle": "2021-03-24T21:01:27.352785Z",
     "shell.execute_reply": "2021-03-24T21:01:27.352261Z"
    },
    "id": "SbBy_3JT62Q8",
    "pycharm": {
     "name": "#%%\n"
    }
   },
   "outputs": [],
   "source": [
    "assert test_batches.n == 3000\n",
    "assert test_batches.num_classes == 2"
   ]
  },
  {
   "cell_type": "markdown",
   "metadata": {
    "id": "kgM-9Fbg62Q-"
   },
   "source": [
    "### Loading the trained CNN"
   ]
  },
  {
   "cell_type": "code",
   "execution_count": 8,
   "metadata": {
    "execution": {
     "iopub.execute_input": "2021-03-24T21:01:27.356332Z",
     "iopub.status.busy": "2021-03-24T21:01:27.355918Z",
     "iopub.status.idle": "2021-03-24T21:01:27.935575Z",
     "shell.execute_reply": "2021-03-24T21:01:27.935085Z"
    },
    "id": "Cdg3Plko62Q-",
    "pycharm": {
     "name": "#%%\n"
    }
   },
   "outputs": [],
   "source": [
    "filename='../models/CNN-FCT-30E-13L-03.h5'\n",
    "loaded_model = load_model(filename)"
   ]
  },
  {
   "cell_type": "markdown",
   "metadata": {
    "colab": {
     "base_uri": "https://localhost:8080/"
    },
    "executionInfo": {
     "elapsed": 5474,
     "status": "ok",
     "timestamp": 1615579399410,
     "user": {
      "displayName": "Lisa Elli",
      "photoUrl": "",
      "userId": "06754712231658711937"
     },
     "user_tz": -60
    },
    "id": "wtTJTaWatrgn",
    "outputId": "5e22cecc-bb59-456b-ceaa-d3986077141c",
    "pycharm": {
     "name": "#%% md\n"
    }
   },
   "source": [
    "### Accuracy and loss of the trained model"
   ]
  },
  {
   "cell_type": "code",
   "execution_count": 9,
   "metadata": {
    "execution": {
     "iopub.execute_input": "2021-03-24T21:01:27.938839Z",
     "iopub.status.busy": "2021-03-24T21:01:27.938444Z",
     "iopub.status.idle": "2021-03-24T21:01:36.259954Z",
     "shell.execute_reply": "2021-03-24T21:01:36.260353Z"
    },
    "id": "HYmld1gj62Q_",
    "pycharm": {
     "name": "#%%\n"
    }
   },
   "outputs": [
    {
     "name": "stdout",
     "output_type": "stream",
     "text": [
      "300/300 - 7s - loss: 0.9893 - accuracy: 0.8043\n",
      "Accuracy: 80.43%\n",
      "Loss: 98.93%\n"
     ]
    }
   ],
   "source": [
    "scores = loaded_model.evaluate(test_batches, verbose=2)\n",
    "print(\"Accuracy: %.2f%%\" % (scores[1]*100))\n",
    "print(\"Loss: %.2f%%\" % (scores[0]*100))"
   ]
  },
  {
   "cell_type": "markdown",
   "metadata": {
    "colab": {
     "base_uri": "https://localhost:8080/"
    },
    "executionInfo": {
     "elapsed": 1444054,
     "status": "ok",
     "timestamp": 1615583415200,
     "user": {
      "displayName": "Lisa Elli",
      "photoUrl": "",
      "userId": "06754712231658711937"
     },
     "user_tz": -60
    },
    "id": "TY7tN3BE62RB",
    "outputId": "fe3f86f2-25c7-4d7b-c4cf-5b4d4a8e0ebe",
    "pycharm": {
     "name": "#%% md\n"
    }
   },
   "source": [
    "### Testing the CNN"
   ]
  },
  {
   "cell_type": "code",
   "execution_count": 10,
   "metadata": {
    "execution": {
     "iopub.execute_input": "2021-03-24T21:01:36.264104Z",
     "iopub.status.busy": "2021-03-24T21:01:36.263648Z",
     "iopub.status.idle": "2021-03-24T21:01:43.688157Z",
     "shell.execute_reply": "2021-03-24T21:01:43.687812Z"
    },
    "id": "dgDtbkcv62RB",
    "pycharm": {
     "name": "#%%\n"
    }
   },
   "outputs": [],
   "source": [
    "predictions = loaded_model.predict(x=test_batches, steps=len(test_batches), verbose=0)"
   ]
  },
  {
   "cell_type": "markdown",
   "metadata": {
    "pycharm": {
     "name": "#%% md\n"
    }
   },
   "source": [
    "### Index of wrongly predicted pictures"
   ]
  },
  {
   "cell_type": "code",
   "execution_count": 11,
   "metadata": {
    "colab": {
     "base_uri": "https://localhost:8080/"
    },
    "execution": {
     "iopub.execute_input": "2021-03-24T21:01:43.691538Z",
     "iopub.status.busy": "2021-03-24T21:01:43.691014Z",
     "iopub.status.idle": "2021-03-24T21:01:43.700256Z",
     "shell.execute_reply": "2021-03-24T21:01:43.699903Z"
    },
    "executionInfo": {
     "elapsed": 36,
     "status": "ok",
     "timestamp": 1615583415203,
     "user": {
      "displayName": "Lisa Elli",
      "photoUrl": "",
      "userId": "06754712231658711937"
     },
     "user_tz": -60
    },
    "id": "BUVqnVNn62RB",
    "outputId": "ac9e5b05-f3b2-4559-9c59-1e518fa52302",
    "pycharm": {
     "name": "#%%\n"
    }
   },
   "outputs": [],
   "source": [
    "y_true=test_batches.classes\n",
    "y_pred=np.argmax(predictions, axis=-1)\n",
    "cm = confusion_matrix(y_true = y_true, y_pred = y_pred)"
   ]
  },
  {
   "cell_type": "code",
   "execution_count": 12,
   "metadata": {
    "execution": {
     "iopub.execute_input": "2021-03-24T21:01:43.711621Z",
     "iopub.status.busy": "2021-03-24T21:01:43.711167Z",
     "iopub.status.idle": "2021-03-24T21:01:43.713621Z",
     "shell.execute_reply": "2021-03-24T21:01:43.713207Z"
    },
    "id": "ZJwZjSBg62RB",
    "pycharm": {
     "name": "#%%\n"
    }
   },
   "outputs": [
    {
     "name": "stdout",
     "output_type": "stream",
     "text": [
      "Data from class 'face', that was wrongly predicted as 'no-face' [ 474 ] :\n",
      "[8001, 8005, 8010, 8012, 8017, 8019, 8020, 8022, 8023, 8026, 8028, 8032, 8034, 8035, 8036, 8039, 8040, 8047, 8049, 8054, 8059, 8061, 8065, 8068, 8075, 8082, 8090, 8093, 8095, 8108, 8113, 8121, 8122, 8130, 8133, 8135, 8136, 8137, 8141, 8142, 8156, 8160, 8169, 8172, 8174, 8179, 8184, 8186, 8187, 8188, 8193, 8194, 8195, 8197, 8200, 8202, 8207, 8217, 8219, 8224, 8225, 8231, 8234, 8237, 8239, 8249, 8250, 8251, 8254, 8256, 8257, 8262, 8266, 8267, 8269, 8280, 8293, 8298, 8299, 8302, 8304, 8305, 8308, 8312, 8319, 8325, 8326, 8327, 8331, 8336, 8343, 8345, 8348, 8349, 8354, 8356, 8359, 8362, 8366, 8368, 8369, 8370, 8371, 8372, 8375, 8376, 8378, 8380, 8382, 8384, 8385, 8391, 8396, 8397, 8399, 8402, 8404, 8406, 8408, 8411, 8412, 8420, 8426, 8428, 8431, 8435, 8436, 8439, 8440, 8442, 8449, 8450, 8453, 8457, 8461, 8462, 8465, 8468, 8471, 8473, 8475, 8476, 8478, 8479, 8483, 8484, 8486, 8489, 8500, 9002, 9006, 9007, 9008, 9009, 9010, 9014, 9016, 9017, 9018, 9019, 9020, 9022, 9023, 9025, 9027, 9029, 9032, 9034, 9035, 9038, 9039, 9040, 9041, 9043, 9044, 9045, 9046, 9047, 9048, 9049, 9052, 9053, 9055, 9060, 9064, 9065, 9066, 9067, 9071, 9072, 9073, 9074, 9076, 9077, 9078, 9080, 9083, 9085, 9087, 9088, 9095, 9097, 9098, 9100, 9101, 9102, 9103, 9104, 9105, 9107, 9108, 9113, 9115, 9116, 9118, 9119, 9120, 9121, 9122, 9123, 9125, 9126, 9128, 9129, 9131, 9132, 9133, 9134, 9135, 9136, 9137, 9139, 9140, 9141, 9142, 9143, 9144, 9145, 9147, 9149, 9152, 9155, 9156, 9158, 9161, 9165, 9166, 9167, 9168, 9169, 9170, 9172, 9173, 9174, 9175, 9176, 9177, 9178, 9179, 9181, 9182, 9183, 9184, 9186, 9189, 9190, 9191, 9192, 9195, 9196, 9198, 9199, 9200, 9201, 9202, 9203, 9206, 9208, 9210, 9211, 9213, 9215, 9216, 9218, 9219, 9220, 9223, 9224, 9227, 9228, 9230, 9231, 9232, 9233, 9234, 9235, 9236, 9237, 9239, 9240, 9243, 9244, 9246, 9247, 9248, 9249, 9250, 9251, 9252, 9253, 9254, 9256, 9257, 9259, 9261, 9262, 9263, 9264, 9265, 9266, 9267, 9268, 9269, 9270, 9271, 9272, 9275, 9277, 9279, 9280, 9281, 9282, 9283, 9284, 9285, 9286, 9287, 9289, 9290, 9291, 9293, 9295, 9297, 9299, 9300, 9301, 9302, 9304, 9305, 9308, 9309, 9310, 9311, 9312, 9313, 9315, 9319, 9320, 9321, 9322, 9325, 9326, 9327, 9328, 9331, 9332, 9333, 9334, 9338, 9339, 9340, 9341, 9342, 9344, 9345, 9347, 9349, 9352, 9356, 9360, 9362, 9363, 9365, 9366, 9367, 9368, 9369, 9370, 9372, 9373, 9376, 9377, 9378, 9379, 9380, 9381, 9382, 9383, 9384, 9385, 9386, 9388, 9389, 9390, 9391, 9392, 9394, 9395, 9396, 9397, 9398, 9399, 9402, 9403, 9404, 9405, 9406, 9407, 9411, 9412, 9413, 9415, 9418, 9419, 9422, 9424, 9427, 9429, 9430, 9431, 9432, 9433, 9434, 9435, 9436, 9437, 9439, 9440, 9442, 9444, 9445, 9446, 9447, 9449, 9450, 9453, 9454, 9456, 9458, 9459, 9460, 9461, 9462, 9463, 9464, 9467, 9468, 9469, 9471, 9472, 9473, 9476, 9477, 9478, 9482, 9484, 9487, 9491, 9493, 9494, 9496, 9497, 9498, 9499]\n",
      "----------------------------------------------------------------------------------------------\n",
      "Data from class 'no-face', that was wrongly predicted as 'face' [ 113 ] :\n",
      "[8002, 8007, 8013, 8024, 8041, 8054, 8057, 8077, 8079, 8082, 8085, 8091, 8101, 8102, 8121, 8130, 8131, 8145, 8146, 8154, 8164, 8167, 8182, 8185, 8188, 8191, 8195, 8202, 8211, 8220, 8255, 8266, 8276, 8281, 8282, 8285, 8288, 8289, 8295, 8297, 8301, 8328, 8358, 8360, 8361, 8362, 8364, 8392, 8394, 8403, 8414, 8419, 8423, 8459, 8472, 8487, 8493, 9003, 9015, 9023, 9034, 9039, 9041, 9046, 9061, 9062, 9066, 9078, 9095, 9098, 9110, 9116, 9123, 9128, 9133, 9138, 9139, 9148, 9153, 9173, 9177, 9190, 9194, 9196, 9197, 9231, 9262, 9264, 9268, 9272, 9278, 9316, 9318, 9321, 9334, 9338, 9350, 9361, 9365, 9367, 9423, 9436, 9443, 9447, 9450, 9457, 9459, 9461, 9464, 9472, 9477, 9491, 9500]\n"
     ]
    }
   ],
   "source": [
    "face_but_predicted_no_face=[]\n",
    "no_face_but_predicted_face=[]\n",
    "\n",
    "for i in range(len(predictions)):\n",
    "        if y_true[i] != y_pred[i]:\n",
    "            if y_true[i] == 1:\n",
    "                face_but_predicted_no_face.append(i+8001-1500) #Index of file on disk\n",
    "            else:\n",
    "                no_face_but_predicted_face.append(i+8001) #Index of file on disk\n",
    "\n",
    "print(\"Data from class 'face', that was wrongly predicted as 'no-face' [\", len(face_but_predicted_no_face), \"] :\")\n",
    "print(face_but_predicted_no_face)\n",
    "print(\"----------------------------------------------------------------------------------------------\")\n",
    "print(\"Data from class 'no-face', that was wrongly predicted as 'face' [\", len(no_face_but_predicted_face), \"] :\")\n",
    "print(no_face_but_predicted_face)"
   ]
  },
  {
   "cell_type": "markdown",
   "metadata": {
    "colab": {
     "base_uri": "https://localhost:8080/"
    },
    "executionInfo": {
     "elapsed": 46,
     "status": "ok",
     "timestamp": 1615583415708,
     "user": {
      "displayName": "Lisa Elli",
      "photoUrl": "",
      "userId": "06754712231658711937"
     },
     "user_tz": -60
    },
    "id": "KfQRdJ2n62RC",
    "outputId": "0447f407-8758-4ab8-9acb-585653323105",
    "pycharm": {
     "name": "#%% md\n"
    }
   },
   "source": [
    "### Confusion matrix"
   ]
  },
  {
   "cell_type": "code",
   "execution_count": 13,
   "metadata": {
    "execution": {
     "iopub.execute_input": "2021-03-24T21:01:43.718916Z",
     "iopub.status.busy": "2021-03-24T21:01:43.718497Z",
     "iopub.status.idle": "2021-03-24T21:01:43.720080Z",
     "shell.execute_reply": "2021-03-24T21:01:43.720466Z"
    }
   },
   "outputs": [],
   "source": [
    "def plot_confusion_matrix(cm, classes,\n",
    "                          normalize=False,\n",
    "                          title='Confusion matrix',\n",
    "                          cmap=plt.cm.Blues):\n",
    "\n",
    "    plt.imshow(cm, interpolation='nearest', cmap=cmap)\n",
    "    plt.title(title)\n",
    "    plt.colorbar()\n",
    "    tick_marks = np.arange(len(classes))\n",
    "    plt.xticks(tick_marks, classes, rotation=45)\n",
    "    plt.yticks(tick_marks, classes)\n",
    "\n",
    "    if normalize:\n",
    "        cm = cm.astype('float') / cm.sum(axis=1)[:, np.newaxis]\n",
    "        print(\"Normalized confusion matrix\")\n",
    "    else:\n",
    "        print('Confusion matrix, without normalization')\n",
    "\n",
    "    print(cm)\n",
    "\n",
    "    thresh = cm.max() / 2.\n",
    "    for i, j in itertools.product(range(cm.shape[0]), range(cm.shape[1])):\n",
    "        plt.text(j, i, cm[i, j],\n",
    "                 horizontalalignment=\"center\",\n",
    "                 color=\"white\" if cm[i, j] > thresh else \"black\")\n",
    "\n",
    "    plt.tight_layout()\n",
    "    plt.ylabel('True label')\n",
    "    plt.xlabel('Predicted label')"
   ]
  },
  {
   "cell_type": "code",
   "execution_count": 14,
   "metadata": {
    "execution": {
     "iopub.execute_input": "2021-03-24T21:01:43.725305Z",
     "iopub.status.busy": "2021-03-24T21:01:43.724864Z",
     "iopub.status.idle": "2021-03-24T21:01:43.727570Z",
     "shell.execute_reply": "2021-03-24T21:01:43.727169Z"
    },
    "id": "pXwZZiKy62RC",
    "pycharm": {
     "name": "#%%\n"
    }
   },
   "outputs": [
    {
     "data": {
      "text/plain": [
       "{'no_face': 0, 'face': 1}"
      ]
     },
     "execution_count": 1,
     "metadata": {},
     "output_type": "execute_result"
    }
   ],
   "source": [
    "test_batches.class_indices"
   ]
  },
  {
   "cell_type": "code",
   "execution_count": 15,
   "metadata": {
    "colab": {
     "base_uri": "https://localhost:8080/"
    },
    "execution": {
     "iopub.execute_input": "2021-03-24T21:01:43.746489Z",
     "iopub.status.busy": "2021-03-24T21:01:43.746095Z",
     "iopub.status.idle": "2021-03-24T21:01:43.873803Z",
     "shell.execute_reply": "2021-03-24T21:01:43.874233Z"
    },
    "executionInfo": {
     "elapsed": 8624,
     "status": "ok",
     "timestamp": 1615583424302,
     "user": {
      "displayName": "Lisa Elli",
      "photoUrl": "",
      "userId": "06754712231658711937"
     },
     "user_tz": -60
    },
    "id": "_1_vTnWO62RC",
    "outputId": "98311fcd-35bf-4383-ff77-d1a1b62291f2",
    "pycharm": {
     "name": "#%%\n"
    }
   },
   "outputs": [
    {
     "name": "stdout",
     "output_type": "stream",
     "text": [
      "Confusion matrix, without normalization\n",
      "[[1387  113]\n",
      " [ 474 1026]]\n"
     ]
    },
    {
     "data": {
      "image/png": "[encoded data removed]",
      "text/plain": [
       "<Figure size 432x288 with 2 Axes>"
      ]
     },
     "metadata": {
      "needs_background": "light"
     },
     "output_type": "display_data"
    }
   ],
   "source": [
    "cm_plot_labels = ['no_face','face']\n",
    "plot_confusion_matrix(cm=cm, classes=cm_plot_labels, title='Confusion Matrix')"
   ]
  }
 ],
 "metadata": {
  "kernelspec": {
   "display_name": "Python 3",
   "language": "python",
   "name": "python3"
  },
  "language_info": {
   "codemirror_mode": {
    "name": "ipython",
    "version": 3
   },
   "file_extension": ".py",
   "mimetype": "text/x-python",
   "name": "python",
   "nbconvert_exporter": "python",
   "pygments_lexer": "ipython3",
   "version": "3.8.5"
  }
 },
 "nbformat": 4,
 "nbformat_minor": 1
}
