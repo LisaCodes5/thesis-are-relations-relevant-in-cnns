{
 "cells": [
  {
   "cell_type": "markdown",
   "metadata": {
    "id": "O82TH2Vr62Qi"
   },
   "source": [
    "# Are Relations Relevant in CNNs? *A Study Based on a Facial Dataset*"
   ]
  },
  {
   "cell_type": "markdown",
   "metadata": {
    "id": "ehl8qgCC62Qx"
   },
   "source": [
    "## Testing CNN with Features Closer Together *(30 Epochs - 13 Layers)*"
   ]
  },
  {
   "cell_type": "markdown",
   "metadata": {
    "id": "3clj-ony62Q0",
    "pycharm": {
     "name": "#%% md\n"
    }
   },
   "source": [
    "### Imports, Seed, GPU integration"
   ]
  },
  {
   "cell_type": "code",
   "execution_count": 1,
   "metadata": {
    "execution": {
     "iopub.execute_input": "2021-03-24T21:02:21.580312Z",
     "iopub.status.busy": "2021-03-24T21:02:21.579835Z",
     "iopub.status.idle": "2021-03-24T21:02:22.796646Z",
     "shell.execute_reply": "2021-03-24T21:02:22.796151Z"
    },
    "id": "cnCaBFfp62Q2",
    "pycharm": {
     "name": "#%%\n"
    }
   },
   "outputs": [],
   "source": [
    "import numpy as np\n",
    "import random\n",
    "import tensorflow as tf"
   ]
  },
  {
   "cell_type": "code",
   "execution_count": 2,
   "metadata": {
    "execution": {
     "iopub.execute_input": "2021-03-24T21:02:22.799810Z",
     "iopub.status.busy": "2021-03-24T21:02:22.799418Z",
     "iopub.status.idle": "2021-03-24T21:02:22.801364Z",
     "shell.execute_reply": "2021-03-24T21:02:22.800947Z"
    },
    "id": "jsw3DKWp62Q4",
    "pycharm": {
     "name": "#%%\n"
    }
   },
   "outputs": [],
   "source": [
    "# Seeds for better reproducibility\n",
    "seed = 42\n",
    "np.random.seed(seed)\n",
    "random.seed(seed)\n",
    "tf.random.set_seed(seed)"
   ]
  },
  {
   "cell_type": "code",
   "execution_count": 3,
   "metadata": {
    "execution": {
     "iopub.execute_input": "2021-03-24T21:02:22.805218Z",
     "iopub.status.busy": "2021-03-24T21:02:22.804780Z",
     "iopub.status.idle": "2021-03-24T21:02:23.316189Z",
     "shell.execute_reply": "2021-03-24T21:02:23.315768Z"
    }
   },
   "outputs": [],
   "source": [
    "from tensorflow.keras.models import load_model\n",
    "from tensorflow.keras.preprocessing.image import ImageDataGenerator\n",
    "from sklearn.metrics import confusion_matrix\n",
    "import itertools\n",
    "import matplotlib.pyplot as plt\n",
    "import warnings\n",
    "warnings.simplefilter(action='ignore', category=FutureWarning)\n",
    "%matplotlib inline"
   ]
  },
  {
   "cell_type": "code",
   "execution_count": 4,
   "metadata": {
    "colab": {
     "base_uri": "https://localhost:8080/"
    },
    "execution": {
     "iopub.execute_input": "2021-03-24T21:02:23.359988Z",
     "iopub.status.busy": "2021-03-24T21:02:23.359140Z",
     "iopub.status.idle": "2021-03-24T21:02:23.361668Z",
     "shell.execute_reply": "2021-03-24T21:02:23.362071Z"
    },
    "executionInfo": {
     "elapsed": 19631,
     "status": "ok",
     "timestamp": 1615579393251,
     "user": {
      "displayName": "Lisa Elli",
      "photoUrl": "",
      "userId": "06754712231658711937"
     },
     "user_tz": -60
    },
    "id": "4vE5F4rX62Q4",
    "outputId": "bff035e6-71fc-433f-d1fd-7e794a4724fc",
    "pycharm": {
     "name": "#%%\n"
    }
   },
   "outputs": [
    {
     "name": "stdout",
     "output_type": "stream",
     "text": [
      "Num GPUs Available:  1\n"
     ]
    }
   ],
   "source": [
    "physical_devices = tf.config.experimental.list_physical_devices('GPU')\n",
    "print(\"Num GPUs Available: \", len(physical_devices))\n",
    "tf.config.experimental.set_memory_growth(physical_devices[0], True)"
   ]
  },
  {
   "cell_type": "markdown",
   "metadata": {
    "id": "wmGEalmo62Q7"
   },
   "source": [
    "### Data preparation"
   ]
  },
  {
   "cell_type": "code",
   "execution_count": 5,
   "metadata": {
    "execution": {
     "iopub.execute_input": "2021-03-24T21:02:23.364898Z",
     "iopub.status.busy": "2021-03-24T21:02:23.364492Z",
     "iopub.status.idle": "2021-03-24T21:02:23.366647Z",
     "shell.execute_reply": "2021-03-24T21:02:23.366240Z"
    },
    "id": "FdYjQ15w62Q7",
    "pycharm": {
     "name": "#%%\n"
    }
   },
   "outputs": [],
   "source": [
    "test_path = '../../../picasso_dataset/FCT-data/shifted/test'"
   ]
  },
  {
   "cell_type": "code",
   "execution_count": 6,
   "metadata": {
    "colab": {
     "base_uri": "https://localhost:8080/"
    },
    "execution": {
     "iopub.execute_input": "2021-03-24T21:02:23.370404Z",
     "iopub.status.busy": "2021-03-24T21:02:23.369994Z",
     "iopub.status.idle": "2021-03-24T21:02:23.445247Z",
     "shell.execute_reply": "2021-03-24T21:02:23.444807Z"
    },
    "executionInfo": {
     "elapsed": 15267,
     "status": "ok",
     "timestamp": 1615579393916,
     "user": {
      "displayName": "Lisa Elli",
      "photoUrl": "",
      "userId": "06754712231658711937"
     },
     "user_tz": -60
    },
    "id": "n_l3PW-_62Q7",
    "outputId": "8db7a694-024d-4e83-d2d7-0c75b63f3eb9",
    "pycharm": {
     "name": "#%%\n"
    }
   },
   "outputs": [
    {
     "name": "stdout",
     "output_type": "stream",
     "text": [
      "Found 3000 images belonging to 2 classes.\n"
     ]
    }
   ],
   "source": [
    "test_batches = ImageDataGenerator(preprocessing_function=tf.keras.applications.vgg16.preprocess_input) \\\n",
    "    .flow_from_directory(directory=test_path, target_size=(224,224), classes=['no_face', 'face'], batch_size=10, shuffle=False)"
   ]
  },
  {
   "cell_type": "code",
   "execution_count": 7,
   "metadata": {
    "execution": {
     "iopub.execute_input": "2021-03-24T21:02:23.448106Z",
     "iopub.status.busy": "2021-03-24T21:02:23.447645Z",
     "iopub.status.idle": "2021-03-24T21:02:23.449828Z",
     "shell.execute_reply": "2021-03-24T21:02:23.449219Z"
    },
    "id": "SbBy_3JT62Q8",
    "pycharm": {
     "name": "#%%\n"
    }
   },
   "outputs": [],
   "source": [
    "assert test_batches.n == 3000\n",
    "assert test_batches.num_classes == 2"
   ]
  },
  {
   "cell_type": "markdown",
   "metadata": {
    "id": "kgM-9Fbg62Q-"
   },
   "source": [
    "### Loading the trained CNN"
   ]
  },
  {
   "cell_type": "code",
   "execution_count": 8,
   "metadata": {
    "execution": {
     "iopub.execute_input": "2021-03-24T21:02:23.455533Z",
     "iopub.status.busy": "2021-03-24T21:02:23.453362Z",
     "iopub.status.idle": "2021-03-24T21:02:24.042304Z",
     "shell.execute_reply": "2021-03-24T21:02:24.041871Z"
    },
    "id": "Cdg3Plko62Q-",
    "pycharm": {
     "name": "#%%\n"
    }
   },
   "outputs": [],
   "source": [
    "filename='../models/CNN-FCT-30E-13L-02.h5'\n",
    "loaded_model = load_model(filename)"
   ]
  },
  {
   "cell_type": "markdown",
   "metadata": {
    "colab": {
     "base_uri": "https://localhost:8080/"
    },
    "executionInfo": {
     "elapsed": 5474,
     "status": "ok",
     "timestamp": 1615579399410,
     "user": {
      "displayName": "Lisa Elli",
      "photoUrl": "",
      "userId": "06754712231658711937"
     },
     "user_tz": -60
    },
    "id": "wtTJTaWatrgn",
    "outputId": "5e22cecc-bb59-456b-ceaa-d3986077141c",
    "pycharm": {
     "name": "#%% md\n"
    }
   },
   "source": [
    "### Accuracy and loss of the trained model"
   ]
  },
  {
   "cell_type": "code",
   "execution_count": 9,
   "metadata": {
    "execution": {
     "iopub.execute_input": "2021-03-24T21:02:24.045512Z",
     "iopub.status.busy": "2021-03-24T21:02:24.045074Z",
     "iopub.status.idle": "2021-03-24T21:02:32.499431Z",
     "shell.execute_reply": "2021-03-24T21:02:32.498998Z"
    },
    "id": "HYmld1gj62Q_",
    "pycharm": {
     "name": "#%%\n"
    }
   },
   "outputs": [
    {
     "name": "stdout",
     "output_type": "stream",
     "text": [
      "300/300 - 7s - loss: 1.0185 - accuracy: 0.8207\n",
      "Accuracy: 82.07%\n",
      "Loss: 101.85%\n"
     ]
    }
   ],
   "source": [
    "scores = loaded_model.evaluate(test_batches, verbose=2)\n",
    "print(\"Accuracy: %.2f%%\" % (scores[1]*100))\n",
    "print(\"Loss: %.2f%%\" % (scores[0]*100))"
   ]
  },
  {
   "cell_type": "markdown",
   "metadata": {
    "colab": {
     "base_uri": "https://localhost:8080/"
    },
    "executionInfo": {
     "elapsed": 1444054,
     "status": "ok",
     "timestamp": 1615583415200,
     "user": {
      "displayName": "Lisa Elli",
      "photoUrl": "",
      "userId": "06754712231658711937"
     },
     "user_tz": -60
    },
    "id": "TY7tN3BE62RB",
    "outputId": "fe3f86f2-25c7-4d7b-c4cf-5b4d4a8e0ebe",
    "pycharm": {
     "name": "#%% md\n"
    }
   },
   "source": [
    "### Testing the CNN"
   ]
  },
  {
   "cell_type": "code",
   "execution_count": 10,
   "metadata": {
    "execution": {
     "iopub.execute_input": "2021-03-24T21:02:32.503032Z",
     "iopub.status.busy": "2021-03-24T21:02:32.502635Z",
     "iopub.status.idle": "2021-03-24T21:02:39.980151Z",
     "shell.execute_reply": "2021-03-24T21:02:39.979527Z"
    },
    "id": "dgDtbkcv62RB",
    "pycharm": {
     "name": "#%%\n"
    }
   },
   "outputs": [],
   "source": [
    "predictions = loaded_model.predict(x=test_batches, steps=len(test_batches), verbose=0)"
   ]
  },
  {
   "cell_type": "markdown",
   "metadata": {
    "pycharm": {
     "name": "#%% md\n"
    }
   },
   "source": [
    "### Index of wrongly predicted pictures"
   ]
  },
  {
   "cell_type": "code",
   "execution_count": 11,
   "metadata": {
    "colab": {
     "base_uri": "https://localhost:8080/"
    },
    "execution": {
     "iopub.execute_input": "2021-03-24T21:02:39.983702Z",
     "iopub.status.busy": "2021-03-24T21:02:39.983274Z",
     "iopub.status.idle": "2021-03-24T21:02:39.992172Z",
     "shell.execute_reply": "2021-03-24T21:02:39.991731Z"
    },
    "executionInfo": {
     "elapsed": 36,
     "status": "ok",
     "timestamp": 1615583415203,
     "user": {
      "displayName": "Lisa Elli",
      "photoUrl": "",
      "userId": "06754712231658711937"
     },
     "user_tz": -60
    },
    "id": "BUVqnVNn62RB",
    "outputId": "ac9e5b05-f3b2-4559-9c59-1e518fa52302",
    "pycharm": {
     "name": "#%%\n"
    }
   },
   "outputs": [],
   "source": [
    "y_true=test_batches.classes\n",
    "y_pred=np.argmax(predictions, axis=-1)\n",
    "cm = confusion_matrix(y_true = y_true, y_pred = y_pred)"
   ]
  },
  {
   "cell_type": "code",
   "execution_count": 12,
   "metadata": {
    "execution": {
     "iopub.execute_input": "2021-03-24T21:02:40.003130Z",
     "iopub.status.busy": "2021-03-24T21:02:40.002698Z",
     "iopub.status.idle": "2021-03-24T21:02:40.004937Z",
     "shell.execute_reply": "2021-03-24T21:02:40.005248Z"
    },
    "id": "ZJwZjSBg62RB",
    "pycharm": {
     "name": "#%%\n"
    }
   },
   "outputs": [
    {
     "name": "stdout",
     "output_type": "stream",
     "text": [
      "Data from class 'face', that was wrongly predicted as 'no-face' [ 400 ] :\n",
      "[8001, 8019, 8020, 8022, 8023, 8035, 8039, 8061, 8065, 8068, 8075, 8095, 8122, 8133, 8135, 8136, 8160, 8169, 8172, 8174, 8179, 8184, 8186, 8188, 8193, 8194, 8197, 8200, 8202, 8217, 8219, 8225, 8231, 8234, 8239, 8249, 8257, 8266, 8269, 8280, 8293, 8298, 8299, 8302, 8304, 8305, 8326, 8327, 8331, 8354, 8356, 8359, 8362, 8366, 8368, 8370, 8375, 8378, 8382, 8397, 8402, 8406, 8408, 8411, 8435, 8440, 8449, 8462, 8465, 8471, 8473, 8476, 8478, 8479, 8484, 9002, 9006, 9008, 9009, 9010, 9014, 9016, 9017, 9019, 9020, 9022, 9023, 9024, 9025, 9027, 9029, 9032, 9034, 9035, 9036, 9038, 9039, 9040, 9041, 9043, 9045, 9046, 9047, 9048, 9049, 9052, 9053, 9055, 9059, 9060, 9064, 9065, 9066, 9067, 9070, 9071, 9072, 9074, 9077, 9078, 9080, 9083, 9085, 9087, 9088, 9095, 9098, 9100, 9101, 9102, 9103, 9104, 9105, 9107, 9108, 9113, 9114, 9115, 9116, 9118, 9119, 9120, 9121, 9122, 9123, 9126, 9128, 9130, 9131, 9132, 9133, 9134, 9135, 9136, 9137, 9138, 9139, 9140, 9141, 9142, 9143, 9145, 9147, 9149, 9152, 9155, 9156, 9158, 9164, 9165, 9166, 9167, 9168, 9170, 9172, 9173, 9174, 9176, 9177, 9178, 9179, 9181, 9182, 9183, 9184, 9186, 9189, 9190, 9191, 9192, 9195, 9196, 9198, 9199, 9200, 9201, 9202, 9203, 9205, 9206, 9208, 9209, 9210, 9211, 9213, 9215, 9216, 9218, 9220, 9223, 9224, 9227, 9228, 9230, 9231, 9232, 9233, 9234, 9235, 9236, 9237, 9239, 9240, 9243, 9244, 9246, 9247, 9248, 9249, 9250, 9251, 9252, 9253, 9254, 9256, 9257, 9258, 9259, 9261, 9262, 9263, 9264, 9265, 9266, 9267, 9268, 9269, 9270, 9271, 9272, 9273, 9275, 9276, 9277, 9279, 9280, 9281, 9282, 9283, 9284, 9285, 9286, 9287, 9290, 9291, 9293, 9295, 9297, 9299, 9300, 9301, 9302, 9304, 9307, 9308, 9309, 9310, 9311, 9312, 9313, 9315, 9319, 9320, 9321, 9322, 9325, 9326, 9328, 9329, 9331, 9332, 9333, 9338, 9341, 9342, 9344, 9345, 9347, 9348, 9349, 9351, 9352, 9354, 9360, 9362, 9364, 9366, 9367, 9368, 9369, 9370, 9372, 9373, 9376, 9377, 9378, 9379, 9380, 9381, 9382, 9384, 9385, 9386, 9387, 9388, 9389, 9390, 9391, 9392, 9393, 9394, 9395, 9396, 9397, 9398, 9399, 9402, 9403, 9404, 9405, 9406, 9407, 9411, 9412, 9413, 9415, 9419, 9422, 9424, 9425, 9426, 9427, 9429, 9430, 9431, 9432, 9433, 9435, 9436, 9437, 9440, 9441, 9442, 9444, 9445, 9446, 9447, 9449, 9450, 9453, 9454, 9456, 9458, 9459, 9460, 9461, 9462, 9463, 9464, 9467, 9468, 9469, 9471, 9472, 9473, 9476, 9477, 9478, 9479, 9480, 9482, 9484, 9487, 9491, 9492, 9493, 9496, 9497, 9498, 9499]\n",
      "----------------------------------------------------------------------------------------------\n",
      "Data from class 'no-face', that was wrongly predicted as 'face' [ 138 ] :\n",
      "[8002, 8006, 8007, 8009, 8013, 8015, 8018, 8021, 8024, 8035, 8039, 8041, 8047, 8051, 8054, 8062, 8067, 8077, 8079, 8085, 8091, 8101, 8102, 8112, 8121, 8126, 8130, 8131, 8145, 8146, 8154, 8162, 8164, 8167, 8179, 8182, 8183, 8185, 8188, 8191, 8195, 8199, 8202, 8203, 8211, 8220, 8248, 8250, 8255, 8266, 8270, 8276, 8281, 8282, 8288, 8289, 8295, 8297, 8301, 8307, 8308, 8313, 8322, 8328, 8329, 8337, 8354, 8355, 8358, 8360, 8361, 8364, 8375, 8380, 8382, 8392, 8394, 8403, 8407, 8409, 8411, 8414, 8419, 8423, 8431, 8449, 8454, 8459, 8463, 8470, 8474, 8479, 8487, 8493, 9022, 9034, 9039, 9041, 9046, 9055, 9062, 9066, 9110, 9116, 9128, 9133, 9138, 9139, 9148, 9153, 9173, 9177, 9190, 9194, 9196, 9227, 9231, 9262, 9268, 9272, 9278, 9313, 9316, 9318, 9321, 9334, 9350, 9361, 9436, 9443, 9447, 9457, 9461, 9464, 9472, 9477, 9491, 9496]\n"
     ]
    }
   ],
   "source": [
    "face_but_predicted_no_face=[]\n",
    "no_face_but_predicted_face=[]\n",
    "\n",
    "for i in range(len(predictions)):\n",
    "        if y_true[i] != y_pred[i]:\n",
    "            if y_true[i] == 1:\n",
    "                face_but_predicted_no_face.append(i+8001-1500) #Index of file on disk\n",
    "            else:\n",
    "                no_face_but_predicted_face.append(i+8001) #Index of file on disk\n",
    "\n",
    "print(\"Data from class 'face', that was wrongly predicted as 'no-face' [\", len(face_but_predicted_no_face), \"] :\")\n",
    "print(face_but_predicted_no_face)\n",
    "print(\"----------------------------------------------------------------------------------------------\")\n",
    "print(\"Data from class 'no-face', that was wrongly predicted as 'face' [\", len(no_face_but_predicted_face), \"] :\")\n",
    "print(no_face_but_predicted_face)"
   ]
  },
  {
   "cell_type": "markdown",
   "metadata": {
    "colab": {
     "base_uri": "https://localhost:8080/"
    },
    "executionInfo": {
     "elapsed": 46,
     "status": "ok",
     "timestamp": 1615583415708,
     "user": {
      "displayName": "Lisa Elli",
      "photoUrl": "",
      "userId": "06754712231658711937"
     },
     "user_tz": -60
    },
    "id": "KfQRdJ2n62RC",
    "outputId": "0447f407-8758-4ab8-9acb-585653323105",
    "pycharm": {
     "name": "#%% md\n"
    }
   },
   "source": [
    "### Confusion matrix"
   ]
  },
  {
   "cell_type": "code",
   "execution_count": 13,
   "metadata": {
    "execution": {
     "iopub.execute_input": "2021-03-24T21:02:40.010733Z",
     "iopub.status.busy": "2021-03-24T21:02:40.010316Z",
     "iopub.status.idle": "2021-03-24T21:02:40.012428Z",
     "shell.execute_reply": "2021-03-24T21:02:40.012011Z"
    }
   },
   "outputs": [],
   "source": [
    "def plot_confusion_matrix(cm, classes,\n",
    "                          normalize=False,\n",
    "                          title='Confusion matrix',\n",
    "                          cmap=plt.cm.Blues):\n",
    "\n",
    "    plt.imshow(cm, interpolation='nearest', cmap=cmap)\n",
    "    plt.title(title)\n",
    "    plt.colorbar()\n",
    "    tick_marks = np.arange(len(classes))\n",
    "    plt.xticks(tick_marks, classes, rotation=45)\n",
    "    plt.yticks(tick_marks, classes)\n",
    "\n",
    "    if normalize:\n",
    "        cm = cm.astype('float') / cm.sum(axis=1)[:, np.newaxis]\n",
    "        print(\"Normalized confusion matrix\")\n",
    "    else:\n",
    "        print('Confusion matrix, without normalization')\n",
    "\n",
    "    print(cm)\n",
    "\n",
    "    thresh = cm.max() / 2.\n",
    "    for i, j in itertools.product(range(cm.shape[0]), range(cm.shape[1])):\n",
    "        plt.text(j, i, cm[i, j],\n",
    "                 horizontalalignment=\"center\",\n",
    "                 color=\"white\" if cm[i, j] > thresh else \"black\")\n",
    "\n",
    "    plt.tight_layout()\n",
    "    plt.ylabel('True label')\n",
    "    plt.xlabel('Predicted label')"
   ]
  },
  {
   "cell_type": "code",
   "execution_count": 14,
   "metadata": {
    "execution": {
     "iopub.execute_input": "2021-03-24T21:02:40.016972Z",
     "iopub.status.busy": "2021-03-24T21:02:40.016553Z",
     "iopub.status.idle": "2021-03-24T21:02:40.019271Z",
     "shell.execute_reply": "2021-03-24T21:02:40.018925Z"
    },
    "id": "pXwZZiKy62RC",
    "pycharm": {
     "name": "#%%\n"
    }
   },
   "outputs": [
    {
     "data": {
      "text/plain": [
       "{'no_face': 0, 'face': 1}"
      ]
     },
     "execution_count": 1,
     "metadata": {},
     "output_type": "execute_result"
    }
   ],
   "source": [
    "test_batches.class_indices"
   ]
  },
  {
   "cell_type": "code",
   "execution_count": 15,
   "metadata": {
    "colab": {
     "base_uri": "https://localhost:8080/"
    },
    "execution": {
     "iopub.execute_input": "2021-03-24T21:02:40.057197Z",
     "iopub.status.busy": "2021-03-24T21:02:40.049643Z",
     "iopub.status.idle": "2021-03-24T21:02:40.168733Z",
     "shell.execute_reply": "2021-03-24T21:02:40.169140Z"
    },
    "executionInfo": {
     "elapsed": 8624,
     "status": "ok",
     "timestamp": 1615583424302,
     "user": {
      "displayName": "Lisa Elli",
      "photoUrl": "",
      "userId": "06754712231658711937"
     },
     "user_tz": -60
    },
    "id": "_1_vTnWO62RC",
    "outputId": "98311fcd-35bf-4383-ff77-d1a1b62291f2",
    "pycharm": {
     "name": "#%%\n"
    }
   },
   "outputs": [
    {
     "name": "stdout",
     "output_type": "stream",
     "text": [
      "Confusion matrix, without normalization\n",
      "[[1362  138]\n",
      " [ 400 1100]]\n"
     ]
    },
    {
     "data": {
      "image/png": "[encoded data removed]",
      "text/plain": [
       "<Figure size 432x288 with 2 Axes>"
      ]
     },
     "metadata": {
      "needs_background": "light"
     },
     "output_type": "display_data"
    }
   ],
   "source": [
    "cm_plot_labels = ['no_face','face']\n",
    "plot_confusion_matrix(cm=cm, classes=cm_plot_labels, title='Confusion Matrix')"
   ]
  }
 ],
 "metadata": {
  "kernelspec": {
   "display_name": "Python 3",
   "language": "python",
   "name": "python3"
  },
  "language_info": {
   "codemirror_mode": {
    "name": "ipython",
    "version": 3
   },
   "file_extension": ".py",
   "mimetype": "text/x-python",
   "name": "python",
   "nbconvert_exporter": "python",
   "pygments_lexer": "ipython3",
   "version": "3.8.5"
  }
 },
 "nbformat": 4,
 "nbformat_minor": 1
}
