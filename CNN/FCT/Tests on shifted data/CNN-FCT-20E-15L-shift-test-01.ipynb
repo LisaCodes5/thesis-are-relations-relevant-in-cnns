{
 "cells": [
  {
   "cell_type": "markdown",
   "metadata": {
    "id": "O82TH2Vr62Qi"
   },
   "source": [
    "# Are Relations Relevant in CNNs? *A Study Based on a Facial Dataset*"
   ]
  },
  {
   "cell_type": "markdown",
   "metadata": {
    "id": "ehl8qgCC62Qx"
   },
   "source": [
    "## Testing CNN with Features Closer Together *(20 Epochs - 15 Layers)*"
   ]
  },
  {
   "cell_type": "markdown",
   "metadata": {
    "id": "cnCaBFfp62Q2",
    "pycharm": {
     "name": "#%% md\n"
    }
   },
   "source": [
    "### Imports, Seed, GPU integration"
   ]
  },
  {
   "cell_type": "code",
   "execution_count": 1,
   "metadata": {
    "execution": {
     "iopub.execute_input": "2021-03-24T21:02:42.510130Z",
     "iopub.status.busy": "2021-03-24T21:02:42.509428Z",
     "iopub.status.idle": "2021-03-24T21:02:43.730131Z",
     "shell.execute_reply": "2021-03-24T21:02:43.730460Z"
    },
    "pycharm": {
     "name": "#%%\n"
    }
   },
   "outputs": [],
   "source": [
    "import numpy as np\n",
    "import random\n",
    "import tensorflow as tf"
   ]
  },
  {
   "cell_type": "code",
   "execution_count": 2,
   "metadata": {
    "execution": {
     "iopub.execute_input": "2021-03-24T21:02:43.733928Z",
     "iopub.status.busy": "2021-03-24T21:02:43.733531Z",
     "iopub.status.idle": "2021-03-24T21:02:43.736577Z",
     "shell.execute_reply": "2021-03-24T21:02:43.735952Z"
    },
    "id": "jsw3DKWp62Q4",
    "pycharm": {
     "name": "#%%\n"
    }
   },
   "outputs": [],
   "source": [
    "# Seeds for better reproducibility\n",
    "seed = 42\n",
    "np.random.seed(seed)\n",
    "random.seed(seed)\n",
    "tf.random.set_seed(seed)"
   ]
  },
  {
   "cell_type": "code",
   "execution_count": 3,
   "metadata": {
    "execution": {
     "iopub.execute_input": "2021-03-24T21:02:43.740669Z",
     "iopub.status.busy": "2021-03-24T21:02:43.740267Z",
     "iopub.status.idle": "2021-03-24T21:02:44.241228Z",
     "shell.execute_reply": "2021-03-24T21:02:44.241572Z"
    }
   },
   "outputs": [],
   "source": [
    "from tensorflow.keras.models import load_model\n",
    "from tensorflow.keras.preprocessing.image import ImageDataGenerator\n",
    "from sklearn.metrics import confusion_matrix\n",
    "import itertools\n",
    "import matplotlib.pyplot as plt\n",
    "import warnings\n",
    "warnings.simplefilter(action='ignore', category=FutureWarning)\n",
    "%matplotlib inline"
   ]
  },
  {
   "cell_type": "code",
   "execution_count": 4,
   "metadata": {
    "colab": {
     "base_uri": "https://localhost:8080/"
    },
    "execution": {
     "iopub.execute_input": "2021-03-24T21:02:44.285191Z",
     "iopub.status.busy": "2021-03-24T21:02:44.284714Z",
     "iopub.status.idle": "2021-03-24T21:02:44.287108Z",
     "shell.execute_reply": "2021-03-24T21:02:44.287435Z"
    },
    "executionInfo": {
     "elapsed": 19631,
     "status": "ok",
     "timestamp": 1615579393251,
     "user": {
      "displayName": "Lisa Elli",
      "photoUrl": "",
      "userId": "06754712231658711937"
     },
     "user_tz": -60
    },
    "id": "4vE5F4rX62Q4",
    "outputId": "bff035e6-71fc-433f-d1fd-7e794a4724fc",
    "pycharm": {
     "name": "#%%\n"
    }
   },
   "outputs": [
    {
     "name": "stdout",
     "output_type": "stream",
     "text": [
      "Num GPUs Available:  1\n"
     ]
    }
   ],
   "source": [
    "physical_devices = tf.config.experimental.list_physical_devices('GPU')\n",
    "print(\"Num GPUs Available: \", len(physical_devices))\n",
    "tf.config.experimental.set_memory_growth(physical_devices[0], True)"
   ]
  },
  {
   "cell_type": "markdown",
   "metadata": {
    "id": "wmGEalmo62Q7"
   },
   "source": [
    "### Data preparation"
   ]
  },
  {
   "cell_type": "code",
   "execution_count": 5,
   "metadata": {
    "execution": {
     "iopub.execute_input": "2021-03-24T21:02:44.290194Z",
     "iopub.status.busy": "2021-03-24T21:02:44.289784Z",
     "iopub.status.idle": "2021-03-24T21:02:44.291688Z",
     "shell.execute_reply": "2021-03-24T21:02:44.292225Z"
    },
    "id": "FdYjQ15w62Q7",
    "pycharm": {
     "name": "#%%\n"
    }
   },
   "outputs": [],
   "source": [
    "test_path = '../../../picasso_dataset/FCT-data/shifted/test'"
   ]
  },
  {
   "cell_type": "code",
   "execution_count": 6,
   "metadata": {
    "colab": {
     "base_uri": "https://localhost:8080/"
    },
    "execution": {
     "iopub.execute_input": "2021-03-24T21:02:44.296005Z",
     "iopub.status.busy": "2021-03-24T21:02:44.295543Z",
     "iopub.status.idle": "2021-03-24T21:02:44.372441Z",
     "shell.execute_reply": "2021-03-24T21:02:44.371973Z"
    },
    "executionInfo": {
     "elapsed": 15267,
     "status": "ok",
     "timestamp": 1615579393916,
     "user": {
      "displayName": "Lisa Elli",
      "photoUrl": "",
      "userId": "06754712231658711937"
     },
     "user_tz": -60
    },
    "id": "n_l3PW-_62Q7",
    "outputId": "8db7a694-024d-4e83-d2d7-0c75b63f3eb9",
    "pycharm": {
     "name": "#%%\n"
    }
   },
   "outputs": [
    {
     "name": "stdout",
     "output_type": "stream",
     "text": [
      "Found 3000 images belonging to 2 classes.\n"
     ]
    }
   ],
   "source": [
    "test_batches = ImageDataGenerator(preprocessing_function=tf.keras.applications.vgg16.preprocess_input) \\\n",
    "    .flow_from_directory(directory=test_path, target_size=(224,224), classes=['no_face', 'face'], batch_size=10, shuffle=False)"
   ]
  },
  {
   "cell_type": "code",
   "execution_count": 7,
   "metadata": {
    "execution": {
     "iopub.execute_input": "2021-03-24T21:02:44.375507Z",
     "iopub.status.busy": "2021-03-24T21:02:44.375077Z",
     "iopub.status.idle": "2021-03-24T21:02:44.377101Z",
     "shell.execute_reply": "2021-03-24T21:02:44.376667Z"
    },
    "id": "SbBy_3JT62Q8",
    "pycharm": {
     "name": "#%%\n"
    }
   },
   "outputs": [],
   "source": [
    "assert test_batches.n == 3000\n",
    "assert test_batches.num_classes == 2"
   ]
  },
  {
   "cell_type": "markdown",
   "metadata": {
    "id": "ZJwZjSBg62RB",
    "pycharm": {
     "name": "#%% md\n"
    }
   },
   "source": [
    "### Loading the trained CNN"
   ]
  },
  {
   "cell_type": "code",
   "execution_count": 8,
   "metadata": {
    "colab": {
     "base_uri": "https://localhost:8080/"
    },
    "execution": {
     "iopub.execute_input": "2021-03-24T21:02:44.380689Z",
     "iopub.status.busy": "2021-03-24T21:02:44.380211Z",
     "iopub.status.idle": "2021-03-24T21:02:44.979077Z",
     "shell.execute_reply": "2021-03-24T21:02:44.979425Z"
    },
    "executionInfo": {
     "elapsed": 46,
     "status": "ok",
     "timestamp": 1615583415708,
     "user": {
      "displayName": "Lisa Elli",
      "photoUrl": "",
      "userId": "06754712231658711937"
     },
     "user_tz": -60
    },
    "id": "KfQRdJ2n62RC",
    "outputId": "0447f407-8758-4ab8-9acb-585653323105",
    "pycharm": {
     "name": "#%%\n"
    }
   },
   "outputs": [],
   "source": [
    "filename='../models/CNN-FCT-20E-15L-01.h5'\n",
    "loaded_model = load_model(filename)"
   ]
  },
  {
   "cell_type": "markdown",
   "metadata": {
    "id": "pXwZZiKy62RC",
    "pycharm": {
     "name": "#%% md\n"
    }
   },
   "source": [
    "### Accuracy and loss of the trained model"
   ]
  },
  {
   "cell_type": "code",
   "execution_count": 9,
   "metadata": {
    "colab": {
     "base_uri": "https://localhost:8080/"
    },
    "execution": {
     "iopub.execute_input": "2021-03-24T21:02:44.982533Z",
     "iopub.status.busy": "2021-03-24T21:02:44.982084Z",
     "iopub.status.idle": "2021-03-24T21:02:53.392485Z",
     "shell.execute_reply": "2021-03-24T21:02:53.392065Z"
    },
    "executionInfo": {
     "elapsed": 8624,
     "status": "ok",
     "timestamp": 1615583424302,
     "user": {
      "displayName": "Lisa Elli",
      "photoUrl": "",
      "userId": "06754712231658711937"
     },
     "user_tz": -60
    },
    "id": "_1_vTnWO62RC",
    "outputId": "98311fcd-35bf-4383-ff77-d1a1b62291f2",
    "pycharm": {
     "name": "#%%\n"
    }
   },
   "outputs": [
    {
     "name": "stdout",
     "output_type": "stream",
     "text": [
      "300/300 - 7s - loss: 0.6838 - accuracy: 0.8373\n",
      "Accuracy: 83.73%\n",
      "Loss: 68.38%\n"
     ]
    }
   ],
   "source": [
    "scores = loaded_model.evaluate(test_batches, verbose=2)\n",
    "print(\"Accuracy: %.2f%%\" % (scores[1]*100))\n",
    "print(\"Loss: %.2f%%\" % (scores[0]*100))"
   ]
  },
  {
   "cell_type": "markdown",
   "metadata": {
    "id": "-Dfs319f62RC"
   },
   "source": [
    "### Testing the CNN"
   ]
  },
  {
   "cell_type": "code",
   "execution_count": 10,
   "metadata": {
    "execution": {
     "iopub.execute_input": "2021-03-24T21:02:53.396496Z",
     "iopub.status.busy": "2021-03-24T21:02:53.395995Z",
     "iopub.status.idle": "2021-03-24T21:03:00.837618Z",
     "shell.execute_reply": "2021-03-24T21:03:00.837201Z"
    },
    "executionInfo": {
     "elapsed": 8234,
     "status": "ok",
     "timestamp": 1615586642347,
     "user": {
      "displayName": "Lisa Elli",
      "photoUrl": "",
      "userId": "06754712231658711937"
     },
     "user_tz": -60
    },
    "id": "cnM7Y7Au62RD",
    "pycharm": {
     "name": "#%%\n"
    }
   },
   "outputs": [],
   "source": [
    "predictions = loaded_model.predict(x=test_batches, steps=len(test_batches), verbose=0)"
   ]
  },
  {
   "cell_type": "markdown",
   "metadata": {
    "id": "R2kk-gQX62RE",
    "pycharm": {
     "name": "#%% md\n"
    }
   },
   "source": [
    "### Index of wrongly predicted pictures"
   ]
  },
  {
   "cell_type": "code",
   "execution_count": 11,
   "metadata": {
    "execution": {
     "iopub.execute_input": "2021-03-24T21:03:00.840917Z",
     "iopub.status.busy": "2021-03-24T21:03:00.840525Z",
     "iopub.status.idle": "2021-03-24T21:03:00.849359Z",
     "shell.execute_reply": "2021-03-24T21:03:00.848926Z"
    },
    "executionInfo": {
     "elapsed": 604,
     "status": "ok",
     "timestamp": 1615586643749,
     "user": {
      "displayName": "Lisa Elli",
      "photoUrl": "",
      "userId": "06754712231658711937"
     },
     "user_tz": -60
    },
    "id": "5Kt0jsFB62RE",
    "pycharm": {
     "name": "#%%\n"
    }
   },
   "outputs": [],
   "source": [
    "y_true=test_batches.classes\n",
    "y_pred=np.argmax(predictions, axis=-1)\n",
    "cm = confusion_matrix(y_true = y_true, y_pred = y_pred)"
   ]
  },
  {
   "cell_type": "code",
   "execution_count": 12,
   "metadata": {
    "colab": {
     "base_uri": "https://localhost:8080/"
    },
    "execution": {
     "iopub.execute_input": "2021-03-24T21:03:00.860450Z",
     "iopub.status.busy": "2021-03-24T21:03:00.860019Z",
     "iopub.status.idle": "2021-03-24T21:03:00.862783Z",
     "shell.execute_reply": "2021-03-24T21:03:00.862368Z"
    },
    "executionInfo": {
     "elapsed": 881,
     "status": "ok",
     "timestamp": 1615586646608,
     "user": {
      "displayName": "Lisa Elli",
      "photoUrl": "",
      "userId": "06754712231658711937"
     },
     "user_tz": -60
    },
    "id": "aSzFxBUy62RE",
    "outputId": "45c28aa2-5183-46c6-dc0a-901668a61137",
    "pycharm": {
     "name": "#%%\n"
    }
   },
   "outputs": [
    {
     "name": "stdout",
     "output_type": "stream",
     "text": [
      "Data from class 'face', that was wrongly predicted as 'no-face' [ 474 ] :\n",
      "[8005, 8010, 8012, 8017, 8019, 8020, 8021, 8022, 8023, 8026, 8034, 8035, 8036, 8039, 8049, 8054, 8056, 8065, 8068, 8075, 8090, 8095, 8096, 8108, 8113, 8116, 8120, 8122, 8133, 8135, 8136, 8137, 8142, 8144, 8146, 8149, 8153, 8160, 8161, 8162, 8172, 8179, 8182, 8186, 8188, 8193, 8194, 8197, 8200, 8201, 8207, 8217, 8218, 8219, 8225, 8231, 8240, 8246, 8254, 8259, 8266, 8280, 8291, 8293, 8295, 8296, 8298, 8299, 8302, 8304, 8309, 8312, 8318, 8324, 8326, 8327, 8331, 8343, 8348, 8349, 8354, 8356, 8359, 8362, 8366, 8367, 8370, 8371, 8375, 8378, 8382, 8391, 8402, 8404, 8406, 8409, 8411, 8426, 8434, 8435, 8439, 8440, 8441, 8444, 8448, 8449, 8450, 8456, 8462, 8471, 8473, 8476, 8478, 8480, 8482, 8484, 8487, 8490, 8491, 8494, 8496, 8498, 9002, 9003, 9005, 9006, 9008, 9009, 9010, 9014, 9015, 9016, 9019, 9020, 9022, 9023, 9024, 9025, 9027, 9029, 9030, 9032, 9033, 9034, 9035, 9036, 9038, 9039, 9041, 9042, 9043, 9045, 9046, 9047, 9048, 9049, 9052, 9053, 9058, 9059, 9061, 9062, 9063, 9064, 9065, 9066, 9067, 9069, 9071, 9072, 9073, 9074, 9075, 9077, 9078, 9080, 9083, 9085, 9088, 9092, 9097, 9098, 9100, 9101, 9102, 9103, 9104, 9105, 9106, 9107, 9108, 9109, 9111, 9112, 9113, 9114, 9115, 9118, 9119, 9120, 9121, 9122, 9123, 9125, 9129, 9130, 9131, 9132, 9135, 9136, 9137, 9139, 9140, 9141, 9142, 9143, 9145, 9146, 9147, 9148, 9149, 9151, 9152, 9155, 9156, 9158, 9159, 9166, 9167, 9168, 9170, 9172, 9173, 9174, 9177, 9179, 9180, 9181, 9182, 9183, 9184, 9186, 9189, 9190, 9191, 9192, 9194, 9195, 9196, 9198, 9199, 9200, 9202, 9203, 9208, 9209, 9210, 9211, 9213, 9214, 9215, 9218, 9219, 9220, 9221, 9223, 9224, 9227, 9228, 9230, 9231, 9232, 9233, 9234, 9235, 9236, 9237, 9238, 9239, 9240, 9241, 9243, 9244, 9247, 9248, 9249, 9250, 9251, 9252, 9253, 9254, 9256, 9257, 9258, 9259, 9261, 9262, 9263, 9264, 9265, 9266, 9267, 9268, 9269, 9270, 9272, 9273, 9275, 9276, 9277, 9279, 9280, 9281, 9282, 9283, 9284, 9285, 9287, 9288, 9290, 9291, 9293, 9295, 9297, 9298, 9299, 9300, 9301, 9302, 9303, 9304, 9306, 9307, 9308, 9310, 9311, 9314, 9315, 9316, 9319, 9320, 9321, 9322, 9323, 9324, 9325, 9326, 9328, 9329, 9331, 9332, 9333, 9334, 9335, 9336, 9338, 9341, 9342, 9345, 9346, 9347, 9348, 9349, 9357, 9358, 9360, 9361, 9362, 9363, 9364, 9365, 9366, 9367, 9368, 9369, 9370, 9372, 9373, 9376, 9377, 9378, 9379, 9380, 9381, 9383, 9384, 9385, 9386, 9387, 9388, 9389, 9390, 9391, 9392, 9393, 9394, 9395, 9397, 9399, 9401, 9402, 9403, 9404, 9405, 9406, 9407, 9408, 9409, 9410, 9411, 9412, 9413, 9414, 9415, 9416, 9421, 9422, 9423, 9425, 9426, 9427, 9429, 9430, 9431, 9432, 9433, 9434, 9435, 9436, 9438, 9439, 9440, 9441, 9442, 9443, 9444, 9445, 9446, 9447, 9448, 9449, 9450, 9452, 9453, 9454, 9455, 9456, 9458, 9459, 9460, 9461, 9462, 9463, 9464, 9467, 9472, 9473, 9474, 9476, 9477, 9478, 9479, 9482, 9483, 9484, 9487, 9488, 9490, 9492, 9496, 9497, 9498, 9499, 9500]\n",
      "----------------------------------------------------------------------------------------------\n",
      "Data from class 'no-face', that was wrongly predicted as 'face' [ 14 ] :\n",
      "[8018, 8051, 8077, 8154, 8297, 8301, 8364, 8380, 8414, 9190, 9239, 9268, 9280, 9290]\n"
     ]
    }
   ],
   "source": [
    "face_but_predicted_no_face=[]\n",
    "no_face_but_predicted_face=[]\n",
    "\n",
    "for i in range(len(predictions)):\n",
    "        if y_true[i] != y_pred[i]:\n",
    "            if y_true[i] == 1:\n",
    "                face_but_predicted_no_face.append(i+8001-1500) #Index of file on disk\n",
    "            else:\n",
    "                no_face_but_predicted_face.append(i+8001) #Index of file on disk\n",
    "\n",
    "print(\"Data from class 'face', that was wrongly predicted as 'no-face' [\", len(face_but_predicted_no_face), \"] :\")\n",
    "print(face_but_predicted_no_face)\n",
    "print(\"----------------------------------------------------------------------------------------------\")\n",
    "print(\"Data from class 'no-face', that was wrongly predicted as 'face' [\", len(no_face_but_predicted_face), \"] :\")\n",
    "print(no_face_but_predicted_face)"
   ]
  },
  {
   "cell_type": "markdown",
   "metadata": {
    "id": "6eTe3tG762RE",
    "pycharm": {
     "name": "#%% md\n"
    }
   },
   "source": [
    "### Confusion matrix"
   ]
  },
  {
   "cell_type": "code",
   "execution_count": 13,
   "metadata": {
    "execution": {
     "iopub.execute_input": "2021-03-24T21:03:00.868104Z",
     "iopub.status.busy": "2021-03-24T21:03:00.867690Z",
     "iopub.status.idle": "2021-03-24T21:03:00.869588Z",
     "shell.execute_reply": "2021-03-24T21:03:00.869164Z"
    },
    "executionInfo": {
     "elapsed": 902,
     "status": "ok",
     "timestamp": 1615586652173,
     "user": {
      "displayName": "Lisa Elli",
      "photoUrl": "",
      "userId": "06754712231658711937"
     },
     "user_tz": -60
    },
    "id": "TXVbugwa62RE",
    "pycharm": {
     "name": "#%%\n"
    }
   },
   "outputs": [],
   "source": [
    "def plot_confusion_matrix(cm, classes,\n",
    "                          normalize=False,\n",
    "                          title='Confusion matrix',\n",
    "                          cmap=plt.cm.Blues):\n",
    "\n",
    "    plt.imshow(cm, interpolation='nearest', cmap=cmap)\n",
    "    plt.title(title)\n",
    "    plt.colorbar()\n",
    "    tick_marks = np.arange(len(classes))\n",
    "    plt.xticks(tick_marks, classes, rotation=45)\n",
    "    plt.yticks(tick_marks, classes)\n",
    "\n",
    "    if normalize:\n",
    "        cm = cm.astype('float') / cm.sum(axis=1)[:, np.newaxis]\n",
    "        print(\"Normalized confusion matrix\")\n",
    "    else:\n",
    "        print('Confusion matrix, without normalization')\n",
    "\n",
    "    print(cm)\n",
    "\n",
    "    thresh = cm.max() / 2.\n",
    "    for i, j in itertools.product(range(cm.shape[0]), range(cm.shape[1])):\n",
    "        plt.text(j, i, cm[i, j],\n",
    "                 horizontalalignment=\"center\",\n",
    "                 color=\"white\" if cm[i, j] > thresh else \"black\")\n",
    "\n",
    "    plt.tight_layout()\n",
    "    plt.ylabel('True label')\n",
    "    plt.xlabel('Predicted label')"
   ]
  },
  {
   "cell_type": "code",
   "execution_count": 14,
   "metadata": {
    "colab": {
     "base_uri": "https://localhost:8080/"
    },
    "execution": {
     "iopub.execute_input": "2021-03-24T21:03:00.874226Z",
     "iopub.status.busy": "2021-03-24T21:03:00.873825Z",
     "iopub.status.idle": "2021-03-24T21:03:00.875967Z",
     "shell.execute_reply": "2021-03-24T21:03:00.876367Z"
    },
    "executionInfo": {
     "elapsed": 909,
     "status": "ok",
     "timestamp": 1615586655343,
     "user": {
      "displayName": "Lisa Elli",
      "photoUrl": "",
      "userId": "06754712231658711937"
     },
     "user_tz": -60
    },
    "id": "sP3ndK5o62RF",
    "outputId": "74d415b9-1346-4b60-8a66-1899e30acb23",
    "pycharm": {
     "name": "#%%\n"
    }
   },
   "outputs": [
    {
     "data": {
      "text/plain": [
       "{'no_face': 0, 'face': 1}"
      ]
     },
     "execution_count": 1,
     "metadata": {},
     "output_type": "execute_result"
    }
   ],
   "source": [
    "test_batches.class_indices"
   ]
  },
  {
   "cell_type": "code",
   "execution_count": 15,
   "metadata": {
    "colab": {
     "base_uri": "https://localhost:8080/",
     "height": 366
    },
    "execution": {
     "iopub.execute_input": "2021-03-24T21:03:00.914143Z",
     "iopub.status.busy": "2021-03-24T21:03:00.907232Z",
     "iopub.status.idle": "2021-03-24T21:03:01.026524Z",
     "shell.execute_reply": "2021-03-24T21:03:01.026914Z"
    },
    "executionInfo": {
     "elapsed": 1444,
     "status": "ok",
     "timestamp": 1615586660010,
     "user": {
      "displayName": "Lisa Elli",
      "photoUrl": "",
      "userId": "06754712231658711937"
     },
     "user_tz": -60
    },
    "id": "_iHhK36e62RF",
    "outputId": "e4096568-5620-44a6-8e7f-ac906560d917",
    "pycharm": {
     "name": "#%%\n"
    }
   },
   "outputs": [
    {
     "name": "stdout",
     "output_type": "stream",
     "text": [
      "Confusion matrix, without normalization\n",
      "[[1486   14]\n",
      " [ 474 1026]]\n"
     ]
    },
    {
     "data": {
      "image/png": "[encoded data removed]",
      "text/plain": [
       "<Figure size 432x288 with 2 Axes>"
      ]
     },
     "metadata": {
      "needs_background": "light"
     },
     "output_type": "display_data"
    }
   ],
   "source": [
    "cm_plot_labels = ['no_face','face']\n",
    "plot_confusion_matrix(cm=cm, classes=cm_plot_labels, title='Confusion Matrix')"
   ]
  }
 ],
 "metadata": {
  "kernelspec": {
   "display_name": "Python 3",
   "language": "python",
   "name": "python3"
  },
  "language_info": {
   "codemirror_mode": {
    "name": "ipython",
    "version": 3
   },
   "file_extension": ".py",
   "mimetype": "text/x-python",
   "name": "python",
   "nbconvert_exporter": "python",
   "pygments_lexer": "ipython3",
   "version": "3.8.5"
  }
 },
 "nbformat": 4,
 "nbformat_minor": 1
}
