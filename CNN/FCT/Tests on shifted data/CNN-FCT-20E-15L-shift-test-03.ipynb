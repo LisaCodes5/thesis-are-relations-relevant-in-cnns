{
 "cells": [
  {
   "cell_type": "markdown",
   "metadata": {
    "id": "O82TH2Vr62Qi"
   },
   "source": [
    "# Are Relations Relevant in CNNs? *A Study Based on a Facial Dataset*"
   ]
  },
  {
   "cell_type": "markdown",
   "metadata": {
    "id": "ehl8qgCC62Qx"
   },
   "source": [
    "## Testing CNN with Features Closer Together *(20 Epochs - 15 Layers)*"
   ]
  },
  {
   "cell_type": "markdown",
   "metadata": {
    "id": "3clj-ony62Q0",
    "pycharm": {
     "name": "#%% md\n"
    }
   },
   "source": [
    "### Imports, Seed, GPU integration"
   ]
  },
  {
   "cell_type": "code",
   "execution_count": 1,
   "metadata": {
    "execution": {
     "iopub.execute_input": "2021-03-24T21:00:41.783260Z",
     "iopub.status.busy": "2021-03-24T21:00:41.782777Z",
     "iopub.status.idle": "2021-03-24T21:00:42.997975Z",
     "shell.execute_reply": "2021-03-24T21:00:42.998300Z"
    },
    "id": "cnCaBFfp62Q2",
    "pycharm": {
     "name": "#%%\n"
    }
   },
   "outputs": [],
   "source": [
    "import numpy as np\n",
    "import random\n",
    "import tensorflow as tf"
   ]
  },
  {
   "cell_type": "code",
   "execution_count": 2,
   "metadata": {
    "execution": {
     "iopub.execute_input": "2021-03-24T21:00:43.001738Z",
     "iopub.status.busy": "2021-03-24T21:00:43.001302Z",
     "iopub.status.idle": "2021-03-24T21:00:43.004451Z",
     "shell.execute_reply": "2021-03-24T21:00:43.004025Z"
    },
    "id": "jsw3DKWp62Q4",
    "pycharm": {
     "name": "#%%\n"
    }
   },
   "outputs": [],
   "source": [
    "# Seeds for better reproducibility\n",
    "seed = 42\n",
    "np.random.seed(seed)\n",
    "random.seed(seed)\n",
    "tf.random.set_seed(seed)"
   ]
  },
  {
   "cell_type": "code",
   "execution_count": 3,
   "metadata": {
    "execution": {
     "iopub.execute_input": "2021-03-24T21:00:43.008180Z",
     "iopub.status.busy": "2021-03-24T21:00:43.007778Z",
     "iopub.status.idle": "2021-03-24T21:00:43.511649Z",
     "shell.execute_reply": "2021-03-24T21:00:43.511158Z"
    }
   },
   "outputs": [],
   "source": [
    "from tensorflow.keras.models import load_model\n",
    "from tensorflow.keras.preprocessing.image import ImageDataGenerator\n",
    "from sklearn.metrics import confusion_matrix\n",
    "import itertools\n",
    "import matplotlib.pyplot as plt\n",
    "import warnings\n",
    "warnings.simplefilter(action='ignore', category=FutureWarning)\n",
    "%matplotlib inline"
   ]
  },
  {
   "cell_type": "code",
   "execution_count": 4,
   "metadata": {
    "colab": {
     "base_uri": "https://localhost:8080/"
    },
    "execution": {
     "iopub.execute_input": "2021-03-24T21:00:43.554419Z",
     "iopub.status.busy": "2021-03-24T21:00:43.553994Z",
     "iopub.status.idle": "2021-03-24T21:00:43.556229Z",
     "shell.execute_reply": "2021-03-24T21:00:43.556701Z"
    },
    "executionInfo": {
     "elapsed": 19631,
     "status": "ok",
     "timestamp": 1615579393251,
     "user": {
      "displayName": "Lisa Elli",
      "photoUrl": "",
      "userId": "06754712231658711937"
     },
     "user_tz": -60
    },
    "id": "4vE5F4rX62Q4",
    "outputId": "bff035e6-71fc-433f-d1fd-7e794a4724fc",
    "pycharm": {
     "name": "#%%\n"
    }
   },
   "outputs": [
    {
     "name": "stdout",
     "output_type": "stream",
     "text": [
      "Num GPUs Available:  1\n"
     ]
    }
   ],
   "source": [
    "physical_devices = tf.config.experimental.list_physical_devices('GPU')\n",
    "print(\"Num GPUs Available: \", len(physical_devices))\n",
    "tf.config.experimental.set_memory_growth(physical_devices[0], True)"
   ]
  },
  {
   "cell_type": "markdown",
   "metadata": {
    "id": "wmGEalmo62Q7"
   },
   "source": [
    "### Data preparation"
   ]
  },
  {
   "cell_type": "code",
   "execution_count": 5,
   "metadata": {
    "execution": {
     "iopub.execute_input": "2021-03-24T21:00:43.559492Z",
     "iopub.status.busy": "2021-03-24T21:00:43.559071Z",
     "iopub.status.idle": "2021-03-24T21:00:43.561421Z",
     "shell.execute_reply": "2021-03-24T21:00:43.560998Z"
    },
    "id": "FdYjQ15w62Q7",
    "pycharm": {
     "name": "#%%\n"
    }
   },
   "outputs": [],
   "source": [
    "test_path = '../../../picasso_dataset/FCT-data/shifted/test'"
   ]
  },
  {
   "cell_type": "code",
   "execution_count": 6,
   "metadata": {
    "colab": {
     "base_uri": "https://localhost:8080/"
    },
    "execution": {
     "iopub.execute_input": "2021-03-24T21:00:43.565257Z",
     "iopub.status.busy": "2021-03-24T21:00:43.564868Z",
     "iopub.status.idle": "2021-03-24T21:00:43.640568Z",
     "shell.execute_reply": "2021-03-24T21:00:43.640158Z"
    },
    "executionInfo": {
     "elapsed": 15267,
     "status": "ok",
     "timestamp": 1615579393916,
     "user": {
      "displayName": "Lisa Elli",
      "photoUrl": "",
      "userId": "06754712231658711937"
     },
     "user_tz": -60
    },
    "id": "n_l3PW-_62Q7",
    "outputId": "8db7a694-024d-4e83-d2d7-0c75b63f3eb9",
    "pycharm": {
     "name": "#%%\n"
    }
   },
   "outputs": [
    {
     "name": "stdout",
     "output_type": "stream",
     "text": [
      "Found 3000 images belonging to 2 classes.\n"
     ]
    }
   ],
   "source": [
    "test_batches = ImageDataGenerator(preprocessing_function=tf.keras.applications.vgg16.preprocess_input) \\\n",
    "    .flow_from_directory(directory=test_path, target_size=(224,224), classes=['no_face', 'face'], batch_size=10, shuffle=False)"
   ]
  },
  {
   "cell_type": "code",
   "execution_count": 7,
   "metadata": {
    "execution": {
     "iopub.execute_input": "2021-03-24T21:00:43.643179Z",
     "iopub.status.busy": "2021-03-24T21:00:43.642808Z",
     "iopub.status.idle": "2021-03-24T21:00:43.644613Z",
     "shell.execute_reply": "2021-03-24T21:00:43.645001Z"
    },
    "id": "SbBy_3JT62Q8",
    "pycharm": {
     "name": "#%%\n"
    }
   },
   "outputs": [],
   "source": [
    "assert test_batches.n == 3000\n",
    "assert test_batches.num_classes == 2"
   ]
  },
  {
   "cell_type": "markdown",
   "metadata": {
    "id": "kgM-9Fbg62Q-"
   },
   "source": [
    "### Loading the trained CNN"
   ]
  },
  {
   "cell_type": "code",
   "execution_count": 8,
   "metadata": {
    "execution": {
     "iopub.execute_input": "2021-03-24T21:00:43.650452Z",
     "iopub.status.busy": "2021-03-24T21:00:43.648211Z",
     "iopub.status.idle": "2021-03-24T21:00:44.254660Z",
     "shell.execute_reply": "2021-03-24T21:00:44.254119Z"
    },
    "id": "Cdg3Plko62Q-",
    "pycharm": {
     "name": "#%%\n"
    }
   },
   "outputs": [],
   "source": [
    "filename='../models/CNN-FCT-20E-15L-03.h5'\n",
    "loaded_model = load_model(filename)"
   ]
  },
  {
   "cell_type": "markdown",
   "metadata": {
    "colab": {
     "base_uri": "https://localhost:8080/"
    },
    "executionInfo": {
     "elapsed": 5474,
     "status": "ok",
     "timestamp": 1615579399410,
     "user": {
      "displayName": "Lisa Elli",
      "photoUrl": "",
      "userId": "06754712231658711937"
     },
     "user_tz": -60
    },
    "id": "wtTJTaWatrgn",
    "outputId": "5e22cecc-bb59-456b-ceaa-d3986077141c",
    "pycharm": {
     "name": "#%% md\n"
    }
   },
   "source": [
    "### Accuracy and loss of the trained model"
   ]
  },
  {
   "cell_type": "code",
   "execution_count": 9,
   "metadata": {
    "execution": {
     "iopub.execute_input": "2021-03-24T21:00:44.258258Z",
     "iopub.status.busy": "2021-03-24T21:00:44.257749Z",
     "iopub.status.idle": "2021-03-24T21:00:52.734843Z",
     "shell.execute_reply": "2021-03-24T21:00:52.734408Z"
    },
    "id": "HYmld1gj62Q_",
    "pycharm": {
     "name": "#%%\n"
    }
   },
   "outputs": [
    {
     "name": "stdout",
     "output_type": "stream",
     "text": [
      "300/300 - 7s - loss: 0.6616 - accuracy: 0.8367\n",
      "Accuracy: 83.67%\n",
      "Loss: 66.16%\n"
     ]
    }
   ],
   "source": [
    "scores = loaded_model.evaluate(test_batches, verbose=2)\n",
    "print(\"Accuracy: %.2f%%\" % (scores[1]*100))\n",
    "print(\"Loss: %.2f%%\" % (scores[0]*100))"
   ]
  },
  {
   "cell_type": "markdown",
   "metadata": {
    "colab": {
     "base_uri": "https://localhost:8080/"
    },
    "executionInfo": {
     "elapsed": 1444054,
     "status": "ok",
     "timestamp": 1615583415200,
     "user": {
      "displayName": "Lisa Elli",
      "photoUrl": "",
      "userId": "06754712231658711937"
     },
     "user_tz": -60
    },
    "id": "TY7tN3BE62RB",
    "outputId": "fe3f86f2-25c7-4d7b-c4cf-5b4d4a8e0ebe",
    "pycharm": {
     "name": "#%% md\n"
    }
   },
   "source": [
    "### Testing the CNN"
   ]
  },
  {
   "cell_type": "code",
   "execution_count": 10,
   "metadata": {
    "execution": {
     "iopub.execute_input": "2021-03-24T21:00:52.738595Z",
     "iopub.status.busy": "2021-03-24T21:00:52.738191Z",
     "iopub.status.idle": "2021-03-24T21:01:00.273231Z",
     "shell.execute_reply": "2021-03-24T21:01:00.272761Z"
    },
    "id": "dgDtbkcv62RB",
    "pycharm": {
     "name": "#%%\n"
    }
   },
   "outputs": [],
   "source": [
    "predictions = loaded_model.predict(x=test_batches, steps=len(test_batches), verbose=0)"
   ]
  },
  {
   "cell_type": "markdown",
   "metadata": {
    "pycharm": {
     "name": "#%% md\n"
    }
   },
   "source": [
    "### Index of wrongly predicted pictures"
   ]
  },
  {
   "cell_type": "code",
   "execution_count": 11,
   "metadata": {
    "colab": {
     "base_uri": "https://localhost:8080/"
    },
    "execution": {
     "iopub.execute_input": "2021-03-24T21:01:00.276710Z",
     "iopub.status.busy": "2021-03-24T21:01:00.276310Z",
     "iopub.status.idle": "2021-03-24T21:01:00.285255Z",
     "shell.execute_reply": "2021-03-24T21:01:00.285576Z"
    },
    "executionInfo": {
     "elapsed": 36,
     "status": "ok",
     "timestamp": 1615583415203,
     "user": {
      "displayName": "Lisa Elli",
      "photoUrl": "",
      "userId": "06754712231658711937"
     },
     "user_tz": -60
    },
    "id": "BUVqnVNn62RB",
    "outputId": "ac9e5b05-f3b2-4559-9c59-1e518fa52302",
    "pycharm": {
     "name": "#%%\n"
    }
   },
   "outputs": [],
   "source": [
    "y_true=test_batches.classes\n",
    "y_pred=np.argmax(predictions, axis=-1)\n",
    "cm = confusion_matrix(y_true = y_true, y_pred = y_pred)"
   ]
  },
  {
   "cell_type": "code",
   "execution_count": 12,
   "metadata": {
    "execution": {
     "iopub.execute_input": "2021-03-24T21:01:00.297619Z",
     "iopub.status.busy": "2021-03-24T21:01:00.296439Z",
     "iopub.status.idle": "2021-03-24T21:01:00.299646Z",
     "shell.execute_reply": "2021-03-24T21:01:00.299194Z"
    },
    "id": "ZJwZjSBg62RB",
    "pycharm": {
     "name": "#%%\n"
    }
   },
   "outputs": [
    {
     "name": "stdout",
     "output_type": "stream",
     "text": [
      "Data from class 'face', that was wrongly predicted as 'no-face' [ 471 ] :\n",
      "[8005, 8010, 8012, 8013, 8017, 8019, 8020, 8021, 8022, 8023, 8026, 8034, 8035, 8039, 8041, 8049, 8054, 8056, 8060, 8061, 8068, 8075, 8095, 8103, 8108, 8113, 8116, 8120, 8122, 8133, 8135, 8136, 8137, 8142, 8144, 8146, 8149, 8153, 8172, 8174, 8179, 8182, 8188, 8193, 8194, 8197, 8200, 8202, 8207, 8217, 8218, 8219, 8225, 8231, 8239, 8240, 8259, 8266, 8280, 8291, 8293, 8295, 8296, 8298, 8302, 8304, 8305, 8312, 8318, 8320, 8324, 8325, 8326, 8327, 8331, 8343, 8348, 8354, 8356, 8362, 8366, 8367, 8370, 8371, 8375, 8378, 8382, 8391, 8402, 8404, 8406, 8409, 8411, 8413, 8426, 8434, 8435, 8439, 8440, 8441, 8444, 8448, 8449, 8450, 8456, 8462, 8465, 8471, 8473, 8476, 8478, 8479, 8480, 8482, 8484, 8487, 8490, 8494, 9001, 9002, 9003, 9005, 9006, 9008, 9009, 9010, 9014, 9015, 9016, 9019, 9020, 9022, 9023, 9024, 9025, 9027, 9029, 9030, 9032, 9033, 9034, 9035, 9036, 9038, 9039, 9041, 9042, 9043, 9045, 9046, 9047, 9048, 9049, 9052, 9053, 9058, 9061, 9062, 9063, 9064, 9065, 9066, 9067, 9069, 9071, 9072, 9073, 9074, 9075, 9077, 9078, 9080, 9083, 9084, 9085, 9087, 9088, 9092, 9095, 9097, 9098, 9100, 9101, 9102, 9103, 9104, 9105, 9106, 9107, 9108, 9109, 9111, 9112, 9113, 9114, 9115, 9116, 9118, 9119, 9120, 9121, 9122, 9123, 9125, 9129, 9130, 9131, 9132, 9135, 9136, 9137, 9139, 9140, 9141, 9142, 9143, 9145, 9146, 9147, 9148, 9149, 9151, 9152, 9154, 9155, 9156, 9158, 9159, 9166, 9167, 9168, 9170, 9172, 9173, 9174, 9177, 9179, 9181, 9182, 9183, 9184, 9185, 9186, 9189, 9190, 9191, 9192, 9194, 9195, 9196, 9198, 9199, 9200, 9202, 9203, 9208, 9209, 9210, 9211, 9213, 9214, 9215, 9218, 9220, 9221, 9223, 9224, 9227, 9228, 9230, 9231, 9232, 9233, 9234, 9235, 9236, 9237, 9238, 9239, 9240, 9241, 9243, 9244, 9247, 9248, 9249, 9250, 9251, 9252, 9253, 9254, 9256, 9257, 9258, 9259, 9261, 9262, 9263, 9264, 9265, 9266, 9267, 9268, 9269, 9270, 9272, 9273, 9275, 9276, 9277, 9279, 9280, 9281, 9282, 9283, 9284, 9285, 9287, 9288, 9290, 9291, 9293, 9294, 9295, 9297, 9298, 9299, 9300, 9301, 9302, 9303, 9304, 9306, 9307, 9308, 9310, 9311, 9314, 9315, 9316, 9319, 9320, 9321, 9322, 9323, 9324, 9325, 9326, 9328, 9329, 9331, 9332, 9333, 9334, 9335, 9336, 9338, 9341, 9342, 9345, 9346, 9347, 9348, 9349, 9357, 9358, 9360, 9362, 9363, 9364, 9365, 9366, 9367, 9368, 9369, 9370, 9372, 9373, 9376, 9377, 9378, 9379, 9380, 9381, 9382, 9383, 9384, 9385, 9386, 9387, 9388, 9389, 9390, 9391, 9392, 9393, 9394, 9395, 9397, 9399, 9401, 9402, 9403, 9404, 9405, 9406, 9407, 9409, 9410, 9411, 9412, 9413, 9415, 9416, 9422, 9425, 9426, 9427, 9429, 9430, 9431, 9432, 9433, 9434, 9435, 9436, 9438, 9439, 9440, 9442, 9443, 9444, 9445, 9446, 9447, 9449, 9450, 9451, 9452, 9453, 9454, 9456, 9458, 9459, 9460, 9461, 9462, 9463, 9464, 9466, 9467, 9472, 9473, 9474, 9476, 9477, 9478, 9479, 9482, 9483, 9484, 9487, 9488, 9490, 9491, 9492, 9496, 9497, 9498, 9499, 9500]\n",
      "----------------------------------------------------------------------------------------------\n",
      "Data from class 'no-face', that was wrongly predicted as 'face' [ 19 ] :\n",
      "[8077, 8102, 8130, 8202, 8297, 8301, 8354, 8364, 8380, 8414, 9106, 9133, 9139, 9190, 9262, 9268, 9280, 9304, 9477]\n"
     ]
    }
   ],
   "source": [
    "face_but_predicted_no_face=[]\n",
    "no_face_but_predicted_face=[]\n",
    "\n",
    "for i in range(len(predictions)):\n",
    "        if y_true[i] != y_pred[i]:\n",
    "            if y_true[i] == 1:\n",
    "                face_but_predicted_no_face.append(i+8001-1500) #Index of file on disk\n",
    "            else:\n",
    "                no_face_but_predicted_face.append(i+8001) #Index of file on disk\n",
    "\n",
    "print(\"Data from class 'face', that was wrongly predicted as 'no-face' [\", len(face_but_predicted_no_face), \"] :\")\n",
    "print(face_but_predicted_no_face)\n",
    "print(\"----------------------------------------------------------------------------------------------\")\n",
    "print(\"Data from class 'no-face', that was wrongly predicted as 'face' [\", len(no_face_but_predicted_face), \"] :\")\n",
    "print(no_face_but_predicted_face)"
   ]
  },
  {
   "cell_type": "markdown",
   "metadata": {
    "colab": {
     "base_uri": "https://localhost:8080/"
    },
    "executionInfo": {
     "elapsed": 46,
     "status": "ok",
     "timestamp": 1615583415708,
     "user": {
      "displayName": "Lisa Elli",
      "photoUrl": "",
      "userId": "06754712231658711937"
     },
     "user_tz": -60
    },
    "id": "KfQRdJ2n62RC",
    "outputId": "0447f407-8758-4ab8-9acb-585653323105",
    "pycharm": {
     "name": "#%% md\n"
    }
   },
   "source": [
    "### Confusion matrix"
   ]
  },
  {
   "cell_type": "code",
   "execution_count": 13,
   "metadata": {
    "execution": {
     "iopub.execute_input": "2021-03-24T21:01:00.305215Z",
     "iopub.status.busy": "2021-03-24T21:01:00.304791Z",
     "iopub.status.idle": "2021-03-24T21:01:00.306846Z",
     "shell.execute_reply": "2021-03-24T21:01:00.306434Z"
    }
   },
   "outputs": [],
   "source": [
    "def plot_confusion_matrix(cm, classes,\n",
    "                          normalize=False,\n",
    "                          title='Confusion matrix',\n",
    "                          cmap=plt.cm.Blues):\n",
    "\n",
    "    plt.imshow(cm, interpolation='nearest', cmap=cmap)\n",
    "    plt.title(title)\n",
    "    plt.colorbar()\n",
    "    tick_marks = np.arange(len(classes))\n",
    "    plt.xticks(tick_marks, classes, rotation=45)\n",
    "    plt.yticks(tick_marks, classes)\n",
    "\n",
    "    if normalize:\n",
    "        cm = cm.astype('float') / cm.sum(axis=1)[:, np.newaxis]\n",
    "        print(\"Normalized confusion matrix\")\n",
    "    else:\n",
    "        print('Confusion matrix, without normalization')\n",
    "\n",
    "    print(cm)\n",
    "\n",
    "    thresh = cm.max() / 2.\n",
    "    for i, j in itertools.product(range(cm.shape[0]), range(cm.shape[1])):\n",
    "        plt.text(j, i, cm[i, j],\n",
    "                 horizontalalignment=\"center\",\n",
    "                 color=\"white\" if cm[i, j] > thresh else \"black\")\n",
    "\n",
    "    plt.tight_layout()\n",
    "    plt.ylabel('True label')\n",
    "    plt.xlabel('Predicted label')"
   ]
  },
  {
   "cell_type": "code",
   "execution_count": 14,
   "metadata": {
    "execution": {
     "iopub.execute_input": "2021-03-24T21:01:00.311571Z",
     "iopub.status.busy": "2021-03-24T21:01:00.311142Z",
     "iopub.status.idle": "2021-03-24T21:01:00.315124Z",
     "shell.execute_reply": "2021-03-24T21:01:00.314687Z"
    },
    "id": "pXwZZiKy62RC",
    "pycharm": {
     "name": "#%%\n"
    }
   },
   "outputs": [
    {
     "data": {
      "text/plain": [
       "{'no_face': 0, 'face': 1}"
      ]
     },
     "execution_count": 1,
     "metadata": {},
     "output_type": "execute_result"
    }
   ],
   "source": [
    "test_batches.class_indices"
   ]
  },
  {
   "cell_type": "code",
   "execution_count": 15,
   "metadata": {
    "colab": {
     "base_uri": "https://localhost:8080/"
    },
    "execution": {
     "iopub.execute_input": "2021-03-24T21:01:00.359051Z",
     "iopub.status.busy": "2021-03-24T21:01:00.353279Z",
     "iopub.status.idle": "2021-03-24T21:01:00.467448Z",
     "shell.execute_reply": "2021-03-24T21:01:00.467855Z"
    },
    "executionInfo": {
     "elapsed": 8624,
     "status": "ok",
     "timestamp": 1615583424302,
     "user": {
      "displayName": "Lisa Elli",
      "photoUrl": "",
      "userId": "06754712231658711937"
     },
     "user_tz": -60
    },
    "id": "_1_vTnWO62RC",
    "outputId": "98311fcd-35bf-4383-ff77-d1a1b62291f2",
    "pycharm": {
     "name": "#%%\n"
    }
   },
   "outputs": [
    {
     "name": "stdout",
     "output_type": "stream",
     "text": [
      "Confusion matrix, without normalization\n",
      "[[1481   19]\n",
      " [ 471 1029]]\n"
     ]
    },
    {
     "data": {
      "image/png": "[encoded data removed]",
      "text/plain": [
       "<Figure size 432x288 with 2 Axes>"
      ]
     },
     "metadata": {
      "needs_background": "light"
     },
     "output_type": "display_data"
    }
   ],
   "source": [
    "cm_plot_labels = ['no_face','face']\n",
    "plot_confusion_matrix(cm=cm, classes=cm_plot_labels, title='Confusion Matrix')"
   ]
  }
 ],
 "metadata": {
  "kernelspec": {
   "display_name": "Python 3",
   "language": "python",
   "name": "python3"
  },
  "language_info": {
   "codemirror_mode": {
    "name": "ipython",
    "version": 3
   },
   "file_extension": ".py",
   "mimetype": "text/x-python",
   "name": "python",
   "nbconvert_exporter": "python",
   "pygments_lexer": "ipython3",
   "version": "3.8.5"
  }
 },
 "nbformat": 4,
 "nbformat_minor": 1
}
