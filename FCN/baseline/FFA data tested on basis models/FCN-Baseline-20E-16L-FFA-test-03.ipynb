{
 "cells": [
  {
   "cell_type": "markdown",
   "metadata": {
    "id": "O82TH2Vr62Qi"
   },
   "source": [
    "# Are Relations Relevant in CNNs? *A Study Based on a Facial Dataset*"
   ]
  },
  {
   "cell_type": "markdown",
   "metadata": {
    "id": "ehl8qgCC62Qx"
   },
   "source": [
    "## Testing Baseline FCN *(20 Epochs - 15 Layers)*"
   ]
  },
  {
   "cell_type": "markdown",
   "metadata": {
    "id": "3clj-ony62Q0",
    "pycharm": {
     "name": "#%% md\n"
    }
   },
   "source": [
    "### Imports, Seed, GPU integration"
   ]
  },
  {
   "cell_type": "code",
   "execution_count": 1,
   "metadata": {
    "execution": {
     "iopub.execute_input": "2021-03-24T21:09:32.330694Z",
     "iopub.status.busy": "2021-03-24T21:09:32.329789Z",
     "iopub.status.idle": "2021-03-24T21:09:33.515068Z",
     "shell.execute_reply": "2021-03-24T21:09:33.514456Z"
    },
    "id": "cnCaBFfp62Q2",
    "pycharm": {
     "name": "#%%\n"
    }
   },
   "outputs": [],
   "source": [
    "import numpy as np\n",
    "import random\n",
    "import tensorflow as tf"
   ]
  },
  {
   "cell_type": "code",
   "execution_count": 2,
   "metadata": {
    "execution": {
     "iopub.execute_input": "2021-03-24T21:09:33.520013Z",
     "iopub.status.busy": "2021-03-24T21:09:33.519585Z",
     "iopub.status.idle": "2021-03-24T21:09:33.521615Z",
     "shell.execute_reply": "2021-03-24T21:09:33.521267Z"
    },
    "id": "jsw3DKWp62Q4",
    "pycharm": {
     "name": "#%%\n"
    }
   },
   "outputs": [],
   "source": [
    "# Seeds for better reproducibility\n",
    "seed = 42\n",
    "np.random.seed(seed)\n",
    "random.seed(seed)\n",
    "tf.random.set_seed(seed)"
   ]
  },
  {
   "cell_type": "code",
   "execution_count": 3,
   "metadata": {
    "execution": {
     "iopub.execute_input": "2021-03-24T21:09:33.525677Z",
     "iopub.status.busy": "2021-03-24T21:09:33.525156Z",
     "iopub.status.idle": "2021-03-24T21:09:34.040404Z",
     "shell.execute_reply": "2021-03-24T21:09:34.039963Z"
    }
   },
   "outputs": [],
   "source": [
    "from tensorflow.keras.models import load_model\n",
    "from tensorflow.keras.preprocessing.image import ImageDataGenerator\n",
    "from sklearn.metrics import confusion_matrix\n",
    "import itertools\n",
    "import matplotlib.pyplot as plt\n",
    "import warnings\n",
    "warnings.simplefilter(action='ignore', category=FutureWarning)\n",
    "%matplotlib inline"
   ]
  },
  {
   "cell_type": "code",
   "execution_count": 4,
   "metadata": {
    "colab": {
     "base_uri": "https://localhost:8080/"
    },
    "execution": {
     "iopub.execute_input": "2021-03-24T21:09:34.082022Z",
     "iopub.status.busy": "2021-03-24T21:09:34.081610Z",
     "iopub.status.idle": "2021-03-24T21:09:34.084530Z",
     "shell.execute_reply": "2021-03-24T21:09:34.084006Z"
    },
    "executionInfo": {
     "elapsed": 19631,
     "status": "ok",
     "timestamp": 1615579393251,
     "user": {
      "displayName": "Lisa Elli",
      "photoUrl": "",
      "userId": "06754712231658711937"
     },
     "user_tz": -60
    },
    "id": "4vE5F4rX62Q4",
    "outputId": "bff035e6-71fc-433f-d1fd-7e794a4724fc",
    "pycharm": {
     "name": "#%%\n"
    }
   },
   "outputs": [
    {
     "name": "stdout",
     "output_type": "stream",
     "text": [
      "Num GPUs Available:  1\n"
     ]
    }
   ],
   "source": [
    "physical_devices = tf.config.experimental.list_physical_devices('GPU')\n",
    "print(\"Num GPUs Available: \", len(physical_devices))\n",
    "tf.config.experimental.set_memory_growth(physical_devices[0], True)"
   ]
  },
  {
   "cell_type": "markdown",
   "metadata": {
    "id": "wmGEalmo62Q7"
   },
   "source": [
    "### Data preparation"
   ]
  },
  {
   "cell_type": "code",
   "execution_count": 5,
   "metadata": {
    "execution": {
     "iopub.execute_input": "2021-03-24T21:09:34.087933Z",
     "iopub.status.busy": "2021-03-24T21:09:34.087521Z",
     "iopub.status.idle": "2021-03-24T21:09:34.089257Z",
     "shell.execute_reply": "2021-03-24T21:09:34.089682Z"
    },
    "id": "FdYjQ15w62Q7",
    "pycharm": {
     "name": "#%%\n"
    }
   },
   "outputs": [],
   "source": [
    "test_path = '../../../picasso_dataset/FFA-data/middle/test'"
   ]
  },
  {
   "cell_type": "code",
   "execution_count": 6,
   "metadata": {
    "colab": {
     "base_uri": "https://localhost:8080/"
    },
    "execution": {
     "iopub.execute_input": "2021-03-24T21:09:34.093355Z",
     "iopub.status.busy": "2021-03-24T21:09:34.092891Z",
     "iopub.status.idle": "2021-03-24T21:09:34.169326Z",
     "shell.execute_reply": "2021-03-24T21:09:34.168982Z"
    },
    "executionInfo": {
     "elapsed": 15267,
     "status": "ok",
     "timestamp": 1615579393916,
     "user": {
      "displayName": "Lisa Elli",
      "photoUrl": "",
      "userId": "06754712231658711937"
     },
     "user_tz": -60
    },
    "id": "n_l3PW-_62Q7",
    "outputId": "8db7a694-024d-4e83-d2d7-0c75b63f3eb9",
    "pycharm": {
     "name": "#%%\n"
    }
   },
   "outputs": [
    {
     "name": "stdout",
     "output_type": "stream",
     "text": [
      "Found 3000 images belonging to 2 classes.\n"
     ]
    }
   ],
   "source": [
    "test_batches = ImageDataGenerator(preprocessing_function=tf.keras.applications.vgg16.preprocess_input) \\\n",
    "    .flow_from_directory(directory=test_path, target_size=(224,224), classes=['no_face', 'face'], batch_size=10, shuffle=False)"
   ]
  },
  {
   "cell_type": "code",
   "execution_count": 7,
   "metadata": {
    "execution": {
     "iopub.execute_input": "2021-03-24T21:09:34.171873Z",
     "iopub.status.busy": "2021-03-24T21:09:34.171501Z",
     "iopub.status.idle": "2021-03-24T21:09:34.173322Z",
     "shell.execute_reply": "2021-03-24T21:09:34.172937Z"
    },
    "id": "SbBy_3JT62Q8",
    "pycharm": {
     "name": "#%%\n"
    }
   },
   "outputs": [],
   "source": [
    "assert test_batches.n == 3000\n",
    "assert test_batches.num_classes == 2"
   ]
  },
  {
   "cell_type": "markdown",
   "metadata": {
    "id": "kgM-9Fbg62Q-"
   },
   "source": [
    "### Loading the trained FCN"
   ]
  },
  {
   "cell_type": "code",
   "execution_count": 8,
   "metadata": {
    "execution": {
     "iopub.execute_input": "2021-03-24T21:09:34.178817Z",
     "iopub.status.busy": "2021-03-24T21:09:34.176556Z",
     "iopub.status.idle": "2021-03-24T21:09:34.797631Z",
     "shell.execute_reply": "2021-03-24T21:09:34.797200Z"
    },
    "id": "Cdg3Plko62Q-",
    "pycharm": {
     "name": "#%%\n"
    }
   },
   "outputs": [],
   "source": [
    "filename='../models/FCN-B-20E-16L-03.h5'\n",
    "loaded_model = load_model(filename)"
   ]
  },
  {
   "cell_type": "markdown",
   "metadata": {
    "colab": {
     "base_uri": "https://localhost:8080/"
    },
    "executionInfo": {
     "elapsed": 5474,
     "status": "ok",
     "timestamp": 1615579399410,
     "user": {
      "displayName": "Lisa Elli",
      "photoUrl": "",
      "userId": "06754712231658711937"
     },
     "user_tz": -60
    },
    "id": "wtTJTaWatrgn",
    "outputId": "5e22cecc-bb59-456b-ceaa-d3986077141c",
    "pycharm": {
     "name": "#%% md\n"
    }
   },
   "source": [
    "### Accuracy and loss of the trained model"
   ]
  },
  {
   "cell_type": "code",
   "execution_count": 9,
   "metadata": {
    "execution": {
     "iopub.execute_input": "2021-03-24T21:09:34.800944Z",
     "iopub.status.busy": "2021-03-24T21:09:34.800476Z",
     "iopub.status.idle": "2021-03-24T21:09:43.239488Z",
     "shell.execute_reply": "2021-03-24T21:09:43.238998Z"
    },
    "id": "HYmld1gj62Q_",
    "pycharm": {
     "name": "#%%\n"
    }
   },
   "outputs": [
    {
     "name": "stdout",
     "output_type": "stream",
     "text": [
      "300/300 - 7s - loss: 0.0092 - accuracy: 0.9963\n",
      "Accuracy: 99.63%\n",
      "Loss: 0.92%\n"
     ]
    }
   ],
   "source": [
    "scores = loaded_model.evaluate(test_batches, verbose=2)\n",
    "print(\"Accuracy: %.2f%%\" % (scores[1]*100))\n",
    "print(\"Loss: %.2f%%\" % (scores[0]*100))"
   ]
  },
  {
   "cell_type": "markdown",
   "metadata": {
    "colab": {
     "base_uri": "https://localhost:8080/"
    },
    "executionInfo": {
     "elapsed": 1444054,
     "status": "ok",
     "timestamp": 1615583415200,
     "user": {
      "displayName": "Lisa Elli",
      "photoUrl": "",
      "userId": "06754712231658711937"
     },
     "user_tz": -60
    },
    "id": "TY7tN3BE62RB",
    "outputId": "fe3f86f2-25c7-4d7b-c4cf-5b4d4a8e0ebe",
    "pycharm": {
     "name": "#%% md\n"
    }
   },
   "source": [
    "### Testing the FCN"
   ]
  },
  {
   "cell_type": "code",
   "execution_count": 10,
   "metadata": {
    "execution": {
     "iopub.execute_input": "2021-03-24T21:09:43.243111Z",
     "iopub.status.busy": "2021-03-24T21:09:43.242615Z",
     "iopub.status.idle": "2021-03-24T21:09:50.671349Z",
     "shell.execute_reply": "2021-03-24T21:09:50.671691Z"
    },
    "id": "dgDtbkcv62RB",
    "pycharm": {
     "name": "#%%\n"
    }
   },
   "outputs": [],
   "source": [
    "predictions = loaded_model.predict(x=test_batches, steps=len(test_batches), verbose=0)"
   ]
  },
  {
   "cell_type": "markdown",
   "metadata": {
    "pycharm": {
     "name": "#%% md\n"
    }
   },
   "source": [
    "### Index of wrongly predicted pictures"
   ]
  },
  {
   "cell_type": "code",
   "execution_count": 11,
   "metadata": {
    "colab": {
     "base_uri": "https://localhost:8080/"
    },
    "execution": {
     "iopub.execute_input": "2021-03-24T21:09:50.674884Z",
     "iopub.status.busy": "2021-03-24T21:09:50.674457Z",
     "iopub.status.idle": "2021-03-24T21:09:50.684257Z",
     "shell.execute_reply": "2021-03-24T21:09:50.683831Z"
    },
    "executionInfo": {
     "elapsed": 36,
     "status": "ok",
     "timestamp": 1615583415203,
     "user": {
      "displayName": "Lisa Elli",
      "photoUrl": "",
      "userId": "06754712231658711937"
     },
     "user_tz": -60
    },
    "id": "BUVqnVNn62RB",
    "outputId": "ac9e5b05-f3b2-4559-9c59-1e518fa52302",
    "pycharm": {
     "name": "#%%\n"
    }
   },
   "outputs": [],
   "source": [
    "y_true=test_batches.classes\n",
    "y_pred=np.argmax(predictions, axis=-1)\n",
    "cm = confusion_matrix(y_true = y_true, y_pred = y_pred)"
   ]
  },
  {
   "cell_type": "code",
   "execution_count": 12,
   "metadata": {
    "execution": {
     "iopub.execute_input": "2021-03-24T21:09:50.694554Z",
     "iopub.status.busy": "2021-03-24T21:09:50.694136Z",
     "iopub.status.idle": "2021-03-24T21:09:50.696753Z",
     "shell.execute_reply": "2021-03-24T21:09:50.696414Z"
    },
    "id": "ZJwZjSBg62RB",
    "pycharm": {
     "name": "#%%\n"
    }
   },
   "outputs": [
    {
     "name": "stdout",
     "output_type": "stream",
     "text": [
      "Data from class 'face', that was wrongly predicted as 'no-face' [ 3 ] :\n",
      "[8313, 8501, 9330]\n",
      "----------------------------------------------------------------------------------------------\n",
      "Data from class 'no-face', that was wrongly predicted as 'face' [ 8 ] :\n",
      "[8082, 8125, 8371, 8497, 8527, 8761, 9137, 9310]\n"
     ]
    }
   ],
   "source": [
    "face_but_predicted_no_face=[]\n",
    "no_face_but_predicted_face=[]\n",
    "\n",
    "for i in range(len(predictions)):\n",
    "        if y_true[i] != y_pred[i]:\n",
    "            if y_true[i] == 1:\n",
    "                face_but_predicted_no_face.append(i+8001-1500) #Index of file on disk\n",
    "            else:\n",
    "                no_face_but_predicted_face.append(i+8001) #Index of file on disk\n",
    "\n",
    "print(\"Data from class 'face', that was wrongly predicted as 'no-face' [\", len(face_but_predicted_no_face), \"] :\")\n",
    "print(face_but_predicted_no_face)\n",
    "print(\"----------------------------------------------------------------------------------------------\")\n",
    "print(\"Data from class 'no-face', that was wrongly predicted as 'face' [\", len(no_face_but_predicted_face), \"] :\")\n",
    "print(no_face_but_predicted_face)"
   ]
  },
  {
   "cell_type": "markdown",
   "metadata": {
    "colab": {
     "base_uri": "https://localhost:8080/"
    },
    "executionInfo": {
     "elapsed": 46,
     "status": "ok",
     "timestamp": 1615583415708,
     "user": {
      "displayName": "Lisa Elli",
      "photoUrl": "",
      "userId": "06754712231658711937"
     },
     "user_tz": -60
    },
    "id": "KfQRdJ2n62RC",
    "outputId": "0447f407-8758-4ab8-9acb-585653323105",
    "pycharm": {
     "name": "#%% md\n"
    }
   },
   "source": [
    "### Confusion matrix"
   ]
  },
  {
   "cell_type": "code",
   "execution_count": 13,
   "metadata": {
    "execution": {
     "iopub.execute_input": "2021-03-24T21:09:50.701994Z",
     "iopub.status.busy": "2021-03-24T21:09:50.701595Z",
     "iopub.status.idle": "2021-03-24T21:09:50.703483Z",
     "shell.execute_reply": "2021-03-24T21:09:50.703065Z"
    }
   },
   "outputs": [],
   "source": [
    "def plot_confusion_matrix(cm, classes,\n",
    "                          normalize=False,\n",
    "                          title='Confusion matrix',\n",
    "                          cmap=plt.cm.Blues):\n",
    "\n",
    "    plt.imshow(cm, interpolation='nearest', cmap=cmap)\n",
    "    plt.title(title)\n",
    "    plt.colorbar()\n",
    "    tick_marks = np.arange(len(classes))\n",
    "    plt.xticks(tick_marks, classes, rotation=45)\n",
    "    plt.yticks(tick_marks, classes)\n",
    "\n",
    "    if normalize:\n",
    "        cm = cm.astype('float') / cm.sum(axis=1)[:, np.newaxis]\n",
    "        print(\"Normalized confusion matrix\")\n",
    "    else:\n",
    "        print('Confusion matrix, without normalization')\n",
    "\n",
    "    print(cm)\n",
    "\n",
    "    thresh = cm.max() / 2.\n",
    "    for i, j in itertools.product(range(cm.shape[0]), range(cm.shape[1])):\n",
    "        plt.text(j, i, cm[i, j],\n",
    "                 horizontalalignment=\"center\",\n",
    "                 color=\"white\" if cm[i, j] > thresh else \"black\")\n",
    "\n",
    "    plt.tight_layout()\n",
    "    plt.ylabel('True label')\n",
    "    plt.xlabel('Predicted label')"
   ]
  },
  {
   "cell_type": "code",
   "execution_count": 14,
   "metadata": {
    "execution": {
     "iopub.execute_input": "2021-03-24T21:09:50.707739Z",
     "iopub.status.busy": "2021-03-24T21:09:50.707340Z",
     "iopub.status.idle": "2021-03-24T21:09:50.709762Z",
     "shell.execute_reply": "2021-03-24T21:09:50.709348Z"
    },
    "id": "pXwZZiKy62RC",
    "pycharm": {
     "name": "#%%\n"
    }
   },
   "outputs": [
    {
     "data": {
      "text/plain": [
       "{'no_face': 0, 'face': 1}"
      ]
     },
     "execution_count": 1,
     "metadata": {},
     "output_type": "execute_result"
    }
   ],
   "source": [
    "test_batches.class_indices"
   ]
  },
  {
   "cell_type": "code",
   "execution_count": 15,
   "metadata": {
    "colab": {
     "base_uri": "https://localhost:8080/"
    },
    "execution": {
     "iopub.execute_input": "2021-03-24T21:09:50.753637Z",
     "iopub.status.busy": "2021-03-24T21:09:50.747202Z",
     "iopub.status.idle": "2021-03-24T21:09:50.865206Z",
     "shell.execute_reply": "2021-03-24T21:09:50.865671Z"
    },
    "executionInfo": {
     "elapsed": 8624,
     "status": "ok",
     "timestamp": 1615583424302,
     "user": {
      "displayName": "Lisa Elli",
      "photoUrl": "",
      "userId": "06754712231658711937"
     },
     "user_tz": -60
    },
    "id": "_1_vTnWO62RC",
    "outputId": "98311fcd-35bf-4383-ff77-d1a1b62291f2",
    "pycharm": {
     "name": "#%%\n"
    }
   },
   "outputs": [
    {
     "name": "stdout",
     "output_type": "stream",
     "text": [
      "Confusion matrix, without normalization\n",
      "[[1492    8]\n",
      " [   3 1497]]\n"
     ]
    },
    {
     "data": {
      "image/png": "[encoded data removed]",
      "text/plain": [
       "<Figure size 432x288 with 2 Axes>"
      ]
     },
     "metadata": {
      "needs_background": "light"
     },
     "output_type": "display_data"
    }
   ],
   "source": [
    "cm_plot_labels = ['no_face','face']\n",
    "plot_confusion_matrix(cm=cm, classes=cm_plot_labels, title='Confusion Matrix')\n"
   ]
  }
 ],
 "metadata": {
  "kernelspec": {
   "display_name": "Python 3",
   "language": "python",
   "name": "python3"
  },
  "language_info": {
   "codemirror_mode": {
    "name": "ipython",
    "version": 3
   },
   "file_extension": ".py",
   "mimetype": "text/x-python",
   "name": "python",
   "nbconvert_exporter": "python",
   "pygments_lexer": "ipython3",
   "version": "3.8.5"
  }
 },
 "nbformat": 4,
 "nbformat_minor": 1
}
