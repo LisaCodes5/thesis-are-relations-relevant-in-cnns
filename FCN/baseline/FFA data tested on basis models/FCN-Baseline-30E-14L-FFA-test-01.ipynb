{
 "cells": [
  {
   "cell_type": "markdown",
   "metadata": {
    "id": "O82TH2Vr62Qi"
   },
   "source": [
    "# Are Relations Relevant in CNNs? *A Study Based on a Facial Dataset*"
   ]
  },
  {
   "cell_type": "markdown",
   "metadata": {
    "id": "ehl8qgCC62Qx"
   },
   "source": [
    "## Testing Baseline FCN *(30 Epochs - 13 Layers)*"
   ]
  },
  {
   "cell_type": "markdown",
   "metadata": {
    "id": "3clj-ony62Q0",
    "pycharm": {
     "name": "#%% md\n"
    }
   },
   "source": [
    "### Imports, Seed, GPU integration"
   ]
  },
  {
   "cell_type": "code",
   "execution_count": 1,
   "metadata": {
    "execution": {
     "iopub.execute_input": "2021-03-24T21:10:38.966505Z",
     "iopub.status.busy": "2021-03-24T21:10:38.965997Z",
     "iopub.status.idle": "2021-03-24T21:10:40.180026Z",
     "shell.execute_reply": "2021-03-24T21:10:40.179441Z"
    },
    "id": "cnCaBFfp62Q2",
    "pycharm": {
     "name": "#%%\n"
    }
   },
   "outputs": [],
   "source": [
    "import numpy as np\n",
    "import random\n",
    "import tensorflow as tf"
   ]
  },
  {
   "cell_type": "code",
   "execution_count": 2,
   "metadata": {
    "execution": {
     "iopub.execute_input": "2021-03-24T21:10:40.183258Z",
     "iopub.status.busy": "2021-03-24T21:10:40.182868Z",
     "iopub.status.idle": "2021-03-24T21:10:40.184623Z",
     "shell.execute_reply": "2021-03-24T21:10:40.185011Z"
    },
    "id": "jsw3DKWp62Q4",
    "pycharm": {
     "name": "#%%\n"
    }
   },
   "outputs": [],
   "source": [
    "# Seeds for better reproducibility\n",
    "seed = 42\n",
    "np.random.seed(seed)\n",
    "random.seed(seed)\n",
    "tf.random.set_seed(seed)"
   ]
  },
  {
   "cell_type": "code",
   "execution_count": 3,
   "metadata": {
    "execution": {
     "iopub.execute_input": "2021-03-24T21:10:40.189027Z",
     "iopub.status.busy": "2021-03-24T21:10:40.188610Z",
     "iopub.status.idle": "2021-03-24T21:10:40.695220Z",
     "shell.execute_reply": "2021-03-24T21:10:40.694779Z"
    }
   },
   "outputs": [],
   "source": [
    "from tensorflow.keras.models import load_model\n",
    "from tensorflow.keras.preprocessing.image import ImageDataGenerator\n",
    "from sklearn.metrics import confusion_matrix\n",
    "import itertools\n",
    "import matplotlib.pyplot as plt\n",
    "import warnings\n",
    "warnings.simplefilter(action='ignore', category=FutureWarning)\n",
    "%matplotlib inline"
   ]
  },
  {
   "cell_type": "code",
   "execution_count": 4,
   "metadata": {
    "colab": {
     "base_uri": "https://localhost:8080/"
    },
    "execution": {
     "iopub.execute_input": "2021-03-24T21:10:40.738585Z",
     "iopub.status.busy": "2021-03-24T21:10:40.738163Z",
     "iopub.status.idle": "2021-03-24T21:10:40.740193Z",
     "shell.execute_reply": "2021-03-24T21:10:40.740595Z"
    },
    "executionInfo": {
     "elapsed": 19631,
     "status": "ok",
     "timestamp": 1615579393251,
     "user": {
      "displayName": "Lisa Elli",
      "photoUrl": "",
      "userId": "06754712231658711937"
     },
     "user_tz": -60
    },
    "id": "4vE5F4rX62Q4",
    "outputId": "bff035e6-71fc-433f-d1fd-7e794a4724fc",
    "pycharm": {
     "name": "#%%\n"
    }
   },
   "outputs": [
    {
     "name": "stdout",
     "output_type": "stream",
     "text": [
      "Num GPUs Available:  1\n"
     ]
    }
   ],
   "source": [
    "physical_devices = tf.config.experimental.list_physical_devices('GPU')\n",
    "print(\"Num GPUs Available: \", len(physical_devices))\n",
    "tf.config.experimental.set_memory_growth(physical_devices[0], True)"
   ]
  },
  {
   "cell_type": "markdown",
   "metadata": {
    "id": "wmGEalmo62Q7"
   },
   "source": [
    "### Data preparation"
   ]
  },
  {
   "cell_type": "code",
   "execution_count": 5,
   "metadata": {
    "execution": {
     "iopub.execute_input": "2021-03-24T21:10:40.743532Z",
     "iopub.status.busy": "2021-03-24T21:10:40.743097Z",
     "iopub.status.idle": "2021-03-24T21:10:40.745429Z",
     "shell.execute_reply": "2021-03-24T21:10:40.745014Z"
    },
    "id": "FdYjQ15w62Q7",
    "pycharm": {
     "name": "#%%\n"
    }
   },
   "outputs": [],
   "source": [
    "test_path = '../../../picasso_dataset/FFA-data/middle/test'"
   ]
  },
  {
   "cell_type": "code",
   "execution_count": 6,
   "metadata": {
    "colab": {
     "base_uri": "https://localhost:8080/"
    },
    "execution": {
     "iopub.execute_input": "2021-03-24T21:10:40.749084Z",
     "iopub.status.busy": "2021-03-24T21:10:40.748641Z",
     "iopub.status.idle": "2021-03-24T21:10:40.822717Z",
     "shell.execute_reply": "2021-03-24T21:10:40.823033Z"
    },
    "executionInfo": {
     "elapsed": 15267,
     "status": "ok",
     "timestamp": 1615579393916,
     "user": {
      "displayName": "Lisa Elli",
      "photoUrl": "",
      "userId": "06754712231658711937"
     },
     "user_tz": -60
    },
    "id": "n_l3PW-_62Q7",
    "outputId": "8db7a694-024d-4e83-d2d7-0c75b63f3eb9",
    "pycharm": {
     "name": "#%%\n"
    }
   },
   "outputs": [
    {
     "name": "stdout",
     "output_type": "stream",
     "text": [
      "Found 3000 images belonging to 2 classes.\n"
     ]
    }
   ],
   "source": [
    "test_batches = ImageDataGenerator(preprocessing_function=tf.keras.applications.vgg16.preprocess_input) \\\n",
    "    .flow_from_directory(directory=test_path, target_size=(224,224), classes=['no_face', 'face'], batch_size=10, shuffle=False)"
   ]
  },
  {
   "cell_type": "code",
   "execution_count": 7,
   "metadata": {
    "execution": {
     "iopub.execute_input": "2021-03-24T21:10:40.825781Z",
     "iopub.status.busy": "2021-03-24T21:10:40.825375Z",
     "iopub.status.idle": "2021-03-24T21:10:40.827732Z",
     "shell.execute_reply": "2021-03-24T21:10:40.827224Z"
    },
    "id": "SbBy_3JT62Q8",
    "pycharm": {
     "name": "#%%\n"
    }
   },
   "outputs": [],
   "source": [
    "assert test_batches.n == 3000\n",
    "assert test_batches.num_classes == 2"
   ]
  },
  {
   "cell_type": "markdown",
   "metadata": {
    "id": "kgM-9Fbg62Q-"
   },
   "source": [
    "### Loading the trained FCN"
   ]
  },
  {
   "cell_type": "code",
   "execution_count": 8,
   "metadata": {
    "execution": {
     "iopub.execute_input": "2021-03-24T21:10:40.833509Z",
     "iopub.status.busy": "2021-03-24T21:10:40.833104Z",
     "iopub.status.idle": "2021-03-24T21:10:41.412956Z",
     "shell.execute_reply": "2021-03-24T21:10:41.412518Z"
    },
    "id": "Cdg3Plko62Q-",
    "pycharm": {
     "name": "#%%\n"
    }
   },
   "outputs": [],
   "source": [
    "filename='../models/FCN-B-30E-14L-01.h5'\n",
    "loaded_model = load_model(filename)"
   ]
  },
  {
   "cell_type": "markdown",
   "metadata": {
    "colab": {
     "base_uri": "https://localhost:8080/"
    },
    "executionInfo": {
     "elapsed": 5474,
     "status": "ok",
     "timestamp": 1615579399410,
     "user": {
      "displayName": "Lisa Elli",
      "photoUrl": "",
      "userId": "06754712231658711937"
     },
     "user_tz": -60
    },
    "id": "wtTJTaWatrgn",
    "outputId": "5e22cecc-bb59-456b-ceaa-d3986077141c",
    "pycharm": {
     "name": "#%% md\n"
    }
   },
   "source": [
    "### Accuracy and loss of the trained model"
   ]
  },
  {
   "cell_type": "code",
   "execution_count": 9,
   "metadata": {
    "execution": {
     "iopub.execute_input": "2021-03-24T21:10:41.416319Z",
     "iopub.status.busy": "2021-03-24T21:10:41.415877Z",
     "iopub.status.idle": "2021-03-24T21:10:49.915543Z",
     "shell.execute_reply": "2021-03-24T21:10:49.915122Z"
    },
    "id": "HYmld1gj62Q_",
    "pycharm": {
     "name": "#%%\n"
    }
   },
   "outputs": [
    {
     "name": "stdout",
     "output_type": "stream",
     "text": [
      "300/300 - 7s - loss: 0.3381 - accuracy: 0.8903\n",
      "Accuracy: 89.03%\n",
      "Loss: 33.81%\n"
     ]
    }
   ],
   "source": [
    "scores = loaded_model.evaluate(test_batches, verbose=2)\n",
    "print(\"Accuracy: %.2f%%\" % (scores[1]*100))\n",
    "print(\"Loss: %.2f%%\" % (scores[0]*100))"
   ]
  },
  {
   "cell_type": "markdown",
   "metadata": {
    "colab": {
     "base_uri": "https://localhost:8080/"
    },
    "executionInfo": {
     "elapsed": 1444054,
     "status": "ok",
     "timestamp": 1615583415200,
     "user": {
      "displayName": "Lisa Elli",
      "photoUrl": "",
      "userId": "06754712231658711937"
     },
     "user_tz": -60
    },
    "id": "TY7tN3BE62RB",
    "outputId": "fe3f86f2-25c7-4d7b-c4cf-5b4d4a8e0ebe",
    "pycharm": {
     "name": "#%% md\n"
    }
   },
   "source": [
    "### Testing the FCN"
   ]
  },
  {
   "cell_type": "code",
   "execution_count": 10,
   "metadata": {
    "execution": {
     "iopub.execute_input": "2021-03-24T21:10:49.919195Z",
     "iopub.status.busy": "2021-03-24T21:10:49.918781Z",
     "iopub.status.idle": "2021-03-24T21:10:57.339347Z",
     "shell.execute_reply": "2021-03-24T21:10:57.338916Z"
    },
    "id": "dgDtbkcv62RB",
    "pycharm": {
     "name": "#%%\n"
    }
   },
   "outputs": [],
   "source": [
    "predictions = loaded_model.predict(x=test_batches, steps=len(test_batches), verbose=0)"
   ]
  },
  {
   "cell_type": "markdown",
   "metadata": {
    "pycharm": {
     "name": "#%% md\n"
    }
   },
   "source": [
    "### Index of wrongly predicted pictures"
   ]
  },
  {
   "cell_type": "code",
   "execution_count": 11,
   "metadata": {
    "colab": {
     "base_uri": "https://localhost:8080/"
    },
    "execution": {
     "iopub.execute_input": "2021-03-24T21:10:57.342493Z",
     "iopub.status.busy": "2021-03-24T21:10:57.342093Z",
     "iopub.status.idle": "2021-03-24T21:10:57.351364Z",
     "shell.execute_reply": "2021-03-24T21:10:57.350934Z"
    },
    "executionInfo": {
     "elapsed": 36,
     "status": "ok",
     "timestamp": 1615583415203,
     "user": {
      "displayName": "Lisa Elli",
      "photoUrl": "",
      "userId": "06754712231658711937"
     },
     "user_tz": -60
    },
    "id": "BUVqnVNn62RB",
    "outputId": "ac9e5b05-f3b2-4559-9c59-1e518fa52302",
    "pycharm": {
     "name": "#%%\n"
    }
   },
   "outputs": [],
   "source": [
    "y_true=test_batches.classes\n",
    "y_pred=np.argmax(predictions, axis=-1)\n",
    "cm = confusion_matrix(y_true = y_true, y_pred = y_pred)"
   ]
  },
  {
   "cell_type": "code",
   "execution_count": 12,
   "metadata": {
    "execution": {
     "iopub.execute_input": "2021-03-24T21:10:57.361758Z",
     "iopub.status.busy": "2021-03-24T21:10:57.358407Z",
     "iopub.status.idle": "2021-03-24T21:10:57.363939Z",
     "shell.execute_reply": "2021-03-24T21:10:57.364265Z"
    },
    "id": "ZJwZjSBg62RB",
    "pycharm": {
     "name": "#%%\n"
    }
   },
   "outputs": [
    {
     "name": "stdout",
     "output_type": "stream",
     "text": [
      "Data from class 'face', that was wrongly predicted as 'no-face' [ 124 ] :\n",
      "[8015, 8018, 8024, 8025, 8028, 8032, 8054, 8064, 8067, 8084, 8086, 8091, 8102, 8123, 8132, 8138, 8143, 8152, 8154, 8160, 8188, 8258, 8278, 8282, 8290, 8298, 8300, 8320, 8322, 8327, 8339, 8341, 8356, 8357, 8365, 8419, 8424, 8435, 8444, 8451, 8466, 8475, 8484, 8486, 8496, 8503, 8520, 8523, 8527, 8533, 8545, 8554, 8555, 8556, 8561, 8571, 8594, 8596, 8598, 8600, 8607, 8619, 8632, 8642, 8657, 8685, 8694, 8719, 8726, 8779, 8816, 8854, 8857, 8871, 8893, 8914, 8919, 8928, 8942, 8948, 8952, 8958, 8962, 8978, 8991, 9000, 9001, 9005, 9026, 9048, 9052, 9061, 9126, 9135, 9152, 9164, 9166, 9183, 9184, 9188, 9208, 9210, 9221, 9222, 9224, 9248, 9258, 9263, 9280, 9288, 9305, 9343, 9356, 9359, 9377, 9378, 9385, 9390, 9426, 9446, 9450, 9475, 9476, 9497]\n",
      "----------------------------------------------------------------------------------------------\n",
      "Data from class 'no-face', that was wrongly predicted as 'face' [ 205 ] :\n",
      "[8001, 8006, 8007, 8013, 8015, 8029, 8043, 8045, 8049, 8053, 8060, 8068, 8080, 8083, 8084, 8091, 8094, 8095, 8104, 8114, 8135, 8148, 8151, 8158, 8162, 8164, 8172, 8173, 8179, 8180, 8185, 8192, 8193, 8199, 8200, 8222, 8227, 8244, 8251, 8252, 8256, 8270, 8271, 8281, 8282, 8287, 8288, 8293, 8306, 8317, 8319, 8322, 8323, 8329, 8331, 8334, 8342, 8354, 8355, 8364, 8369, 8380, 8394, 8402, 8415, 8420, 8428, 8429, 8431, 8432, 8441, 8443, 8448, 8451, 8452, 8458, 8466, 8472, 8473, 8487, 8488, 8497, 8509, 8511, 8512, 8524, 8535, 8539, 8541, 8546, 8549, 8550, 8556, 8558, 8559, 8561, 8564, 8580, 8583, 8587, 8602, 8604, 8607, 8611, 8618, 8623, 8643, 8645, 8652, 8657, 8665, 8681, 8683, 8688, 8694, 8695, 8697, 8700, 8709, 8725, 8732, 8743, 8757, 8764, 8774, 8778, 8787, 8795, 8812, 8814, 8820, 8824, 8840, 8842, 8849, 8850, 8851, 8883, 8885, 8894, 8896, 8898, 8910, 8915, 8924, 8934, 8958, 8961, 8979, 8994, 8998, 9003, 9012, 9020, 9057, 9060, 9061, 9064, 9073, 9082, 9092, 9093, 9094, 9097, 9122, 9137, 9146, 9200, 9224, 9234, 9236, 9237, 9241, 9249, 9267, 9272, 9285, 9305, 9320, 9333, 9338, 9342, 9344, 9351, 9360, 9376, 9386, 9388, 9400, 9404, 9408, 9414, 9416, 9419, 9426, 9439, 9445, 9448, 9450, 9458, 9477, 9479, 9480, 9483, 9494]\n"
     ]
    }
   ],
   "source": [
    "face_but_predicted_no_face=[]\n",
    "no_face_but_predicted_face=[]\n",
    "\n",
    "for i in range(len(predictions)):\n",
    "        if y_true[i] != y_pred[i]:\n",
    "            if y_true[i] == 1:\n",
    "                face_but_predicted_no_face.append(i+8001-1500) #Index of file on disk\n",
    "            else:\n",
    "                no_face_but_predicted_face.append(i+8001) #Index of file on disk\n",
    "\n",
    "print(\"Data from class 'face', that was wrongly predicted as 'no-face' [\", len(face_but_predicted_no_face), \"] :\")\n",
    "print(face_but_predicted_no_face)\n",
    "print(\"----------------------------------------------------------------------------------------------\")\n",
    "print(\"Data from class 'no-face', that was wrongly predicted as 'face' [\", len(no_face_but_predicted_face), \"] :\")\n",
    "print(no_face_but_predicted_face)"
   ]
  },
  {
   "cell_type": "markdown",
   "metadata": {
    "colab": {
     "base_uri": "https://localhost:8080/"
    },
    "executionInfo": {
     "elapsed": 46,
     "status": "ok",
     "timestamp": 1615583415708,
     "user": {
      "displayName": "Lisa Elli",
      "photoUrl": "",
      "userId": "06754712231658711937"
     },
     "user_tz": -60
    },
    "id": "KfQRdJ2n62RC",
    "outputId": "0447f407-8758-4ab8-9acb-585653323105",
    "pycharm": {
     "name": "#%% md\n"
    }
   },
   "source": [
    "### Confusion matrix"
   ]
  },
  {
   "cell_type": "code",
   "execution_count": 13,
   "metadata": {
    "execution": {
     "iopub.execute_input": "2021-03-24T21:10:57.369640Z",
     "iopub.status.busy": "2021-03-24T21:10:57.369225Z",
     "iopub.status.idle": "2021-03-24T21:10:57.371360Z",
     "shell.execute_reply": "2021-03-24T21:10:57.370939Z"
    }
   },
   "outputs": [],
   "source": [
    "def plot_confusion_matrix(cm, classes,\n",
    "                          normalize=False,\n",
    "                          title='Confusion matrix',\n",
    "                          cmap=plt.cm.Blues):\n",
    "\n",
    "    plt.imshow(cm, interpolation='nearest', cmap=cmap)\n",
    "    plt.title(title)\n",
    "    plt.colorbar()\n",
    "    tick_marks = np.arange(len(classes))\n",
    "    plt.xticks(tick_marks, classes, rotation=45)\n",
    "    plt.yticks(tick_marks, classes)\n",
    "\n",
    "    if normalize:\n",
    "        cm = cm.astype('float') / cm.sum(axis=1)[:, np.newaxis]\n",
    "        print(\"Normalized confusion matrix\")\n",
    "    else:\n",
    "        print('Confusion matrix, without normalization')\n",
    "\n",
    "    print(cm)\n",
    "\n",
    "    thresh = cm.max() / 2.\n",
    "    for i, j in itertools.product(range(cm.shape[0]), range(cm.shape[1])):\n",
    "        plt.text(j, i, cm[i, j],\n",
    "                 horizontalalignment=\"center\",\n",
    "                 color=\"white\" if cm[i, j] > thresh else \"black\")\n",
    "\n",
    "    plt.tight_layout()\n",
    "    plt.ylabel('True label')\n",
    "    plt.xlabel('Predicted label')"
   ]
  },
  {
   "cell_type": "code",
   "execution_count": 14,
   "metadata": {
    "execution": {
     "iopub.execute_input": "2021-03-24T21:10:57.375913Z",
     "iopub.status.busy": "2021-03-24T21:10:57.375485Z",
     "iopub.status.idle": "2021-03-24T21:10:57.377514Z",
     "shell.execute_reply": "2021-03-24T21:10:57.377831Z"
    },
    "id": "pXwZZiKy62RC",
    "pycharm": {
     "name": "#%%\n"
    }
   },
   "outputs": [
    {
     "data": {
      "text/plain": [
       "{'no_face': 0, 'face': 1}"
      ]
     },
     "execution_count": 1,
     "metadata": {},
     "output_type": "execute_result"
    }
   ],
   "source": [
    "test_batches.class_indices"
   ]
  },
  {
   "cell_type": "code",
   "execution_count": 15,
   "metadata": {
    "colab": {
     "base_uri": "https://localhost:8080/"
    },
    "execution": {
     "iopub.execute_input": "2021-03-24T21:10:57.415071Z",
     "iopub.status.busy": "2021-03-24T21:10:57.414647Z",
     "iopub.status.idle": "2021-03-24T21:10:57.533573Z",
     "shell.execute_reply": "2021-03-24T21:10:57.533161Z"
    },
    "executionInfo": {
     "elapsed": 8624,
     "status": "ok",
     "timestamp": 1615583424302,
     "user": {
      "displayName": "Lisa Elli",
      "photoUrl": "",
      "userId": "06754712231658711937"
     },
     "user_tz": -60
    },
    "id": "_1_vTnWO62RC",
    "outputId": "98311fcd-35bf-4383-ff77-d1a1b62291f2",
    "pycharm": {
     "name": "#%%\n"
    }
   },
   "outputs": [
    {
     "name": "stdout",
     "output_type": "stream",
     "text": [
      "Confusion matrix, without normalization\n",
      "[[1295  205]\n",
      " [ 124 1376]]\n"
     ]
    },
    {
     "data": {
      "image/png": "[encoded data removed]",
      "text/plain": [
       "<Figure size 432x288 with 2 Axes>"
      ]
     },
     "metadata": {
      "needs_background": "light"
     },
     "output_type": "display_data"
    }
   ],
   "source": [
    "cm_plot_labels = ['no_face','face']\n",
    "plot_confusion_matrix(cm=cm, classes=cm_plot_labels, title='Confusion Matrix')\n"
   ]
  }
 ],
 "metadata": {
  "kernelspec": {
   "display_name": "Python 3",
   "language": "python",
   "name": "python3"
  },
  "language_info": {
   "codemirror_mode": {
    "name": "ipython",
    "version": 3
   },
   "file_extension": ".py",
   "mimetype": "text/x-python",
   "name": "python",
   "nbconvert_exporter": "python",
   "pygments_lexer": "ipython3",
   "version": "3.8.5"
  }
 },
 "nbformat": 4,
 "nbformat_minor": 1
}
