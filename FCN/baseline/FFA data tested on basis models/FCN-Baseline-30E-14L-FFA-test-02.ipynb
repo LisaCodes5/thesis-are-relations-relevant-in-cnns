{
 "cells": [
  {
   "cell_type": "markdown",
   "metadata": {
    "id": "O82TH2Vr62Qi"
   },
   "source": [
    "# Are Relations Relevant in CNNs? *A Study Based on a Facial Dataset*"
   ]
  },
  {
   "cell_type": "markdown",
   "metadata": {
    "id": "ehl8qgCC62Qx"
   },
   "source": [
    "## Testing Baseline FCN *(30 Epochs - 13 Layers)*"
   ]
  },
  {
   "cell_type": "markdown",
   "metadata": {
    "id": "3clj-ony62Q0",
    "pycharm": {
     "name": "#%% md\n"
    }
   },
   "source": [
    "### Imports, Seed, GPU integration"
   ]
  },
  {
   "cell_type": "code",
   "execution_count": 1,
   "metadata": {
    "execution": {
     "iopub.execute_input": "2021-03-24T21:09:53.236057Z",
     "iopub.status.busy": "2021-03-24T21:09:53.235582Z",
     "iopub.status.idle": "2021-03-24T21:09:54.459077Z",
     "shell.execute_reply": "2021-03-24T21:09:54.458515Z"
    },
    "id": "cnCaBFfp62Q2",
    "pycharm": {
     "name": "#%%\n"
    }
   },
   "outputs": [],
   "source": [
    "import numpy as np\n",
    "import random\n",
    "import tensorflow as tf"
   ]
  },
  {
   "cell_type": "code",
   "execution_count": 2,
   "metadata": {
    "execution": {
     "iopub.execute_input": "2021-03-24T21:09:54.463160Z",
     "iopub.status.busy": "2021-03-24T21:09:54.462731Z",
     "iopub.status.idle": "2021-03-24T21:09:54.464097Z",
     "shell.execute_reply": "2021-03-24T21:09:54.464493Z"
    },
    "id": "jsw3DKWp62Q4",
    "pycharm": {
     "name": "#%%\n"
    }
   },
   "outputs": [],
   "source": [
    "# Seeds for better reproducibility\n",
    "seed = 42\n",
    "np.random.seed(seed)\n",
    "random.seed(seed)\n",
    "tf.random.set_seed(seed)"
   ]
  },
  {
   "cell_type": "code",
   "execution_count": 3,
   "metadata": {
    "execution": {
     "iopub.execute_input": "2021-03-24T21:09:54.468676Z",
     "iopub.status.busy": "2021-03-24T21:09:54.468230Z",
     "iopub.status.idle": "2021-03-24T21:09:54.971323Z",
     "shell.execute_reply": "2021-03-24T21:09:54.971669Z"
    }
   },
   "outputs": [],
   "source": [
    "from tensorflow.keras.models import load_model\n",
    "from tensorflow.keras.preprocessing.image import ImageDataGenerator\n",
    "from sklearn.metrics import confusion_matrix\n",
    "import itertools\n",
    "import matplotlib.pyplot as plt\n",
    "import warnings\n",
    "warnings.simplefilter(action='ignore', category=FutureWarning)\n",
    "%matplotlib inline"
   ]
  },
  {
   "cell_type": "code",
   "execution_count": 4,
   "metadata": {
    "colab": {
     "base_uri": "https://localhost:8080/"
    },
    "execution": {
     "iopub.execute_input": "2021-03-24T21:09:55.018955Z",
     "iopub.status.busy": "2021-03-24T21:09:55.018492Z",
     "iopub.status.idle": "2021-03-24T21:09:55.023008Z",
     "shell.execute_reply": "2021-03-24T21:09:55.022560Z"
    },
    "executionInfo": {
     "elapsed": 19631,
     "status": "ok",
     "timestamp": 1615579393251,
     "user": {
      "displayName": "Lisa Elli",
      "photoUrl": "",
      "userId": "06754712231658711937"
     },
     "user_tz": -60
    },
    "id": "4vE5F4rX62Q4",
    "outputId": "bff035e6-71fc-433f-d1fd-7e794a4724fc",
    "pycharm": {
     "name": "#%%\n"
    }
   },
   "outputs": [
    {
     "name": "stdout",
     "output_type": "stream",
     "text": [
      "Num GPUs Available:  1\n"
     ]
    }
   ],
   "source": [
    "physical_devices = tf.config.experimental.list_physical_devices('GPU')\n",
    "print(\"Num GPUs Available: \", len(physical_devices))\n",
    "tf.config.experimental.set_memory_growth(physical_devices[0], True)"
   ]
  },
  {
   "cell_type": "markdown",
   "metadata": {
    "id": "wmGEalmo62Q7"
   },
   "source": [
    "### Data preparation"
   ]
  },
  {
   "cell_type": "code",
   "execution_count": 5,
   "metadata": {
    "execution": {
     "iopub.execute_input": "2021-03-24T21:09:55.026681Z",
     "iopub.status.busy": "2021-03-24T21:09:55.026232Z",
     "iopub.status.idle": "2021-03-24T21:09:55.029082Z",
     "shell.execute_reply": "2021-03-24T21:09:55.029604Z"
    },
    "id": "FdYjQ15w62Q7",
    "pycharm": {
     "name": "#%%\n"
    }
   },
   "outputs": [],
   "source": [
    "test_path = '../../../picasso_dataset/FFA-data/middle/test'"
   ]
  },
  {
   "cell_type": "code",
   "execution_count": 6,
   "metadata": {
    "colab": {
     "base_uri": "https://localhost:8080/"
    },
    "execution": {
     "iopub.execute_input": "2021-03-24T21:09:55.033624Z",
     "iopub.status.busy": "2021-03-24T21:09:55.033204Z",
     "iopub.status.idle": "2021-03-24T21:09:55.112969Z",
     "shell.execute_reply": "2021-03-24T21:09:55.112451Z"
    },
    "executionInfo": {
     "elapsed": 15267,
     "status": "ok",
     "timestamp": 1615579393916,
     "user": {
      "displayName": "Lisa Elli",
      "photoUrl": "",
      "userId": "06754712231658711937"
     },
     "user_tz": -60
    },
    "id": "n_l3PW-_62Q7",
    "outputId": "8db7a694-024d-4e83-d2d7-0c75b63f3eb9",
    "pycharm": {
     "name": "#%%\n"
    }
   },
   "outputs": [
    {
     "name": "stdout",
     "output_type": "stream",
     "text": [
      "Found 3000 images belonging to 2 classes.\n"
     ]
    }
   ],
   "source": [
    "test_batches = ImageDataGenerator(preprocessing_function=tf.keras.applications.vgg16.preprocess_input) \\\n",
    "    .flow_from_directory(directory=test_path, target_size=(224,224), classes=['no_face', 'face'], batch_size=10, shuffle=False)"
   ]
  },
  {
   "cell_type": "code",
   "execution_count": 7,
   "metadata": {
    "execution": {
     "iopub.execute_input": "2021-03-24T21:09:55.115467Z",
     "iopub.status.busy": "2021-03-24T21:09:55.114503Z",
     "iopub.status.idle": "2021-03-24T21:09:55.117411Z",
     "shell.execute_reply": "2021-03-24T21:09:55.117774Z"
    },
    "id": "SbBy_3JT62Q8",
    "pycharm": {
     "name": "#%%\n"
    }
   },
   "outputs": [],
   "source": [
    "assert test_batches.n == 3000\n",
    "assert test_batches.num_classes == 2"
   ]
  },
  {
   "cell_type": "markdown",
   "metadata": {
    "id": "kgM-9Fbg62Q-"
   },
   "source": [
    "### Loading the trained FCN"
   ]
  },
  {
   "cell_type": "code",
   "execution_count": 8,
   "metadata": {
    "execution": {
     "iopub.execute_input": "2021-03-24T21:09:55.120886Z",
     "iopub.status.busy": "2021-03-24T21:09:55.120039Z",
     "iopub.status.idle": "2021-03-24T21:09:55.706489Z",
     "shell.execute_reply": "2021-03-24T21:09:55.706052Z"
    },
    "id": "Cdg3Plko62Q-",
    "pycharm": {
     "name": "#%%\n"
    }
   },
   "outputs": [],
   "source": [
    "filename='../models/FCN-B-30E-14L-02.h5'\n",
    "loaded_model = load_model(filename)"
   ]
  },
  {
   "cell_type": "markdown",
   "metadata": {
    "colab": {
     "base_uri": "https://localhost:8080/"
    },
    "executionInfo": {
     "elapsed": 5474,
     "status": "ok",
     "timestamp": 1615579399410,
     "user": {
      "displayName": "Lisa Elli",
      "photoUrl": "",
      "userId": "06754712231658711937"
     },
     "user_tz": -60
    },
    "id": "wtTJTaWatrgn",
    "outputId": "5e22cecc-bb59-456b-ceaa-d3986077141c",
    "pycharm": {
     "name": "#%% md\n"
    }
   },
   "source": [
    "### Accuracy and loss of the trained model"
   ]
  },
  {
   "cell_type": "code",
   "execution_count": 9,
   "metadata": {
    "execution": {
     "iopub.execute_input": "2021-03-24T21:09:55.709804Z",
     "iopub.status.busy": "2021-03-24T21:09:55.709248Z",
     "iopub.status.idle": "2021-03-24T21:10:04.160553Z",
     "shell.execute_reply": "2021-03-24T21:10:04.160152Z"
    },
    "id": "HYmld1gj62Q_",
    "pycharm": {
     "name": "#%%\n"
    }
   },
   "outputs": [
    {
     "name": "stdout",
     "output_type": "stream",
     "text": [
      "300/300 - 7s - loss: 0.4056 - accuracy: 0.8780\n",
      "Accuracy: 87.80%\n",
      "Loss: 40.56%\n"
     ]
    }
   ],
   "source": [
    "scores = loaded_model.evaluate(test_batches, verbose=2)\n",
    "print(\"Accuracy: %.2f%%\" % (scores[1]*100))\n",
    "print(\"Loss: %.2f%%\" % (scores[0]*100))"
   ]
  },
  {
   "cell_type": "markdown",
   "metadata": {
    "colab": {
     "base_uri": "https://localhost:8080/"
    },
    "executionInfo": {
     "elapsed": 1444054,
     "status": "ok",
     "timestamp": 1615583415200,
     "user": {
      "displayName": "Lisa Elli",
      "photoUrl": "",
      "userId": "06754712231658711937"
     },
     "user_tz": -60
    },
    "id": "TY7tN3BE62RB",
    "outputId": "fe3f86f2-25c7-4d7b-c4cf-5b4d4a8e0ebe",
    "pycharm": {
     "name": "#%% md\n"
    }
   },
   "source": [
    "### Testing the FCN"
   ]
  },
  {
   "cell_type": "code",
   "execution_count": 10,
   "metadata": {
    "execution": {
     "iopub.execute_input": "2021-03-24T21:10:04.164001Z",
     "iopub.status.busy": "2021-03-24T21:10:04.163565Z",
     "iopub.status.idle": "2021-03-24T21:10:11.649283Z",
     "shell.execute_reply": "2021-03-24T21:10:11.649714Z"
    },
    "id": "dgDtbkcv62RB",
    "pycharm": {
     "name": "#%%\n"
    }
   },
   "outputs": [],
   "source": [
    "predictions = loaded_model.predict(x=test_batches, steps=len(test_batches), verbose=0)"
   ]
  },
  {
   "cell_type": "markdown",
   "metadata": {
    "pycharm": {
     "name": "#%% md\n"
    }
   },
   "source": [
    "### Index of wrongly predicted pictures"
   ]
  },
  {
   "cell_type": "code",
   "execution_count": 11,
   "metadata": {
    "colab": {
     "base_uri": "https://localhost:8080/"
    },
    "execution": {
     "iopub.execute_input": "2021-03-24T21:10:11.659990Z",
     "iopub.status.busy": "2021-03-24T21:10:11.653064Z",
     "iopub.status.idle": "2021-03-24T21:10:11.662495Z",
     "shell.execute_reply": "2021-03-24T21:10:11.662835Z"
    },
    "executionInfo": {
     "elapsed": 36,
     "status": "ok",
     "timestamp": 1615583415203,
     "user": {
      "displayName": "Lisa Elli",
      "photoUrl": "",
      "userId": "06754712231658711937"
     },
     "user_tz": -60
    },
    "id": "BUVqnVNn62RB",
    "outputId": "ac9e5b05-f3b2-4559-9c59-1e518fa52302",
    "pycharm": {
     "name": "#%%\n"
    }
   },
   "outputs": [],
   "source": [
    "y_true=test_batches.classes\n",
    "y_pred=np.argmax(predictions, axis=-1)\n",
    "cm = confusion_matrix(y_true = y_true, y_pred = y_pred)"
   ]
  },
  {
   "cell_type": "code",
   "execution_count": 12,
   "metadata": {
    "execution": {
     "iopub.execute_input": "2021-03-24T21:10:11.674524Z",
     "iopub.status.busy": "2021-03-24T21:10:11.674096Z",
     "iopub.status.idle": "2021-03-24T21:10:11.677027Z",
     "shell.execute_reply": "2021-03-24T21:10:11.676620Z"
    },
    "id": "ZJwZjSBg62RB",
    "pycharm": {
     "name": "#%%\n"
    }
   },
   "outputs": [
    {
     "name": "stdout",
     "output_type": "stream",
     "text": [
      "Data from class 'face', that was wrongly predicted as 'no-face' [ 276 ] :\n",
      "[8004, 8007, 8008, 8009, 8011, 8015, 8023, 8025, 8030, 8040, 8053, 8056, 8060, 8069, 8077, 8082, 8094, 8096, 8106, 8113, 8115, 8128, 8144, 8151, 8154, 8157, 8162, 8169, 8171, 8172, 8174, 8175, 8182, 8189, 8197, 8202, 8208, 8209, 8215, 8225, 8227, 8233, 8237, 8244, 8246, 8248, 8272, 8274, 8291, 8301, 8307, 8312, 8314, 8321, 8322, 8323, 8325, 8327, 8338, 8339, 8341, 8345, 8347, 8351, 8354, 8365, 8368, 8373, 8378, 8379, 8380, 8397, 8399, 8402, 8407, 8419, 8427, 8431, 8435, 8439, 8442, 8448, 8451, 8452, 8457, 8464, 8468, 8478, 8484, 8491, 8497, 8502, 8503, 8513, 8520, 8522, 8533, 8535, 8536, 8541, 8545, 8551, 8558, 8560, 8561, 8563, 8571, 8572, 8575, 8578, 8580, 8583, 8588, 8594, 8598, 8602, 8608, 8619, 8622, 8623, 8633, 8644, 8645, 8654, 8655, 8674, 8694, 8695, 8696, 8700, 8705, 8707, 8715, 8722, 8744, 8746, 8747, 8748, 8751, 8752, 8759, 8766, 8772, 8781, 8783, 8793, 8800, 8804, 8808, 8816, 8827, 8842, 8845, 8846, 8853, 8854, 8870, 8893, 8894, 8895, 8899, 8909, 8924, 8928, 8930, 8942, 8948, 8949, 8952, 8954, 8962, 8963, 8967, 8968, 8971, 8972, 8978, 8985, 8996, 9000, 9001, 9003, 9006, 9008, 9011, 9025, 9026, 9032, 9035, 9037, 9038, 9039, 9045, 9049, 9051, 9052, 9057, 9061, 9069, 9070, 9071, 9086, 9091, 9112, 9114, 9118, 9125, 9126, 9129, 9132, 9135, 9144, 9145, 9146, 9155, 9159, 9162, 9167, 9170, 9174, 9183, 9187, 9188, 9189, 9208, 9216, 9222, 9248, 9258, 9265, 9266, 9267, 9270, 9280, 9284, 9291, 9298, 9304, 9305, 9307, 9312, 9333, 9339, 9340, 9342, 9343, 9349, 9354, 9359, 9369, 9372, 9375, 9377, 9378, 9382, 9385, 9388, 9390, 9391, 9392, 9398, 9422, 9423, 9426, 9427, 9438, 9440, 9446, 9450, 9451, 9454, 9475, 9476, 9482, 9493, 9496]\n",
      "----------------------------------------------------------------------------------------------\n",
      "Data from class 'no-face', that was wrongly predicted as 'face' [ 90 ] :\n",
      "[8007, 8013, 8015, 8029, 8063, 8068, 8083, 8144, 8162, 8174, 8193, 8199, 8244, 8256, 8263, 8287, 8299, 8306, 8329, 8334, 8336, 8338, 8354, 8355, 8372, 8386, 8415, 8420, 8428, 8431, 8432, 8443, 8448, 8451, 8458, 8463, 8466, 8476, 8488, 8497, 8511, 8512, 8530, 8535, 8539, 8541, 8549, 8602, 8604, 8618, 8643, 8652, 8657, 8681, 8697, 8726, 8727, 8774, 8802, 8814, 8820, 8850, 8851, 8883, 8885, 8894, 8958, 8979, 8994, 9058, 9061, 9082, 9090, 9097, 9109, 9137, 9146, 9178, 9200, 9234, 9236, 9241, 9246, 9272, 9338, 9340, 9388, 9395, 9414, 9445]\n"
     ]
    }
   ],
   "source": [
    "face_but_predicted_no_face=[]\n",
    "no_face_but_predicted_face=[]\n",
    "\n",
    "for i in range(len(predictions)):\n",
    "        if y_true[i] != y_pred[i]:\n",
    "            if y_true[i] == 1:\n",
    "                face_but_predicted_no_face.append(i+8001-1500) #Index of file on disk\n",
    "            else:\n",
    "                no_face_but_predicted_face.append(i+8001) #Index of file on disk\n",
    "\n",
    "print(\"Data from class 'face', that was wrongly predicted as 'no-face' [\", len(face_but_predicted_no_face), \"] :\")\n",
    "print(face_but_predicted_no_face)\n",
    "print(\"----------------------------------------------------------------------------------------------\")\n",
    "print(\"Data from class 'no-face', that was wrongly predicted as 'face' [\", len(no_face_but_predicted_face), \"] :\")\n",
    "print(no_face_but_predicted_face)"
   ]
  },
  {
   "cell_type": "markdown",
   "metadata": {
    "colab": {
     "base_uri": "https://localhost:8080/"
    },
    "executionInfo": {
     "elapsed": 46,
     "status": "ok",
     "timestamp": 1615583415708,
     "user": {
      "displayName": "Lisa Elli",
      "photoUrl": "",
      "userId": "06754712231658711937"
     },
     "user_tz": -60
    },
    "id": "KfQRdJ2n62RC",
    "outputId": "0447f407-8758-4ab8-9acb-585653323105",
    "pycharm": {
     "name": "#%% md\n"
    }
   },
   "source": [
    "### Confusion matrix"
   ]
  },
  {
   "cell_type": "code",
   "execution_count": 13,
   "metadata": {
    "execution": {
     "iopub.execute_input": "2021-03-24T21:10:11.685581Z",
     "iopub.status.busy": "2021-03-24T21:10:11.685153Z",
     "iopub.status.idle": "2021-03-24T21:10:11.687185Z",
     "shell.execute_reply": "2021-03-24T21:10:11.686761Z"
    }
   },
   "outputs": [],
   "source": [
    "def plot_confusion_matrix(cm, classes,\n",
    "                          normalize=False,\n",
    "                          title='Confusion matrix',\n",
    "                          cmap=plt.cm.Blues):\n",
    "\n",
    "    plt.imshow(cm, interpolation='nearest', cmap=cmap)\n",
    "    plt.title(title)\n",
    "    plt.colorbar()\n",
    "    tick_marks = np.arange(len(classes))\n",
    "    plt.xticks(tick_marks, classes, rotation=45)\n",
    "    plt.yticks(tick_marks, classes)\n",
    "\n",
    "    if normalize:\n",
    "        cm = cm.astype('float') / cm.sum(axis=1)[:, np.newaxis]\n",
    "        print(\"Normalized confusion matrix\")\n",
    "    else:\n",
    "        print('Confusion matrix, without normalization')\n",
    "\n",
    "    print(cm)\n",
    "\n",
    "    thresh = cm.max() / 2.\n",
    "    for i, j in itertools.product(range(cm.shape[0]), range(cm.shape[1])):\n",
    "        plt.text(j, i, cm[i, j],\n",
    "                 horizontalalignment=\"center\",\n",
    "                 color=\"white\" if cm[i, j] > thresh else \"black\")\n",
    "\n",
    "    plt.tight_layout()\n",
    "    plt.ylabel('True label')\n",
    "    plt.xlabel('Predicted label')"
   ]
  },
  {
   "cell_type": "code",
   "execution_count": 14,
   "metadata": {
    "execution": {
     "iopub.execute_input": "2021-03-24T21:10:11.692039Z",
     "iopub.status.busy": "2021-03-24T21:10:11.691554Z",
     "iopub.status.idle": "2021-03-24T21:10:11.695242Z",
     "shell.execute_reply": "2021-03-24T21:10:11.695592Z"
    },
    "id": "pXwZZiKy62RC",
    "pycharm": {
     "name": "#%%\n"
    }
   },
   "outputs": [
    {
     "data": {
      "text/plain": [
       "{'no_face': 0, 'face': 1}"
      ]
     },
     "execution_count": 1,
     "metadata": {},
     "output_type": "execute_result"
    }
   ],
   "source": [
    "test_batches.class_indices"
   ]
  },
  {
   "cell_type": "code",
   "execution_count": 15,
   "metadata": {
    "colab": {
     "base_uri": "https://localhost:8080/"
    },
    "execution": {
     "iopub.execute_input": "2021-03-24T21:10:11.732385Z",
     "iopub.status.busy": "2021-03-24T21:10:11.723894Z",
     "iopub.status.idle": "2021-03-24T21:10:11.853070Z",
     "shell.execute_reply": "2021-03-24T21:10:11.852616Z"
    },
    "executionInfo": {
     "elapsed": 8624,
     "status": "ok",
     "timestamp": 1615583424302,
     "user": {
      "displayName": "Lisa Elli",
      "photoUrl": "",
      "userId": "06754712231658711937"
     },
     "user_tz": -60
    },
    "id": "_1_vTnWO62RC",
    "outputId": "98311fcd-35bf-4383-ff77-d1a1b62291f2",
    "pycharm": {
     "name": "#%%\n"
    }
   },
   "outputs": [
    {
     "name": "stdout",
     "output_type": "stream",
     "text": [
      "Confusion matrix, without normalization\n",
      "[[1410   90]\n",
      " [ 276 1224]]\n"
     ]
    },
    {
     "data": {
      "image/png": "[encoded data removed]",
      "text/plain": [
       "<Figure size 432x288 with 2 Axes>"
      ]
     },
     "metadata": {
      "needs_background": "light"
     },
     "output_type": "display_data"
    }
   ],
   "source": [
    "cm_plot_labels = ['no_face','face']\n",
    "plot_confusion_matrix(cm=cm, classes=cm_plot_labels, title='Confusion Matrix')\n"
   ]
  }
 ],
 "metadata": {
  "kernelspec": {
   "display_name": "Python 3",
   "language": "python",
   "name": "python3"
  },
  "language_info": {
   "codemirror_mode": {
    "name": "ipython",
    "version": 3
   },
   "file_extension": ".py",
   "mimetype": "text/x-python",
   "name": "python",
   "nbconvert_exporter": "python",
   "pygments_lexer": "ipython3",
   "version": "3.8.5"
  }
 },
 "nbformat": 4,
 "nbformat_minor": 1
}
