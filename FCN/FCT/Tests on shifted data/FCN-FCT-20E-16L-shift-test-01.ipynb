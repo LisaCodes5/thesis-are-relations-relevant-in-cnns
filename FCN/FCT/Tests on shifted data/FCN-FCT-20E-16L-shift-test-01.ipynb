{
 "cells": [
  {
   "cell_type": "markdown",
   "metadata": {
    "id": "O82TH2Vr62Qi"
   },
   "source": [
    "# Are Relations Relevant in CNNs? *A Study Based on a Facial Dataset*"
   ]
  },
  {
   "cell_type": "markdown",
   "metadata": {
    "id": "ehl8qgCC62Qx"
   },
   "source": [
    "## Testing FCN with Features Closer Together *(20 Epochs - 15 Layers)*"
   ]
  },
  {
   "cell_type": "markdown",
   "metadata": {
    "id": "cnCaBFfp62Q2",
    "pycharm": {
     "name": "#%% md\n"
    }
   },
   "source": [
    "### Imports, Seed, GPU integration"
   ]
  },
  {
   "cell_type": "code",
   "execution_count": 1,
   "metadata": {
    "execution": {
     "iopub.execute_input": "2021-03-24T21:15:03.065300Z",
     "iopub.status.busy": "2021-03-24T21:15:03.064667Z",
     "iopub.status.idle": "2021-03-24T21:15:04.284721Z",
     "shell.execute_reply": "2021-03-24T21:15:04.284282Z"
    },
    "pycharm": {
     "name": "#%%\n"
    }
   },
   "outputs": [],
   "source": [
    "import numpy as np\n",
    "import random\n",
    "import tensorflow as tf"
   ]
  },
  {
   "cell_type": "code",
   "execution_count": 2,
   "metadata": {
    "execution": {
     "iopub.execute_input": "2021-03-24T21:15:04.288010Z",
     "iopub.status.busy": "2021-03-24T21:15:04.287599Z",
     "iopub.status.idle": "2021-03-24T21:15:04.290929Z",
     "shell.execute_reply": "2021-03-24T21:15:04.290303Z"
    },
    "id": "jsw3DKWp62Q4",
    "pycharm": {
     "name": "#%%\n"
    }
   },
   "outputs": [],
   "source": [
    "# Seeds for better reproducibility\n",
    "seed = 42\n",
    "np.random.seed(seed)\n",
    "random.seed(seed)\n",
    "tf.random.set_seed(seed)"
   ]
  },
  {
   "cell_type": "code",
   "execution_count": 3,
   "metadata": {
    "execution": {
     "iopub.execute_input": "2021-03-24T21:15:04.295156Z",
     "iopub.status.busy": "2021-03-24T21:15:04.294752Z",
     "iopub.status.idle": "2021-03-24T21:15:04.819251Z",
     "shell.execute_reply": "2021-03-24T21:15:04.818808Z"
    }
   },
   "outputs": [],
   "source": [
    "from tensorflow.keras.models import load_model\n",
    "from tensorflow.keras.preprocessing.image import ImageDataGenerator\n",
    "from sklearn.metrics import confusion_matrix\n",
    "import itertools\n",
    "import matplotlib.pyplot as plt\n",
    "import warnings\n",
    "warnings.simplefilter(action='ignore', category=FutureWarning)\n",
    "%matplotlib inline"
   ]
  },
  {
   "cell_type": "code",
   "execution_count": 4,
   "metadata": {
    "colab": {
     "base_uri": "https://localhost:8080/"
    },
    "execution": {
     "iopub.execute_input": "2021-03-24T21:15:04.862049Z",
     "iopub.status.busy": "2021-03-24T21:15:04.861641Z",
     "iopub.status.idle": "2021-03-24T21:15:04.865145Z",
     "shell.execute_reply": "2021-03-24T21:15:04.864739Z"
    },
    "executionInfo": {
     "elapsed": 19631,
     "status": "ok",
     "timestamp": 1615579393251,
     "user": {
      "displayName": "Lisa Elli",
      "photoUrl": "",
      "userId": "06754712231658711937"
     },
     "user_tz": -60
    },
    "id": "4vE5F4rX62Q4",
    "outputId": "bff035e6-71fc-433f-d1fd-7e794a4724fc",
    "pycharm": {
     "name": "#%%\n"
    }
   },
   "outputs": [
    {
     "name": "stdout",
     "output_type": "stream",
     "text": [
      "Num GPUs Available:  1\n"
     ]
    }
   ],
   "source": [
    "physical_devices = tf.config.experimental.list_physical_devices('GPU')\n",
    "print(\"Num GPUs Available: \", len(physical_devices))\n",
    "tf.config.experimental.set_memory_growth(physical_devices[0], True)"
   ]
  },
  {
   "cell_type": "markdown",
   "metadata": {
    "id": "wmGEalmo62Q7"
   },
   "source": [
    "### Data preparation"
   ]
  },
  {
   "cell_type": "code",
   "execution_count": 5,
   "metadata": {
    "execution": {
     "iopub.execute_input": "2021-03-24T21:15:04.867998Z",
     "iopub.status.busy": "2021-03-24T21:15:04.867594Z",
     "iopub.status.idle": "2021-03-24T21:15:04.869215Z",
     "shell.execute_reply": "2021-03-24T21:15:04.869611Z"
    },
    "id": "FdYjQ15w62Q7",
    "pycharm": {
     "name": "#%%\n"
    }
   },
   "outputs": [],
   "source": [
    "test_path = '../../../picasso_dataset/FCT-data/shifted/test'"
   ]
  },
  {
   "cell_type": "code",
   "execution_count": 6,
   "metadata": {
    "colab": {
     "base_uri": "https://localhost:8080/"
    },
    "execution": {
     "iopub.execute_input": "2021-03-24T21:15:04.873047Z",
     "iopub.status.busy": "2021-03-24T21:15:04.872552Z",
     "iopub.status.idle": "2021-03-24T21:15:04.947163Z",
     "shell.execute_reply": "2021-03-24T21:15:04.947564Z"
    },
    "executionInfo": {
     "elapsed": 15267,
     "status": "ok",
     "timestamp": 1615579393916,
     "user": {
      "displayName": "Lisa Elli",
      "photoUrl": "",
      "userId": "06754712231658711937"
     },
     "user_tz": -60
    },
    "id": "n_l3PW-_62Q7",
    "outputId": "8db7a694-024d-4e83-d2d7-0c75b63f3eb9",
    "pycharm": {
     "name": "#%%\n"
    }
   },
   "outputs": [
    {
     "name": "stdout",
     "output_type": "stream",
     "text": [
      "Found 3000 images belonging to 2 classes.\n"
     ]
    }
   ],
   "source": [
    "test_batches = ImageDataGenerator(preprocessing_function=tf.keras.applications.vgg16.preprocess_input) \\\n",
    "    .flow_from_directory(directory=test_path, target_size=(224,224), classes=['no_face', 'face'], batch_size=10, shuffle=False)"
   ]
  },
  {
   "cell_type": "code",
   "execution_count": 7,
   "metadata": {
    "execution": {
     "iopub.execute_input": "2021-03-24T21:15:04.950266Z",
     "iopub.status.busy": "2021-03-24T21:15:04.949887Z",
     "iopub.status.idle": "2021-03-24T21:15:04.951541Z",
     "shell.execute_reply": "2021-03-24T21:15:04.951845Z"
    },
    "id": "SbBy_3JT62Q8",
    "pycharm": {
     "name": "#%%\n"
    }
   },
   "outputs": [],
   "source": [
    "assert test_batches.n == 3000\n",
    "assert test_batches.num_classes == 2"
   ]
  },
  {
   "cell_type": "markdown",
   "metadata": {
    "id": "ZJwZjSBg62RB",
    "pycharm": {
     "name": "#%% md\n"
    }
   },
   "source": [
    "### Loading the trained FCN"
   ]
  },
  {
   "cell_type": "code",
   "execution_count": 8,
   "metadata": {
    "colab": {
     "base_uri": "https://localhost:8080/"
    },
    "execution": {
     "iopub.execute_input": "2021-03-24T21:15:04.954990Z",
     "iopub.status.busy": "2021-03-24T21:15:04.953461Z",
     "iopub.status.idle": "2021-03-24T21:15:05.571693Z",
     "shell.execute_reply": "2021-03-24T21:15:05.571232Z"
    },
    "executionInfo": {
     "elapsed": 46,
     "status": "ok",
     "timestamp": 1615583415708,
     "user": {
      "displayName": "Lisa Elli",
      "photoUrl": "",
      "userId": "06754712231658711937"
     },
     "user_tz": -60
    },
    "id": "KfQRdJ2n62RC",
    "outputId": "0447f407-8758-4ab8-9acb-585653323105",
    "pycharm": {
     "name": "#%%\n"
    }
   },
   "outputs": [],
   "source": [
    "filename='../models/FCN-FCT-20E-16L-01.h5'\n",
    "loaded_model = load_model(filename)"
   ]
  },
  {
   "cell_type": "markdown",
   "metadata": {
    "id": "pXwZZiKy62RC",
    "pycharm": {
     "name": "#%% md\n"
    }
   },
   "source": [
    "### Accuracy and loss of the trained model"
   ]
  },
  {
   "cell_type": "code",
   "execution_count": 9,
   "metadata": {
    "colab": {
     "base_uri": "https://localhost:8080/"
    },
    "execution": {
     "iopub.execute_input": "2021-03-24T21:15:05.575346Z",
     "iopub.status.busy": "2021-03-24T21:15:05.574930Z",
     "iopub.status.idle": "2021-03-24T21:15:13.922370Z",
     "shell.execute_reply": "2021-03-24T21:15:13.921943Z"
    },
    "executionInfo": {
     "elapsed": 8624,
     "status": "ok",
     "timestamp": 1615583424302,
     "user": {
      "displayName": "Lisa Elli",
      "photoUrl": "",
      "userId": "06754712231658711937"
     },
     "user_tz": -60
    },
    "id": "_1_vTnWO62RC",
    "outputId": "98311fcd-35bf-4383-ff77-d1a1b62291f2",
    "pycharm": {
     "name": "#%%\n"
    }
   },
   "outputs": [
    {
     "name": "stdout",
     "output_type": "stream",
     "text": [
      "300/300 - 7s - loss: 0.0242 - accuracy: 0.9930\n",
      "Accuracy: 99.30%\n",
      "Loss: 2.42%\n"
     ]
    }
   ],
   "source": [
    "scores = loaded_model.evaluate(test_batches, verbose=2)\n",
    "print(\"Accuracy: %.2f%%\" % (scores[1]*100))\n",
    "print(\"Loss: %.2f%%\" % (scores[0]*100))"
   ]
  },
  {
   "cell_type": "markdown",
   "metadata": {
    "id": "-Dfs319f62RC"
   },
   "source": [
    "### Testing the FCN"
   ]
  },
  {
   "cell_type": "code",
   "execution_count": 10,
   "metadata": {
    "execution": {
     "iopub.execute_input": "2021-03-24T21:15:13.926048Z",
     "iopub.status.busy": "2021-03-24T21:15:13.925644Z",
     "iopub.status.idle": "2021-03-24T21:15:21.285392Z",
     "shell.execute_reply": "2021-03-24T21:15:21.284852Z"
    },
    "executionInfo": {
     "elapsed": 8234,
     "status": "ok",
     "timestamp": 1615586642347,
     "user": {
      "displayName": "Lisa Elli",
      "photoUrl": "",
      "userId": "06754712231658711937"
     },
     "user_tz": -60
    },
    "id": "cnM7Y7Au62RD",
    "pycharm": {
     "name": "#%%\n"
    }
   },
   "outputs": [],
   "source": [
    "predictions = loaded_model.predict(x=test_batches, steps=len(test_batches), verbose=0)"
   ]
  },
  {
   "cell_type": "markdown",
   "metadata": {
    "id": "R2kk-gQX62RE",
    "pycharm": {
     "name": "#%% md\n"
    }
   },
   "source": [
    "### Index of wrongly predicted pictures"
   ]
  },
  {
   "cell_type": "code",
   "execution_count": 11,
   "metadata": {
    "execution": {
     "iopub.execute_input": "2021-03-24T21:15:21.289037Z",
     "iopub.status.busy": "2021-03-24T21:15:21.288614Z",
     "iopub.status.idle": "2021-03-24T21:15:21.297731Z",
     "shell.execute_reply": "2021-03-24T21:15:21.297312Z"
    },
    "executionInfo": {
     "elapsed": 604,
     "status": "ok",
     "timestamp": 1615586643749,
     "user": {
      "displayName": "Lisa Elli",
      "photoUrl": "",
      "userId": "06754712231658711937"
     },
     "user_tz": -60
    },
    "id": "5Kt0jsFB62RE",
    "pycharm": {
     "name": "#%%\n"
    }
   },
   "outputs": [],
   "source": [
    "y_true=test_batches.classes\n",
    "y_pred=np.argmax(predictions, axis=-1)\n",
    "cm = confusion_matrix(y_true = y_true, y_pred = y_pred)"
   ]
  },
  {
   "cell_type": "code",
   "execution_count": 12,
   "metadata": {
    "colab": {
     "base_uri": "https://localhost:8080/"
    },
    "execution": {
     "iopub.execute_input": "2021-03-24T21:15:21.305394Z",
     "iopub.status.busy": "2021-03-24T21:15:21.304982Z",
     "iopub.status.idle": "2021-03-24T21:15:21.310527Z",
     "shell.execute_reply": "2021-03-24T21:15:21.310191Z"
    },
    "executionInfo": {
     "elapsed": 881,
     "status": "ok",
     "timestamp": 1615586646608,
     "user": {
      "displayName": "Lisa Elli",
      "photoUrl": "",
      "userId": "06754712231658711937"
     },
     "user_tz": -60
    },
    "id": "aSzFxBUy62RE",
    "outputId": "45c28aa2-5183-46c6-dc0a-901668a61137",
    "pycharm": {
     "name": "#%%\n"
    }
   },
   "outputs": [
    {
     "name": "stdout",
     "output_type": "stream",
     "text": [
      "Data from class 'face', that was wrongly predicted as 'no-face' [ 21 ] :\n",
      "[8080, 8138, 8165, 8170, 8305, 8465, 8471, 8473, 8635, 8753, 8778, 9044, 9054, 9157, 9162, 9169, 9175, 9225, 9305, 9339, 9418]\n",
      "----------------------------------------------------------------------------------------------\n",
      "Data from class 'no-face', that was wrongly predicted as 'face' [ 0 ] :\n",
      "[]\n"
     ]
    }
   ],
   "source": [
    "face_but_predicted_no_face=[]\n",
    "no_face_but_predicted_face=[]\n",
    "\n",
    "for i in range(len(predictions)):\n",
    "        if y_true[i] != y_pred[i]:\n",
    "            if y_true[i] == 1:\n",
    "                face_but_predicted_no_face.append(i+8001-1500) #Index of file on disk\n",
    "            else:\n",
    "                no_face_but_predicted_face.append(i+8001) #Index of file on disk\n",
    "\n",
    "print(\"Data from class 'face', that was wrongly predicted as 'no-face' [\", len(face_but_predicted_no_face), \"] :\")\n",
    "print(face_but_predicted_no_face)\n",
    "print(\"----------------------------------------------------------------------------------------------\")\n",
    "print(\"Data from class 'no-face', that was wrongly predicted as 'face' [\", len(no_face_but_predicted_face), \"] :\")\n",
    "print(no_face_but_predicted_face)"
   ]
  },
  {
   "cell_type": "markdown",
   "metadata": {
    "id": "6eTe3tG762RE",
    "pycharm": {
     "name": "#%% md\n"
    }
   },
   "source": [
    "### Confusion matrix"
   ]
  },
  {
   "cell_type": "code",
   "execution_count": 13,
   "metadata": {
    "execution": {
     "iopub.execute_input": "2021-03-24T21:15:21.316065Z",
     "iopub.status.busy": "2021-03-24T21:15:21.315655Z",
     "iopub.status.idle": "2021-03-24T21:15:21.318818Z",
     "shell.execute_reply": "2021-03-24T21:15:21.318397Z"
    },
    "executionInfo": {
     "elapsed": 902,
     "status": "ok",
     "timestamp": 1615586652173,
     "user": {
      "displayName": "Lisa Elli",
      "photoUrl": "",
      "userId": "06754712231658711937"
     },
     "user_tz": -60
    },
    "id": "TXVbugwa62RE",
    "pycharm": {
     "name": "#%%\n"
    }
   },
   "outputs": [],
   "source": [
    "def plot_confusion_matrix(cm, classes,\n",
    "                          normalize=False,\n",
    "                          title='Confusion matrix',\n",
    "                          cmap=plt.cm.Blues):\n",
    "\n",
    "    plt.imshow(cm, interpolation='nearest', cmap=cmap)\n",
    "    plt.title(title)\n",
    "    plt.colorbar()\n",
    "    tick_marks = np.arange(len(classes))\n",
    "    plt.xticks(tick_marks, classes, rotation=45)\n",
    "    plt.yticks(tick_marks, classes)\n",
    "\n",
    "    if normalize:\n",
    "        cm = cm.astype('float') / cm.sum(axis=1)[:, np.newaxis]\n",
    "        print(\"Normalized confusion matrix\")\n",
    "    else:\n",
    "        print('Confusion matrix, without normalization')\n",
    "\n",
    "    print(cm)\n",
    "\n",
    "    thresh = cm.max() / 2.\n",
    "    for i, j in itertools.product(range(cm.shape[0]), range(cm.shape[1])):\n",
    "        plt.text(j, i, cm[i, j],\n",
    "                 horizontalalignment=\"center\",\n",
    "                 color=\"white\" if cm[i, j] > thresh else \"black\")\n",
    "\n",
    "    plt.tight_layout()\n",
    "    plt.ylabel('True label')\n",
    "    plt.xlabel('Predicted label')"
   ]
  },
  {
   "cell_type": "code",
   "execution_count": 14,
   "metadata": {
    "colab": {
     "base_uri": "https://localhost:8080/"
    },
    "execution": {
     "iopub.execute_input": "2021-03-24T21:15:21.323454Z",
     "iopub.status.busy": "2021-03-24T21:15:21.323029Z",
     "iopub.status.idle": "2021-03-24T21:15:21.325849Z",
     "shell.execute_reply": "2021-03-24T21:15:21.325428Z"
    },
    "executionInfo": {
     "elapsed": 909,
     "status": "ok",
     "timestamp": 1615586655343,
     "user": {
      "displayName": "Lisa Elli",
      "photoUrl": "",
      "userId": "06754712231658711937"
     },
     "user_tz": -60
    },
    "id": "sP3ndK5o62RF",
    "outputId": "74d415b9-1346-4b60-8a66-1899e30acb23",
    "pycharm": {
     "name": "#%%\n"
    }
   },
   "outputs": [
    {
     "data": {
      "text/plain": [
       "{'no_face': 0, 'face': 1}"
      ]
     },
     "execution_count": 1,
     "metadata": {},
     "output_type": "execute_result"
    }
   ],
   "source": [
    "test_batches.class_indices"
   ]
  },
  {
   "cell_type": "code",
   "execution_count": 15,
   "metadata": {
    "colab": {
     "base_uri": "https://localhost:8080/",
     "height": 366
    },
    "execution": {
     "iopub.execute_input": "2021-03-24T21:15:21.368753Z",
     "iopub.status.busy": "2021-03-24T21:15:21.363169Z",
     "iopub.status.idle": "2021-03-24T21:15:21.483787Z",
     "shell.execute_reply": "2021-03-24T21:15:21.484382Z"
    },
    "executionInfo": {
     "elapsed": 1444,
     "status": "ok",
     "timestamp": 1615586660010,
     "user": {
      "displayName": "Lisa Elli",
      "photoUrl": "",
      "userId": "06754712231658711937"
     },
     "user_tz": -60
    },
    "id": "_iHhK36e62RF",
    "outputId": "e4096568-5620-44a6-8e7f-ac906560d917",
    "pycharm": {
     "name": "#%%\n"
    }
   },
   "outputs": [
    {
     "name": "stdout",
     "output_type": "stream",
     "text": [
      "Confusion matrix, without normalization\n",
      "[[1500    0]\n",
      " [  21 1479]]\n"
     ]
    },
    {
     "data": {
      "image/png": "[encoded data removed]",
      "text/plain": [
       "<Figure size 432x288 with 2 Axes>"
      ]
     },
     "metadata": {
      "needs_background": "light"
     },
     "output_type": "display_data"
    }
   ],
   "source": [
    "cm_plot_labels = ['no_face','face']\n",
    "plot_confusion_matrix(cm=cm, classes=cm_plot_labels, title='Confusion Matrix')"
   ]
  }
 ],
 "metadata": {
  "kernelspec": {
   "display_name": "Python 3",
   "language": "python",
   "name": "python3"
  },
  "language_info": {
   "codemirror_mode": {
    "name": "ipython",
    "version": 3
   },
   "file_extension": ".py",
   "mimetype": "text/x-python",
   "name": "python",
   "nbconvert_exporter": "python",
   "pygments_lexer": "ipython3",
   "version": "3.8.5"
  }
 },
 "nbformat": 4,
 "nbformat_minor": 1
}
