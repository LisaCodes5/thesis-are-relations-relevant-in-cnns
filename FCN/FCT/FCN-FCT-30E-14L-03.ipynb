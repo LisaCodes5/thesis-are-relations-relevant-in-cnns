{
 "cells": [
  {
   "cell_type": "markdown",
   "metadata": {
    "id": "O82TH2Vr62Qi"
   },
   "source": [
    "# Are Relations Relevant in CNNs? *A Study Based on a Facial Dataset*"
   ]
  },
  {
   "cell_type": "markdown",
   "metadata": {
    "id": "ehl8qgCC62Qx"
   },
   "source": [
    "## FCN with Features Closer Together *(30 Epochs - 14 Layers)*"
   ]
  },
  {
   "cell_type": "markdown",
   "metadata": {},
   "source": [
    "### Imports, Seed, GPU integration"
   ]
  },
  {
   "cell_type": "code",
   "execution_count": 1,
   "metadata": {
    "execution": {
     "iopub.execute_input": "2021-03-24T08:43:13.650025Z",
     "iopub.status.busy": "2021-03-24T08:43:13.649557Z",
     "iopub.status.idle": "2021-03-24T08:43:14.831745Z",
     "shell.execute_reply": "2021-03-24T08:43:14.831126Z"
    },
    "id": "3clj-ony62Q0",
    "pycharm": {
     "name": "#%%\n"
    }
   },
   "outputs": [],
   "source": [
    "import numpy as np\n",
    "import random\n",
    "import tensorflow as tf"
   ]
  },
  {
   "cell_type": "code",
   "execution_count": 2,
   "metadata": {
    "execution": {
     "iopub.execute_input": "2021-03-24T08:43:14.835158Z",
     "iopub.status.busy": "2021-03-24T08:43:14.834758Z",
     "iopub.status.idle": "2021-03-24T08:43:14.836871Z",
     "shell.execute_reply": "2021-03-24T08:43:14.836443Z"
    },
    "id": "cnCaBFfp62Q2",
    "pycharm": {
     "name": "#%%\n"
    }
   },
   "outputs": [],
   "source": [
    "# Seeds for better reproducibility\n",
    "seed = 42\n",
    "np.random.seed(seed)\n",
    "random.seed(seed)\n",
    "tf.random.set_seed(seed)"
   ]
  },
  {
   "cell_type": "code",
   "execution_count": 3,
   "metadata": {
    "execution": {
     "iopub.execute_input": "2021-03-24T08:43:14.841673Z",
     "iopub.status.busy": "2021-03-24T08:43:14.841260Z",
     "iopub.status.idle": "2021-03-24T08:43:15.328984Z",
     "shell.execute_reply": "2021-03-24T08:43:15.328554Z"
    },
    "id": "jsw3DKWp62Q4",
    "pycharm": {
     "name": "#%%\n"
    }
   },
   "outputs": [],
   "source": [
    "from tensorflow.keras.layers import  Dropout, Conv2D, GlobalMaxPooling2D, BatchNormalization, Activation, MaxPool2D\n",
    "from tensorflow.keras.optimizers import Adam\n",
    "from tensorflow.keras.models import load_model\n",
    "from tensorflow.keras.preprocessing.image import ImageDataGenerator\n",
    "from tensorflow.python.keras.models import Sequential\n",
    "from sklearn.metrics import confusion_matrix\n",
    "import itertools\n",
    "import matplotlib.pyplot as plt\n",
    "import warnings\n",
    "warnings.simplefilter(action='ignore', category=FutureWarning)\n",
    "%matplotlib inline"
   ]
  },
  {
   "cell_type": "code",
   "execution_count": 4,
   "metadata": {
    "colab": {
     "base_uri": "https://localhost:8080/"
    },
    "execution": {
     "iopub.execute_input": "2021-03-24T08:43:15.377414Z",
     "iopub.status.busy": "2021-03-24T08:43:15.376910Z",
     "iopub.status.idle": "2021-03-24T08:43:15.381050Z",
     "shell.execute_reply": "2021-03-24T08:43:15.380628Z"
    },
    "executionInfo": {
     "elapsed": 19631,
     "status": "ok",
     "timestamp": 1615579393251,
     "user": {
      "displayName": "Lisa Elli",
      "photoUrl": "",
      "userId": "06754712231658711937"
     },
     "user_tz": -60
    },
    "id": "4vE5F4rX62Q4",
    "outputId": "bff035e6-71fc-433f-d1fd-7e794a4724fc",
    "pycharm": {
     "name": "#%%\n"
    }
   },
   "outputs": [
    {
     "name": "stdout",
     "output_type": "stream",
     "text": [
      "Num GPUs Available:  1\n"
     ]
    }
   ],
   "source": [
    "physical_devices = tf.config.experimental.list_physical_devices('GPU')\n",
    "print(\"Num GPUs Available: \", len(physical_devices))\n",
    "tf.config.experimental.set_memory_growth(physical_devices[0], True)"
   ]
  },
  {
   "cell_type": "markdown",
   "metadata": {
    "id": "wmGEalmo62Q7"
   },
   "source": [
    "### Data preparation"
   ]
  },
  {
   "cell_type": "code",
   "execution_count": 5,
   "metadata": {
    "execution": {
     "iopub.execute_input": "2021-03-24T08:43:15.384135Z",
     "iopub.status.busy": "2021-03-24T08:43:15.383575Z",
     "iopub.status.idle": "2021-03-24T08:43:15.385617Z",
     "shell.execute_reply": "2021-03-24T08:43:15.385264Z"
    },
    "id": "FdYjQ15w62Q7",
    "pycharm": {
     "name": "#%%\n"
    }
   },
   "outputs": [],
   "source": [
    "train_path = '../../picasso_dataset/FCT-data/middle/train'\n",
    "valid_path = '../../picasso_dataset/FCT-data/middle/valid'\n",
    "test_path = '../../picasso_dataset/FCT-data/middle/test'"
   ]
  },
  {
   "cell_type": "code",
   "execution_count": 6,
   "metadata": {
    "colab": {
     "base_uri": "https://localhost:8080/"
    },
    "execution": {
     "iopub.execute_input": "2021-03-24T08:43:15.391033Z",
     "iopub.status.busy": "2021-03-24T08:43:15.390471Z",
     "iopub.status.idle": "2021-03-24T08:43:15.832445Z",
     "shell.execute_reply": "2021-03-24T08:43:15.832835Z"
    },
    "executionInfo": {
     "elapsed": 15267,
     "status": "ok",
     "timestamp": 1615579393916,
     "user": {
      "displayName": "Lisa Elli",
      "photoUrl": "",
      "userId": "06754712231658711937"
     },
     "user_tz": -60
    },
    "id": "n_l3PW-_62Q7",
    "outputId": "8db7a694-024d-4e83-d2d7-0c75b63f3eb9",
    "pycharm": {
     "name": "#%%\n"
    }
   },
   "outputs": [
    {
     "name": "stdout",
     "output_type": "stream",
     "text": [
      "Found 16002 images belonging to 2 classes.\n",
      "Found 998 images belonging to 2 classes.\n",
      "Found 3000 images belonging to 2 classes.\n"
     ]
    }
   ],
   "source": [
    "train_batches = ImageDataGenerator(preprocessing_function=tf.keras.applications.vgg16.preprocess_input) \\\n",
    "    .flow_from_directory(directory=train_path, target_size=(224,224), classes=['no_face', 'face'], batch_size=20)\n",
    "\n",
    "valid_batches = ImageDataGenerator(preprocessing_function=tf.keras.applications.vgg16.preprocess_input) \\\n",
    "    .flow_from_directory(directory=valid_path, target_size=(224,224), classes=['no_face', 'face'], batch_size=10)\n",
    "\n",
    "test_batches = ImageDataGenerator(preprocessing_function=tf.keras.applications.vgg16.preprocess_input) \\\n",
    "    .flow_from_directory(directory=test_path, target_size=(224,224), classes=['no_face', 'face'], batch_size=10, shuffle=False)"
   ]
  },
  {
   "cell_type": "code",
   "execution_count": 7,
   "metadata": {
    "execution": {
     "iopub.execute_input": "2021-03-24T08:43:15.835893Z",
     "iopub.status.busy": "2021-03-24T08:43:15.835499Z",
     "iopub.status.idle": "2021-03-24T08:43:15.837726Z",
     "shell.execute_reply": "2021-03-24T08:43:15.837307Z"
    },
    "id": "SbBy_3JT62Q8",
    "pycharm": {
     "name": "#%%\n"
    }
   },
   "outputs": [],
   "source": [
    "assert train_batches.n == 16002\n",
    "assert valid_batches.n == 998\n",
    "assert test_batches.n == 3000\n",
    "assert train_batches.num_classes == valid_batches.num_classes == test_batches.num_classes == 2"
   ]
  },
  {
   "cell_type": "markdown",
   "metadata": {
    "id": "kgM-9Fbg62Q-"
   },
   "source": [
    "### Building and training the FCN"
   ]
  },
  {
   "cell_type": "code",
   "execution_count": 8,
   "metadata": {
    "execution": {
     "iopub.execute_input": "2021-03-24T08:43:15.840561Z",
     "iopub.status.busy": "2021-03-24T08:43:15.840182Z",
     "iopub.status.idle": "2021-03-24T08:43:15.842280Z",
     "shell.execute_reply": "2021-03-24T08:43:15.841874Z"
    },
    "id": "Cdg3Plko62Q-",
    "pycharm": {
     "name": "#%%\n"
    }
   },
   "outputs": [],
   "source": [
    "dropout_rate=0.2"
   ]
  },
  {
   "cell_type": "code",
   "execution_count": 9,
   "metadata": {
    "colab": {
     "base_uri": "https://localhost:8080/"
    },
    "execution": {
     "iopub.execute_input": "2021-03-24T08:43:15.850915Z",
     "iopub.status.busy": "2021-03-24T08:43:15.848625Z",
     "iopub.status.idle": "2021-03-24T08:43:16.369670Z",
     "shell.execute_reply": "2021-03-24T08:43:16.369987Z"
    },
    "executionInfo": {
     "elapsed": 5474,
     "status": "ok",
     "timestamp": 1615579399410,
     "user": {
      "displayName": "Lisa Elli",
      "photoUrl": "",
      "userId": "06754712231658711937"
     },
     "user_tz": -60
    },
    "id": "wtTJTaWatrgn",
    "outputId": "5e22cecc-bb59-456b-ceaa-d3986077141c",
    "pycharm": {
     "name": "#%%\n"
    }
   },
   "outputs": [
    {
     "name": "stdout",
     "output_type": "stream",
     "text": [
      "Model: \"FCN-FCT\"\n",
      "_________________________________________________________________\n",
      "Layer (type)                 Output Shape              Param #   \n",
      "=================================================================\n",
      "Conv_1 (Conv2D)              (None, 224, 224, 32)      896       \n",
      "_________________________________________________________________\n",
      "Max_1 (MaxPooling2D)         (None, 112, 112, 32)      0         \n",
      "_________________________________________________________________\n",
      "DO_1 (Dropout)               (None, 112, 112, 32)      0         \n",
      "_________________________________________________________________\n",
      "BN_1 (BatchNormalization)    (None, 112, 112, 32)      128       \n",
      "_________________________________________________________________\n",
      "Conv_2 (Conv2D)              (None, 112, 112, 64)      18496     \n",
      "_________________________________________________________________\n",
      "Max_2 (MaxPooling2D)         (None, 56, 56, 64)        0         \n",
      "_________________________________________________________________\n",
      "Conv_3 (Conv2D)              (None, 56, 56, 128)       73856     \n",
      "_________________________________________________________________\n",
      "Max_3 (MaxPooling2D)         (None, 28, 28, 128)       0         \n",
      "_________________________________________________________________\n",
      "DO_3 (Dropout)               (None, 28, 28, 128)       0         \n",
      "_________________________________________________________________\n",
      "Conv_4 (Conv2D)              (None, 28, 28, 256)       295168    \n",
      "_________________________________________________________________\n",
      "Max_4 (MaxPooling2D)         (None, 14, 14, 256)       0         \n",
      "_________________________________________________________________\n",
      "Conv_con (Conv2D)            (None, 14, 14, 2)         514       \n",
      "_________________________________________________________________\n",
      "GMax_con (GlobalMaxPooling2D (None, 2)                 0         \n",
      "_________________________________________________________________\n",
      "Act_con (Activation)         (None, 2)                 0         \n",
      "=================================================================\n",
      "Total params: 389,058\n",
      "Trainable params: 388,994\n",
      "Non-trainable params: 64\n",
      "_________________________________________________________________\n"
     ]
    }
   ],
   "source": [
    "model = Sequential(name = \"FCN-FCT\")\n",
    "\n",
    "model.add(Conv2D(filters=32, kernel_size=(3, 3), activation='relu', padding = 'same', input_shape=(224,224,3), name = \"Conv_1\"))\n",
    "model.add(MaxPool2D(pool_size=(2, 2), name = \"Max_1\"))\n",
    "model.add(Dropout(rate=dropout_rate, name = \"DO_1\"))\n",
    "model.add(BatchNormalization(name = \"BN_1\"))\n",
    "\n",
    "model.add(Conv2D(filters=64, kernel_size=(3, 3), activation='relu', padding = 'same', name = \"Conv_2\"))\n",
    "model.add(MaxPool2D(pool_size=(2, 2), name = \"Max_2\"))\n",
    "\n",
    "model.add(Conv2D(filters=128, kernel_size=(3, 3), activation='relu', padding = 'same', name = \"Conv_3\"))\n",
    "model.add(MaxPool2D(pool_size=(2, 2), name = \"Max_3\"))\n",
    "model.add(Dropout(rate=dropout_rate, name = \"DO_3\"))\n",
    "\n",
    "model.add(Conv2D(filters=256, kernel_size=(3, 3), activation='relu', padding = 'same', name = \"Conv_4\"))\n",
    "model.add(MaxPool2D(pool_size=(2, 2), name = \"Max_4\"))\n",
    "\n",
    "# Fully connected layer\n",
    "model.add(Conv2D(filters=2, kernel_size=(1,1), name = \"Conv_con\"))\n",
    "model.add(GlobalMaxPooling2D(name = \"GMax_con\"))\n",
    "model.add(Activation('softmax', name = \"Act_con\"))\n",
    "\n",
    "model.summary()\n",
    "untrained_weights = list(model.get_weights()[0][0][0][0])"
   ]
  },
  {
   "cell_type": "code",
   "execution_count": 10,
   "metadata": {
    "execution": {
     "iopub.execute_input": "2021-03-24T08:43:16.377087Z",
     "iopub.status.busy": "2021-03-24T08:43:16.376684Z",
     "iopub.status.idle": "2021-03-24T08:43:16.382833Z",
     "shell.execute_reply": "2021-03-24T08:43:16.382396Z"
    },
    "id": "HYmld1gj62Q_",
    "pycharm": {
     "name": "#%%\n"
    }
   },
   "outputs": [],
   "source": [
    "model.compile(optimizer=Adam(learning_rate=0.0001),\n",
    "              loss='categorical_crossentropy',\n",
    "              metrics=['accuracy'] )"
   ]
  },
  {
   "cell_type": "code",
   "execution_count": 11,
   "metadata": {
    "colab": {
     "base_uri": "https://localhost:8080/"
    },
    "execution": {
     "iopub.execute_input": "2021-03-24T08:43:16.386092Z",
     "iopub.status.busy": "2021-03-24T08:43:16.385662Z",
     "iopub.status.idle": "2021-03-24T09:04:05.821376Z",
     "shell.execute_reply": "2021-03-24T09:04:05.820970Z"
    },
    "executionInfo": {
     "elapsed": 1444054,
     "status": "ok",
     "timestamp": 1615583415200,
     "user": {
      "displayName": "Lisa Elli",
      "photoUrl": "",
      "userId": "06754712231658711937"
     },
     "user_tz": -60
    },
    "id": "TY7tN3BE62RB",
    "outputId": "fe3f86f2-25c7-4d7b-c4cf-5b4d4a8e0ebe",
    "pycharm": {
     "name": "#%%\n"
    }
   },
   "outputs": [
    {
     "name": "stdout",
     "output_type": "stream",
     "text": [
      "Epoch 1/30\n",
      "WARNING:tensorflow:Callbacks method `on_train_batch_end` is slow compared to the batch time (batch time: 0.0133s vs `on_train_batch_end` time: 0.0227s). Check your callbacks.\n",
      "801/801 - 42s - loss: 0.6405 - accuracy: 0.6027 - val_loss: 0.5148 - val_accuracy: 0.7826\n",
      "Epoch 2/30\n",
      "801/801 - 42s - loss: 0.2914 - accuracy: 0.8766 - val_loss: 0.1691 - val_accuracy: 0.9379\n",
      "Epoch 3/30\n",
      "801/801 - 41s - loss: 0.1555 - accuracy: 0.9384 - val_loss: 0.0983 - val_accuracy: 0.9589\n",
      "Epoch 4/30\n",
      "801/801 - 42s - loss: 0.1043 - accuracy: 0.9594 - val_loss: 0.0840 - val_accuracy: 0.9709\n",
      "Epoch 5/30\n",
      "801/801 - 42s - loss: 0.0786 - accuracy: 0.9691 - val_loss: 0.0603 - val_accuracy: 0.9749\n",
      "Epoch 6/30\n",
      "801/801 - 41s - loss: 0.0642 - accuracy: 0.9744 - val_loss: 0.0512 - val_accuracy: 0.9770\n",
      "Epoch 7/30\n",
      "801/801 - 42s - loss: 0.0566 - accuracy: 0.9766 - val_loss: 0.0442 - val_accuracy: 0.9780\n",
      "Epoch 8/30\n",
      "801/801 - 41s - loss: 0.0470 - accuracy: 0.9798 - val_loss: 0.0336 - val_accuracy: 0.9850\n",
      "Epoch 9/30\n",
      "801/801 - 42s - loss: 0.0402 - accuracy: 0.9815 - val_loss: 0.0456 - val_accuracy: 0.9820\n",
      "Epoch 10/30\n",
      "801/801 - 41s - loss: 0.0393 - accuracy: 0.9811 - val_loss: 0.0359 - val_accuracy: 0.9790\n",
      "Epoch 11/30\n",
      "801/801 - 41s - loss: 0.0347 - accuracy: 0.9824 - val_loss: 0.0303 - val_accuracy: 0.9820\n",
      "Epoch 12/30\n",
      "801/801 - 41s - loss: 0.0287 - accuracy: 0.9872 - val_loss: 0.0270 - val_accuracy: 0.9830\n",
      "Epoch 13/30\n",
      "801/801 - 41s - loss: 0.0281 - accuracy: 0.9853 - val_loss: 0.0294 - val_accuracy: 0.9850\n",
      "Epoch 14/30\n",
      "801/801 - 42s - loss: 0.0287 - accuracy: 0.9844 - val_loss: 0.0351 - val_accuracy: 0.9860\n",
      "Epoch 15/30\n",
      "801/801 - 41s - loss: 0.0273 - accuracy: 0.9852 - val_loss: 0.0367 - val_accuracy: 0.9810\n",
      "Epoch 16/30\n",
      "801/801 - 42s - loss: 0.0265 - accuracy: 0.9852 - val_loss: 0.0256 - val_accuracy: 0.9820\n",
      "Epoch 17/30\n",
      "801/801 - 42s - loss: 0.0231 - accuracy: 0.9869 - val_loss: 0.0294 - val_accuracy: 0.9820\n",
      "Epoch 18/30\n",
      "801/801 - 41s - loss: 0.0260 - accuracy: 0.9853 - val_loss: 0.0245 - val_accuracy: 0.9870\n",
      "Epoch 19/30\n",
      "801/801 - 41s - loss: 0.0220 - accuracy: 0.9874 - val_loss: 0.0364 - val_accuracy: 0.9820\n",
      "Epoch 20/30\n",
      "801/801 - 42s - loss: 0.0212 - accuracy: 0.9868 - val_loss: 0.0216 - val_accuracy: 0.9870\n",
      "Epoch 21/30\n",
      "801/801 - 42s - loss: 0.0199 - accuracy: 0.9883 - val_loss: 0.0246 - val_accuracy: 0.9840\n",
      "Epoch 22/30\n",
      "801/801 - 42s - loss: 0.0202 - accuracy: 0.9871 - val_loss: 0.0265 - val_accuracy: 0.9870\n",
      "Epoch 23/30\n",
      "801/801 - 41s - loss: 0.0190 - accuracy: 0.9878 - val_loss: 0.0291 - val_accuracy: 0.9860\n",
      "Epoch 24/30\n",
      "801/801 - 41s - loss: 0.0219 - accuracy: 0.9866 - val_loss: 0.0356 - val_accuracy: 0.9820\n",
      "Epoch 25/30\n",
      "801/801 - 41s - loss: 0.0207 - accuracy: 0.9868 - val_loss: 0.0294 - val_accuracy: 0.9820\n",
      "Epoch 26/30\n",
      "801/801 - 41s - loss: 0.0192 - accuracy: 0.9881 - val_loss: 0.0258 - val_accuracy: 0.9820\n",
      "Epoch 27/30\n",
      "801/801 - 41s - loss: 0.0201 - accuracy: 0.9875 - val_loss: 0.0241 - val_accuracy: 0.9850\n",
      "Epoch 28/30\n",
      "801/801 - 41s - loss: 0.0208 - accuracy: 0.9873 - val_loss: 0.0206 - val_accuracy: 0.9880\n",
      "Epoch 29/30\n",
      "801/801 - 42s - loss: 0.0191 - accuracy: 0.9871 - val_loss: 0.0217 - val_accuracy: 0.9870\n",
      "Epoch 30/30\n",
      "801/801 - 41s - loss: 0.0183 - accuracy: 0.9884 - val_loss: 0.0289 - val_accuracy: 0.9820\n"
     ]
    }
   ],
   "source": [
    "history = model.fit(x=train_batches,\n",
    "          steps_per_epoch=len(train_batches),\n",
    "          validation_data=valid_batches,\n",
    "          validation_steps=len(valid_batches),\n",
    "          epochs=30,\n",
    "          verbose=2 )"
   ]
  },
  {
   "cell_type": "markdown",
   "metadata": {
    "id": "dgDtbkcv62RB",
    "pycharm": {
     "name": "#%% md\n"
    }
   },
   "source": [
    "### Saving the model"
   ]
  },
  {
   "cell_type": "code",
   "execution_count": 12,
   "metadata": {
    "execution": {
     "iopub.execute_input": "2021-03-24T09:04:05.824567Z",
     "iopub.status.busy": "2021-03-24T09:04:05.824183Z",
     "iopub.status.idle": "2021-03-24T09:04:05.825889Z",
     "shell.execute_reply": "2021-03-24T09:04:05.826196Z"
    }
   },
   "outputs": [],
   "source": [
    "filename='models/FCN-FCT-30E-14L-03.h5'"
   ]
  },
  {
   "cell_type": "code",
   "execution_count": 13,
   "metadata": {
    "colab": {
     "base_uri": "https://localhost:8080/"
    },
    "execution": {
     "iopub.execute_input": "2021-03-24T09:04:05.832107Z",
     "iopub.status.busy": "2021-03-24T09:04:05.831676Z",
     "iopub.status.idle": "2021-03-24T09:04:05.865935Z",
     "shell.execute_reply": "2021-03-24T09:04:05.865501Z"
    },
    "executionInfo": {
     "elapsed": 36,
     "status": "ok",
     "timestamp": 1615583415203,
     "user": {
      "displayName": "Lisa Elli",
      "photoUrl": "",
      "userId": "06754712231658711937"
     },
     "user_tz": -60
    },
    "id": "BUVqnVNn62RB",
    "outputId": "ac9e5b05-f3b2-4559-9c59-1e518fa52302",
    "pycharm": {
     "name": "#%%\n"
    }
   },
   "outputs": [],
   "source": [
    "model.save(filename)\n",
    "saved_weights = list(model.get_weights()[0][0][0][0])"
   ]
  },
  {
   "cell_type": "markdown",
   "metadata": {
    "id": "ZJwZjSBg62RB",
    "pycharm": {
     "name": "#%% md\n"
    }
   },
   "source": [
    "### Loading the saved model"
   ]
  },
  {
   "cell_type": "code",
   "execution_count": 14,
   "metadata": {
    "colab": {
     "base_uri": "https://localhost:8080/"
    },
    "execution": {
     "iopub.execute_input": "2021-03-24T09:04:05.873236Z",
     "iopub.status.busy": "2021-03-24T09:04:05.872653Z",
     "iopub.status.idle": "2021-03-24T09:04:06.006538Z",
     "shell.execute_reply": "2021-03-24T09:04:06.006180Z"
    },
    "executionInfo": {
     "elapsed": 46,
     "status": "ok",
     "timestamp": 1615583415708,
     "user": {
      "displayName": "Lisa Elli",
      "photoUrl": "",
      "userId": "06754712231658711937"
     },
     "user_tz": -60
    },
    "id": "KfQRdJ2n62RC",
    "outputId": "0447f407-8758-4ab8-9acb-585653323105",
    "pycharm": {
     "name": "#%%\n"
    }
   },
   "outputs": [],
   "source": [
    "loaded_model = load_model(filename)\n",
    "loaded_weights = list(loaded_model.get_weights()[0][0][0][0])"
   ]
  },
  {
   "cell_type": "code",
   "execution_count": 15,
   "metadata": {
    "execution": {
     "iopub.execute_input": "2021-03-24T09:04:06.009314Z",
     "iopub.status.busy": "2021-03-24T09:04:06.008917Z",
     "iopub.status.idle": "2021-03-24T09:04:06.010700Z",
     "shell.execute_reply": "2021-03-24T09:04:06.010373Z"
    }
   },
   "outputs": [],
   "source": [
    "# Assertion that the model was saved and loaded successfully\n",
    "assert untrained_weights != saved_weights\n",
    "assert saved_weights == loaded_weights"
   ]
  },
  {
   "cell_type": "markdown",
   "metadata": {
    "id": "pXwZZiKy62RC",
    "pycharm": {
     "name": "#%% md\n"
    }
   },
   "source": [
    "### Accuracy and loss of the trained model"
   ]
  },
  {
   "cell_type": "code",
   "execution_count": 16,
   "metadata": {
    "colab": {
     "base_uri": "https://localhost:8080/"
    },
    "execution": {
     "iopub.execute_input": "2021-03-24T09:04:06.013877Z",
     "iopub.status.busy": "2021-03-24T09:04:06.013417Z",
     "iopub.status.idle": "2021-03-24T09:04:13.319826Z",
     "shell.execute_reply": "2021-03-24T09:04:13.320138Z"
    },
    "executionInfo": {
     "elapsed": 8624,
     "status": "ok",
     "timestamp": 1615583424302,
     "user": {
      "displayName": "Lisa Elli",
      "photoUrl": "",
      "userId": "06754712231658711937"
     },
     "user_tz": -60
    },
    "id": "_1_vTnWO62RC",
    "outputId": "98311fcd-35bf-4383-ff77-d1a1b62291f2",
    "pycharm": {
     "name": "#%%\n"
    }
   },
   "outputs": [
    {
     "name": "stdout",
     "output_type": "stream",
     "text": [
      "300/300 - 7s - loss: 0.0206 - accuracy: 0.9867\n",
      "Accuracy: 98.67%\n",
      "Loss: 2.06%\n"
     ]
    }
   ],
   "source": [
    "scores = loaded_model.evaluate(test_batches, verbose=2)\n",
    "print(\"Accuracy: %.2f%%\" % (scores[1]*100))\n",
    "print(\"Loss: %.2f%%\" % (scores[0]*100))"
   ]
  },
  {
   "cell_type": "code",
   "execution_count": 17,
   "metadata": {
    "colab": {
     "base_uri": "https://localhost:8080/",
     "height": 295
    },
    "execution": {
     "iopub.execute_input": "2021-03-24T09:04:13.358626Z",
     "iopub.status.busy": "2021-03-24T09:04:13.331986Z",
     "iopub.status.idle": "2021-03-24T09:04:13.461789Z",
     "shell.execute_reply": "2021-03-24T09:04:13.461197Z"
    },
    "executionInfo": {
     "elapsed": 595,
     "status": "ok",
     "timestamp": 1615586591039,
     "user": {
      "displayName": "Lisa Elli",
      "photoUrl": "",
      "userId": "06754712231658711937"
     },
     "user_tz": -60
    },
    "id": "nHKKeCpvCaN5",
    "outputId": "7e887b48-99f7-4e23-90a9-85297e0e3736"
   },
   "outputs": [
    {
     "data": {
      "image/png": "[encoded data removed]",
      "text/plain": [
       "<Figure size 432x288 with 1 Axes>"
      ]
     },
     "metadata": {
      "needs_background": "light"
     },
     "output_type": "display_data"
    }
   ],
   "source": [
    "#Course of accuracy\n",
    "plt.plot(history.history['accuracy'])\n",
    "plt.plot(history.history['val_accuracy'])\n",
    "plt.title('model accuracy')\n",
    "plt.ylabel('accuracy')\n",
    "plt.xlabel('epoch')\n",
    "plt.legend(['train', 'valid'], loc='upper left')\n",
    "plt.show()"
   ]
  },
  {
   "cell_type": "code",
   "execution_count": 18,
   "metadata": {
    "colab": {
     "base_uri": "https://localhost:8080/",
     "height": 295
    },
    "execution": {
     "iopub.execute_input": "2021-03-24T09:04:13.496327Z",
     "iopub.status.busy": "2021-03-24T09:04:13.470206Z",
     "iopub.status.idle": "2021-03-24T09:04:13.582783Z",
     "shell.execute_reply": "2021-03-24T09:04:13.582373Z"
    },
    "executionInfo": {
     "elapsed": 550,
     "status": "ok",
     "timestamp": 1615586596931,
     "user": {
      "displayName": "Lisa Elli",
      "photoUrl": "",
      "userId": "06754712231658711937"
     },
     "user_tz": -60
    },
    "id": "rvuixJw-CdCJ",
    "outputId": "9ed01e51-6153-43c5-dbba-ba7cb723bf2f"
   },
   "outputs": [
    {
     "data": {
      "image/png": "[encoded data removed]",
      "text/plain": [
       "<Figure size 432x288 with 1 Axes>"
      ]
     },
     "metadata": {
      "needs_background": "light"
     },
     "output_type": "display_data"
    }
   ],
   "source": [
    "#Course of loss\n",
    "plt.plot(history.history['loss'])\n",
    "plt.plot(history.history['val_loss'])\n",
    "plt.title('model loss')\n",
    "plt.ylabel('loss')\n",
    "plt.xlabel('epoch')\n",
    "plt.legend(['train', 'valid'], loc='upper left')\n",
    "plt.show()"
   ]
  },
  {
   "cell_type": "markdown",
   "metadata": {
    "id": "-Dfs319f62RC"
   },
   "source": [
    "### Testing the CNN"
   ]
  },
  {
   "cell_type": "code",
   "execution_count": 19,
   "metadata": {
    "execution": {
     "iopub.execute_input": "2021-03-24T09:04:13.586257Z",
     "iopub.status.busy": "2021-03-24T09:04:13.585811Z",
     "iopub.status.idle": "2021-03-24T09:04:20.691604Z",
     "shell.execute_reply": "2021-03-24T09:04:20.692005Z"
    },
    "executionInfo": {
     "elapsed": 8234,
     "status": "ok",
     "timestamp": 1615586642347,
     "user": {
      "displayName": "Lisa Elli",
      "photoUrl": "",
      "userId": "06754712231658711937"
     },
     "user_tz": -60
    },
    "id": "cnM7Y7Au62RD",
    "pycharm": {
     "name": "#%%\n"
    }
   },
   "outputs": [],
   "source": [
    "predictions = loaded_model.predict(x=test_batches, steps=len(test_batches), verbose=0)"
   ]
  },
  {
   "cell_type": "markdown",
   "metadata": {
    "id": "R2kk-gQX62RE",
    "pycharm": {
     "name": "#%% md\n"
    }
   },
   "source": [
    "### Index of wrongly predicted pictures"
   ]
  },
  {
   "cell_type": "code",
   "execution_count": 20,
   "metadata": {
    "execution": {
     "iopub.execute_input": "2021-03-24T09:04:20.695176Z",
     "iopub.status.busy": "2021-03-24T09:04:20.694790Z",
     "iopub.status.idle": "2021-03-24T09:04:20.703806Z",
     "shell.execute_reply": "2021-03-24T09:04:20.703360Z"
    },
    "executionInfo": {
     "elapsed": 604,
     "status": "ok",
     "timestamp": 1615586643749,
     "user": {
      "displayName": "Lisa Elli",
      "photoUrl": "",
      "userId": "06754712231658711937"
     },
     "user_tz": -60
    },
    "id": "5Kt0jsFB62RE",
    "pycharm": {
     "name": "#%%\n"
    }
   },
   "outputs": [],
   "source": [
    "y_true=test_batches.classes\n",
    "y_pred=np.argmax(predictions, axis=-1)\n",
    "cm = confusion_matrix(y_true = y_true, y_pred = y_pred)"
   ]
  },
  {
   "cell_type": "code",
   "execution_count": 21,
   "metadata": {
    "colab": {
     "base_uri": "https://localhost:8080/"
    },
    "execution": {
     "iopub.execute_input": "2021-03-24T09:04:20.713675Z",
     "iopub.status.busy": "2021-03-24T09:04:20.713234Z",
     "iopub.status.idle": "2021-03-24T09:04:20.715438Z",
     "shell.execute_reply": "2021-03-24T09:04:20.715766Z"
    },
    "executionInfo": {
     "elapsed": 881,
     "status": "ok",
     "timestamp": 1615586646608,
     "user": {
      "displayName": "Lisa Elli",
      "photoUrl": "",
      "userId": "06754712231658711937"
     },
     "user_tz": -60
    },
    "id": "aSzFxBUy62RE",
    "outputId": "45c28aa2-5183-46c6-dc0a-901668a61137",
    "pycharm": {
     "name": "#%%\n"
    }
   },
   "outputs": [
    {
     "name": "stdout",
     "output_type": "stream",
     "text": [
      "Data from class 'face', that was wrongly predicted as 'no-face' [ 0 ] :\n",
      "[]\n",
      "----------------------------------------------------------------------------------------------\n",
      "Data from class 'no-face', that was wrongly predicted as 'face' [ 40 ] :\n",
      "[8014, 8229, 8287, 8311, 8343, 8345, 8352, 8394, 8401, 8469, 8482, 8488, 8509, 8524, 8591, 8595, 8623, 8666, 8731, 8747, 8751, 8765, 8812, 8919, 8945, 8950, 8970, 8995, 9034, 9049, 9060, 9071, 9196, 9197, 9200, 9275, 9293, 9361, 9415, 9445]\n"
     ]
    }
   ],
   "source": [
    "face_but_predicted_no_face=[]\n",
    "no_face_but_predicted_face=[]\n",
    "\n",
    "for i in range(len(predictions)):\n",
    "        if y_true[i] != y_pred[i]:\n",
    "            if y_true[i] == 1:\n",
    "                face_but_predicted_no_face.append(i+8001-1500) #Index of file on disk\n",
    "            else:\n",
    "                no_face_but_predicted_face.append(i+8001) #Index of file on disk\n",
    "\n",
    "print(\"Data from class 'face', that was wrongly predicted as 'no-face' [\", len(face_but_predicted_no_face), \"] :\")\n",
    "print(face_but_predicted_no_face)\n",
    "print(\"----------------------------------------------------------------------------------------------\")\n",
    "print(\"Data from class 'no-face', that was wrongly predicted as 'face' [\", len(no_face_but_predicted_face), \"] :\")\n",
    "print(no_face_but_predicted_face)"
   ]
  },
  {
   "cell_type": "markdown",
   "metadata": {
    "id": "6eTe3tG762RE",
    "pycharm": {
     "name": "#%% md\n"
    }
   },
   "source": [
    "### Confusion matrix"
   ]
  },
  {
   "cell_type": "code",
   "execution_count": 22,
   "metadata": {
    "execution": {
     "iopub.execute_input": "2021-03-24T09:04:20.721038Z",
     "iopub.status.busy": "2021-03-24T09:04:20.720643Z",
     "iopub.status.idle": "2021-03-24T09:04:20.722732Z",
     "shell.execute_reply": "2021-03-24T09:04:20.722324Z"
    },
    "executionInfo": {
     "elapsed": 902,
     "status": "ok",
     "timestamp": 1615586652173,
     "user": {
      "displayName": "Lisa Elli",
      "photoUrl": "",
      "userId": "06754712231658711937"
     },
     "user_tz": -60
    },
    "id": "TXVbugwa62RE",
    "pycharm": {
     "name": "#%%\n"
    }
   },
   "outputs": [],
   "source": [
    "def plot_confusion_matrix(cm, classes,\n",
    "                          normalize=False,\n",
    "                          title='Confusion matrix',\n",
    "                          cmap=plt.cm.Blues):\n",
    "\n",
    "    plt.imshow(cm, interpolation='nearest', cmap=cmap)\n",
    "    plt.title(title)\n",
    "    plt.colorbar()\n",
    "    tick_marks = np.arange(len(classes))\n",
    "    plt.xticks(tick_marks, classes, rotation=45)\n",
    "    plt.yticks(tick_marks, classes)\n",
    "\n",
    "    if normalize:\n",
    "        cm = cm.astype('float') / cm.sum(axis=1)[:, np.newaxis]\n",
    "        print(\"Normalized confusion matrix\")\n",
    "    else:\n",
    "        print('Confusion matrix, without normalization')\n",
    "\n",
    "    print(cm)\n",
    "\n",
    "    thresh = cm.max() / 2.\n",
    "    for i, j in itertools.product(range(cm.shape[0]), range(cm.shape[1])):\n",
    "        plt.text(j, i, cm[i, j],\n",
    "                 horizontalalignment=\"center\",\n",
    "                 color=\"white\" if cm[i, j] > thresh else \"black\")\n",
    "\n",
    "    plt.tight_layout()\n",
    "    plt.ylabel('True label')\n",
    "    plt.xlabel('Predicted label')"
   ]
  },
  {
   "cell_type": "code",
   "execution_count": 23,
   "metadata": {
    "colab": {
     "base_uri": "https://localhost:8080/"
    },
    "execution": {
     "iopub.execute_input": "2021-03-24T09:04:20.725799Z",
     "iopub.status.busy": "2021-03-24T09:04:20.725395Z",
     "iopub.status.idle": "2021-03-24T09:04:20.728082Z",
     "shell.execute_reply": "2021-03-24T09:04:20.727668Z"
    },
    "executionInfo": {
     "elapsed": 909,
     "status": "ok",
     "timestamp": 1615586655343,
     "user": {
      "displayName": "Lisa Elli",
      "photoUrl": "",
      "userId": "06754712231658711937"
     },
     "user_tz": -60
    },
    "id": "sP3ndK5o62RF",
    "outputId": "74d415b9-1346-4b60-8a66-1899e30acb23",
    "pycharm": {
     "name": "#%%\n"
    }
   },
   "outputs": [
    {
     "data": {
      "text/plain": [
       "{'no_face': 0, 'face': 1}"
      ]
     },
     "execution_count": 1,
     "metadata": {},
     "output_type": "execute_result"
    }
   ],
   "source": [
    "test_batches.class_indices"
   ]
  },
  {
   "cell_type": "code",
   "execution_count": 24,
   "metadata": {
    "colab": {
     "base_uri": "https://localhost:8080/",
     "height": 366
    },
    "execution": {
     "iopub.execute_input": "2021-03-24T09:04:20.763494Z",
     "iopub.status.busy": "2021-03-24T09:04:20.742289Z",
     "iopub.status.idle": "2021-03-24T09:04:20.911273Z",
     "shell.execute_reply": "2021-03-24T09:04:20.911608Z"
    },
    "executionInfo": {
     "elapsed": 1444,
     "status": "ok",
     "timestamp": 1615586660010,
     "user": {
      "displayName": "Lisa Elli",
      "photoUrl": "",
      "userId": "06754712231658711937"
     },
     "user_tz": -60
    },
    "id": "_iHhK36e62RF",
    "outputId": "e4096568-5620-44a6-8e7f-ac906560d917",
    "pycharm": {
     "name": "#%%\n"
    }
   },
   "outputs": [
    {
     "name": "stdout",
     "output_type": "stream",
     "text": [
      "Confusion matrix, without normalization\n",
      "[[1460   40]\n",
      " [   0 1500]]\n"
     ]
    },
    {
     "data": {
      "image/png": "[encoded data removed]",
      "text/plain": [
       "<Figure size 432x288 with 2 Axes>"
      ]
     },
     "metadata": {
      "needs_background": "light"
     },
     "output_type": "display_data"
    }
   ],
   "source": [
    "cm_plot_labels = ['no_face','face']\n",
    "plot_confusion_matrix(cm=cm, classes=cm_plot_labels, title='Confusion Matrix')\n"
   ]
  },
  {
   "cell_type": "code",
   "execution_count": null,
   "metadata": {},
   "outputs": [],
   "source": []
  }
 ],
 "metadata": {
  "kernelspec": {
   "display_name": "Python 3",
   "language": "python",
   "name": "python3"
  },
  "language_info": {
   "codemirror_mode": {
    "name": "ipython",
    "version": 3
   },
   "file_extension": ".py",
   "mimetype": "text/x-python",
   "name": "python",
   "nbconvert_exporter": "python",
   "pygments_lexer": "ipython3",
   "version": "3.8.5"
  }
 },
 "nbformat": 4,
 "nbformat_minor": 1
}
