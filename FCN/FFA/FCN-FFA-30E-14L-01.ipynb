{
 "cells": [
  {
   "cell_type": "markdown",
   "metadata": {
    "id": "O82TH2Vr62Qi"
   },
   "source": [
    "# Are Relations Relevant in CNNs? *A Study Based on a Facial Dataset*"
   ]
  },
  {
   "cell_type": "markdown",
   "metadata": {
    "id": "ehl8qgCC62Qx"
   },
   "source": [
    "## FCN with Features Further Apart *(30 Epochs - 14 Layers)*"
   ]
  },
  {
   "cell_type": "markdown",
   "metadata": {
    "id": "3clj-ony62Q0",
    "pycharm": {
     "name": "#%% md\n"
    }
   },
   "source": [
    "### Imports, Seed, GPU integration"
   ]
  },
  {
   "cell_type": "code",
   "execution_count": 1,
   "metadata": {
    "execution": {
     "iopub.execute_input": "2021-03-24T05:28:23.528134Z",
     "iopub.status.busy": "2021-03-24T05:28:23.527665Z",
     "iopub.status.idle": "2021-03-24T05:28:24.676524Z",
     "shell.execute_reply": "2021-03-24T05:28:24.676138Z"
    },
    "id": "cnCaBFfp62Q2",
    "pycharm": {
     "name": "#%%\n"
    }
   },
   "outputs": [],
   "source": [
    "import numpy as np\n",
    "import random\n",
    "import tensorflow as tf"
   ]
  },
  {
   "cell_type": "code",
   "execution_count": 2,
   "metadata": {
    "execution": {
     "iopub.execute_input": "2021-03-24T05:28:24.679600Z",
     "iopub.status.busy": "2021-03-24T05:28:24.679185Z",
     "iopub.status.idle": "2021-03-24T05:28:24.681365Z",
     "shell.execute_reply": "2021-03-24T05:28:24.680983Z"
    },
    "id": "jsw3DKWp62Q4",
    "pycharm": {
     "name": "#%%\n"
    }
   },
   "outputs": [],
   "source": [
    "# Seeds for better reproducibility\n",
    "seed = 42\n",
    "np.random.seed(seed)\n",
    "random.seed(seed)\n",
    "tf.random.set_seed(seed)"
   ]
  },
  {
   "cell_type": "code",
   "execution_count": 3,
   "metadata": {
    "execution": {
     "iopub.execute_input": "2021-03-24T05:28:24.685823Z",
     "iopub.status.busy": "2021-03-24T05:28:24.685448Z",
     "iopub.status.idle": "2021-03-24T05:28:25.162407Z",
     "shell.execute_reply": "2021-03-24T05:28:25.161860Z"
    }
   },
   "outputs": [],
   "source": [
    "from tensorflow.keras.layers import  Dropout, Conv2D, GlobalMaxPooling2D, BatchNormalization, Activation, MaxPool2D\n",
    "from tensorflow.keras.optimizers import Adam\n",
    "from tensorflow.keras.models import load_model\n",
    "from tensorflow.keras.preprocessing.image import ImageDataGenerator\n",
    "from tensorflow.python.keras.models import Sequential\n",
    "from sklearn.metrics import confusion_matrix\n",
    "import itertools\n",
    "import matplotlib.pyplot as plt\n",
    "import warnings\n",
    "warnings.simplefilter(action='ignore', category=FutureWarning)\n",
    "%matplotlib inline"
   ]
  },
  {
   "cell_type": "code",
   "execution_count": 4,
   "metadata": {
    "colab": {
     "base_uri": "https://localhost:8080/"
    },
    "execution": {
     "iopub.execute_input": "2021-03-24T05:28:25.213814Z",
     "iopub.status.busy": "2021-03-24T05:28:25.213329Z",
     "iopub.status.idle": "2021-03-24T05:28:25.216135Z",
     "shell.execute_reply": "2021-03-24T05:28:25.215730Z"
    },
    "executionInfo": {
     "elapsed": 19631,
     "status": "ok",
     "timestamp": 1615579393251,
     "user": {
      "displayName": "Lisa Elli",
      "photoUrl": "",
      "userId": "06754712231658711937"
     },
     "user_tz": -60
    },
    "id": "4vE5F4rX62Q4",
    "outputId": "bff035e6-71fc-433f-d1fd-7e794a4724fc",
    "pycharm": {
     "name": "#%%\n"
    }
   },
   "outputs": [
    {
     "name": "stdout",
     "output_type": "stream",
     "text": [
      "Num GPUs Available:  1\n"
     ]
    }
   ],
   "source": [
    "physical_devices = tf.config.experimental.list_physical_devices('GPU')\n",
    "print(\"Num GPUs Available: \", len(physical_devices))\n",
    "tf.config.experimental.set_memory_growth(physical_devices[0], True)"
   ]
  },
  {
   "cell_type": "markdown",
   "metadata": {
    "id": "wmGEalmo62Q7"
   },
   "source": [
    "### Data preparation"
   ]
  },
  {
   "cell_type": "code",
   "execution_count": 5,
   "metadata": {
    "execution": {
     "iopub.execute_input": "2021-03-24T05:28:25.218726Z",
     "iopub.status.busy": "2021-03-24T05:28:25.218363Z",
     "iopub.status.idle": "2021-03-24T05:28:25.220547Z",
     "shell.execute_reply": "2021-03-24T05:28:25.220122Z"
    },
    "id": "FdYjQ15w62Q7",
    "pycharm": {
     "name": "#%%\n"
    }
   },
   "outputs": [],
   "source": [
    "train_path = '../../picasso_dataset/FFA-data/middle/train'\n",
    "valid_path = '../../picasso_dataset/FFA-data/middle/valid'\n",
    "test_path = '../../picasso_dataset/FFA-data/middle/test'"
   ]
  },
  {
   "cell_type": "code",
   "execution_count": 6,
   "metadata": {
    "colab": {
     "base_uri": "https://localhost:8080/"
    },
    "execution": {
     "iopub.execute_input": "2021-03-24T05:28:25.224514Z",
     "iopub.status.busy": "2021-03-24T05:28:25.224130Z",
     "iopub.status.idle": "2021-03-24T05:28:25.666564Z",
     "shell.execute_reply": "2021-03-24T05:28:25.666154Z"
    },
    "executionInfo": {
     "elapsed": 15267,
     "status": "ok",
     "timestamp": 1615579393916,
     "user": {
      "displayName": "Lisa Elli",
      "photoUrl": "",
      "userId": "06754712231658711937"
     },
     "user_tz": -60
    },
    "id": "n_l3PW-_62Q7",
    "outputId": "8db7a694-024d-4e83-d2d7-0c75b63f3eb9",
    "pycharm": {
     "name": "#%%\n"
    }
   },
   "outputs": [
    {
     "name": "stdout",
     "output_type": "stream",
     "text": [
      "Found 16002 images belonging to 2 classes.\n",
      "Found 998 images belonging to 2 classes.\n",
      "Found 3000 images belonging to 2 classes.\n"
     ]
    }
   ],
   "source": [
    "train_batches = ImageDataGenerator(preprocessing_function=tf.keras.applications.vgg16.preprocess_input) \\\n",
    "    .flow_from_directory(directory=train_path, target_size=(224,224), classes=['no_face', 'face'], batch_size=20)\n",
    "\n",
    "valid_batches = ImageDataGenerator(preprocessing_function=tf.keras.applications.vgg16.preprocess_input) \\\n",
    "    .flow_from_directory(directory=valid_path, target_size=(224,224), classes=['no_face', 'face'], batch_size=10)\n",
    "\n",
    "test_batches = ImageDataGenerator(preprocessing_function=tf.keras.applications.vgg16.preprocess_input) \\\n",
    "    .flow_from_directory(directory=test_path, target_size=(224,224), classes=['no_face', 'face'], batch_size=10, shuffle=False)"
   ]
  },
  {
   "cell_type": "code",
   "execution_count": 7,
   "metadata": {
    "execution": {
     "iopub.execute_input": "2021-03-24T05:28:25.669615Z",
     "iopub.status.busy": "2021-03-24T05:28:25.669017Z",
     "iopub.status.idle": "2021-03-24T05:28:25.671449Z",
     "shell.execute_reply": "2021-03-24T05:28:25.671011Z"
    },
    "id": "SbBy_3JT62Q8",
    "pycharm": {
     "name": "#%%\n"
    }
   },
   "outputs": [],
   "source": [
    "assert train_batches.n == 16002\n",
    "assert valid_batches.n == 998\n",
    "assert test_batches.n == 3000\n",
    "assert train_batches.num_classes == valid_batches.num_classes == test_batches.num_classes == 2"
   ]
  },
  {
   "cell_type": "markdown",
   "metadata": {
    "id": "kgM-9Fbg62Q-"
   },
   "source": [
    "### Building and training the FCN"
   ]
  },
  {
   "cell_type": "code",
   "execution_count": 8,
   "metadata": {
    "execution": {
     "iopub.execute_input": "2021-03-24T05:28:25.676085Z",
     "iopub.status.busy": "2021-03-24T05:28:25.675692Z",
     "iopub.status.idle": "2021-03-24T05:28:25.677769Z",
     "shell.execute_reply": "2021-03-24T05:28:25.677363Z"
    },
    "id": "Cdg3Plko62Q-",
    "pycharm": {
     "name": "#%%\n"
    }
   },
   "outputs": [],
   "source": [
    "dropout_rate=0.2"
   ]
  },
  {
   "cell_type": "code",
   "execution_count": 9,
   "metadata": {
    "colab": {
     "base_uri": "https://localhost:8080/"
    },
    "execution": {
     "iopub.execute_input": "2021-03-24T05:28:25.684229Z",
     "iopub.status.busy": "2021-03-24T05:28:25.683833Z",
     "iopub.status.idle": "2021-03-24T05:28:26.200992Z",
     "shell.execute_reply": "2021-03-24T05:28:26.200578Z"
    },
    "executionInfo": {
     "elapsed": 5474,
     "status": "ok",
     "timestamp": 1615579399410,
     "user": {
      "displayName": "Lisa Elli",
      "photoUrl": "",
      "userId": "06754712231658711937"
     },
     "user_tz": -60
    },
    "id": "wtTJTaWatrgn",
    "outputId": "5e22cecc-bb59-456b-ceaa-d3986077141c",
    "pycharm": {
     "name": "#%%\n"
    }
   },
   "outputs": [
    {
     "name": "stdout",
     "output_type": "stream",
     "text": [
      "Model: \"FCN-FFA\"\n",
      "_________________________________________________________________\n",
      "Layer (type)                 Output Shape              Param #   \n",
      "=================================================================\n",
      "Conv_1 (Conv2D)              (None, 224, 224, 32)      896       \n",
      "_________________________________________________________________\n",
      "Max_1 (MaxPooling2D)         (None, 112, 112, 32)      0         \n",
      "_________________________________________________________________\n",
      "DO_1 (Dropout)               (None, 112, 112, 32)      0         \n",
      "_________________________________________________________________\n",
      "BN_1 (BatchNormalization)    (None, 112, 112, 32)      128       \n",
      "_________________________________________________________________\n",
      "Conv_2 (Conv2D)              (None, 112, 112, 64)      18496     \n",
      "_________________________________________________________________\n",
      "Max_2 (MaxPooling2D)         (None, 56, 56, 64)        0         \n",
      "_________________________________________________________________\n",
      "Conv_3 (Conv2D)              (None, 56, 56, 128)       73856     \n",
      "_________________________________________________________________\n",
      "Max_3 (MaxPooling2D)         (None, 28, 28, 128)       0         \n",
      "_________________________________________________________________\n",
      "DO_3 (Dropout)               (None, 28, 28, 128)       0         \n",
      "_________________________________________________________________\n",
      "Conv_4 (Conv2D)              (None, 28, 28, 256)       295168    \n",
      "_________________________________________________________________\n",
      "Max_4 (MaxPooling2D)         (None, 14, 14, 256)       0         \n",
      "_________________________________________________________________\n",
      "Conv_con (Conv2D)            (None, 14, 14, 2)         514       \n",
      "_________________________________________________________________\n",
      "GMax_con (GlobalMaxPooling2D (None, 2)                 0         \n",
      "_________________________________________________________________\n",
      "Act_con (Activation)         (None, 2)                 0         \n",
      "=================================================================\n",
      "Total params: 389,058\n",
      "Trainable params: 388,994\n",
      "Non-trainable params: 64\n",
      "_________________________________________________________________\n"
     ]
    }
   ],
   "source": [
    "model = Sequential(name = \"FCN-FFA\")\n",
    "\n",
    "model.add(Conv2D(filters=32, kernel_size=(3, 3), activation='relu', padding = 'same', input_shape=(224,224,3), name = \"Conv_1\"))\n",
    "model.add(MaxPool2D(pool_size=(2, 2), name = \"Max_1\"))\n",
    "model.add(Dropout(rate=dropout_rate, name = \"DO_1\"))\n",
    "model.add(BatchNormalization(name = \"BN_1\"))\n",
    "\n",
    "model.add(Conv2D(filters=64, kernel_size=(3, 3), activation='relu', padding = 'same', name = \"Conv_2\"))\n",
    "model.add(MaxPool2D(pool_size=(2, 2), name = \"Max_2\"))\n",
    "\n",
    "model.add(Conv2D(filters=128, kernel_size=(3, 3), activation='relu', padding = 'same', name = \"Conv_3\"))\n",
    "model.add(MaxPool2D(pool_size=(2, 2), name = \"Max_3\"))\n",
    "model.add(Dropout(rate=dropout_rate, name = \"DO_3\"))\n",
    "\n",
    "model.add(Conv2D(filters=256, kernel_size=(3, 3), activation='relu', padding = 'same', name = \"Conv_4\"))\n",
    "model.add(MaxPool2D(pool_size=(2, 2), name = \"Max_4\"))\n",
    "\n",
    "# Fully connected layer\n",
    "model.add(Conv2D(filters=2, kernel_size=(1,1), name = \"Conv_con\"))\n",
    "model.add(GlobalMaxPooling2D(name = \"GMax_con\"))\n",
    "model.add(Activation('softmax', name = \"Act_con\"))\n",
    "\n",
    "model.summary()\n",
    "untrained_weights = list(model.get_weights()[0][0][0][0])"
   ]
  },
  {
   "cell_type": "code",
   "execution_count": 10,
   "metadata": {
    "execution": {
     "iopub.execute_input": "2021-03-24T05:28:26.208004Z",
     "iopub.status.busy": "2021-03-24T05:28:26.207591Z",
     "iopub.status.idle": "2021-03-24T05:28:26.212296Z",
     "shell.execute_reply": "2021-03-24T05:28:26.212688Z"
    },
    "id": "HYmld1gj62Q_",
    "pycharm": {
     "name": "#%%\n"
    }
   },
   "outputs": [],
   "source": [
    "model.compile(optimizer=Adam(learning_rate=0.0001),\n",
    "              loss='categorical_crossentropy',\n",
    "              metrics=['accuracy'] )"
   ]
  },
  {
   "cell_type": "code",
   "execution_count": 11,
   "metadata": {
    "colab": {
     "base_uri": "https://localhost:8080/"
    },
    "execution": {
     "iopub.execute_input": "2021-03-24T05:28:26.216323Z",
     "iopub.status.busy": "2021-03-24T05:28:26.215729Z",
     "iopub.status.idle": "2021-03-24T05:49:34.005332Z",
     "shell.execute_reply": "2021-03-24T05:49:34.004854Z"
    },
    "executionInfo": {
     "elapsed": 1444054,
     "status": "ok",
     "timestamp": 1615583415200,
     "user": {
      "displayName": "Lisa Elli",
      "photoUrl": "",
      "userId": "06754712231658711937"
     },
     "user_tz": -60
    },
    "id": "TY7tN3BE62RB",
    "outputId": "fe3f86f2-25c7-4d7b-c4cf-5b4d4a8e0ebe",
    "pycharm": {
     "name": "#%%\n"
    }
   },
   "outputs": [
    {
     "name": "stdout",
     "output_type": "stream",
     "text": [
      "Epoch 1/30\n",
      "WARNING:tensorflow:Callbacks method `on_train_batch_end` is slow compared to the batch time (batch time: 0.0137s vs `on_train_batch_end` time: 0.0214s). Check your callbacks.\n",
      "801/801 - 41s - loss: 0.6572 - accuracy: 0.5897 - val_loss: 0.5036 - val_accuracy: 0.7655\n",
      "Epoch 2/30\n",
      "801/801 - 41s - loss: 0.3322 - accuracy: 0.8609 - val_loss: 0.2869 - val_accuracy: 0.8778\n",
      "Epoch 3/30\n",
      "801/801 - 41s - loss: 0.2041 - accuracy: 0.9199 - val_loss: 0.1887 - val_accuracy: 0.9269\n",
      "Epoch 4/30\n",
      "801/801 - 41s - loss: 0.1400 - accuracy: 0.9470 - val_loss: 0.1193 - val_accuracy: 0.9609\n",
      "Epoch 5/30\n",
      "801/801 - 41s - loss: 0.1098 - accuracy: 0.9608 - val_loss: 0.1297 - val_accuracy: 0.9549\n",
      "Epoch 6/30\n",
      "801/801 - 41s - loss: 0.0844 - accuracy: 0.9698 - val_loss: 0.0835 - val_accuracy: 0.9719\n",
      "Epoch 7/30\n",
      "801/801 - 41s - loss: 0.0738 - accuracy: 0.9734 - val_loss: 0.0907 - val_accuracy: 0.9629\n",
      "Epoch 8/30\n",
      "801/801 - 43s - loss: 0.0610 - accuracy: 0.9796 - val_loss: 0.0606 - val_accuracy: 0.9810\n",
      "Epoch 9/30\n",
      "801/801 - 42s - loss: 0.0545 - accuracy: 0.9814 - val_loss: 0.0442 - val_accuracy: 0.9850\n",
      "Epoch 10/30\n",
      "801/801 - 42s - loss: 0.0467 - accuracy: 0.9834 - val_loss: 0.0545 - val_accuracy: 0.9780\n",
      "Epoch 11/30\n",
      "801/801 - 42s - loss: 0.0351 - accuracy: 0.9883 - val_loss: 0.0384 - val_accuracy: 0.9850\n",
      "Epoch 12/30\n",
      "801/801 - 42s - loss: 0.0345 - accuracy: 0.9878 - val_loss: 0.0390 - val_accuracy: 0.9810\n",
      "Epoch 13/30\n",
      "801/801 - 43s - loss: 0.0327 - accuracy: 0.9894 - val_loss: 0.0305 - val_accuracy: 0.9910\n",
      "Epoch 14/30\n",
      "801/801 - 43s - loss: 0.0249 - accuracy: 0.9911 - val_loss: 0.0283 - val_accuracy: 0.9920\n",
      "Epoch 15/30\n",
      "801/801 - 43s - loss: 0.0225 - accuracy: 0.9931 - val_loss: 0.0405 - val_accuracy: 0.9880\n",
      "Epoch 16/30\n",
      "801/801 - 43s - loss: 0.0245 - accuracy: 0.9915 - val_loss: 0.0240 - val_accuracy: 0.9940\n",
      "Epoch 17/30\n",
      "801/801 - 43s - loss: 0.0228 - accuracy: 0.9922 - val_loss: 0.0259 - val_accuracy: 0.9920\n",
      "Epoch 18/30\n",
      "801/801 - 43s - loss: 0.0176 - accuracy: 0.9941 - val_loss: 0.0207 - val_accuracy: 0.9940\n",
      "Epoch 19/30\n",
      "801/801 - 43s - loss: 0.0175 - accuracy: 0.9946 - val_loss: 0.0248 - val_accuracy: 0.9920\n",
      "Epoch 20/30\n",
      "801/801 - 43s - loss: 0.0186 - accuracy: 0.9938 - val_loss: 0.0228 - val_accuracy: 0.9920\n",
      "Epoch 21/30\n",
      "801/801 - 43s - loss: 0.0174 - accuracy: 0.9941 - val_loss: 0.0342 - val_accuracy: 0.9890\n",
      "Epoch 22/30\n",
      "801/801 - 43s - loss: 0.0168 - accuracy: 0.9943 - val_loss: 0.0285 - val_accuracy: 0.9930\n",
      "Epoch 23/30\n",
      "801/801 - 43s - loss: 0.0151 - accuracy: 0.9953 - val_loss: 0.0239 - val_accuracy: 0.9900\n",
      "Epoch 24/30\n",
      "801/801 - 43s - loss: 0.0147 - accuracy: 0.9947 - val_loss: 0.0139 - val_accuracy: 0.9950\n",
      "Epoch 25/30\n",
      "801/801 - 42s - loss: 0.0128 - accuracy: 0.9963 - val_loss: 0.0180 - val_accuracy: 0.9940\n",
      "Epoch 26/30\n",
      "801/801 - 42s - loss: 0.0131 - accuracy: 0.9959 - val_loss: 0.0144 - val_accuracy: 0.9950\n",
      "Epoch 27/30\n",
      "801/801 - 41s - loss: 0.0145 - accuracy: 0.9957 - val_loss: 0.0215 - val_accuracy: 0.9940\n",
      "Epoch 28/30\n",
      "801/801 - 42s - loss: 0.0121 - accuracy: 0.9958 - val_loss: 0.0205 - val_accuracy: 0.9930\n",
      "Epoch 29/30\n",
      "801/801 - 42s - loss: 0.0128 - accuracy: 0.9961 - val_loss: 0.0183 - val_accuracy: 0.9940\n",
      "Epoch 30/30\n",
      "801/801 - 42s - loss: 0.0085 - accuracy: 0.9973 - val_loss: 0.0175 - val_accuracy: 0.9950\n"
     ]
    }
   ],
   "source": [
    "history = model.fit(x=train_batches,\n",
    "          steps_per_epoch=len(train_batches),\n",
    "          validation_data=valid_batches,\n",
    "          validation_steps=len(valid_batches),\n",
    "          epochs=30,\n",
    "          verbose=2 )"
   ]
  },
  {
   "cell_type": "markdown",
   "metadata": {
    "id": "dgDtbkcv62RB",
    "pycharm": {
     "name": "#%% md\n"
    }
   },
   "source": [
    "### Saving the model"
   ]
  },
  {
   "cell_type": "code",
   "execution_count": 12,
   "metadata": {
    "execution": {
     "iopub.execute_input": "2021-03-24T05:49:34.008319Z",
     "iopub.status.busy": "2021-03-24T05:49:34.007937Z",
     "iopub.status.idle": "2021-03-24T05:49:34.009964Z",
     "shell.execute_reply": "2021-03-24T05:49:34.009562Z"
    }
   },
   "outputs": [],
   "source": [
    "filename='models/FCN-FFA-30E-14L-01.h5'"
   ]
  },
  {
   "cell_type": "code",
   "execution_count": 13,
   "metadata": {
    "colab": {
     "base_uri": "https://localhost:8080/"
    },
    "execution": {
     "iopub.execute_input": "2021-03-24T05:49:34.015554Z",
     "iopub.status.busy": "2021-03-24T05:49:34.015141Z",
     "iopub.status.idle": "2021-03-24T05:49:34.047651Z",
     "shell.execute_reply": "2021-03-24T05:49:34.047218Z"
    },
    "executionInfo": {
     "elapsed": 36,
     "status": "ok",
     "timestamp": 1615583415203,
     "user": {
      "displayName": "Lisa Elli",
      "photoUrl": "",
      "userId": "06754712231658711937"
     },
     "user_tz": -60
    },
    "id": "BUVqnVNn62RB",
    "outputId": "ac9e5b05-f3b2-4559-9c59-1e518fa52302",
    "pycharm": {
     "name": "#%%\n"
    }
   },
   "outputs": [],
   "source": [
    "model.save(filename)\n",
    "saved_weights = list(model.get_weights()[0][0][0][0])"
   ]
  },
  {
   "cell_type": "markdown",
   "metadata": {
    "id": "ZJwZjSBg62RB",
    "pycharm": {
     "name": "#%% md\n"
    }
   },
   "source": [
    "### Loading the saved model"
   ]
  },
  {
   "cell_type": "code",
   "execution_count": 14,
   "metadata": {
    "colab": {
     "base_uri": "https://localhost:8080/"
    },
    "execution": {
     "iopub.execute_input": "2021-03-24T05:49:34.054661Z",
     "iopub.status.busy": "2021-03-24T05:49:34.054208Z",
     "iopub.status.idle": "2021-03-24T05:49:34.186816Z",
     "shell.execute_reply": "2021-03-24T05:49:34.186388Z"
    },
    "executionInfo": {
     "elapsed": 46,
     "status": "ok",
     "timestamp": 1615583415708,
     "user": {
      "displayName": "Lisa Elli",
      "photoUrl": "",
      "userId": "06754712231658711937"
     },
     "user_tz": -60
    },
    "id": "KfQRdJ2n62RC",
    "outputId": "0447f407-8758-4ab8-9acb-585653323105",
    "pycharm": {
     "name": "#%%\n"
    }
   },
   "outputs": [],
   "source": [
    "loaded_model = load_model(filename)\n",
    "loaded_weights = list(loaded_model.get_weights()[0][0][0][0])"
   ]
  },
  {
   "cell_type": "code",
   "execution_count": 15,
   "metadata": {
    "execution": {
     "iopub.execute_input": "2021-03-24T05:49:34.189522Z",
     "iopub.status.busy": "2021-03-24T05:49:34.189142Z",
     "iopub.status.idle": "2021-03-24T05:49:34.190743Z",
     "shell.execute_reply": "2021-03-24T05:49:34.191121Z"
    }
   },
   "outputs": [],
   "source": [
    "# Assertion that the model was saved and loaded successfully\n",
    "assert untrained_weights != saved_weights\n",
    "assert saved_weights == loaded_weights"
   ]
  },
  {
   "cell_type": "markdown",
   "metadata": {
    "id": "pXwZZiKy62RC",
    "pycharm": {
     "name": "#%% md\n"
    }
   },
   "source": [
    "### Accuracy and loss of the trained model"
   ]
  },
  {
   "cell_type": "code",
   "execution_count": 16,
   "metadata": {
    "colab": {
     "base_uri": "https://localhost:8080/"
    },
    "execution": {
     "iopub.execute_input": "2021-03-24T05:49:34.194375Z",
     "iopub.status.busy": "2021-03-24T05:49:34.193918Z",
     "iopub.status.idle": "2021-03-24T05:49:41.538991Z",
     "shell.execute_reply": "2021-03-24T05:49:41.538475Z"
    },
    "executionInfo": {
     "elapsed": 8624,
     "status": "ok",
     "timestamp": 1615583424302,
     "user": {
      "displayName": "Lisa Elli",
      "photoUrl": "",
      "userId": "06754712231658711937"
     },
     "user_tz": -60
    },
    "id": "_1_vTnWO62RC",
    "outputId": "98311fcd-35bf-4383-ff77-d1a1b62291f2",
    "pycharm": {
     "name": "#%%\n"
    }
   },
   "outputs": [
    {
     "name": "stdout",
     "output_type": "stream",
     "text": [
      "300/300 - 7s - loss: 0.0130 - accuracy: 0.9960\n",
      "Accuracy: 99.60%\n",
      "Loss: 1.30%\n"
     ]
    }
   ],
   "source": [
    "scores = loaded_model.evaluate(test_batches, verbose=2)\n",
    "print(\"Accuracy: %.2f%%\" % (scores[1]*100))\n",
    "print(\"Loss: %.2f%%\" % (scores[0]*100))"
   ]
  },
  {
   "cell_type": "code",
   "execution_count": 17,
   "metadata": {
    "colab": {
     "base_uri": "https://localhost:8080/",
     "height": 295
    },
    "execution": {
     "iopub.execute_input": "2021-03-24T05:49:41.560966Z",
     "iopub.status.busy": "2021-03-24T05:49:41.560577Z",
     "iopub.status.idle": "2021-03-24T05:49:41.684313Z",
     "shell.execute_reply": "2021-03-24T05:49:41.683973Z"
    },
    "executionInfo": {
     "elapsed": 595,
     "status": "ok",
     "timestamp": 1615586591039,
     "user": {
      "displayName": "Lisa Elli",
      "photoUrl": "",
      "userId": "06754712231658711937"
     },
     "user_tz": -60
    },
    "id": "nHKKeCpvCaN5",
    "outputId": "7e887b48-99f7-4e23-90a9-85297e0e3736"
   },
   "outputs": [
    {
     "data": {
      "image/png": "[encoded data removed]",
      "text/plain": [
       "<Figure size 432x288 with 1 Axes>"
      ]
     },
     "metadata": {
      "needs_background": "light"
     },
     "output_type": "display_data"
    }
   ],
   "source": [
    "#Course of accuracy\n",
    "plt.plot(history.history['accuracy'])\n",
    "plt.plot(history.history['val_accuracy'])\n",
    "plt.title('model accuracy')\n",
    "plt.ylabel('accuracy')\n",
    "plt.xlabel('epoch')\n",
    "plt.legend(['train', 'valid'], loc='upper left')\n",
    "plt.show()"
   ]
  },
  {
   "cell_type": "code",
   "execution_count": 18,
   "metadata": {
    "colab": {
     "base_uri": "https://localhost:8080/",
     "height": 295
    },
    "execution": {
     "iopub.execute_input": "2021-03-24T05:49:41.720776Z",
     "iopub.status.busy": "2021-03-24T05:49:41.720378Z",
     "iopub.status.idle": "2021-03-24T05:49:41.806568Z",
     "shell.execute_reply": "2021-03-24T05:49:41.805992Z"
    },
    "executionInfo": {
     "elapsed": 550,
     "status": "ok",
     "timestamp": 1615586596931,
     "user": {
      "displayName": "Lisa Elli",
      "photoUrl": "",
      "userId": "06754712231658711937"
     },
     "user_tz": -60
    },
    "id": "rvuixJw-CdCJ",
    "outputId": "9ed01e51-6153-43c5-dbba-ba7cb723bf2f"
   },
   "outputs": [
    {
     "data": {
      "image/png": "[encoded data removed]",
      "text/plain": [
       "<Figure size 432x288 with 1 Axes>"
      ]
     },
     "metadata": {
      "needs_background": "light"
     },
     "output_type": "display_data"
    }
   ],
   "source": [
    "#Course of loss\n",
    "plt.plot(history.history['loss'])\n",
    "plt.plot(history.history['val_loss'])\n",
    "plt.title('model loss')\n",
    "plt.ylabel('loss')\n",
    "plt.xlabel('epoch')\n",
    "plt.legend(['train', 'valid'], loc='upper left')\n",
    "plt.show()"
   ]
  },
  {
   "cell_type": "markdown",
   "metadata": {
    "id": "-Dfs319f62RC"
   },
   "source": [
    "### Testing the CNN"
   ]
  },
  {
   "cell_type": "code",
   "execution_count": 19,
   "metadata": {
    "execution": {
     "iopub.execute_input": "2021-03-24T05:49:41.810054Z",
     "iopub.status.busy": "2021-03-24T05:49:41.809620Z",
     "iopub.status.idle": "2021-03-24T05:49:48.924975Z",
     "shell.execute_reply": "2021-03-24T05:49:48.924475Z"
    },
    "executionInfo": {
     "elapsed": 8234,
     "status": "ok",
     "timestamp": 1615586642347,
     "user": {
      "displayName": "Lisa Elli",
      "photoUrl": "",
      "userId": "06754712231658711937"
     },
     "user_tz": -60
    },
    "id": "cnM7Y7Au62RD",
    "pycharm": {
     "name": "#%%\n"
    }
   },
   "outputs": [],
   "source": [
    "predictions = loaded_model.predict(x=test_batches, steps=len(test_batches), verbose=0)"
   ]
  },
  {
   "cell_type": "markdown",
   "metadata": {
    "id": "R2kk-gQX62RE",
    "pycharm": {
     "name": "#%% md\n"
    }
   },
   "source": [
    "### Index of wrongly predicted pictures"
   ]
  },
  {
   "cell_type": "code",
   "execution_count": 20,
   "metadata": {
    "execution": {
     "iopub.execute_input": "2021-03-24T05:49:48.927920Z",
     "iopub.status.busy": "2021-03-24T05:49:48.927536Z",
     "iopub.status.idle": "2021-03-24T05:49:48.936519Z",
     "shell.execute_reply": "2021-03-24T05:49:48.936094Z"
    },
    "executionInfo": {
     "elapsed": 604,
     "status": "ok",
     "timestamp": 1615586643749,
     "user": {
      "displayName": "Lisa Elli",
      "photoUrl": "",
      "userId": "06754712231658711937"
     },
     "user_tz": -60
    },
    "id": "5Kt0jsFB62RE",
    "pycharm": {
     "name": "#%%\n"
    }
   },
   "outputs": [],
   "source": [
    "y_true=test_batches.classes\n",
    "y_pred=np.argmax(predictions, axis=-1)\n",
    "cm = confusion_matrix(y_true = y_true, y_pred = y_pred)"
   ]
  },
  {
   "cell_type": "code",
   "execution_count": 21,
   "metadata": {
    "colab": {
     "base_uri": "https://localhost:8080/"
    },
    "execution": {
     "iopub.execute_input": "2021-03-24T05:49:48.946213Z",
     "iopub.status.busy": "2021-03-24T05:49:48.945810Z",
     "iopub.status.idle": "2021-03-24T05:49:48.948327Z",
     "shell.execute_reply": "2021-03-24T05:49:48.947986Z"
    },
    "executionInfo": {
     "elapsed": 881,
     "status": "ok",
     "timestamp": 1615586646608,
     "user": {
      "displayName": "Lisa Elli",
      "photoUrl": "",
      "userId": "06754712231658711937"
     },
     "user_tz": -60
    },
    "id": "aSzFxBUy62RE",
    "outputId": "45c28aa2-5183-46c6-dc0a-901668a61137",
    "pycharm": {
     "name": "#%%\n"
    }
   },
   "outputs": [
    {
     "name": "stdout",
     "output_type": "stream",
     "text": [
      "Data from class 'face', that was wrongly predicted as 'no-face' [ 0 ] :\n",
      "[]\n",
      "----------------------------------------------------------------------------------------------\n",
      "Data from class 'no-face', that was wrongly predicted as 'face' [ 12 ] :\n",
      "[8193, 8241, 8244, 8436, 8524, 8602, 8604, 8723, 8754, 8894, 9090, 9210]\n"
     ]
    }
   ],
   "source": [
    "face_but_predicted_no_face=[]\n",
    "no_face_but_predicted_face=[]\n",
    "\n",
    "for i in range(len(predictions)):\n",
    "        if y_true[i] != y_pred[i]:\n",
    "            if y_true[i] == 1:\n",
    "                face_but_predicted_no_face.append(i+8001-1500) #Index of file on disk\n",
    "            else:\n",
    "                no_face_but_predicted_face.append(i+8001) #Index of file on disk\n",
    "\n",
    "print(\"Data from class 'face', that was wrongly predicted as 'no-face' [\", len(face_but_predicted_no_face), \"] :\")\n",
    "print(face_but_predicted_no_face)\n",
    "print(\"----------------------------------------------------------------------------------------------\")\n",
    "print(\"Data from class 'no-face', that was wrongly predicted as 'face' [\", len(no_face_but_predicted_face), \"] :\")\n",
    "print(no_face_but_predicted_face)"
   ]
  },
  {
   "cell_type": "markdown",
   "metadata": {
    "id": "6eTe3tG762RE",
    "pycharm": {
     "name": "#%% md\n"
    }
   },
   "source": [
    "### Confusion matrix"
   ]
  },
  {
   "cell_type": "code",
   "execution_count": 22,
   "metadata": {
    "execution": {
     "iopub.execute_input": "2021-03-24T05:49:48.953659Z",
     "iopub.status.busy": "2021-03-24T05:49:48.953092Z",
     "iopub.status.idle": "2021-03-24T05:49:48.955238Z",
     "shell.execute_reply": "2021-03-24T05:49:48.954844Z"
    },
    "executionInfo": {
     "elapsed": 902,
     "status": "ok",
     "timestamp": 1615586652173,
     "user": {
      "displayName": "Lisa Elli",
      "photoUrl": "",
      "userId": "06754712231658711937"
     },
     "user_tz": -60
    },
    "id": "TXVbugwa62RE",
    "pycharm": {
     "name": "#%%\n"
    }
   },
   "outputs": [],
   "source": [
    "def plot_confusion_matrix(cm, classes,\n",
    "                          normalize=False,\n",
    "                          title='Confusion matrix',\n",
    "                          cmap=plt.cm.Blues):\n",
    "\n",
    "    plt.imshow(cm, interpolation='nearest', cmap=cmap)\n",
    "    plt.title(title)\n",
    "    plt.colorbar()\n",
    "    tick_marks = np.arange(len(classes))\n",
    "    plt.xticks(tick_marks, classes, rotation=45)\n",
    "    plt.yticks(tick_marks, classes)\n",
    "\n",
    "    if normalize:\n",
    "        cm = cm.astype('float') / cm.sum(axis=1)[:, np.newaxis]\n",
    "        print(\"Normalized confusion matrix\")\n",
    "    else:\n",
    "        print('Confusion matrix, without normalization')\n",
    "\n",
    "    print(cm)\n",
    "\n",
    "    thresh = cm.max() / 2.\n",
    "    for i, j in itertools.product(range(cm.shape[0]), range(cm.shape[1])):\n",
    "        plt.text(j, i, cm[i, j],\n",
    "                 horizontalalignment=\"center\",\n",
    "                 color=\"white\" if cm[i, j] > thresh else \"black\")\n",
    "\n",
    "    plt.tight_layout()\n",
    "    plt.ylabel('True label')\n",
    "    plt.xlabel('Predicted label')"
   ]
  },
  {
   "cell_type": "code",
   "execution_count": 23,
   "metadata": {
    "colab": {
     "base_uri": "https://localhost:8080/"
    },
    "execution": {
     "iopub.execute_input": "2021-03-24T05:49:48.958343Z",
     "iopub.status.busy": "2021-03-24T05:49:48.957921Z",
     "iopub.status.idle": "2021-03-24T05:49:48.960751Z",
     "shell.execute_reply": "2021-03-24T05:49:48.960344Z"
    },
    "executionInfo": {
     "elapsed": 909,
     "status": "ok",
     "timestamp": 1615586655343,
     "user": {
      "displayName": "Lisa Elli",
      "photoUrl": "",
      "userId": "06754712231658711937"
     },
     "user_tz": -60
    },
    "id": "sP3ndK5o62RF",
    "outputId": "74d415b9-1346-4b60-8a66-1899e30acb23",
    "pycharm": {
     "name": "#%%\n"
    }
   },
   "outputs": [
    {
     "data": {
      "text/plain": [
       "{'no_face': 0, 'face': 1}"
      ]
     },
     "execution_count": 1,
     "metadata": {},
     "output_type": "execute_result"
    }
   ],
   "source": [
    "test_batches.class_indices"
   ]
  },
  {
   "cell_type": "code",
   "execution_count": 24,
   "metadata": {
    "colab": {
     "base_uri": "https://localhost:8080/",
     "height": 366
    },
    "execution": {
     "iopub.execute_input": "2021-03-24T05:49:48.999034Z",
     "iopub.status.busy": "2021-03-24T05:49:48.996274Z",
     "iopub.status.idle": "2021-03-24T05:49:49.105131Z",
     "shell.execute_reply": "2021-03-24T05:49:49.105529Z"
    },
    "executionInfo": {
     "elapsed": 1444,
     "status": "ok",
     "timestamp": 1615586660010,
     "user": {
      "displayName": "Lisa Elli",
      "photoUrl": "",
      "userId": "06754712231658711937"
     },
     "user_tz": -60
    },
    "id": "_iHhK36e62RF",
    "outputId": "e4096568-5620-44a6-8e7f-ac906560d917",
    "pycharm": {
     "name": "#%%\n"
    }
   },
   "outputs": [
    {
     "name": "stdout",
     "output_type": "stream",
     "text": [
      "Confusion matrix, without normalization\n",
      "[[1488   12]\n",
      " [   0 1500]]\n"
     ]
    },
    {
     "data": {
      "image/png": "[encoded data removed]",
      "text/plain": [
       "<Figure size 432x288 with 2 Axes>"
      ]
     },
     "metadata": {
      "needs_background": "light"
     },
     "output_type": "display_data"
    }
   ],
   "source": [
    "cm_plot_labels = ['no_face','face']\n",
    "plot_confusion_matrix(cm=cm, classes=cm_plot_labels, title='Confusion Matrix')\n"
   ]
  },
  {
   "cell_type": "code",
   "execution_count": null,
   "metadata": {},
   "outputs": [],
   "source": []
  }
 ],
 "metadata": {
  "kernelspec": {
   "display_name": "Python 3",
   "language": "python",
   "name": "python3"
  },
  "language_info": {
   "codemirror_mode": {
    "name": "ipython",
    "version": 3
   },
   "file_extension": ".py",
   "mimetype": "text/x-python",
   "name": "python",
   "nbconvert_exporter": "python",
   "pygments_lexer": "ipython3",
   "version": "3.8.5"
  }
 },
 "nbformat": 4,
 "nbformat_minor": 1
}
