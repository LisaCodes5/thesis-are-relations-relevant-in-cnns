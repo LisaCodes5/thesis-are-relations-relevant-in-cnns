{
 "cells": [
  {
   "cell_type": "markdown",
   "metadata": {
    "id": "O82TH2Vr62Qi"
   },
   "source": [
    "# Are Relations Relevant in CNNs? *A Study Based on a Facial Dataset*"
   ]
  },
  {
   "cell_type": "markdown",
   "metadata": {
    "id": "ehl8qgCC62Qx"
   },
   "source": [
    "## Testing FCN with Features Further Apart *(30 Epochs - 13 Layers)*"
   ]
  },
  {
   "cell_type": "markdown",
   "metadata": {
    "id": "3clj-ony62Q0",
    "pycharm": {
     "name": "#%% md\n"
    }
   },
   "source": [
    "### Imports, Seed, GPU integration"
   ]
  },
  {
   "cell_type": "code",
   "execution_count": 1,
   "metadata": {
    "execution": {
     "iopub.execute_input": "2021-03-24T21:06:24.776622Z",
     "iopub.status.busy": "2021-03-24T21:06:24.776147Z",
     "iopub.status.idle": "2021-03-24T21:06:26.009232Z",
     "shell.execute_reply": "2021-03-24T21:06:26.008748Z"
    },
    "id": "cnCaBFfp62Q2",
    "pycharm": {
     "name": "#%%\n"
    }
   },
   "outputs": [],
   "source": [
    "import numpy as np\n",
    "import random\n",
    "import tensorflow as tf"
   ]
  },
  {
   "cell_type": "code",
   "execution_count": 2,
   "metadata": {
    "execution": {
     "iopub.execute_input": "2021-03-24T21:06:26.012560Z",
     "iopub.status.busy": "2021-03-24T21:06:26.012164Z",
     "iopub.status.idle": "2021-03-24T21:06:26.014158Z",
     "shell.execute_reply": "2021-03-24T21:06:26.013747Z"
    },
    "id": "jsw3DKWp62Q4",
    "pycharm": {
     "name": "#%%\n"
    }
   },
   "outputs": [],
   "source": [
    "# Seeds for better reproducibility\n",
    "seed = 42\n",
    "np.random.seed(seed)\n",
    "random.seed(seed)\n",
    "tf.random.set_seed(seed)"
   ]
  },
  {
   "cell_type": "code",
   "execution_count": 3,
   "metadata": {
    "execution": {
     "iopub.execute_input": "2021-03-24T21:06:26.018284Z",
     "iopub.status.busy": "2021-03-24T21:06:26.017878Z",
     "iopub.status.idle": "2021-03-24T21:06:26.518931Z",
     "shell.execute_reply": "2021-03-24T21:06:26.518489Z"
    }
   },
   "outputs": [],
   "source": [
    "from tensorflow.keras.models import load_model\n",
    "from tensorflow.keras.preprocessing.image import ImageDataGenerator\n",
    "from sklearn.metrics import confusion_matrix\n",
    "import itertools\n",
    "import matplotlib.pyplot as plt\n",
    "import warnings\n",
    "warnings.simplefilter(action='ignore', category=FutureWarning)\n",
    "%matplotlib inline"
   ]
  },
  {
   "cell_type": "code",
   "execution_count": 4,
   "metadata": {
    "colab": {
     "base_uri": "https://localhost:8080/"
    },
    "execution": {
     "iopub.execute_input": "2021-03-24T21:06:26.565904Z",
     "iopub.status.busy": "2021-03-24T21:06:26.565458Z",
     "iopub.status.idle": "2021-03-24T21:06:26.568243Z",
     "shell.execute_reply": "2021-03-24T21:06:26.567824Z"
    },
    "executionInfo": {
     "elapsed": 19631,
     "status": "ok",
     "timestamp": 1615579393251,
     "user": {
      "displayName": "Lisa Elli",
      "photoUrl": "",
      "userId": "06754712231658711937"
     },
     "user_tz": -60
    },
    "id": "4vE5F4rX62Q4",
    "outputId": "bff035e6-71fc-433f-d1fd-7e794a4724fc",
    "pycharm": {
     "name": "#%%\n"
    }
   },
   "outputs": [
    {
     "name": "stdout",
     "output_type": "stream",
     "text": [
      "Num GPUs Available:  1\n"
     ]
    }
   ],
   "source": [
    "physical_devices = tf.config.experimental.list_physical_devices('GPU')\n",
    "print(\"Num GPUs Available: \", len(physical_devices))\n",
    "tf.config.experimental.set_memory_growth(physical_devices[0], True)"
   ]
  },
  {
   "cell_type": "markdown",
   "metadata": {
    "id": "wmGEalmo62Q7"
   },
   "source": [
    "### Data preparation"
   ]
  },
  {
   "cell_type": "code",
   "execution_count": 5,
   "metadata": {
    "execution": {
     "iopub.execute_input": "2021-03-24T21:06:26.571258Z",
     "iopub.status.busy": "2021-03-24T21:06:26.570825Z",
     "iopub.status.idle": "2021-03-24T21:06:26.572962Z",
     "shell.execute_reply": "2021-03-24T21:06:26.572531Z"
    },
    "id": "FdYjQ15w62Q7",
    "pycharm": {
     "name": "#%%\n"
    }
   },
   "outputs": [],
   "source": [
    "test_path = '../../../picasso_dataset/basis-data/middle/test'"
   ]
  },
  {
   "cell_type": "code",
   "execution_count": 6,
   "metadata": {
    "colab": {
     "base_uri": "https://localhost:8080/"
    },
    "execution": {
     "iopub.execute_input": "2021-03-24T21:06:26.576388Z",
     "iopub.status.busy": "2021-03-24T21:06:26.575968Z",
     "iopub.status.idle": "2021-03-24T21:06:26.650411Z",
     "shell.execute_reply": "2021-03-24T21:06:26.650000Z"
    },
    "executionInfo": {
     "elapsed": 15267,
     "status": "ok",
     "timestamp": 1615579393916,
     "user": {
      "displayName": "Lisa Elli",
      "photoUrl": "",
      "userId": "06754712231658711937"
     },
     "user_tz": -60
    },
    "id": "n_l3PW-_62Q7",
    "outputId": "8db7a694-024d-4e83-d2d7-0c75b63f3eb9",
    "pycharm": {
     "name": "#%%\n"
    }
   },
   "outputs": [
    {
     "name": "stdout",
     "output_type": "stream",
     "text": [
      "Found 3000 images belonging to 2 classes.\n"
     ]
    }
   ],
   "source": [
    "test_batches = ImageDataGenerator(preprocessing_function=tf.keras.applications.vgg16.preprocess_input) \\\n",
    "    .flow_from_directory(directory=test_path, target_size=(224,224), classes=['no_face', 'face'], batch_size=10, shuffle=False)"
   ]
  },
  {
   "cell_type": "code",
   "execution_count": 7,
   "metadata": {
    "execution": {
     "iopub.execute_input": "2021-03-24T21:06:26.653239Z",
     "iopub.status.busy": "2021-03-24T21:06:26.652856Z",
     "iopub.status.idle": "2021-03-24T21:06:26.654884Z",
     "shell.execute_reply": "2021-03-24T21:06:26.654479Z"
    },
    "id": "SbBy_3JT62Q8",
    "pycharm": {
     "name": "#%%\n"
    }
   },
   "outputs": [],
   "source": [
    "assert test_batches.n == 3000\n",
    "assert test_batches.num_classes == 2"
   ]
  },
  {
   "cell_type": "markdown",
   "metadata": {
    "id": "kgM-9Fbg62Q-"
   },
   "source": [
    "### Loading the trained FCN"
   ]
  },
  {
   "cell_type": "code",
   "execution_count": 8,
   "metadata": {
    "execution": {
     "iopub.execute_input": "2021-03-24T21:06:26.660058Z",
     "iopub.status.busy": "2021-03-24T21:06:26.657912Z",
     "iopub.status.idle": "2021-03-24T21:06:27.254109Z",
     "shell.execute_reply": "2021-03-24T21:06:27.254432Z"
    },
    "id": "Cdg3Plko62Q-",
    "pycharm": {
     "name": "#%%\n"
    }
   },
   "outputs": [],
   "source": [
    "filename='../models/FCN-FFA-30E-14L-01.h5'\n",
    "loaded_model = load_model(filename)"
   ]
  },
  {
   "cell_type": "markdown",
   "metadata": {
    "colab": {
     "base_uri": "https://localhost:8080/"
    },
    "executionInfo": {
     "elapsed": 5474,
     "status": "ok",
     "timestamp": 1615579399410,
     "user": {
      "displayName": "Lisa Elli",
      "photoUrl": "",
      "userId": "06754712231658711937"
     },
     "user_tz": -60
    },
    "id": "wtTJTaWatrgn",
    "outputId": "5e22cecc-bb59-456b-ceaa-d3986077141c",
    "pycharm": {
     "name": "#%% md\n"
    }
   },
   "source": [
    "### Accuracy and loss of the trained model"
   ]
  },
  {
   "cell_type": "code",
   "execution_count": 9,
   "metadata": {
    "execution": {
     "iopub.execute_input": "2021-03-24T21:06:27.257903Z",
     "iopub.status.busy": "2021-03-24T21:06:27.257452Z",
     "iopub.status.idle": "2021-03-24T21:06:35.732524Z",
     "shell.execute_reply": "2021-03-24T21:06:35.732162Z"
    },
    "id": "HYmld1gj62Q_",
    "pycharm": {
     "name": "#%%\n"
    }
   },
   "outputs": [
    {
     "name": "stdout",
     "output_type": "stream",
     "text": [
      "300/300 - 7s - loss: 0.9878 - accuracy: 0.7877\n",
      "Accuracy: 78.77%\n",
      "Loss: 98.78%\n"
     ]
    }
   ],
   "source": [
    "scores = loaded_model.evaluate(test_batches, verbose=2)\n",
    "print(\"Accuracy: %.2f%%\" % (scores[1]*100))\n",
    "print(\"Loss: %.2f%%\" % (scores[0]*100))"
   ]
  },
  {
   "cell_type": "markdown",
   "metadata": {
    "colab": {
     "base_uri": "https://localhost:8080/"
    },
    "executionInfo": {
     "elapsed": 1444054,
     "status": "ok",
     "timestamp": 1615583415200,
     "user": {
      "displayName": "Lisa Elli",
      "photoUrl": "",
      "userId": "06754712231658711937"
     },
     "user_tz": -60
    },
    "id": "TY7tN3BE62RB",
    "outputId": "fe3f86f2-25c7-4d7b-c4cf-5b4d4a8e0ebe",
    "pycharm": {
     "name": "#%% md\n"
    }
   },
   "source": [
    "### Testing the FCN"
   ]
  },
  {
   "cell_type": "code",
   "execution_count": 10,
   "metadata": {
    "execution": {
     "iopub.execute_input": "2021-03-24T21:06:35.736051Z",
     "iopub.status.busy": "2021-03-24T21:06:35.735654Z",
     "iopub.status.idle": "2021-03-24T21:06:43.187144Z",
     "shell.execute_reply": "2021-03-24T21:06:43.187492Z"
    },
    "id": "dgDtbkcv62RB",
    "pycharm": {
     "name": "#%%\n"
    }
   },
   "outputs": [],
   "source": [
    "predictions = loaded_model.predict(x=test_batches, steps=len(test_batches), verbose=0)"
   ]
  },
  {
   "cell_type": "markdown",
   "metadata": {
    "pycharm": {
     "name": "#%% md\n"
    }
   },
   "source": [
    "### Index of wrongly predicted pictures"
   ]
  },
  {
   "cell_type": "code",
   "execution_count": 11,
   "metadata": {
    "colab": {
     "base_uri": "https://localhost:8080/"
    },
    "execution": {
     "iopub.execute_input": "2021-03-24T21:06:43.190917Z",
     "iopub.status.busy": "2021-03-24T21:06:43.190512Z",
     "iopub.status.idle": "2021-03-24T21:06:43.200062Z",
     "shell.execute_reply": "2021-03-24T21:06:43.199627Z"
    },
    "executionInfo": {
     "elapsed": 36,
     "status": "ok",
     "timestamp": 1615583415203,
     "user": {
      "displayName": "Lisa Elli",
      "photoUrl": "",
      "userId": "06754712231658711937"
     },
     "user_tz": -60
    },
    "id": "BUVqnVNn62RB",
    "outputId": "ac9e5b05-f3b2-4559-9c59-1e518fa52302",
    "pycharm": {
     "name": "#%%\n"
    }
   },
   "outputs": [],
   "source": [
    "y_true=test_batches.classes\n",
    "y_pred=np.argmax(predictions, axis=-1)\n",
    "cm = confusion_matrix(y_true = y_true, y_pred = y_pred)"
   ]
  },
  {
   "cell_type": "code",
   "execution_count": 12,
   "metadata": {
    "execution": {
     "iopub.execute_input": "2021-03-24T21:06:43.210569Z",
     "iopub.status.busy": "2021-03-24T21:06:43.207032Z",
     "iopub.status.idle": "2021-03-24T21:06:43.214040Z",
     "shell.execute_reply": "2021-03-24T21:06:43.213624Z"
    },
    "id": "ZJwZjSBg62RB",
    "pycharm": {
     "name": "#%%\n"
    }
   },
   "outputs": [
    {
     "name": "stdout",
     "output_type": "stream",
     "text": [
      "Data from class 'face', that was wrongly predicted as 'no-face' [ 601 ] :\n",
      "[8001, 8008, 8009, 8010, 8012, 8013, 8014, 8015, 8016, 8017, 8018, 8020, 8021, 8024, 8028, 8029, 8032, 8034, 8035, 8036, 8038, 8040, 8042, 8043, 8044, 8046, 8049, 8050, 8052, 8053, 8054, 8056, 8057, 8059, 8062, 8065, 8067, 8073, 8074, 8075, 8076, 8077, 8078, 8081, 8084, 8087, 8091, 8094, 8095, 8101, 8103, 8107, 8111, 8113, 8118, 8120, 8126, 8132, 8136, 8139, 8144, 8146, 8147, 8151, 8152, 8155, 8157, 8159, 8160, 8162, 8165, 8166, 8168, 8169, 8170, 8171, 8173, 8174, 8177, 8180, 8182, 8185, 8188, 8189, 8190, 8191, 8195, 8198, 8205, 8208, 8213, 8214, 8215, 8217, 8218, 8227, 8232, 8233, 8237, 8240, 8241, 8247, 8248, 8250, 8252, 8256, 8257, 8258, 8259, 8260, 8265, 8267, 8271, 8275, 8279, 8282, 8283, 8290, 8293, 8294, 8296, 8298, 8299, 8305, 8306, 8310, 8312, 8313, 8314, 8315, 8316, 8319, 8320, 8321, 8322, 8324, 8325, 8326, 8327, 8330, 8331, 8333, 8337, 8342, 8343, 8346, 8347, 8355, 8356, 8357, 8361, 8371, 8374, 8377, 8381, 8384, 8387, 8388, 8393, 8397, 8401, 8407, 8410, 8413, 8414, 8415, 8416, 8421, 8425, 8427, 8430, 8431, 8435, 8436, 8438, 8439, 8440, 8442, 8448, 8449, 8452, 8455, 8457, 8458, 8462, 8464, 8465, 8466, 8468, 8472, 8475, 8480, 8481, 8483, 8486, 8487, 8489, 8491, 8495, 8499, 8502, 8503, 8504, 8505, 8508, 8510, 8511, 8512, 8514, 8516, 8517, 8521, 8524, 8525, 8526, 8528, 8533, 8542, 8543, 8544, 8549, 8550, 8551, 8555, 8556, 8557, 8558, 8561, 8563, 8564, 8567, 8571, 8572, 8573, 8575, 8576, 8578, 8579, 8582, 8583, 8584, 8592, 8593, 8594, 8597, 8601, 8603, 8604, 8606, 8607, 8611, 8614, 8615, 8617, 8621, 8625, 8629, 8636, 8638, 8639, 8642, 8644, 8647, 8650, 8654, 8657, 8658, 8661, 8662, 8663, 8664, 8668, 8674, 8675, 8677, 8680, 8682, 8686, 8687, 8688, 8690, 8692, 8693, 8695, 8696, 8697, 8698, 8699, 8706, 8709, 8712, 8713, 8716, 8718, 8719, 8722, 8725, 8732, 8733, 8734, 8735, 8737, 8738, 8740, 8742, 8743, 8744, 8747, 8749, 8750, 8754, 8758, 8760, 8764, 8766, 8767, 8768, 8769, 8770, 8771, 8773, 8776, 8777, 8780, 8781, 8784, 8785, 8786, 8788, 8792, 8793, 8796, 8798, 8799, 8801, 8807, 8808, 8809, 8814, 8815, 8821, 8823, 8827, 8829, 8831, 8833, 8835, 8837, 8839, 8843, 8845, 8850, 8853, 8859, 8860, 8869, 8870, 8876, 8882, 8886, 8887, 8890, 8892, 8897, 8898, 8899, 8902, 8908, 8909, 8912, 8913, 8917, 8920, 8923, 8924, 8927, 8928, 8930, 8931, 8933, 8934, 8935, 8939, 8945, 8948, 8950, 8951, 8955, 8956, 8958, 8961, 8962, 8964, 8966, 8972, 8975, 8977, 8978, 8988, 8989, 8992, 8993, 8995, 9003, 9004, 9006, 9007, 9013, 9014, 9015, 9018, 9021, 9022, 9023, 9024, 9028, 9030, 9032, 9037, 9041, 9052, 9054, 9057, 9058, 9061, 9063, 9067, 9068, 9073, 9074, 9076, 9077, 9078, 9079, 9081, 9084, 9085, 9094, 9095, 9102, 9103, 9105, 9106, 9107, 9109, 9113, 9115, 9116, 9118, 9122, 9124, 9127, 9128, 9131, 9137, 9138, 9141, 9148, 9149, 9150, 9151, 9154, 9162, 9163, 9165, 9166, 9169, 9170, 9171, 9172, 9173, 9174, 9175, 9179, 9183, 9184, 9185, 9186, 9188, 9189, 9194, 9195, 9202, 9203, 9206, 9207, 9210, 9216, 9221, 9225, 9228, 9229, 9234, 9237, 9239, 9243, 9246, 9250, 9251, 9255, 9256, 9259, 9260, 9262, 9273, 9275, 9277, 9280, 9281, 9283, 9284, 9285, 9287, 9291, 9292, 9294, 9295, 9298, 9300, 9302, 9303, 9305, 9307, 9309, 9312, 9316, 9321, 9323, 9325, 9329, 9334, 9335, 9337, 9338, 9344, 9345, 9346, 9352, 9359, 9360, 9368, 9371, 9375, 9376, 9378, 9379, 9381, 9382, 9383, 9386, 9387, 9389, 9392, 9393, 9394, 9397, 9400, 9401, 9402, 9403, 9407, 9413, 9414, 9415, 9416, 9419, 9423, 9427, 9428, 9431, 9432, 9435, 9436, 9438, 9442, 9443, 9444, 9445, 9446, 9449, 9450, 9451, 9452, 9454, 9459, 9460, 9462, 9463, 9464, 9465, 9466, 9471, 9475, 9479, 9483, 9484, 9487, 9493, 9495, 9497, 9498]\n",
      "----------------------------------------------------------------------------------------------\n",
      "Data from class 'no-face', that was wrongly predicted as 'face' [ 36 ] :\n",
      "[8094, 8106, 8113, 8126, 8221, 8248, 8276, 8348, 8407, 8501, 8600, 8621, 8650, 8698, 8749, 8840, 8909, 8910, 8925, 8931, 8934, 8935, 8958, 8991, 9025, 9037, 9074, 9085, 9188, 9216, 9229, 9234, 9265, 9322, 9382, 9456]\n"
     ]
    }
   ],
   "source": [
    "face_but_predicted_no_face=[]\n",
    "no_face_but_predicted_face=[]\n",
    "\n",
    "for i in range(len(predictions)):\n",
    "        if y_true[i] != y_pred[i]:\n",
    "            if y_true[i] == 1:\n",
    "                face_but_predicted_no_face.append(i+8001-1500) #Index of file on disk\n",
    "            else:\n",
    "                no_face_but_predicted_face.append(i+8001) #Index of file on disk\n",
    "\n",
    "print(\"Data from class 'face', that was wrongly predicted as 'no-face' [\", len(face_but_predicted_no_face), \"] :\")\n",
    "print(face_but_predicted_no_face)\n",
    "print(\"----------------------------------------------------------------------------------------------\")\n",
    "print(\"Data from class 'no-face', that was wrongly predicted as 'face' [\", len(no_face_but_predicted_face), \"] :\")\n",
    "print(no_face_but_predicted_face)"
   ]
  },
  {
   "cell_type": "markdown",
   "metadata": {
    "colab": {
     "base_uri": "https://localhost:8080/"
    },
    "executionInfo": {
     "elapsed": 46,
     "status": "ok",
     "timestamp": 1615583415708,
     "user": {
      "displayName": "Lisa Elli",
      "photoUrl": "",
      "userId": "06754712231658711937"
     },
     "user_tz": -60
    },
    "id": "KfQRdJ2n62RC",
    "outputId": "0447f407-8758-4ab8-9acb-585653323105",
    "pycharm": {
     "name": "#%% md\n"
    }
   },
   "source": [
    "### Confusion matrix"
   ]
  },
  {
   "cell_type": "code",
   "execution_count": 13,
   "metadata": {
    "execution": {
     "iopub.execute_input": "2021-03-24T21:06:43.219570Z",
     "iopub.status.busy": "2021-03-24T21:06:43.219126Z",
     "iopub.status.idle": "2021-03-24T21:06:43.221106Z",
     "shell.execute_reply": "2021-03-24T21:06:43.220707Z"
    }
   },
   "outputs": [],
   "source": [
    "def plot_confusion_matrix(cm, classes,\n",
    "                          normalize=False,\n",
    "                          title='Confusion matrix',\n",
    "                          cmap=plt.cm.Blues):\n",
    "\n",
    "    plt.imshow(cm, interpolation='nearest', cmap=cmap)\n",
    "    plt.title(title)\n",
    "    plt.colorbar()\n",
    "    tick_marks = np.arange(len(classes))\n",
    "    plt.xticks(tick_marks, classes, rotation=45)\n",
    "    plt.yticks(tick_marks, classes)\n",
    "\n",
    "    if normalize:\n",
    "        cm = cm.astype('float') / cm.sum(axis=1)[:, np.newaxis]\n",
    "        print(\"Normalized confusion matrix\")\n",
    "    else:\n",
    "        print('Confusion matrix, without normalization')\n",
    "\n",
    "    print(cm)\n",
    "\n",
    "    thresh = cm.max() / 2.\n",
    "    for i, j in itertools.product(range(cm.shape[0]), range(cm.shape[1])):\n",
    "        plt.text(j, i, cm[i, j],\n",
    "                 horizontalalignment=\"center\",\n",
    "                 color=\"white\" if cm[i, j] > thresh else \"black\")\n",
    "\n",
    "    plt.tight_layout()\n",
    "    plt.ylabel('True label')\n",
    "    plt.xlabel('Predicted label')"
   ]
  },
  {
   "cell_type": "code",
   "execution_count": 14,
   "metadata": {
    "execution": {
     "iopub.execute_input": "2021-03-24T21:06:43.225757Z",
     "iopub.status.busy": "2021-03-24T21:06:43.225367Z",
     "iopub.status.idle": "2021-03-24T21:06:43.231816Z",
     "shell.execute_reply": "2021-03-24T21:06:43.231373Z"
    },
    "id": "pXwZZiKy62RC",
    "pycharm": {
     "name": "#%%\n"
    }
   },
   "outputs": [
    {
     "data": {
      "text/plain": [
       "{'no_face': 0, 'face': 1}"
      ]
     },
     "execution_count": 1,
     "metadata": {},
     "output_type": "execute_result"
    }
   ],
   "source": [
    "test_batches.class_indices"
   ]
  },
  {
   "cell_type": "code",
   "execution_count": 15,
   "metadata": {
    "colab": {
     "base_uri": "https://localhost:8080/"
    },
    "execution": {
     "iopub.execute_input": "2021-03-24T21:06:43.256104Z",
     "iopub.status.busy": "2021-03-24T21:06:43.255697Z",
     "iopub.status.idle": "2021-03-24T21:06:43.383372Z",
     "shell.execute_reply": "2021-03-24T21:06:43.383860Z"
    },
    "executionInfo": {
     "elapsed": 8624,
     "status": "ok",
     "timestamp": 1615583424302,
     "user": {
      "displayName": "Lisa Elli",
      "photoUrl": "",
      "userId": "06754712231658711937"
     },
     "user_tz": -60
    },
    "id": "_1_vTnWO62RC",
    "outputId": "98311fcd-35bf-4383-ff77-d1a1b62291f2",
    "pycharm": {
     "name": "#%%\n"
    }
   },
   "outputs": [
    {
     "name": "stdout",
     "output_type": "stream",
     "text": [
      "Confusion matrix, without normalization\n",
      "[[1464   36]\n",
      " [ 601  899]]\n"
     ]
    },
    {
     "data": {
      "image/png": "[encoded data removed]",
      "text/plain": [
       "<Figure size 432x288 with 2 Axes>"
      ]
     },
     "metadata": {
      "needs_background": "light"
     },
     "output_type": "display_data"
    }
   ],
   "source": [
    "cm_plot_labels = ['no_face','face']\n",
    "plot_confusion_matrix(cm=cm, classes=cm_plot_labels, title='Confusion Matrix')\n"
   ]
  }
 ],
 "metadata": {
  "kernelspec": {
   "display_name": "Python 3",
   "language": "python",
   "name": "python3"
  },
  "language_info": {
   "codemirror_mode": {
    "name": "ipython",
    "version": 3
   },
   "file_extension": ".py",
   "mimetype": "text/x-python",
   "name": "python",
   "nbconvert_exporter": "python",
   "pygments_lexer": "ipython3",
   "version": "3.8.5"
  }
 },
 "nbformat": 4,
 "nbformat_minor": 1
}
