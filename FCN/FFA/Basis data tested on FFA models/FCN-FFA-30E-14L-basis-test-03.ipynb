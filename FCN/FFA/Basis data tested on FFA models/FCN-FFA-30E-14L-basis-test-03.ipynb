{
 "cells": [
  {
   "cell_type": "markdown",
   "metadata": {
    "id": "O82TH2Vr62Qi"
   },
   "source": [
    "# Are Relations Relevant in CNNs? *A Study Based on a Facial Dataset*"
   ]
  },
  {
   "cell_type": "markdown",
   "metadata": {
    "id": "ehl8qgCC62Qx"
   },
   "source": [
    "## Testing FCN with Features Further Apart *(30 Epochs - 13 Layers)*"
   ]
  },
  {
   "cell_type": "markdown",
   "metadata": {
    "id": "3clj-ony62Q0",
    "pycharm": {
     "name": "#%% md\n"
    }
   },
   "source": [
    "### Imports, Seed, GPU integration"
   ]
  },
  {
   "cell_type": "code",
   "execution_count": 1,
   "metadata": {
    "execution": {
     "iopub.execute_input": "2021-03-24T21:06:45.716748Z",
     "iopub.status.busy": "2021-03-24T21:06:45.716273Z",
     "iopub.status.idle": "2021-03-24T21:06:46.930302Z",
     "shell.execute_reply": "2021-03-24T21:06:46.929723Z"
    },
    "id": "cnCaBFfp62Q2",
    "pycharm": {
     "name": "#%%\n"
    }
   },
   "outputs": [],
   "source": [
    "import numpy as np\n",
    "import random\n",
    "import tensorflow as tf"
   ]
  },
  {
   "cell_type": "code",
   "execution_count": 2,
   "metadata": {
    "execution": {
     "iopub.execute_input": "2021-03-24T21:06:46.933571Z",
     "iopub.status.busy": "2021-03-24T21:06:46.933187Z",
     "iopub.status.idle": "2021-03-24T21:06:46.934731Z",
     "shell.execute_reply": "2021-03-24T21:06:46.935038Z"
    },
    "id": "jsw3DKWp62Q4",
    "pycharm": {
     "name": "#%%\n"
    }
   },
   "outputs": [],
   "source": [
    "# Seeds for better reproducibility\n",
    "seed = 42\n",
    "np.random.seed(seed)\n",
    "random.seed(seed)\n",
    "tf.random.set_seed(seed)"
   ]
  },
  {
   "cell_type": "code",
   "execution_count": 3,
   "metadata": {
    "execution": {
     "iopub.execute_input": "2021-03-24T21:06:46.938954Z",
     "iopub.status.busy": "2021-03-24T21:06:46.938558Z",
     "iopub.status.idle": "2021-03-24T21:06:47.433204Z",
     "shell.execute_reply": "2021-03-24T21:06:47.432852Z"
    }
   },
   "outputs": [],
   "source": [
    "from tensorflow.keras.models import load_model\n",
    "from tensorflow.keras.preprocessing.image import ImageDataGenerator\n",
    "from sklearn.metrics import confusion_matrix\n",
    "import itertools\n",
    "import matplotlib.pyplot as plt\n",
    "import warnings\n",
    "warnings.simplefilter(action='ignore', category=FutureWarning)\n",
    "%matplotlib inline"
   ]
  },
  {
   "cell_type": "code",
   "execution_count": 4,
   "metadata": {
    "colab": {
     "base_uri": "https://localhost:8080/"
    },
    "execution": {
     "iopub.execute_input": "2021-03-24T21:06:47.477808Z",
     "iopub.status.busy": "2021-03-24T21:06:47.477401Z",
     "iopub.status.idle": "2021-03-24T21:06:47.479564Z",
     "shell.execute_reply": "2021-03-24T21:06:47.479875Z"
    },
    "executionInfo": {
     "elapsed": 19631,
     "status": "ok",
     "timestamp": 1615579393251,
     "user": {
      "displayName": "Lisa Elli",
      "photoUrl": "",
      "userId": "06754712231658711937"
     },
     "user_tz": -60
    },
    "id": "4vE5F4rX62Q4",
    "outputId": "bff035e6-71fc-433f-d1fd-7e794a4724fc",
    "pycharm": {
     "name": "#%%\n"
    }
   },
   "outputs": [
    {
     "name": "stdout",
     "output_type": "stream",
     "text": [
      "Num GPUs Available:  1\n"
     ]
    }
   ],
   "source": [
    "physical_devices = tf.config.experimental.list_physical_devices('GPU')\n",
    "print(\"Num GPUs Available: \", len(physical_devices))\n",
    "tf.config.experimental.set_memory_growth(physical_devices[0], True)"
   ]
  },
  {
   "cell_type": "markdown",
   "metadata": {
    "id": "wmGEalmo62Q7"
   },
   "source": [
    "### Data preparation"
   ]
  },
  {
   "cell_type": "code",
   "execution_count": 5,
   "metadata": {
    "execution": {
     "iopub.execute_input": "2021-03-24T21:06:47.482958Z",
     "iopub.status.busy": "2021-03-24T21:06:47.482351Z",
     "iopub.status.idle": "2021-03-24T21:06:47.484366Z",
     "shell.execute_reply": "2021-03-24T21:06:47.483966Z"
    },
    "id": "FdYjQ15w62Q7",
    "pycharm": {
     "name": "#%%\n"
    }
   },
   "outputs": [],
   "source": [
    "test_path = '../../../picasso_dataset/basis-data/middle/test'"
   ]
  },
  {
   "cell_type": "code",
   "execution_count": 6,
   "metadata": {
    "colab": {
     "base_uri": "https://localhost:8080/"
    },
    "execution": {
     "iopub.execute_input": "2021-03-24T21:06:47.488372Z",
     "iopub.status.busy": "2021-03-24T21:06:47.487940Z",
     "iopub.status.idle": "2021-03-24T21:06:47.563107Z",
     "shell.execute_reply": "2021-03-24T21:06:47.564348Z"
    },
    "executionInfo": {
     "elapsed": 15267,
     "status": "ok",
     "timestamp": 1615579393916,
     "user": {
      "displayName": "Lisa Elli",
      "photoUrl": "",
      "userId": "06754712231658711937"
     },
     "user_tz": -60
    },
    "id": "n_l3PW-_62Q7",
    "outputId": "8db7a694-024d-4e83-d2d7-0c75b63f3eb9",
    "pycharm": {
     "name": "#%%\n"
    }
   },
   "outputs": [
    {
     "name": "stdout",
     "output_type": "stream",
     "text": [
      "Found 3000 images belonging to 2 classes.\n"
     ]
    }
   ],
   "source": [
    "test_batches = ImageDataGenerator(preprocessing_function=tf.keras.applications.vgg16.preprocess_input) \\\n",
    "    .flow_from_directory(directory=test_path, target_size=(224,224), classes=['no_face', 'face'], batch_size=10, shuffle=False)"
   ]
  },
  {
   "cell_type": "code",
   "execution_count": 7,
   "metadata": {
    "execution": {
     "iopub.execute_input": "2021-03-24T21:06:47.567619Z",
     "iopub.status.busy": "2021-03-24T21:06:47.567187Z",
     "iopub.status.idle": "2021-03-24T21:06:47.569274Z",
     "shell.execute_reply": "2021-03-24T21:06:47.568826Z"
    },
    "id": "SbBy_3JT62Q8",
    "pycharm": {
     "name": "#%%\n"
    }
   },
   "outputs": [],
   "source": [
    "assert test_batches.n == 3000\n",
    "assert test_batches.num_classes == 2"
   ]
  },
  {
   "cell_type": "markdown",
   "metadata": {
    "id": "kgM-9Fbg62Q-"
   },
   "source": [
    "### Loading the trained FCN"
   ]
  },
  {
   "cell_type": "code",
   "execution_count": 8,
   "metadata": {
    "execution": {
     "iopub.execute_input": "2021-03-24T21:06:47.574024Z",
     "iopub.status.busy": "2021-03-24T21:06:47.573403Z",
     "iopub.status.idle": "2021-03-24T21:06:48.173148Z",
     "shell.execute_reply": "2021-03-24T21:06:48.172569Z"
    },
    "id": "Cdg3Plko62Q-",
    "pycharm": {
     "name": "#%%\n"
    }
   },
   "outputs": [],
   "source": [
    "filename='../models/FCN-FFA-30E-14L-03.h5'\n",
    "loaded_model = load_model(filename)"
   ]
  },
  {
   "cell_type": "markdown",
   "metadata": {
    "colab": {
     "base_uri": "https://localhost:8080/"
    },
    "executionInfo": {
     "elapsed": 5474,
     "status": "ok",
     "timestamp": 1615579399410,
     "user": {
      "displayName": "Lisa Elli",
      "photoUrl": "",
      "userId": "06754712231658711937"
     },
     "user_tz": -60
    },
    "id": "wtTJTaWatrgn",
    "outputId": "5e22cecc-bb59-456b-ceaa-d3986077141c",
    "pycharm": {
     "name": "#%% md\n"
    }
   },
   "source": [
    "### Accuracy and loss of the trained model"
   ]
  },
  {
   "cell_type": "code",
   "execution_count": 9,
   "metadata": {
    "execution": {
     "iopub.execute_input": "2021-03-24T21:06:48.176555Z",
     "iopub.status.busy": "2021-03-24T21:06:48.176079Z",
     "iopub.status.idle": "2021-03-24T21:06:56.625338Z",
     "shell.execute_reply": "2021-03-24T21:06:56.624917Z"
    },
    "id": "HYmld1gj62Q_",
    "pycharm": {
     "name": "#%%\n"
    }
   },
   "outputs": [
    {
     "name": "stdout",
     "output_type": "stream",
     "text": [
      "300/300 - 7s - loss: 0.7165 - accuracy: 0.8553\n",
      "Accuracy: 85.53%\n",
      "Loss: 71.65%\n"
     ]
    }
   ],
   "source": [
    "scores = loaded_model.evaluate(test_batches, verbose=2)\n",
    "print(\"Accuracy: %.2f%%\" % (scores[1]*100))\n",
    "print(\"Loss: %.2f%%\" % (scores[0]*100))"
   ]
  },
  {
   "cell_type": "markdown",
   "metadata": {
    "id": "-Dfs319f62RC"
   },
   "source": [
    "### Testing the FCN"
   ]
  },
  {
   "cell_type": "code",
   "execution_count": 10,
   "metadata": {
    "execution": {
     "iopub.execute_input": "2021-03-24T21:06:56.628866Z",
     "iopub.status.busy": "2021-03-24T21:06:56.628468Z",
     "iopub.status.idle": "2021-03-24T21:07:04.047167Z",
     "shell.execute_reply": "2021-03-24T21:07:04.046733Z"
    },
    "executionInfo": {
     "elapsed": 8234,
     "status": "ok",
     "timestamp": 1615586642347,
     "user": {
      "displayName": "Lisa Elli",
      "photoUrl": "",
      "userId": "06754712231658711937"
     },
     "user_tz": -60
    },
    "id": "cnM7Y7Au62RD",
    "pycharm": {
     "name": "#%%\n"
    }
   },
   "outputs": [],
   "source": [
    "predictions = loaded_model.predict(x=test_batches, steps=len(test_batches), verbose=0)"
   ]
  },
  {
   "cell_type": "markdown",
   "metadata": {
    "id": "R2kk-gQX62RE",
    "pycharm": {
     "name": "#%% md\n"
    }
   },
   "source": [
    "### Index of wrongly predicted pictures"
   ]
  },
  {
   "cell_type": "code",
   "execution_count": 11,
   "metadata": {
    "execution": {
     "iopub.execute_input": "2021-03-24T21:07:04.050523Z",
     "iopub.status.busy": "2021-03-24T21:07:04.050108Z",
     "iopub.status.idle": "2021-03-24T21:07:04.059415Z",
     "shell.execute_reply": "2021-03-24T21:07:04.058760Z"
    },
    "executionInfo": {
     "elapsed": 604,
     "status": "ok",
     "timestamp": 1615586643749,
     "user": {
      "displayName": "Lisa Elli",
      "photoUrl": "",
      "userId": "06754712231658711937"
     },
     "user_tz": -60
    },
    "id": "5Kt0jsFB62RE",
    "pycharm": {
     "name": "#%%\n"
    }
   },
   "outputs": [],
   "source": [
    "y_true=test_batches.classes\n",
    "y_pred=np.argmax(predictions, axis=-1)\n",
    "cm = confusion_matrix(y_true = y_true, y_pred = y_pred)"
   ]
  },
  {
   "cell_type": "code",
   "execution_count": 12,
   "metadata": {
    "colab": {
     "base_uri": "https://localhost:8080/"
    },
    "execution": {
     "iopub.execute_input": "2021-03-24T21:07:04.070222Z",
     "iopub.status.busy": "2021-03-24T21:07:04.069799Z",
     "iopub.status.idle": "2021-03-24T21:07:04.072013Z",
     "shell.execute_reply": "2021-03-24T21:07:04.072403Z"
    },
    "executionInfo": {
     "elapsed": 881,
     "status": "ok",
     "timestamp": 1615586646608,
     "user": {
      "displayName": "Lisa Elli",
      "photoUrl": "",
      "userId": "06754712231658711937"
     },
     "user_tz": -60
    },
    "id": "aSzFxBUy62RE",
    "outputId": "45c28aa2-5183-46c6-dc0a-901668a61137",
    "pycharm": {
     "name": "#%%\n"
    }
   },
   "outputs": [
    {
     "name": "stdout",
     "output_type": "stream",
     "text": [
      "Data from class 'face', that was wrongly predicted as 'no-face' [ 432 ] :\n",
      "[8001, 8006, 8013, 8014, 8015, 8018, 8019, 8020, 8024, 8027, 8031, 8034, 8035, 8036, 8037, 8038, 8039, 8040, 8046, 8049, 8050, 8054, 8055, 8056, 8057, 8060, 8061, 8062, 8064, 8065, 8067, 8068, 8070, 8074, 8075, 8076, 8078, 8081, 8084, 8085, 8087, 8088, 8091, 8094, 8095, 8099, 8112, 8113, 8120, 8124, 8126, 8127, 8130, 8132, 8139, 8146, 8147, 8148, 8149, 8150, 8152, 8154, 8157, 8162, 8165, 8168, 8170, 8173, 8177, 8183, 8186, 8188, 8189, 8191, 8195, 8200, 8217, 8219, 8228, 8233, 8235, 8240, 8250, 8252, 8256, 8264, 8267, 8273, 8279, 8289, 8290, 8293, 8296, 8297, 8298, 8299, 8302, 8303, 8305, 8307, 8308, 8311, 8315, 8322, 8326, 8327, 8333, 8337, 8341, 8342, 8343, 8350, 8363, 8373, 8374, 8378, 8380, 8381, 8388, 8393, 8394, 8397, 8400, 8401, 8407, 8408, 8413, 8414, 8415, 8421, 8423, 8425, 8431, 8434, 8436, 8443, 8444, 8449, 8455, 8457, 8462, 8465, 8472, 8474, 8476, 8478, 8481, 8487, 8492, 8493, 8494, 8495, 8499, 8501, 8505, 8508, 8512, 8513, 8514, 8516, 8521, 8524, 8525, 8526, 8530, 8531, 8554, 8557, 8565, 8567, 8572, 8573, 8578, 8579, 8582, 8583, 8584, 8602, 8603, 8604, 8608, 8612, 8613, 8616, 8621, 8623, 8625, 8629, 8636, 8642, 8643, 8645, 8646, 8650, 8657, 8661, 8663, 8664, 8668, 8669, 8672, 8674, 8687, 8692, 8695, 8702, 8704, 8716, 8718, 8726, 8734, 8735, 8737, 8738, 8739, 8740, 8743, 8744, 8750, 8760, 8771, 8777, 8784, 8785, 8786, 8788, 8791, 8798, 8809, 8814, 8815, 8819, 8823, 8829, 8831, 8836, 8840, 8847, 8849, 8853, 8855, 8863, 8865, 8867, 8869, 8870, 8873, 8882, 8887, 8888, 8890, 8891, 8897, 8898, 8900, 8902, 8911, 8912, 8913, 8914, 8917, 8920, 8923, 8929, 8932, 8933, 8934, 8939, 8940, 8942, 8945, 8947, 8948, 8952, 8955, 8957, 8959, 8963, 8964, 8966, 8969, 8973, 8978, 8979, 8980, 8985, 8990, 8992, 8995, 9000, 9001, 9009, 9011, 9013, 9018, 9021, 9030, 9032, 9034, 9043, 9049, 9056, 9058, 9064, 9067, 9068, 9071, 9073, 9074, 9077, 9082, 9085, 9086, 9087, 9088, 9094, 9102, 9103, 9105, 9106, 9111, 9113, 9116, 9118, 9123, 9124, 9128, 9131, 9132, 9133, 9138, 9140, 9145, 9146, 9148, 9152, 9154, 9159, 9161, 9162, 9167, 9172, 9175, 9179, 9183, 9184, 9185, 9189, 9192, 9195, 9207, 9211, 9216, 9217, 9218, 9225, 9228, 9233, 9234, 9237, 9239, 9243, 9244, 9249, 9259, 9265, 9266, 9268, 9273, 9277, 9283, 9284, 9285, 9286, 9293, 9295, 9299, 9302, 9303, 9306, 9307, 9325, 9334, 9335, 9337, 9345, 9346, 9350, 9367, 9368, 9371, 9372, 9374, 9375, 9377, 9379, 9381, 9382, 9385, 9387, 9389, 9393, 9399, 9400, 9403, 9405, 9407, 9413, 9415, 9418, 9419, 9435, 9438, 9439, 9441, 9443, 9444, 9446, 9450, 9452, 9457, 9459, 9462, 9463, 9464, 9477, 9485, 9491, 9495, 9496, 9497, 9498]\n",
      "----------------------------------------------------------------------------------------------\n",
      "Data from class 'no-face', that was wrongly predicted as 'face' [ 2 ] :\n",
      "[8549, 9467]\n"
     ]
    }
   ],
   "source": [
    "face_but_predicted_no_face=[]\n",
    "no_face_but_predicted_face=[]\n",
    "\n",
    "for i in range(len(predictions)):\n",
    "        if y_true[i] != y_pred[i]:\n",
    "            if y_true[i] == 1:\n",
    "                face_but_predicted_no_face.append(i+8001-1500) #Index of file on disk\n",
    "            else:\n",
    "                no_face_but_predicted_face.append(i+8001) #Index of file on disk\n",
    "\n",
    "print(\"Data from class 'face', that was wrongly predicted as 'no-face' [\", len(face_but_predicted_no_face), \"] :\")\n",
    "print(face_but_predicted_no_face)\n",
    "print(\"----------------------------------------------------------------------------------------------\")\n",
    "print(\"Data from class 'no-face', that was wrongly predicted as 'face' [\", len(no_face_but_predicted_face), \"] :\")\n",
    "print(no_face_but_predicted_face)"
   ]
  },
  {
   "cell_type": "markdown",
   "metadata": {
    "id": "6eTe3tG762RE",
    "pycharm": {
     "name": "#%% md\n"
    }
   },
   "source": [
    "### Confusion matrix"
   ]
  },
  {
   "cell_type": "code",
   "execution_count": 13,
   "metadata": {
    "execution": {
     "iopub.execute_input": "2021-03-24T21:07:04.077735Z",
     "iopub.status.busy": "2021-03-24T21:07:04.077334Z",
     "iopub.status.idle": "2021-03-24T21:07:04.079362Z",
     "shell.execute_reply": "2021-03-24T21:07:04.078947Z"
    },
    "executionInfo": {
     "elapsed": 902,
     "status": "ok",
     "timestamp": 1615586652173,
     "user": {
      "displayName": "Lisa Elli",
      "photoUrl": "",
      "userId": "06754712231658711937"
     },
     "user_tz": -60
    },
    "id": "TXVbugwa62RE",
    "pycharm": {
     "name": "#%%\n"
    }
   },
   "outputs": [],
   "source": [
    "def plot_confusion_matrix(cm, classes,\n",
    "                          normalize=False,\n",
    "                          title='Confusion matrix',\n",
    "                          cmap=plt.cm.Blues):\n",
    "\n",
    "    plt.imshow(cm, interpolation='nearest', cmap=cmap)\n",
    "    plt.title(title)\n",
    "    plt.colorbar()\n",
    "    tick_marks = np.arange(len(classes))\n",
    "    plt.xticks(tick_marks, classes, rotation=45)\n",
    "    plt.yticks(tick_marks, classes)\n",
    "\n",
    "    if normalize:\n",
    "        cm = cm.astype('float') / cm.sum(axis=1)[:, np.newaxis]\n",
    "        print(\"Normalized confusion matrix\")\n",
    "    else:\n",
    "        print('Confusion matrix, without normalization')\n",
    "\n",
    "    print(cm)\n",
    "\n",
    "    thresh = cm.max() / 2.\n",
    "    for i, j in itertools.product(range(cm.shape[0]), range(cm.shape[1])):\n",
    "        plt.text(j, i, cm[i, j],\n",
    "                 horizontalalignment=\"center\",\n",
    "                 color=\"white\" if cm[i, j] > thresh else \"black\")\n",
    "\n",
    "    plt.tight_layout()\n",
    "    plt.ylabel('True label')\n",
    "    plt.xlabel('Predicted label')"
   ]
  },
  {
   "cell_type": "code",
   "execution_count": 14,
   "metadata": {
    "colab": {
     "base_uri": "https://localhost:8080/"
    },
    "execution": {
     "iopub.execute_input": "2021-03-24T21:07:04.083989Z",
     "iopub.status.busy": "2021-03-24T21:07:04.083572Z",
     "iopub.status.idle": "2021-03-24T21:07:04.085919Z",
     "shell.execute_reply": "2021-03-24T21:07:04.086305Z"
    },
    "executionInfo": {
     "elapsed": 909,
     "status": "ok",
     "timestamp": 1615586655343,
     "user": {
      "displayName": "Lisa Elli",
      "photoUrl": "",
      "userId": "06754712231658711937"
     },
     "user_tz": -60
    },
    "id": "sP3ndK5o62RF",
    "outputId": "74d415b9-1346-4b60-8a66-1899e30acb23",
    "pycharm": {
     "name": "#%%\n"
    }
   },
   "outputs": [
    {
     "data": {
      "text/plain": [
       "{'no_face': 0, 'face': 1}"
      ]
     },
     "execution_count": 1,
     "metadata": {},
     "output_type": "execute_result"
    }
   ],
   "source": [
    "test_batches.class_indices"
   ]
  },
  {
   "cell_type": "code",
   "execution_count": 15,
   "metadata": {
    "colab": {
     "base_uri": "https://localhost:8080/",
     "height": 366
    },
    "execution": {
     "iopub.execute_input": "2021-03-24T21:07:04.096184Z",
     "iopub.status.busy": "2021-03-24T21:07:04.095779Z",
     "iopub.status.idle": "2021-03-24T21:07:04.242533Z",
     "shell.execute_reply": "2021-03-24T21:07:04.243048Z"
    },
    "executionInfo": {
     "elapsed": 1444,
     "status": "ok",
     "timestamp": 1615586660010,
     "user": {
      "displayName": "Lisa Elli",
      "photoUrl": "",
      "userId": "06754712231658711937"
     },
     "user_tz": -60
    },
    "id": "_iHhK36e62RF",
    "outputId": "e4096568-5620-44a6-8e7f-ac906560d917",
    "pycharm": {
     "name": "#%%\n"
    }
   },
   "outputs": [
    {
     "name": "stdout",
     "output_type": "stream",
     "text": [
      "Confusion matrix, without normalization\n",
      "[[1498    2]\n",
      " [ 432 1068]]\n"
     ]
    },
    {
     "data": {
      "image/png": "[encoded data removed]",
      "text/plain": [
       "<Figure size 432x288 with 2 Axes>"
      ]
     },
     "metadata": {
      "needs_background": "light"
     },
     "output_type": "display_data"
    }
   ],
   "source": [
    "cm_plot_labels = ['no_face','face']\n",
    "plot_confusion_matrix(cm=cm, classes=cm_plot_labels, title='Confusion Matrix')\n"
   ]
  }
 ],
 "metadata": {
  "kernelspec": {
   "display_name": "Python 3",
   "language": "python",
   "name": "python3"
  },
  "language_info": {
   "codemirror_mode": {
    "name": "ipython",
    "version": 3
   },
   "file_extension": ".py",
   "mimetype": "text/x-python",
   "name": "python",
   "nbconvert_exporter": "python",
   "pygments_lexer": "ipython3",
   "version": "3.8.5"
  }
 },
 "nbformat": 4,
 "nbformat_minor": 1
}
