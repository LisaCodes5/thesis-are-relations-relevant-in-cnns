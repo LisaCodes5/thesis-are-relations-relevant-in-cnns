{
 "cells": [
  {
   "cell_type": "markdown",
   "metadata": {
    "id": "O82TH2Vr62Qi"
   },
   "source": [
    "# Are Relations Relevant in CNNs? *A Study Based on a Facial Dataset*"
   ]
  },
  {
   "cell_type": "markdown",
   "metadata": {
    "id": "ehl8qgCC62Qx"
   },
   "source": [
    "## Testing FCN with Features Further Apart *(30 Epochs - 13 Layers)*"
   ]
  },
  {
   "cell_type": "markdown",
   "metadata": {
    "id": "3clj-ony62Q0",
    "pycharm": {
     "name": "#%% md\n"
    }
   },
   "source": [
    "### Imports, Seed, GPU integration"
   ]
  },
  {
   "cell_type": "code",
   "execution_count": 1,
   "metadata": {
    "execution": {
     "iopub.execute_input": "2021-03-24T21:06:01.894634Z",
     "iopub.status.busy": "2021-03-24T21:06:01.894189Z",
     "iopub.status.idle": "2021-03-24T21:06:03.128672Z",
     "shell.execute_reply": "2021-03-24T21:06:03.129067Z"
    },
    "id": "cnCaBFfp62Q2",
    "pycharm": {
     "name": "#%%\n"
    }
   },
   "outputs": [],
   "source": [
    "import numpy as np\n",
    "import random\n",
    "import tensorflow as tf"
   ]
  },
  {
   "cell_type": "code",
   "execution_count": 2,
   "metadata": {
    "execution": {
     "iopub.execute_input": "2021-03-24T21:06:03.132047Z",
     "iopub.status.busy": "2021-03-24T21:06:03.131674Z",
     "iopub.status.idle": "2021-03-24T21:06:03.136038Z",
     "shell.execute_reply": "2021-03-24T21:06:03.133347Z"
    },
    "id": "jsw3DKWp62Q4",
    "pycharm": {
     "name": "#%%\n"
    }
   },
   "outputs": [],
   "source": [
    "# Seeds for better reproducibility\n",
    "seed = 42\n",
    "np.random.seed(seed)\n",
    "random.seed(seed)\n",
    "tf.random.set_seed(seed)"
   ]
  },
  {
   "cell_type": "code",
   "execution_count": 3,
   "metadata": {
    "execution": {
     "iopub.execute_input": "2021-03-24T21:06:03.140186Z",
     "iopub.status.busy": "2021-03-24T21:06:03.139775Z",
     "iopub.status.idle": "2021-03-24T21:06:03.646440Z",
     "shell.execute_reply": "2021-03-24T21:06:03.646004Z"
    }
   },
   "outputs": [],
   "source": [
    "from tensorflow.keras.models import load_model\n",
    "from tensorflow.keras.preprocessing.image import ImageDataGenerator\n",
    "from sklearn.metrics import confusion_matrix\n",
    "import itertools\n",
    "import matplotlib.pyplot as plt\n",
    "import warnings\n",
    "warnings.simplefilter(action='ignore', category=FutureWarning)\n",
    "%matplotlib inline"
   ]
  },
  {
   "cell_type": "code",
   "execution_count": 4,
   "metadata": {
    "colab": {
     "base_uri": "https://localhost:8080/"
    },
    "execution": {
     "iopub.execute_input": "2021-03-24T21:06:03.696160Z",
     "iopub.status.busy": "2021-03-24T21:06:03.695746Z",
     "iopub.status.idle": "2021-03-24T21:06:03.697799Z",
     "shell.execute_reply": "2021-03-24T21:06:03.698198Z"
    },
    "executionInfo": {
     "elapsed": 19631,
     "status": "ok",
     "timestamp": 1615579393251,
     "user": {
      "displayName": "Lisa Elli",
      "photoUrl": "",
      "userId": "06754712231658711937"
     },
     "user_tz": -60
    },
    "id": "4vE5F4rX62Q4",
    "outputId": "bff035e6-71fc-433f-d1fd-7e794a4724fc",
    "pycharm": {
     "name": "#%%\n"
    }
   },
   "outputs": [
    {
     "name": "stdout",
     "output_type": "stream",
     "text": [
      "Num GPUs Available:  1\n"
     ]
    }
   ],
   "source": [
    "physical_devices = tf.config.experimental.list_physical_devices('GPU')\n",
    "print(\"Num GPUs Available: \", len(physical_devices))\n",
    "tf.config.experimental.set_memory_growth(physical_devices[0], True)"
   ]
  },
  {
   "cell_type": "markdown",
   "metadata": {
    "id": "wmGEalmo62Q7"
   },
   "source": [
    "### Data preparation"
   ]
  },
  {
   "cell_type": "code",
   "execution_count": 5,
   "metadata": {
    "execution": {
     "iopub.execute_input": "2021-03-24T21:06:03.701540Z",
     "iopub.status.busy": "2021-03-24T21:06:03.701148Z",
     "iopub.status.idle": "2021-03-24T21:06:03.703114Z",
     "shell.execute_reply": "2021-03-24T21:06:03.702711Z"
    },
    "id": "FdYjQ15w62Q7",
    "pycharm": {
     "name": "#%%\n"
    }
   },
   "outputs": [],
   "source": [
    "test_path = '../../../picasso_dataset/basis-data/middle/test'"
   ]
  },
  {
   "cell_type": "code",
   "execution_count": 6,
   "metadata": {
    "colab": {
     "base_uri": "https://localhost:8080/"
    },
    "execution": {
     "iopub.execute_input": "2021-03-24T21:06:03.706631Z",
     "iopub.status.busy": "2021-03-24T21:06:03.706213Z",
     "iopub.status.idle": "2021-03-24T21:06:03.779673Z",
     "shell.execute_reply": "2021-03-24T21:06:03.779203Z"
    },
    "executionInfo": {
     "elapsed": 15267,
     "status": "ok",
     "timestamp": 1615579393916,
     "user": {
      "displayName": "Lisa Elli",
      "photoUrl": "",
      "userId": "06754712231658711937"
     },
     "user_tz": -60
    },
    "id": "n_l3PW-_62Q7",
    "outputId": "8db7a694-024d-4e83-d2d7-0c75b63f3eb9",
    "pycharm": {
     "name": "#%%\n"
    }
   },
   "outputs": [
    {
     "name": "stdout",
     "output_type": "stream",
     "text": [
      "Found 3000 images belonging to 2 classes.\n"
     ]
    }
   ],
   "source": [
    "test_batches = ImageDataGenerator(preprocessing_function=tf.keras.applications.vgg16.preprocess_input) \\\n",
    "    .flow_from_directory(directory=test_path, target_size=(224,224), classes=['no_face', 'face'], batch_size=10, shuffle=False)"
   ]
  },
  {
   "cell_type": "code",
   "execution_count": 7,
   "metadata": {
    "execution": {
     "iopub.execute_input": "2021-03-24T21:06:03.782405Z",
     "iopub.status.busy": "2021-03-24T21:06:03.782036Z",
     "iopub.status.idle": "2021-03-24T21:06:03.783633Z",
     "shell.execute_reply": "2021-03-24T21:06:03.784014Z"
    },
    "id": "SbBy_3JT62Q8",
    "pycharm": {
     "name": "#%%\n"
    }
   },
   "outputs": [],
   "source": [
    "assert test_batches.n == 3000\n",
    "assert test_batches.num_classes == 2"
   ]
  },
  {
   "cell_type": "markdown",
   "metadata": {
    "id": "kgM-9Fbg62Q-"
   },
   "source": [
    "### Loading the trained FCN"
   ]
  },
  {
   "cell_type": "code",
   "execution_count": 8,
   "metadata": {
    "execution": {
     "iopub.execute_input": "2021-03-24T21:06:03.791647Z",
     "iopub.status.busy": "2021-03-24T21:06:03.789234Z",
     "iopub.status.idle": "2021-03-24T21:06:04.389173Z",
     "shell.execute_reply": "2021-03-24T21:06:04.389654Z"
    },
    "id": "Cdg3Plko62Q-",
    "pycharm": {
     "name": "#%%\n"
    }
   },
   "outputs": [],
   "source": [
    "filename='../models/FCN-FFA-30E-14L-02.h5'\n",
    "loaded_model = load_model(filename)"
   ]
  },
  {
   "cell_type": "markdown",
   "metadata": {
    "colab": {
     "base_uri": "https://localhost:8080/"
    },
    "executionInfo": {
     "elapsed": 5474,
     "status": "ok",
     "timestamp": 1615579399410,
     "user": {
      "displayName": "Lisa Elli",
      "photoUrl": "",
      "userId": "06754712231658711937"
     },
     "user_tz": -60
    },
    "id": "wtTJTaWatrgn",
    "outputId": "5e22cecc-bb59-456b-ceaa-d3986077141c",
    "pycharm": {
     "name": "#%% md\n"
    }
   },
   "source": [
    "### Accuracy and loss of the trained model"
   ]
  },
  {
   "cell_type": "code",
   "execution_count": 9,
   "metadata": {
    "execution": {
     "iopub.execute_input": "2021-03-24T21:06:04.393055Z",
     "iopub.status.busy": "2021-03-24T21:06:04.392658Z",
     "iopub.status.idle": "2021-03-24T21:06:12.936869Z",
     "shell.execute_reply": "2021-03-24T21:06:12.937190Z"
    },
    "id": "HYmld1gj62Q_",
    "pycharm": {
     "name": "#%%\n"
    }
   },
   "outputs": [
    {
     "name": "stdout",
     "output_type": "stream",
     "text": [
      "300/300 - 7s - loss: 0.5801 - accuracy: 0.8757\n",
      "Accuracy: 87.57%\n",
      "Loss: 58.01%\n"
     ]
    }
   ],
   "source": [
    "scores = loaded_model.evaluate(test_batches, verbose=2)\n",
    "print(\"Accuracy: %.2f%%\" % (scores[1]*100))\n",
    "print(\"Loss: %.2f%%\" % (scores[0]*100))"
   ]
  },
  {
   "cell_type": "markdown",
   "metadata": {
    "colab": {
     "base_uri": "https://localhost:8080/"
    },
    "executionInfo": {
     "elapsed": 1444054,
     "status": "ok",
     "timestamp": 1615583415200,
     "user": {
      "displayName": "Lisa Elli",
      "photoUrl": "",
      "userId": "06754712231658711937"
     },
     "user_tz": -60
    },
    "id": "TY7tN3BE62RB",
    "outputId": "fe3f86f2-25c7-4d7b-c4cf-5b4d4a8e0ebe",
    "pycharm": {
     "name": "#%% md\n"
    }
   },
   "source": [
    "### Testing the FCN"
   ]
  },
  {
   "cell_type": "code",
   "execution_count": 10,
   "metadata": {
    "execution": {
     "iopub.execute_input": "2021-03-24T21:06:12.941272Z",
     "iopub.status.busy": "2021-03-24T21:06:12.940805Z",
     "iopub.status.idle": "2021-03-24T21:06:20.414304Z",
     "shell.execute_reply": "2021-03-24T21:06:20.413887Z"
    },
    "id": "dgDtbkcv62RB",
    "pycharm": {
     "name": "#%%\n"
    }
   },
   "outputs": [],
   "source": [
    "predictions = loaded_model.predict(x=test_batches, steps=len(test_batches), verbose=0)"
   ]
  },
  {
   "cell_type": "markdown",
   "metadata": {
    "pycharm": {
     "name": "#%% md\n"
    }
   },
   "source": [
    "### Index of wrongly predicted pictures"
   ]
  },
  {
   "cell_type": "code",
   "execution_count": 11,
   "metadata": {
    "colab": {
     "base_uri": "https://localhost:8080/"
    },
    "execution": {
     "iopub.execute_input": "2021-03-24T21:06:20.417330Z",
     "iopub.status.busy": "2021-03-24T21:06:20.416931Z",
     "iopub.status.idle": "2021-03-24T21:06:20.425885Z",
     "shell.execute_reply": "2021-03-24T21:06:20.426201Z"
    },
    "executionInfo": {
     "elapsed": 36,
     "status": "ok",
     "timestamp": 1615583415203,
     "user": {
      "displayName": "Lisa Elli",
      "photoUrl": "",
      "userId": "06754712231658711937"
     },
     "user_tz": -60
    },
    "id": "BUVqnVNn62RB",
    "outputId": "ac9e5b05-f3b2-4559-9c59-1e518fa52302",
    "pycharm": {
     "name": "#%%\n"
    }
   },
   "outputs": [],
   "source": [
    "y_true=test_batches.classes\n",
    "y_pred=np.argmax(predictions, axis=-1)\n",
    "cm = confusion_matrix(y_true = y_true, y_pred = y_pred)"
   ]
  },
  {
   "cell_type": "code",
   "execution_count": 12,
   "metadata": {
    "execution": {
     "iopub.execute_input": "2021-03-24T21:06:20.437107Z",
     "iopub.status.busy": "2021-03-24T21:06:20.436613Z",
     "iopub.status.idle": "2021-03-24T21:06:20.441092Z",
     "shell.execute_reply": "2021-03-24T21:06:20.440492Z"
    },
    "id": "ZJwZjSBg62RB",
    "pycharm": {
     "name": "#%%\n"
    }
   },
   "outputs": [
    {
     "name": "stdout",
     "output_type": "stream",
     "text": [
      "Data from class 'face', that was wrongly predicted as 'no-face' [ 359 ] :\n",
      "[8018, 8019, 8020, 8026, 8027, 8035, 8036, 8039, 8041, 8046, 8057, 8062, 8064, 8067, 8068, 8075, 8077, 8078, 8085, 8088, 8094, 8095, 8096, 8099, 8101, 8104, 8116, 8124, 8126, 8127, 8129, 8130, 8136, 8141, 8144, 8146, 8147, 8148, 8149, 8160, 8165, 8170, 8174, 8181, 8182, 8186, 8188, 8191, 8194, 8200, 8201, 8214, 8217, 8218, 8219, 8224, 8232, 8235, 8240, 8244, 8250, 8252, 8256, 8259, 8264, 8270, 8274, 8279, 8287, 8296, 8297, 8303, 8306, 8307, 8311, 8324, 8326, 8329, 8331, 8341, 8342, 8343, 8355, 8357, 8358, 8363, 8365, 8380, 8381, 8388, 8390, 8394, 8398, 8400, 8401, 8407, 8408, 8410, 8413, 8414, 8415, 8431, 8434, 8436, 8441, 8452, 8458, 8462, 8471, 8474, 8478, 8481, 8491, 8493, 8494, 8496, 8498, 8499, 8500, 8508, 8514, 8517, 8525, 8526, 8530, 8531, 8536, 8537, 8542, 8546, 8547, 8550, 8554, 8555, 8557, 8561, 8564, 8565, 8575, 8581, 8582, 8583, 8594, 8604, 8608, 8612, 8613, 8614, 8625, 8627, 8628, 8634, 8639, 8643, 8645, 8646, 8650, 8657, 8658, 8661, 8662, 8663, 8664, 8668, 8669, 8671, 8672, 8686, 8689, 8690, 8694, 8696, 8699, 8700, 8706, 8709, 8712, 8720, 8721, 8725, 8727, 8732, 8737, 8739, 8743, 8744, 8745, 8746, 8750, 8758, 8759, 8760, 8762, 8766, 8769, 8774, 8776, 8784, 8786, 8788, 8793, 8798, 8801, 8802, 8809, 8819, 8822, 8823, 8830, 8835, 8836, 8840, 8843, 8849, 8855, 8859, 8867, 8870, 8874, 8888, 8890, 8894, 8897, 8900, 8903, 8908, 8911, 8918, 8920, 8929, 8931, 8932, 8934, 8943, 8945, 8948, 8957, 8958, 8963, 8975, 8990, 8992, 8997, 9001, 9013, 9027, 9028, 9032, 9040, 9042, 9045, 9047, 9050, 9056, 9057, 9064, 9071, 9073, 9076, 9081, 9086, 9087, 9099, 9103, 9107, 9118, 9128, 9131, 9133, 9138, 9145, 9148, 9151, 9161, 9171, 9172, 9173, 9175, 9179, 9180, 9185, 9186, 9189, 9192, 9194, 9195, 9203, 9216, 9218, 9225, 9228, 9234, 9237, 9239, 9240, 9247, 9259, 9262, 9265, 9272, 9277, 9284, 9285, 9286, 9289, 9293, 9298, 9299, 9311, 9312, 9317, 9321, 9325, 9326, 9330, 9334, 9337, 9345, 9346, 9368, 9370, 9371, 9372, 9374, 9375, 9376, 9377, 9378, 9381, 9383, 9389, 9391, 9394, 9400, 9405, 9411, 9412, 9413, 9415, 9419, 9426, 9431, 9435, 9439, 9443, 9446, 9449, 9459, 9462, 9463, 9469, 9471, 9477, 9479, 9484, 9485, 9493, 9495, 9497]\n",
      "----------------------------------------------------------------------------------------------\n",
      "Data from class 'no-face', that was wrongly predicted as 'face' [ 14 ] :\n",
      "[8019, 8059, 8226, 8266, 8474, 8483, 8549, 8576, 8840, 8843, 8991, 9344, 9438, 9456]\n"
     ]
    }
   ],
   "source": [
    "face_but_predicted_no_face=[]\n",
    "no_face_but_predicted_face=[]\n",
    "\n",
    "for i in range(len(predictions)):\n",
    "        if y_true[i] != y_pred[i]:\n",
    "            if y_true[i] == 1:\n",
    "                face_but_predicted_no_face.append(i+8001-1500) #Index of file on disk\n",
    "            else:\n",
    "                no_face_but_predicted_face.append(i+8001) #Index of file on disk\n",
    "\n",
    "print(\"Data from class 'face', that was wrongly predicted as 'no-face' [\", len(face_but_predicted_no_face), \"] :\")\n",
    "print(face_but_predicted_no_face)\n",
    "print(\"----------------------------------------------------------------------------------------------\")\n",
    "print(\"Data from class 'no-face', that was wrongly predicted as 'face' [\", len(no_face_but_predicted_face), \"] :\")\n",
    "print(no_face_but_predicted_face)"
   ]
  },
  {
   "cell_type": "markdown",
   "metadata": {
    "colab": {
     "base_uri": "https://localhost:8080/"
    },
    "executionInfo": {
     "elapsed": 46,
     "status": "ok",
     "timestamp": 1615583415708,
     "user": {
      "displayName": "Lisa Elli",
      "photoUrl": "",
      "userId": "06754712231658711937"
     },
     "user_tz": -60
    },
    "id": "KfQRdJ2n62RC",
    "outputId": "0447f407-8758-4ab8-9acb-585653323105",
    "pycharm": {
     "name": "#%% md\n"
    }
   },
   "source": [
    "### Confusion matrix"
   ]
  },
  {
   "cell_type": "code",
   "execution_count": 13,
   "metadata": {
    "execution": {
     "iopub.execute_input": "2021-03-24T21:06:20.446602Z",
     "iopub.status.busy": "2021-03-24T21:06:20.446179Z",
     "iopub.status.idle": "2021-03-24T21:06:20.447827Z",
     "shell.execute_reply": "2021-03-24T21:06:20.448141Z"
    }
   },
   "outputs": [],
   "source": [
    "def plot_confusion_matrix(cm, classes,\n",
    "                          normalize=False,\n",
    "                          title='Confusion matrix',\n",
    "                          cmap=plt.cm.Blues):\n",
    "\n",
    "    plt.imshow(cm, interpolation='nearest', cmap=cmap)\n",
    "    plt.title(title)\n",
    "    plt.colorbar()\n",
    "    tick_marks = np.arange(len(classes))\n",
    "    plt.xticks(tick_marks, classes, rotation=45)\n",
    "    plt.yticks(tick_marks, classes)\n",
    "\n",
    "    if normalize:\n",
    "        cm = cm.astype('float') / cm.sum(axis=1)[:, np.newaxis]\n",
    "        print(\"Normalized confusion matrix\")\n",
    "    else:\n",
    "        print('Confusion matrix, without normalization')\n",
    "\n",
    "    print(cm)\n",
    "\n",
    "    thresh = cm.max() / 2.\n",
    "    for i, j in itertools.product(range(cm.shape[0]), range(cm.shape[1])):\n",
    "        plt.text(j, i, cm[i, j],\n",
    "                 horizontalalignment=\"center\",\n",
    "                 color=\"white\" if cm[i, j] > thresh else \"black\")\n",
    "\n",
    "    plt.tight_layout()\n",
    "    plt.ylabel('True label')\n",
    "    plt.xlabel('Predicted label')"
   ]
  },
  {
   "cell_type": "code",
   "execution_count": 14,
   "metadata": {
    "execution": {
     "iopub.execute_input": "2021-03-24T21:06:20.452607Z",
     "iopub.status.busy": "2021-03-24T21:06:20.452197Z",
     "iopub.status.idle": "2021-03-24T21:06:20.454773Z",
     "shell.execute_reply": "2021-03-24T21:06:20.454426Z"
    },
    "id": "pXwZZiKy62RC",
    "pycharm": {
     "name": "#%%\n"
    }
   },
   "outputs": [
    {
     "data": {
      "text/plain": [
       "{'no_face': 0, 'face': 1}"
      ]
     },
     "execution_count": 1,
     "metadata": {},
     "output_type": "execute_result"
    }
   ],
   "source": [
    "test_batches.class_indices"
   ]
  },
  {
   "cell_type": "code",
   "execution_count": 15,
   "metadata": {
    "colab": {
     "base_uri": "https://localhost:8080/"
    },
    "execution": {
     "iopub.execute_input": "2021-03-24T21:06:20.481972Z",
     "iopub.status.busy": "2021-03-24T21:06:20.481540Z",
     "iopub.status.idle": "2021-03-24T21:06:20.609902Z",
     "shell.execute_reply": "2021-03-24T21:06:20.610312Z"
    },
    "executionInfo": {
     "elapsed": 8624,
     "status": "ok",
     "timestamp": 1615583424302,
     "user": {
      "displayName": "Lisa Elli",
      "photoUrl": "",
      "userId": "06754712231658711937"
     },
     "user_tz": -60
    },
    "id": "_1_vTnWO62RC",
    "outputId": "98311fcd-35bf-4383-ff77-d1a1b62291f2",
    "pycharm": {
     "name": "#%%\n"
    }
   },
   "outputs": [
    {
     "name": "stdout",
     "output_type": "stream",
     "text": [
      "Confusion matrix, without normalization\n",
      "[[1486   14]\n",
      " [ 359 1141]]\n"
     ]
    },
    {
     "data": {
      "image/png": "[encoded data removed]",
      "text/plain": [
       "<Figure size 432x288 with 2 Axes>"
      ]
     },
     "metadata": {
      "needs_background": "light"
     },
     "output_type": "display_data"
    }
   ],
   "source": [
    "cm_plot_labels = ['no_face','face']\n",
    "plot_confusion_matrix(cm=cm, classes=cm_plot_labels, title='Confusion Matrix')\n"
   ]
  }
 ],
 "metadata": {
  "kernelspec": {
   "display_name": "Python 3",
   "language": "python",
   "name": "python3"
  },
  "language_info": {
   "codemirror_mode": {
    "name": "ipython",
    "version": 3
   },
   "file_extension": ".py",
   "mimetype": "text/x-python",
   "name": "python",
   "nbconvert_exporter": "python",
   "pygments_lexer": "ipython3",
   "version": "3.8.5"
  }
 },
 "nbformat": 4,
 "nbformat_minor": 1
}
